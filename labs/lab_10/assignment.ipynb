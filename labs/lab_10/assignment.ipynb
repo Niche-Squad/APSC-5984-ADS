{
 "cells": [
  {
   "attachments": {},
   "cell_type": "markdown",
   "metadata": {},
   "source": [
    "# APSC-5984 Lab 10: PCA and Clustering\n",
    "\n",
    "Due: 2023-04-10 (Monday) 23:59:59\n",
    "\n",
    "Grading Rubric (Total 200 points)\n",
    "\n",
    "| Items | Points | Earned |\n",
    "| :--- | :----- | :----- |\n",
    "| Push the assignment in time with the commit message: \"lab 10 submission\" | 140 | |\n",
    "| Tasks 1| 6 | |\n",
    "| Tasks 2| 6 | |\n",
    "| Tasks 3| 10 | |\n",
    "| Tasks 4| 10 | |\n",
    "| Tasks 5| 10 | |\n",
    "| Tasks 6| 5 | |\n",
    "| Tasks 7| 6 | |\n",
    "| Tasks 8| 5 | |\n",
    "| Tasks 9| 2 | |\n",
    "\n",
    "In this lab, you will work on several datasets to implement linear regression by manually calculating the regression coefficients and using the scikit-learn package."
   ]
  },
  {
   "attachments": {},
   "cell_type": "markdown",
   "metadata": {},
   "source": [
    "### Task 1\n",
    "\n",
    "Define three functions to develop PCA algorithm: `get_cov`, `get_eigens`, and `get_PCs`.\n",
    "\n",
    "- `get_cov` takes an $X$ matrix as input and returns the covariance matrix of $X$.\n",
    "\n",
    "- `get_eigens` takes the covariance matrix as input and returns the eigenvectors of the covariance matrix and the corresponding eigenvalues. You can use the `np.linalg.eig` function to get the eigenvalues and eigenvectors of a matrix.\n",
    "\n",
    "- `get_PCs` wraps the above two functions. It takes two inputs: the $X$ matrix and the number of principal components. It returns the principal components of the $X$ matrix and the explained variance."
   ]
  },
  {
   "cell_type": "code",
   "execution_count": 3,
   "metadata": {},
   "outputs": [],
   "source": [
    "def get_cov(X):\n",
    "    pass\n",
    "    cov = None\n",
    "    return cov\n",
    "\n",
    "def get_eigens(cov):\n",
    "    pass\n",
    "    eigenvecs = None\n",
    "    eigenvals = None\n",
    "    return eigenvecs, eigenvals\n",
    "\n",
    "def get_PCs(X, n_components):\n",
    "    pass\n",
    "    PCs = None\n",
    "    variance_explained = None\n",
    "    return PCs, variance_explained"
   ]
  },
  {
   "attachments": {},
   "cell_type": "markdown",
   "metadata": {},
   "source": [
    "### Task 2\n",
    "\n",
    "Use `sklearn` package to simualte three dataset with 10000 samples and 50 features, and all features are informative. The difference between the three datasets is the feature dependence:\n",
    "\n",
    "- `X1`, `y1`: `effective_rank=5`\n",
    "- `X2`, `y2`: `effective_rank=20`\n",
    "- `X3`, `y3`: `effective_rank=50`\n",
    "\n",
    "Check the definitions of `sklearn.datasets.make_regression` https://scikit-learn.org/stable/modules/generated/sklearn.datasets.make_regression.html."
   ]
  },
  {
   "cell_type": "code",
   "execution_count": 2,
   "metadata": {},
   "outputs": [],
   "source": [
    "# simluate the data using sklearn\n",
    "from sklearn.datasets import make_regression\n",
    "X1, y1 = None\n",
    "X2, y2 = None\n",
    "X3, y3 = None"
   ]
  },
  {
   "attachments": {},
   "cell_type": "markdown",
   "metadata": {},
   "source": [
    "### Task 3\n",
    "\n",
    "Use the `get_PCs` function to get the first 10 principal components of the three datasets. Print out the explained variance of the first 10 principal components of the three datasets. What do you observe?"
   ]
  },
  {
   "cell_type": "code",
   "execution_count": 1,
   "metadata": {},
   "outputs": [],
   "source": [
    "pass"
   ]
  },
  {
   "attachments": {},
   "cell_type": "markdown",
   "metadata": {},
   "source": [
    "### Task 4\n",
    "\n",
    "The complete code for `k-means` clustering is provided below. Try to modify the code to implement `k-median` clustering and define it as an another function."
   ]
  },
  {
   "cell_type": "code",
   "execution_count": null,
   "metadata": {},
   "outputs": [],
   "source": [
    "import numpy as np\n",
    "\n",
    "def init_center(X, k):\n",
    "    n = X.shape[0]\n",
    "    return X[np.random.choice(n, k)]\n",
    "\n",
    "def euclidean_distance(p1, p2):\n",
    "    return np.sum((p1 - p2) ** 2) ** .5\n",
    "\n",
    "def assignment(X, centroids):\n",
    "    N, k = X.shape[0], centroids.shape[0]\n",
    "    distances = np.zeros((N, k))\n",
    "    for i, x in enumerate(X):\n",
    "        for j, center in enumerate(centroids):\n",
    "            distances[i, j] = euclidean_distance(x, center)\n",
    "    return np.argmin(distances, axis=1)\n",
    "\n",
    "def update(X, labels, k):\n",
    "    N, p = X.shape\n",
    "    centroids = np.zeros((k, p))\n",
    "    for i in range(k):\n",
    "        centroids[i] = X[labels == i].mean(axis=0)\n",
    "    return centroids\n",
    "\n",
    "def kmeans(X, k, max_iter=10):\n",
    "    centroids = init_center(X, k)\n",
    "    for i in range(max_iter):\n",
    "        labels = assignment(X, centroids)\n",
    "        centroids = update(X, labels, k)\n",
    "    return centroids, labels"
   ]
  },
  {
   "cell_type": "code",
   "execution_count": null,
   "metadata": {},
   "outputs": [],
   "source": [
    "# your code\n",
    "def kmedians(X, k, max_iter=10):\n",
    "    pass\n",
    "    return centroids, labels"
   ]
  },
  {
   "attachments": {},
   "cell_type": "markdown",
   "metadata": {},
   "source": [
    "### Task 5\n",
    "\n",
    "Use `sklearn.datasets.make_blobs` to generate a dataset with 1000 samples and 2 features. Apply different clustering algorithms, which are `k-means`, `k-median`, and `GussianMixture`, to the dataset. Plot the results using the provided function `vis_clustering`.\n",
    "\n",
    "Hint: In `GaussianMixture`, the `centroids` are the means of the Gaussian distributions, and `labels` can be computed by `gm.predict(X)`. Make sure they are in proper dimensions using `numpy` library.\n",
    "https://scikit-learn.org/stable/modules/generated/sklearn.mixture.GaussianMixture.html\n"
   ]
  },
  {
   "cell_type": "code",
   "execution_count": null,
   "metadata": {},
   "outputs": [],
   "source": [
    "import matplotlib.pyplot as plt\n",
    "\n",
    "def vis_clustering(X, centroids, labels=None):\n",
    "    \"\"\"\n",
    "    Visualize the initial centroids and the final centroids\n",
    "\n",
    "    Notes:\n",
    "        N (int): number of data points\n",
    "        p (int): number of features\n",
    "        k (int): number of clusters\n",
    "\n",
    "    Args:\n",
    "        X (np.ndarray): data points, shape (N, p)\n",
    "        centroids (np.ndarray): centroids, shape (k, p)\n",
    "        labels (np.ndarray): labels, shape (N, )\n",
    "\n",
    "    Returns:\n",
    "        None\n",
    "    \"\"\"\n",
    "\n",
    "    k = centroids.shape[0]\n",
    "    colors = plt.get_cmap('plasma')(np.linspace(0, 1, k))\n",
    "\n",
    "    # plotting\n",
    "    param_pts = dict(s=80, alpha=.3)\n",
    "    param_cts = dict(s=250, edgecolor=\"black\")\n",
    "    plt.figure(figsize=(8, 8))\n",
    "    # plot points\n",
    "    if labels is not None:\n",
    "        plt.scatter(X[:, 0], X[:, 1], c=colors[labels], **param_pts)\n",
    "    else:\n",
    "        plt.scatter(X[:, 0], X[:, 1], c=\"black\", **param_pts)\n",
    "    plt.title(\"Initial Centroids\")\n",
    "    plt.xlabel(\"X1\")\n",
    "    plt.ylabel(\"X2\")\n",
    "    # plot centroids\n",
    "    for i in range(k):\n",
    "        plt.scatter(x=centroids[i, 0], y=centroids[i, 1],\n",
    "                    c=colors[i], label=\"Centroid {}\".format(i),\n",
    "                    **param_cts)\n",
    "    plt.legend()"
   ]
  },
  {
   "cell_type": "code",
   "execution_count": null,
   "metadata": {},
   "outputs": [],
   "source": [
    "# your code\n",
    "pass"
   ]
  },
  {
   "attachments": {},
   "cell_type": "markdown",
   "metadata": {},
   "source": [
    "### Task 6\n",
    "\n",
    "Use `PIL` library to load the image `cow.jpg` in the lab folder. What are the height, width, and number of channels of the image? Convert the image to a numpy array and plot it using `matplotlib.pyplot.imshow`."
   ]
  },
  {
   "cell_type": "code",
   "execution_count": null,
   "metadata": {},
   "outputs": [],
   "source": [
    "pass"
   ]
  },
  {
   "attachments": {},
   "cell_type": "markdown",
   "metadata": {},
   "source": [
    "### Task 7\n",
    "\n",
    "Use indexing and slicing we learned earlier to:\n",
    "\n",
    "* Downsample the image by 2 on both height and width\n",
    "* Crop the image of size 500 (w) by 300 (h) from the center\n",
    "* Flip the image horizontally"
   ]
  },
  {
   "cell_type": "code",
   "execution_count": 3,
   "metadata": {},
   "outputs": [],
   "source": [
    "pass"
   ]
  },
  {
   "attachments": {},
   "cell_type": "markdown",
   "metadata": {},
   "source": [
    "### Task 8\n",
    "\n",
    "Apply different kernels to the image for convolution operation. You can use the library `scipy.signal.convolve2d` to do the convolution. Plot the results using `matplotlib.pyplot.imshow` of each kernel.\n",
    "\n",
    "- `kernel1`: 3x3 matrix with all elements equal to 1/9\n",
    "- `gaussian`: 3x3 matrix with elements [[1, 2, 1], [2, 4, 2], [1, 2, 1]] / 16\n",
    "- `sober_x`: 3x3 matrix with elements [[-1, 0, 1], [-2, 0, 2], [-1, 0, 1]]\n",
    "- `sober_y`: 3x3 matrix with elements [[-1, -2, -1], [0, 0, 0], [1, 2, 1]]\n",
    "- `laplacian`: 3x3 matrix with elements [[0, 1, 0], [1, -4, 1], [0, 1, 0]]"
   ]
  },
  {
   "cell_type": "code",
   "execution_count": 1,
   "metadata": {},
   "outputs": [],
   "source": [
    "pass"
   ]
  },
  {
   "attachments": {},
   "cell_type": "markdown",
   "metadata": {},
   "source": [
    "### Task 9\n",
    "\n",
    "Design your own 3x3 kernel and apply it to the image. Plot the result."
   ]
  },
  {
   "cell_type": "code",
   "execution_count": 2,
   "metadata": {},
   "outputs": [],
   "source": [
    "pass"
   ]
  }
 ],
 "metadata": {
  "kernelspec": {
   "display_name": "niche",
   "language": "python",
   "name": "python3"
  },
  "language_info": {
   "codemirror_mode": {
    "name": "ipython",
    "version": 3
   },
   "file_extension": ".py",
   "mimetype": "text/x-python",
   "name": "python",
   "nbconvert_exporter": "python",
   "pygments_lexer": "ipython3",
   "version": "3.9.16"
  },
  "orig_nbformat": 4,
  "vscode": {
   "interpreter": {
    "hash": "ad532947ed7ac808c0a842d8ff1aa280c18aa45f795e2b1f2d64f29153af8175"
   }
  }
 },
 "nbformat": 4,
 "nbformat_minor": 2
}
