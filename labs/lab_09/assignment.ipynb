{
 "cells": [
  {
   "attachments": {},
   "cell_type": "markdown",
   "metadata": {},
   "source": [
    "# APSC-5984 Lab 9: Linear Regression\n",
    "\n",
    "Due: 2023-03-27 (Monday) 23:59:59\n",
    "\n",
    "Grading Rubric (Total 200 points)\n",
    "\n",
    "| Items | Points | Earned |\n",
    "| :--- | :----- | :----- |\n",
    "| Push the assignment in time with the commit message: \"lab 9 submission\" | 140 | |\n",
    "| Tasks 1| 5 | |\n",
    "| Tasks 2| 5 | |\n",
    "| Tasks 3| 5 | |\n",
    "| Tasks 4| 5 | |\n",
    "| Tasks 5| 10 | |\n",
    "| Tasks 6| 10 | |\n",
    "| Tasks 7| 20 | |\n",
    "\n",
    "In this lab, you will work on several datasets to implement linear regression by manually calculating the regression coefficients and using the scikit-learn package."
   ]
  },
  {
   "attachments": {},
   "cell_type": "markdown",
   "metadata": {},
   "source": [
    "### Task 1\n",
    "\n",
    "Let's start with implementing the idea of ordinary least square (OLS). We know that the OLS solution is given by\n",
    "\n",
    "$$\n",
    "\n",
    "\\hat{\\beta} = (X^TX)^{-1}X^Ty\n",
    "\n",
    "$$\n",
    "\n",
    "where $X$ is the design matrix, $y$ is the response vector, and $\\hat{\\beta}$ is the vector of regression coefficients.\n",
    "\n",
    "Without knowing the data information, we are able to first define a function `solve_ols` that takes in the design matrix $X$ and the response vector $y$ and returns the vector of regression coefficients $\\hat{\\beta}$."
   ]
  },
  {
   "cell_type": "code",
   "execution_count": null,
   "metadata": {},
   "outputs": [],
   "source": [
    "def solve_ols(X, y):\n",
    "    pass"
   ]
  },
  {
   "attachments": {},
   "cell_type": "markdown",
   "metadata": {},
   "source": [
    "### Task 2\n",
    "\n",
    "Load the toy data `toy.csv` and use the function `solve_ols` to calculate the regression coefficients.\n",
    "\n",
    "Hint: remember to put the intercept term in the design matrix $X$."
   ]
  },
  {
   "cell_type": "code",
   "execution_count": null,
   "metadata": {},
   "outputs": [],
   "source": [
    "pass"
   ]
  },
  {
   "attachments": {},
   "cell_type": "markdown",
   "metadata": {},
   "source": [
    "### Task 3\n",
    "\n",
    "Use `sklearn.linear_model.LinearRegression` to fit the model and compare the regression coefficients with the ones you calculated in Task 2.\n",
    "\n",
    "Hint: you need to call different methods to get the regression coefficients and intercept. Check the page: https://scikit-learn.org/stable/modules/generated/sklearn.linear_model.LinearRegression.html"
   ]
  },
  {
   "cell_type": "code",
   "execution_count": null,
   "metadata": {},
   "outputs": [],
   "source": [
    "pass"
   ]
  },
  {
   "attachments": {},
   "cell_type": "markdown",
   "metadata": {},
   "source": [
    "### Task 4\n",
    "\n",
    "Let's read a larger dataset `diabetes.csv`. The data contains 442 observations of 10 variables. The first 10 columns are independent variables, and the last column is the dependent variable. The independent variables are:\n",
    "- age: age in years\n",
    "- sex: gender\n",
    "- bmi: body mass index\n",
    "- bp: average blood pressure\n",
    "- s1 tc, total serum cholesterol\n",
    "- s2 ldl, low-density lipoproteins\n",
    "- s3 hdl, high-density lipoproteins\n",
    "- s4 tch, total cholesterol / HDL\n",
    "- s5 ltg, possibly log of serum triglycerides level\n",
    "- s6 glu, blood sugar level\n",
    "\n",
    "And the dependent variable is:\n",
    "\n",
    "- y: a quantitative measure of disease progression one year after baseline\n",
    "\n",
    "\n",
    "Use either the custom function `solve_ols` or `sklearn.linear_model.LinearRegression` to fit the model and calculate the regression coefficients of all ten independent variables plus the intercept."
   ]
  },
  {
   "cell_type": "code",
   "execution_count": null,
   "metadata": {},
   "outputs": [],
   "source": [
    "pass"
   ]
  },
  {
   "attachments": {},
   "cell_type": "markdown",
   "metadata": {},
   "source": [
    "### Task 5\n",
    "\n",
    "Define the function `get_rss` that takes in the design matrix $X$ and the response vector $y$, and returns the residual sum of squares $RSS$. The residual sum of squares is defined as\n",
    "\n",
    "$$\n",
    "\n",
    "RSS = \\sum_{i=1}^n (y_i - \\hat{y}_i)^2\n",
    "\n",
    "$$\n",
    "\n",
    "where $y_i$ is the $i$th observation of the response vector $y$, and $\\hat{y}_i$ is the $i$th observation of the predicted response vector $\\hat{y}$.\n",
    "\n",
    "Hint: you need to use your custom function `solve_ols` to calculate the predicted response vector $\\hat{y}$."
   ]
  },
  {
   "cell_type": "code",
   "execution_count": 88,
   "metadata": {},
   "outputs": [],
   "source": [
    "def get_rss(X, y):\n",
    "    pass"
   ]
  },
  {
   "attachments": {},
   "cell_type": "markdown",
   "metadata": {},
   "source": [
    "### Task 6\n",
    "\n",
    "Define two functions `get_aic` and `get_bic` that take in the design matrix $X$ and the response vector $y$ and return the AIC and BIC values. We know the formula of calculating AIC and BIC are\n",
    "\n",
    "$$\n",
    "\n",
    "AIC = n\\log(\\frac{RSS}{n}) + 2k\n",
    "\n",
    "$$\n",
    "\n",
    "$$\n",
    "\n",
    "BIC = n\\log(\\frac{RSS}{n}) + k\\log(n)\n",
    "\n",
    "$$\n",
    "\n",
    "where $n$ is the number of observations, $k$ is the number of independent variables, and $RSS$ is the residual sum of squares.\n",
    "\n",
    "Hint: you need to use both your custom functions `solve_ols` and `get_rss` to calculate the AIC and BIC values.\n"
   ]
  },
  {
   "cell_type": "code",
   "execution_count": 89,
   "metadata": {},
   "outputs": [],
   "source": [
    "def get_aic(X, y):\n",
    "    pass\n",
    "\n",
    "def get_bic(X, y):\n",
    "    pass"
   ]
  },
  {
   "attachments": {},
   "cell_type": "markdown",
   "metadata": {},
   "source": [
    "### Task 7\n",
    "\n",
    "Calculate the AIC and BIC values for the diabetes dataset in Task 4. Try the following models and compare the AIC and BIC values.\n",
    "\n",
    "- Model 1: use all ten variables as the independent variables\n",
    "- Model 2: only use the variable `age` as the independent variable\n",
    "- Model 3: use the variables `age` and `sex` as the independent variables\n",
    "- Model 4: use the six variables: `s1`, `s2`, `s3`, `s4`, `s5`, `s6` as the independent variables\n",
    "\n",
    "Which model has the best fit? Explain your answer."
   ]
  },
  {
   "cell_type": "code",
   "execution_count": 90,
   "metadata": {},
   "outputs": [],
   "source": [
    "pass"
   ]
  }
 ],
 "metadata": {
  "kernelspec": {
   "display_name": "niche",
   "language": "python",
   "name": "python3"
  },
  "language_info": {
   "codemirror_mode": {
    "name": "ipython",
    "version": 3
   },
   "file_extension": ".py",
   "mimetype": "text/x-python",
   "name": "python",
   "nbconvert_exporter": "python",
   "pygments_lexer": "ipython3",
   "version": "3.9.16"
  },
  "orig_nbformat": 4,
  "vscode": {
   "interpreter": {
    "hash": "ad532947ed7ac808c0a842d8ff1aa280c18aa45f795e2b1f2d64f29153af8175"
   }
  }
 },
 "nbformat": 4,
 "nbformat_minor": 2
}
