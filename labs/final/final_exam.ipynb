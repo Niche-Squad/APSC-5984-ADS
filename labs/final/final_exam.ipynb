{
 "cells": [
  {
   "attachments": {},
   "cell_type": "markdown",
   "metadata": {},
   "source": [
    "# APSC-5984 Lab Final Exam\n",
    "\n",
    "Due: 2023-04-28 (Friday) 17:00:00 EST\n",
    "\n",
    "## Instructions\n",
    "\n",
    "This is an open book and open internet exam. You may use any resources you like, but you must work alone.\n",
    "\n",
    "## Submission\n",
    "\n",
    "Either email me your completed notebook (.ipynb) or push it to your GitHub repository and email me the link.\n",
    "\n",
    "## Grading\n",
    "\n",
    "Grading Rubric (Total 100 points)\n",
    "\n",
    "| Items | Points | Earned |\n",
    "| :--- | :----- | :----- |\n",
    "| Tasks 1| 10 | |\n",
    "| Tasks 2| 10 | |\n",
    "| Tasks 3| 10 | |\n",
    "| Tasks 4| 10 | |\n",
    "| Tasks 5| 10 | |\n",
    "| Tasks 6| 10 | |\n",
    "| Tasks 7| 30 | |\n",
    "\n",
    "## Tasks"
   ]
  },
  {
   "attachments": {},
   "cell_type": "markdown",
   "metadata": {},
   "source": [
    "### Task 1: Reverse Translation\n",
    "\n",
    "In this task, you will implement a reverse translation function that takes a protein sequence and returns the most liekly RNA that encodes it. You will be provided a amino acid sequence `AA` to start the task.\n",
    "\n",
    "1. Define a dictionary `dict_AA2RNA` that maps each amino acid to its RNA codons.\n",
    "2. Use `for` loop to reverse the translation. For example, the amino acid sequence `Met-Arg-Leu` will be `AUGCGGCUA`."
   ]
  },
  {
   "cell_type": "code",
   "execution_count": null,
   "metadata": {},
   "outputs": [],
   "source": [
    "AA = \"Met-Cys-Thr-Val-Asp-Gly\""
   ]
  },
  {
   "attachments": {},
   "cell_type": "markdown",
   "metadata": {},
   "source": [
    "### Task 2: Search a specific pattern from a file\n",
    "\n",
    "In the file `lines.txt`, search for a specific pattern in the format of \"labfinal5984&nbsp;&nbsp;&nbsp;%d\":\n",
    "\n",
    "- It starts with \"labfinal5984\" and ends with a single digit, which is represented by \"%d\".\n",
    "- There are THREE spaces between \"labfinal5984\" and \"%d\".\n",
    "\n",
    "You should find five occurrences of the pattern in the file. Print the last digit of each occurrence. For example, if the occurrences are:\n",
    "\n",
    "- \"labfinal5984&nbsp;&nbsp;&nbsp;1\"\n",
    "- \"labfinal5984&nbsp;&nbsp;&nbsp;8\"\n",
    "- \"labfinal5984&nbsp;&nbsp;&nbsp;3\"\n",
    "- \"labfinal5984&nbsp;&nbsp;&nbsp;4\"\n",
    "- \"labfinal5984&nbsp;&nbsp;&nbsp;5\"\n",
    "\n",
    "Then you should print \"1\", \"8\", \"3\", \"4\", \"5\" consecutively.\n"
   ]
  },
  {
   "cell_type": "code",
   "execution_count": null,
   "metadata": {},
   "outputs": [],
   "source": [
    "pass"
   ]
  },
  {
   "attachments": {},
   "cell_type": "markdown",
   "metadata": {},
   "source": [
    "### Task 3: Dataframe\n",
    "\n",
    "Load the data from the file `tidy.csv`. It is required to specify the path using `os.path.join()`. Then use `.query()` method to subset the data to only contain the rows where `country` in a list `['AL', 'AZ', 'CZ', 'ES', 'IS', 'ZW']` and store the subsetted data to a new variable `data_sub`."
   ]
  },
  {
   "cell_type": "code",
   "execution_count": null,
   "metadata": {},
   "outputs": [],
   "source": [
    "pass"
   ]
  },
  {
   "attachments": {},
   "cell_type": "markdown",
   "metadata": {},
   "source": [
    "### Task 4: Linear Regression\n",
    "\n",
    "Read the data `diabetes.csv` that contains 442 observations of 10 variables. The first 10 columns are independent variables, and the last column is the dependent variable. The independent variables are:\n",
    "- age: age in years\n",
    "- sex: gender\n",
    "- bmi: body mass index\n",
    "- bp: average blood pressure\n",
    "- s1 tc, total serum cholesterol\n",
    "- s2 ldl, low-density lipoproteins\n",
    "- s3 hdl, high-density lipoproteins\n",
    "- s4 tch, total cholesterol / HDL\n",
    "- s5 ltg, possibly log of serum triglycerides level\n",
    "- s6 glu, blood sugar level\n",
    "\n",
    "And the dependent variable is:\n",
    "\n",
    "- y: a quantitative measure of disease progression one year after baseline\n",
    "\n",
    "\n",
    "Use the function `sklearn.linear_model.LinearRegression` to fit the model and calculate the regression coefficients of all ten independent variables plus the intercept."
   ]
  },
  {
   "cell_type": "code",
   "execution_count": null,
   "metadata": {},
   "outputs": [],
   "source": [
    "pass"
   ]
  },
  {
   "attachments": {},
   "cell_type": "markdown",
   "metadata": {},
   "source": [
    "### Task 5: Linear Regression\n",
    "\n",
    "Define the function `get_rss` that takes in the design matrix $X$ and the response vector $y$, and returns the residual sum of squares $RSS$. The residual sum of squares is defined as\n",
    "\n",
    "$$\n",
    "\n",
    "RSS = \\sum_{i=1}^n (y_i - \\hat{y}_i)^2\n",
    "\n",
    "$$\n",
    "\n",
    "where $y_i$ is the $i$th observation of the response vector $y$, and $\\hat{y}_i$ is the $i$th observation of the predicted response vector $\\hat{y}$.\n",
    "\n",
    "Hint: you need to use the function `sklearn.linear_model.LinearRegression()` to calculate the predicted response vector $\\hat{y}$.\n",
    "\n"
   ]
  },
  {
   "cell_type": "code",
   "execution_count": null,
   "metadata": {},
   "outputs": [],
   "source": [
    "def get_rss(X, y):\n",
    "    pass"
   ]
  },
  {
   "attachments": {},
   "cell_type": "markdown",
   "metadata": {},
   "source": [
    "### Task 6: Convolution Operation\n",
    "\n",
    "You are given an input matrix `X`. Apply different kernels to the matrix for convolution operation. You can use the library `scipy.signal.convolve2d` to do the convolution. Plot the results using `matplotlib.pyplot.imshow` of each kernel.\n",
    "\n",
    "- `kernel1`: 3x3 matrix with all elements equal to 1/9\n",
    "- `gaussian`: 3x3 matrix with elements [[1, 2, 1], [2, 4, 2], [1, 2, 1]] / 16\n",
    "- `sober_x`: 3x3 matrix with elements [[-1, 0, 1], [-2, 0, 2], [-1, 0, 1]]\n",
    "- `sober_y`: 3x3 matrix with elements [[-1, -2, -1], [0, 0, 0], [1, 2, 1]]\n",
    "- `laplacian`: 3x3 matrix with elements [[0, 1, 0], [1, -4, 1], [0, 1, 0]]"
   ]
  },
  {
   "cell_type": "code",
   "execution_count": null,
   "metadata": {},
   "outputs": [],
   "source": [
    "import numpy as np\n",
    "# 5 by 5 matrix\n",
    "X = np.array([\n",
    "    [0, 0, 0, 1, 0],\n",
    "    [1, 1, 0, 0, 1],\n",
    "    [0, 1, 1, 0, 0],\n",
    "    [0, 0, 0, 0, 1],\n",
    "    [0, 0, 0, 0, 1]\n",
    "])\n",
    "# convolution\n",
    "pass"
   ]
  },
  {
   "attachments": {},
   "cell_type": "markdown",
   "metadata": {},
   "source": [
    "### Task 7: Library Management System\n",
    "\n",
    "You have a library with different types of materials, such as books and DVDs. Your task is to create a library management system using object-oriented programming principles.\n",
    "\n",
    "1. Create a base class LibraryItem that will encapsulate the common attributes of all library items. The class should have the following attributes and methods:\n",
    "\n",
    "- Attributes:\n",
    "    * `title`: The title of the library item.\n",
    "    * `author`: The author or creator of the library item.\n",
    "    * `available`: A boolean value indicating if the item is available for checkout.\n",
    "- Methods:\n",
    "    * `checkout`(self): Set the available attribute to False if the item is available for checkout.\n",
    "    * `return_item`(self): Set the available attribute to True if the item is not available.\n",
    "\n",
    "2. Create two derived classes, `Book` and `DVD`, that inherit from the base class `LibraryItem`. Each derived class should have its own specific attributes:\n",
    "\n",
    "    * For `Book`, add a `pages` attribute to store the number of pages. Default to 0.\n",
    "    * For `DVD`, add a `duration` attribute to store the duration of the DVD in minutes. Default to 0.\n",
    "\n",
    "3. Create instances of the derived classes and use the instances to perform the following library management tasks:\n",
    "\n",
    "   * Check if a library item is available for checkout.\n",
    "    * Check out a library item if it's available.\n",
    "    * Return a library item if it's not available."
   ]
  },
  {
   "cell_type": "code",
   "execution_count": null,
   "metadata": {},
   "outputs": [],
   "source": [
    "pass"
   ]
  }
 ],
 "metadata": {
  "language_info": {
   "name": "python"
  },
  "orig_nbformat": 4
 },
 "nbformat": 4,
 "nbformat_minor": 2
}
