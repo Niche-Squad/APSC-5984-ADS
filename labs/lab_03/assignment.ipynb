{
 "cells": [
  {
   "attachments": {},
   "cell_type": "markdown",
   "metadata": {},
   "source": [
    "# APSC-5984 Lab 3: Python Basics II\n",
    "\n",
    "Due: 2023-02-06 (Monday) 23:59:59\n",
    "\n",
    "Grading Rubric (Total 100 points)\n",
    "\n",
    "| Items | Points | Earned |\n",
    "| :--- | :----- | :----- |\n",
    "| Push the assignment in time with the commit message: \"lab 3 submission\" | 70 | |\n",
    "| Tasks 1| 2 | |\n",
    "| Tasks 2| 2 | |\n",
    "| Tasks 3| 2 | |\n",
    "| Tasks 4| 2 | |\n",
    "| Tasks 5| 2 | |\n",
    "| Tasks 6| 2 | |\n",
    "| Tasks 7| 4 | |\n",
    "| Tasks 8| 4 | |\n",
    "| Tasks 9| 6 | |\n",
    "| Tasks 10| 4 | |\n",
    "\n",
    "\n",
    "When you are done with the assignment, you need to commit your changes and push them to this repository. You can do this by running the following commands in the `terminal`:\n",
    "\n",
    "```bash\n",
    "git add .\n",
    "git commit -m \"lab 3 submission\"\n",
    "git push\n",
    "```\n",
    "\n",
    "Or you can use the Source Control tab in VS Code to commit and push your changes as we did in the previous lab."
   ]
  },
  {
   "attachments": {},
   "cell_type": "markdown",
   "metadata": {},
   "source": [
    "### Task 1 -> [1. Lists](readme.md#1-lists)\n",
    "\n",
    "Create a list `ls_numbers` and assign `[1, 6, 7, 8, 3, 5]` to it. Print the third element of the list."
   ]
  },
  {
   "cell_type": "code",
   "execution_count": null,
   "metadata": {},
   "outputs": [],
   "source": [
    "# your code here\n",
    "pass"
   ]
  },
  {
   "attachments": {},
   "cell_type": "markdown",
   "metadata": {},
   "source": [
    "### Task 2 -> [1. Lists](readme.md#1-lists)\n",
    "\n",
    "A nested list can be assigned the information in the form of a list of lists. For example, to represent two contacts, John and Jane, as well as their phone numbers, you can keep the information in the following format:\n",
    "\n",
    "```python\n",
    "ls_contacts = [[\"John\",\"123-456-7890\"], [\"Jane\",\"987-654-3210\"]]\n",
    "```\n",
    "\n",
    "Now, you will be provided with the list below:\n",
    "\n",
    "| Name | Phone Number |\n",
    "| :--- | :----------- |\n",
    "| John | 123-456-7890 |\n",
    "| Jane | 987-654-3210 |\n",
    "| Mary | 111-222-3333 |\n",
    "| Mark | 444-555-6666 |\n",
    "| Jack | 777-888-9999 |\n",
    "\n",
    "Create a nested list `ls_contacts` and assign the above information to it. Print the phone number of Jack by accessing the list."
   ]
  },
  {
   "cell_type": "code",
   "execution_count": null,
   "metadata": {},
   "outputs": [],
   "source": [
    "# your code here\n",
    "pass"
   ]
  },
  {
   "attachments": {},
   "cell_type": "markdown",
   "metadata": {},
   "source": [
    "### Task 3 -> [2. Dictionaries](readme.md#2-dictionaries)\n",
    "\n",
    "Create a dictionary `dict_contacts` and assign the same information to it. Print the phone number of Jack by using `Jack` as the key."
   ]
  },
  {
   "cell_type": "code",
   "execution_count": null,
   "metadata": {},
   "outputs": [],
   "source": [
    "# your code here\n",
    "pass"
   ]
  },
  {
   "attachments": {},
   "cell_type": "markdown",
   "metadata": {},
   "source": [
    "### Task 4 -> [2. Dictionaries](readme.md#2-dictionaries)\n",
    "\n",
    "Insert another two persons' information (as shown below) to the previous dictionary `dict_contacts`:\n",
    "\n",
    "| Name | Phone Number |\n",
    "| :--- | :----------- |\n",
    "| Emily | 888-999-0000 |\n",
    "| David | 222-111-2222 |"
   ]
  },
  {
   "cell_type": "code",
   "execution_count": 1,
   "metadata": {},
   "outputs": [],
   "source": [
    "# your code here\n",
    "pass"
   ]
  },
  {
   "attachments": {},
   "cell_type": "markdown",
   "metadata": {},
   "source": [
    "### Task 5 -> [3. Loops](readme.md#3-loops)\n",
    "\n",
    "Use a `for` loop to print the phone numbers of the contacts in `dict_contacts`. Hint: You can use the `items()` method to iterate over the dictionary."
   ]
  },
  {
   "cell_type": "code",
   "execution_count": 5,
   "metadata": {},
   "outputs": [],
   "source": [
    "# your code here\n",
    "pass"
   ]
  },
  {
   "attachments": {},
   "cell_type": "markdown",
   "metadata": {},
   "source": [
    "### Task 6 -> [3. Loops](readme.md#3-loops)\n",
    "\n",
    "Use a `for` loop to transform the list `ls_contacts` to a dictionary `dict_contacts`."
   ]
  },
  {
   "cell_type": "code",
   "execution_count": null,
   "metadata": {},
   "outputs": [],
   "source": [
    "dict_contacts  = {}\n",
    "ls_contacts = [\n",
    "            [\"John\",\"123-456-7890\"],\n",
    "            [\"Jane\",\"987-654-3210\"],\n",
    "            [\"Mary\",\"111-222-3333\"],\n",
    "            [\"Mark\",\"444-555-6666\"],\n",
    "            [\"Jack\",\"777-888-9999\"]]\n",
    "\n",
    "# your code here\n",
    "pass\n",
    "\n",
    "print(dict_contacts)"
   ]
  },
  {
   "attachments": {},
   "cell_type": "markdown",
   "metadata": {},
   "source": [
    "### Task 7 -> [3. Loops](readme.md#3-loops)\n",
    "\n",
    "Use a `while` loop to implement the division of two numbers. You will be given two numbers, dividend and divisor, as inputs. In the division, the dividend is substracted by the divisor until the dividend is less than the divisor. For example, if the dividend is 10 and the divisor is 3, the quotient and the remainder will be 3 and 1, respectively. Print the quotient and the remainder by the function `print(quotient, remainder)`."
   ]
  },
  {
   "cell_type": "code",
   "execution_count": 2,
   "metadata": {},
   "outputs": [
    {
     "name": "stdout",
     "output_type": "stream",
     "text": [
      "7 3\n"
     ]
    }
   ],
   "source": [
    "dividend = 38\n",
    "divisor = 5\n",
    "quotient = 0\n",
    "remainder = 0\n",
    "\n",
    "# your code here\n",
    "while dividend >= divisor:\n",
    "    dividend = dividend - divisor\n",
    "    quotient += 1\n",
    "\n",
    "remainder = dividend\n",
    "\n",
    "print(quotient, remainder)"
   ]
  },
  {
   "attachments": {},
   "cell_type": "markdown",
   "metadata": {},
   "source": [
    "### Task 8 -> [3. Loops](readme.md#3-loops)\n",
    "\n",
    "We know that DNA is composed of four nucleotides: adenine (A), cytosine (C), guanine (G), and thymine (T). The DNA sequence is represented by a string of letters, such as `ATCGATCGATCGATCG`. The transcription of DNA to RNA is performed by replacing each nucleotide with its complement. For example, the transcription of `ATCGATCGATCGATCG` is `UAGCUAGCUAGCUAGC`, where `T` is replaced by `A`, `A` is replaced by `U`, `C` is replaced by `G`, and `G` is replaced by `C`.\n",
    "\n",
    "You are provided a dictionary `dict_nucleotides` that maps each nucleotide to its complement. Use `for` loop to transcribe the DNA sequence to RNA."
   ]
  },
  {
   "cell_type": "code",
   "execution_count": 4,
   "metadata": {},
   "outputs": [
    {
     "name": "stdout",
     "output_type": "stream",
     "text": [
      "AUGCCACACGGCGAUUUC\n"
     ]
    }
   ],
   "source": [
    "dict_DNA2RNA = {\n",
    "    \"A\": \"U\",\n",
    "    \"T\": \"A\",\n",
    "    \"C\": \"G\",\n",
    "    \"G\": \"C\"}\n",
    "\n",
    "DNA = \"TACGGTGTGCCGCTAAAG\"\n",
    "RNA = \"\"\n",
    "for base in DNA:\n",
    "    key = base\n",
    "    RNA += dict_DNA2RNA[key]\n",
    "\n",
    "print(RNA)"
   ]
  },
  {
   "attachments": {},
   "cell_type": "markdown",
   "metadata": {},
   "source": [
    "### Task 9 -> [3. Loops](readme.md#3-loops)\n",
    "\n",
    "Amino acids are building blocks of proteins. Each amino acid can be represented by three RNA nucleotides (RNA codon). For example, the codon `AUG` represents the amino acid methionine (Met), and the codon `UAA` represents the amino acid stop (Stop). Details can be found here: https://en.wikipedia.org/wiki/DNA_and_RNA_codon_tables\n",
    "\n",
    "1. Based on the RNA sequence you obtained from Task 8, build a dictionary `dict_RNA2AA` that maps each RNA codon to its corresponding amino acid. (Hint: You do not need to consider the entire 64 codons. You only need to map what you have in this RNA sequence.)\n",
    "2. Use a `for` loop to translate the RNA sequence to a sequence of amino acids. For example, an RNA sequence `AUGCGGUAA` will be `Met-Arg-Stop`. Note that the amino acids in the sequence are REQUIRED to be separated by a hyphen `-` (check the string operation in the previous lab)."
   ]
  },
  {
   "cell_type": "code",
   "execution_count": 10,
   "metadata": {},
   "outputs": [
    {
     "name": "stdout",
     "output_type": "stream",
     "text": [
      "Met-Pro-His-Gly-Asp-Phe\n"
     ]
    }
   ],
   "source": [
    "dict_RNA2AA = {\n",
    "    \"AUG\": \"Met\",\n",
    "    \"CCA\": \"Pro\",\n",
    "    \"CAC\": \"His\",\n",
    "    \"GGC\": \"Gly\",\n",
    "    \"GAU\": \"Asp\",\n",
    "    \"UUC\": \"Phe\"}\n",
    "AA = \"\"\n",
    "for i in range(0, len(RNA), 3):\n",
    "    codon = RNA[i : (i + 3)]\n",
    "    key = codon\n",
    "    AA += dict_RNA2AA[key] + \"-\"\n",
    "\n",
    "AA = AA[:-1]\n",
    "print(AA)"
   ]
  },
  {
   "attachments": {},
   "cell_type": "markdown",
   "metadata": {},
   "source": [
    "### Task 10 -> [3. Loops](readme.md#3-loops)\n",
    "\n",
    "What if we are asked to reverse the translation? That is, we need to find the RNA sequence that can be translated to the given amino acid sequence. For example, the amino acid sequence `Met-Arg-Leu` can be reversed to the RNA sequence `AUGCGGCUA`.\n",
    "\n",
    "1. Use the dictionary `dict_RNA2AA` you created in Task 9 to generate a reverse dictionary `dict_AA2RNA` that maps each amino acid to its RNA codons. NOTE: It is recommneded to use for-loop to solve this task, but manually defmining a `dict_AA2RNA` is also acceptable.\n",
    "2. Use `for` loop to reverse the translation. For example, the amino acid sequence `Met-Arg-Leu` will be `AUGCGGCUA`."
   ]
  },
  {
   "cell_type": "code",
   "execution_count": 16,
   "metadata": {},
   "outputs": [
    {
     "name": "stdout",
     "output_type": "stream",
     "text": [
      "AUG Met\n",
      "CCA Pro\n",
      "CAC His\n",
      "GGC Gly\n",
      "GAU Asp\n",
      "UUC Phe\n",
      "AUGCCACACGGCGAUUUC\n"
     ]
    }
   ],
   "source": [
    "dict_AA2RNA = {}\n",
    "\n",
    "for key, item in dict_RNA2AA.items():\n",
    "    print(key, item)\n",
    "    dict_AA2RNA[item] = key\n",
    "\n",
    "RNA = \"\"\n",
    "for aa in AA.split(\"-\"):\n",
    "    RNA += dict_AA2RNA[aa]\n",
    "\n",
    "print(RNA)"
   ]
  },
  {
   "cell_type": "code",
   "execution_count": 14,
   "metadata": {},
   "outputs": [
    {
     "data": {
      "text/plain": [
       "['Met', 'Pro', 'His', 'Gly', 'Asp', 'Phe']"
      ]
     },
     "execution_count": 14,
     "metadata": {},
     "output_type": "execute_result"
    }
   ],
   "source": []
  },
  {
   "cell_type": "code",
   "execution_count": null,
   "metadata": {},
   "outputs": [],
   "source": []
  }
 ],
 "metadata": {
  "kernelspec": {
   "display_name": "tf",
   "language": "python",
   "name": "python3"
  },
  "language_info": {
   "codemirror_mode": {
    "name": "ipython",
    "version": 3
   },
   "file_extension": ".py",
   "mimetype": "text/x-python",
   "name": "python",
   "nbconvert_exporter": "python",
   "pygments_lexer": "ipython3",
   "version": "3.9.13"
  },
  "orig_nbformat": 4,
  "vscode": {
   "interpreter": {
    "hash": "e280c9e8b2a1d33bbe58b6976a0585f8ea2c0c6c7877fc74ad974a82054a5488"
   }
  }
 },
 "nbformat": 4,
 "nbformat_minor": 2
}
