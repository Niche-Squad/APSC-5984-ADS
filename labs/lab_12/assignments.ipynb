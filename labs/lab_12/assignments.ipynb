{
 "cells": [
  {
   "attachments": {},
   "cell_type": "markdown",
   "metadata": {},
   "source": [
    "# APSC-5984 Lab 12: Data Visualization\n",
    "\n",
    "Due: 2023-04-17 (Monday) 23:59:59\n",
    "\n",
    "Grading Rubric (Total 100 points)\n",
    "\n",
    "| Items | Points | Earned |\n",
    "| :--- | :----- | :----- |\n",
    "| Push the assignment in time with the commit message: \"lab 12 submission\" | 70 | |\n",
    "| Tasks 1| 2 | |\n",
    "| Tasks 2| 2 | |\n",
    "| Tasks 3| 6 | |\n",
    "| Tasks 4| 5 | |\n",
    "| Tasks 5.1| 2 | |\n",
    "| Tasks 5.2| 8 | |\n",
    "| Tasks 6| 5 | |\n",
    "\n",
    "In this lab, you will work on several datasets to implement linear regression by manually calculating the regression coefficients and using the scikit-learn package."
   ]
  },
  {
   "attachments": {},
   "cell_type": "markdown",
   "metadata": {},
   "source": [
    "### Task 1\n",
    "\n",
    "Load the dataset `data/Austin_Animal_Center_Outcomes.csv` into a pandas dataframe variable, `data`.\n",
    "\n",
    "- Drop any rows with missing values (dropna()).\n",
    "- Use pd.to_datetime() to convert the `DateTime` column to a datetime object.\n",
    "(https://pandas.pydata.org/pandas-docs/stable/reference/api/pandas.to_datetime.html)\n",
    "- Print the first 5 rows of the dataframe.\n",
    "- Print the value counts of the `Animal Type` column.\n",
    "- Print the value counts of the `Outcome Type` column.\n",
    "- Print the value counts of the `Sex upon Outcome` column.\n",
    "\n",
    "Hint: use `display()` to display multiple outputs in a cell.\n"
   ]
  },
  {
   "cell_type": "code",
   "execution_count": 1,
   "metadata": {},
   "outputs": [],
   "source": [
    "pass"
   ]
  },
  {
   "attachments": {},
   "cell_type": "markdown",
   "metadata": {},
   "source": [
    "### Task 2\n",
    "\n",
    "Turn the variable \"Age upon Outcome\" into a numeric variable (in days). For example, \"2 years\" should be converted to `730`.\n",
    "\n",
    "- You can start with the pre-defined function `age2days()` in the code cell below.\n",
    "- Create a new column `age` in the dataframe `data` to store the age in days."
   ]
  },
  {
   "cell_type": "code",
   "execution_count": null,
   "metadata": {},
   "outputs": [],
   "source": [
    "def age2days(x):\n",
    "    if x.endswith('year') or x.endswith('years'):\n",
    "        pass\n",
    "    # add more conditions here\n",
    "    pass\n",
    "\n",
    "\n",
    "# test your function\n",
    "check1 = age2days(\"3 months\")\n",
    "check2 = age2days(\"20 days\")\n",
    "print(check1) # 90\n",
    "print(check2) # 20\n",
    "\n",
    "# add the new column to the data frame\n",
    "pass"
   ]
  },
  {
   "attachments": {},
   "cell_type": "markdown",
   "metadata": {},
   "source": [
    "### Task 3\n",
    "\n",
    "Generate a scatter plot of the `DateTime` and `age`. You need to modify the following items in the plot:\n",
    "\n",
    "- Change the figure size to (15, 10)\n",
    "- Add y-axis label as \"Age (years)\".\n",
    "- Modify the y-axis tick labels to show the age in years. You need to change both the tick labels (i.e., 0, 1, 2,...) and the tick locations (i.e., 0, 364, 729,...). The upper bound of the y-axis should be 25 years."
   ]
  },
  {
   "cell_type": "code",
   "execution_count": 2,
   "metadata": {},
   "outputs": [],
   "source": [
    "pass"
   ]
  },
  {
   "attachments": {},
   "cell_type": "markdown",
   "metadata": {},
   "source": [
    "### Task 4\n",
    "\n",
    "Use `seaborn` to generate a box plot of the `age` (y-axis) grouped by the `Outcome Type` (x-axis) column. In addition, cat and dog (`Animal Type`) must be plotted separately in different colors but in the same figure. Noted that the y-axis configuration (lable and ticks) should be the same as in Task 3."
   ]
  },
  {
   "cell_type": "code",
   "execution_count": 4,
   "metadata": {},
   "outputs": [],
   "source": [
    "import seaborn as sns\n",
    "pass"
   ]
  },
  {
   "attachments": {},
   "cell_type": "markdown",
   "metadata": {},
   "source": [
    "### Task 5\n",
    "\n",
    "We want to discuss the relation between the `age` and the `Outcome Type`, and we also want to see the change of the relation over time (`DateTime`)."
   ]
  },
  {
   "attachments": {},
   "cell_type": "markdown",
   "metadata": {},
   "source": [
    "#### Task 5.1\n",
    "\n",
    "To do so, we need to categorize the `age` into 4 groups and create a new column `age_group` in the dataframe `data` to store the age group.\n",
    "\n",
    "- Baby: 0-1 year\n",
    "- Young: 1-2 years\n",
    "- Adult: 2-5 years\n",
    "- Senior: 5+ years\n",
    "\n",
    "You can start with the pre-defined function `age2group()` in the code cell below."
   ]
  },
  {
   "cell_type": "code",
   "execution_count": 5,
   "metadata": {},
   "outputs": [],
   "source": [
    "def age2group(x):\n",
    "    if x < 365:\n",
    "        pass\n",
    "    # add more conditions here\n",
    "    pass\n",
    "\n",
    "# add the new column to the data frame\n",
    "pass"
   ]
  },
  {
   "attachments": {},
   "cell_type": "markdown",
   "metadata": {},
   "source": [
    "#### Task 5.2\n",
    "\n",
    "Create a 2x4 grid of histograms that displays the distribution of case numbers over time for different age groups and animal types, separated by Outcome Type.\n",
    "\n",
    "- Divide the animals into four age groups: \"baby\", \"young\", \"adult\", and \"senior\".\n",
    "- For each age group and animal type (dog and cat), create a histogram showing the distribution of case numbers over time for each Outcome Type.\n",
    "- Use a subplot for each combination of age group and animal type, arranging them in a 2x4 grid with a figsize of (20, 10).\n",
    "- For each subplot, plot histograms for all unique Outcome Types with 50 bins and an alpha value of 0.5 to show transparency. Include a legend to identify the different Outcome Types.\n",
    "- Set the title for each subplot as the combination of age group and animal type (e.g., \"baby Dog\", \"young Cat\").\n",
    "- Set the y-axis limit to 100.\n",
    "\n",
    "Note: To complete this task, you will need to preprocess the dataset by creating an age_group column based on the 'Age upon Outcome' column and categorizing the animals into the specified age groups.\n",
    "\n",
    "Here is the expected output:\n",
    "\n",
    "<center><img src=\"figures/task_5_2.png\" width=\"1200\"></center>"
   ]
  },
  {
   "cell_type": "code",
   "execution_count": null,
   "metadata": {},
   "outputs": [],
   "source": [
    "# create 2 by 4 subplots in a figure of size (20, 10)\n",
    "pass\n",
    "# loop over the age groups\n",
    "for i, agegrp in enumerate([\"baby\", \"young\", \"adult\", \"senior\"]):\n",
    "    # loop over the animal types\n",
    "    for j, animal in enumerate([\"Dog\", \"Cat\"]):\n",
    "        # select the axis\n",
    "        ax = axes[j, i]\n",
    "        # loop over the outcome types\n",
    "        for k, type in enumerate(data[\"Outcome Type\"].unique()):\n",
    "            # subset the data\n",
    "            pass\n",
    "            # plot the histogram\n",
    "            pass\n",
    "        # set the title\n",
    "        pass\n",
    "        # set the x-axis limits\n",
    "        ax.set_xlim(pd.to_datetime(\"2013-10-01\"), pd.to_datetime(\"2021-01-01\"))\n",
    "        plt.setp(ax.get_xticklabels(), rotation=45)\n",
    "        ax.set_ylim(0, 100)\n",
    "    if i == 3:\n",
    "        axes[0, i].legend()"
   ]
  },
  {
   "attachments": {},
   "cell_type": "markdown",
   "metadata": {},
   "source": [
    "### Task 6\n",
    "\n",
    "Create an interactive Plotly version of the histogram above (check the expected result `hisgogram.html` in the lab_12 folder).\n",
    "\n",
    "- For each subplot, plot histograms for all unique `Outcome Types` with no more than 50 bins and an alpha value of 0.5 to show transparency. Include a legend to identify the different `Outcome Types`.\n"
   ]
  },
  {
   "cell_type": "code",
   "execution_count": null,
   "metadata": {},
   "outputs": [],
   "source": [
    "import plotly.graph_objs as go\n",
    "from plotly.subplots import make_subplots\n",
    "\n",
    "# Create a subplot layout for the histograms\n",
    "fig = make_subplots(rows=2, cols=4,\n",
    "                    horizontal_spacing=0.01, vertical_spacing=0.1,\n",
    "                    subplot_titles=[f\"{agegrp} {animal}\"\n",
    "                                    for animal in ['Dog', 'Cat']\n",
    "                                    for agegrp in [\"baby\", \"young\", \"adult\", \"senior\"]])\n",
    "\n",
    "fig.update_layout(title=\"Case Numbers Over Time by Age Group, Animal Type, and Outcome Type\",\n",
    "                showlegend=True, barmode='overlay',\n",
    "                bargap=0.1, bargroupgap=0.1,\n",
    "                width=2000, height=1000)\n",
    "\n",
    "# generate four colors for the four outcome types\n",
    "outcome_colors = {\"Adoption\": \"rgb(102, 194, 165)\",\n",
    "                    \"Transfer\": \"rgb(252, 141, 98)\",\n",
    "                    \"Return to Owner\": \"rgb(141, 160, 203)\",\n",
    "                    \"Euthanasia\": \"rgb(231, 138, 195)\",\n",
    "                    \"Died\": \"rgb(166, 216, 84)\",\n",
    "                    \"Missing\": \"rgb(255, 217, 47)\"}\n",
    "\n",
    "# Loop through age groups, animal types, and outcome types\n",
    "for i, agegrp in enumerate([\"baby\", \"young\", \"adult\", \"senior\"]):\n",
    "    for j, animal in enumerate([\"Dog\", \"Cat\"]):\n",
    "        for k, outcome in enumerate(data[\"Outcome Type\"].unique()):\n",
    "            # Filter the data\n",
    "            pass\n",
    "            # Create the histogram trace\n",
    "            pass\n",
    "            # Add the histogram trace to the subplot layout\n",
    "            pass\n",
    "\n",
    "# Add interactivity\n",
    "fig.update_xaxes(\n",
    "                fixedrange=False,\n",
    "                matches='x',\n",
    "                rangeselector=dict(\n",
    "                buttons=list([\n",
    "                            dict(count=1, label=\"1m\", step=\"month\", stepmode=\"backward\"),\n",
    "                            dict(count=6, label=\"6m\", step=\"month\", stepmode=\"backward\"),\n",
    "                            dict(count=1, label=\"1y\", step=\"year\", stepmode=\"backward\"),\n",
    "                            dict(step=\"all\")])))\n",
    "fig.update_yaxes(range=[0, 100])\n",
    "\n",
    "# save as html\n",
    "fig.show()"
   ]
  }
 ],
 "metadata": {
  "kernelspec": {
   "display_name": "niche",
   "language": "python",
   "name": "python3"
  },
  "language_info": {
   "codemirror_mode": {
    "name": "ipython",
    "version": 3
   },
   "file_extension": ".py",
   "mimetype": "text/x-python",
   "name": "python",
   "nbconvert_exporter": "python",
   "pygments_lexer": "ipython3",
   "version": "3.9.16"
  },
  "orig_nbformat": 4
 },
 "nbformat": 4,
 "nbformat_minor": 2
}
