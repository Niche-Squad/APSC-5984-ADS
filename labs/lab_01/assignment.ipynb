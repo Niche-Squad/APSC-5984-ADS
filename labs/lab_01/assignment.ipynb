{
 "cells": [
  {
   "attachments": {},
   "cell_type": "markdown",
   "metadata": {},
   "source": [
    "# APSC-5984 Lab 1: Environment Setup\n",
    "\n",
    "### Due: 2023-01-23 (Monday) 23:59:59\n",
    "\n",
    "### Grading Rubric (Total 100 points)\n",
    "\n",
    "| Items | Points | Earned |\n",
    "| :--- | :----- | :----- |\n",
    "| Push the lab assignment in time | 80 | |\n",
    "| Correctly set up the environment (`miniconda` should be shown in the paths) | 10 | |\n",
    "| Correctly push the lab assignment with the correct commit message: \"lab 1 submission\" | 10 | |"
   ]
  },
  {
   "attachments": {},
   "cell_type": "markdown",
   "metadata": {},
   "source": [
    "### Imports"
   ]
  },
  {
   "cell_type": "code",
   "execution_count": 1,
   "metadata": {},
   "outputs": [],
   "source": [
    "import platform"
   ]
  },
  {
   "attachments": {},
   "cell_type": "markdown",
   "metadata": {},
   "source": [
    "### Check environment variables"
   ]
  },
  {
   "cell_type": "code",
   "execution_count": 2,
   "metadata": {},
   "outputs": [],
   "source": [
    "path_conda = !which conda\n",
    "path_python = !which python\n",
    "system_info = platform.version()\n",
    "system = platform.system()\n",
    "release = platform.release()"
   ]
  },
  {
   "attachments": {},
   "cell_type": "markdown",
   "metadata": {},
   "source": [
    "### Print out the variables"
   ]
  },
  {
   "cell_type": "code",
   "execution_count": 3,
   "metadata": {},
   "outputs": [
    {
     "name": "stdout",
     "output_type": "stream",
     "text": [
      "Path to conda:  /home/wuxiaohui/miniconda3/bin/conda\n",
      "Path to python:  /home/wuxiaohui/miniconda3/bin/python\n",
      "System info:  #1 SMP Wed Nov 23 01:01:46 UTC 2022\n",
      "System:  Linux\n",
      "Release:  5.15.79.1-microsoft-standard-WSL2\n"
     ]
    }
   ],
   "source": [
    "print(\"Path to conda: \", path_conda[0])\n",
    "print(\"Path to python: \", path_python[0])\n",
    "print(\"System info: \", system_info)\n",
    "print(\"System: \", system)\n",
    "print(\"Release: \", release)"
   ]
  }
 ],
 "metadata": {
  "kernelspec": {
   "display_name": "base",
   "language": "python",
   "name": "python3"
  },
  "language_info": {
   "codemirror_mode": {
    "name": "ipython",
    "version": 3
   },
   "file_extension": ".py",
   "mimetype": "text/x-python",
   "name": "python",
   "nbconvert_exporter": "python",
   "pygments_lexer": "ipython3",
   "version": "3.10.9"
  },
  "orig_nbformat": 4,
  "vscode": {
   "interpreter": {
    "hash": "989d7407b76b36c8014f49dab77c8b3244b7e764dfe6e3efac302be743e029ac"
   }
  }
 },
 "nbformat": 4,
 "nbformat_minor": 2
}
