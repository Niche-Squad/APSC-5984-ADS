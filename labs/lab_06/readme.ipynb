{
 "cells": [
  {
   "attachments": {},
   "cell_type": "markdown",
   "metadata": {},
   "source": [
    "# APSC-5984 Lab 6: Tidy Data\n",
    "\n",
    "Due: 2023-02-27 (Monday) 23:59:59\n",
    "\n",
    "\n",
    "\n",
    "## 0. Overview\n",
    "\n",
    "Tidy data is an important concept in data science. We will go through each type of messy data discussed in the paper [Tidy Data](https://www.jstatsoft.org/article/view/v059i10/v59i10.pdf) and learn how to tidy them. We will not only use the `pandas` library to manipulate dataframes, but also use `plotnine`, which is a Python implementation of the `ggplot2` library in R, to visualize the tidy data.\n",
    "\n",
    "First, let's import the libraries we will use in this section.\n"
   ]
  },
  {
   "cell_type": "code",
   "execution_count": 1,
   "metadata": {},
   "outputs": [],
   "source": [
    "import pandas as pd\n",
    "import numpy as np\n",
    "import re\n",
    "import os\n",
    "from plotnine import *\n",
    "os.chdir(\"data\")\n",
    "pd.set_option(\"display.notebook_repr_html\", False)"
   ]
  },
  {
   "attachments": {},
   "cell_type": "markdown",
   "metadata": {},
   "source": [
    "## 1. Column headers are values, not variable names\n",
    "\n",
    "### 1.1 United States Census Bureau: 2017 National Population Projection\n",
    "\n",
    "This is a dataset describing the projected population of the United States from 2016 to 2060. The first column `YEAR` keeps the year of the project. The remaining columns `POP_X` were used to store the projected population of each age `X` in the year, where `X` is an integer from 0 to 100."
   ]
  },
  {
   "cell_type": "code",
   "execution_count": 11,
   "metadata": {},
   "outputs": [
    {
     "data": {
      "text/plain": [
       "    YEAR    POP_0    POP_1    POP_2    POP_3    POP_4    POP_5    POP_6  \\\n",
       "0   2016  3970145  3995008  3992154  3982074  3987656  4032515  4029655   \n",
       "1   2017  4054035  3982964  4008116  4003478  3992207  3997392  4042440   \n",
       "2   2018  4075563  4068172  3995888  4019345  4013649  4001995  4007421   \n",
       "3   2019  4095614  4089881  4082231  4006967  4029427  4023461  4012057   \n",
       "4   2020  4113164  4110117  4104058  4094281  4016919  4039164  4033531   \n",
       "5   2021  4127525  4127842  4124416  4116205  4105035  4026556  4049172   \n",
       "6   2022  4139039  4142382  4142254  4136660  4127020  4115321  4036489   \n",
       "7   2023  4147758  4154076  4156909  4154588  4147538  4137347  4125778   \n",
       "8   2024  4154108  4162971  4168717  4169332  4165525  4157904  4147828   \n",
       "9   2025  4158795  4169495  4177722  4181225  4180328  4175929  4168415   \n",
       "10  2026  4162506  4174374  4184383  4190355  4192326  4190821  4186520   \n",
       "11  2027  4165252  4178275  4189406  4197138  4201555  4202913  4201498   \n",
       "12  2028  4166643  4181210  4193447  4202280  4208440  4212232  4213676   \n",
       "13  2029  4166916  4182788  4196520  4206437  4213681  4219205  4223078   \n",
       "14  2030  4166587  4183242  4198230  4209626  4217936  4224535  4230133   \n",
       "15  2031  4166093  4183089  4198816  4211447  4221219  4228875  4235542   \n",
       "16  2032  4165925  4182768  4198786  4212142  4223135  4232244  4239954   \n",
       "17  2033  4166553  4182766  4198590  4212219  4223922  4234235  4243397   \n",
       "18  2034  4168367  4183560  4198709  4212127  4224089  4235104  4245464   \n",
       "19  2035  4171492  4185536  4199626  4212350  4224085  4235348  4246406   \n",
       "20  2036  4175979  4188812  4201714  4213365  4224391  4235423  4246720   \n",
       "21  2037  4181715  4193451  4205104  4215551  4225489  4235800  4246861   \n",
       "22  2038  4188292  4199330  4209852  4219041  4227758  4236971  4247303   \n",
       "23  2039  4195580  4206046  4215835  4223879  4231326  4239308  4248541   \n",
       "24  2040  4203337  4213469  4222656  4229955  4236241  4242944  4250942   \n",
       "25  2041  4211495  4221358  4230176  4236861  4242393  4247922  4254636   \n",
       "26  2042  4220328  4229645  4238161  4244467  4249370  4254136  4259672   \n",
       "27  2043  4229838  4238599  4246542  4252535  4257044  4261174  4265943   \n",
       "28  2044  4240079  4248226  4255585  4260992  4265180  4268909  4273036   \n",
       "29  2045  4251107  4258581  4265302  4270115  4273697  4277097  4280821   \n",
       "30  2046  4262884  4269723  4275741  4279906  4282886  4285673  4289057   \n",
       "31  2047  4275205  4281602  4286961  4290420  4292738  4294914  4297684   \n",
       "32  2048  4287874  4294027  4298920  4301709  4303313  4304814  4306970   \n",
       "33  2049  4300717  4306794  4311418  4313731  4314659  4315439  4316912   \n",
       "34  2050  4313446  4319726  4324259  4326295  4326735  4326831  4327577   \n",
       "35  2051  4325825  4332545  4337264  4339197  4339353  4338952  4339007   \n",
       "36  2052  4337643  4345016  4350150  4352266  4352307  4351610  4351170   \n",
       "37  2053  4348788  4356925  4362692  4365217  4365427  4364611  4363867   \n",
       "38  2054  4359221  4368159  4374671  4377819  4378435  4377776  4376906   \n",
       "39  2055  4368875  4378687  4385976  4389865  4391090  4390831  4390111   \n",
       "40  2056  4377793  4388431  4396575  4401231  4403188  4403532  4403207   \n",
       "41  2057  4386039  4397441  4406391  4411893  4414610  4415673  4415950   \n",
       "42  2058  4393696  4405783  4415474  4421774  4425326  4427144  4428133   \n",
       "43  2059  4400897  4413531  4423888  4430923  4435262  4437908  4439645   \n",
       "44  2060  4407785  4420827  4431709  4439404  4444469  4447891  4450448   \n",
       "\n",
       "      POP_7    POP_8  ...   POP_91   POP_92   POP_93  POP_94  POP_95  POP_96  \\\n",
       "0   4029991  4159114  ...   449986   372625   300000  239313  186408  135797   \n",
       "1   4040047  4041063  ...   449945   382669   311525  246219  192531  146801   \n",
       "2   4052927  4051175  ...   462335   382993   320285  256011  198354  151848   \n",
       "3   4017972  4064123  ...   467488   393919   320884  263533  206526  156654   \n",
       "4   4022626  4029209  ...   464985   398712   330389  264318  212880  163348   \n",
       "5   4044099  4033860  ...   484225   396958   334771  272457  213764  168612   \n",
       "6   4059689  4055322  ...   477362   413808   333649  276396  220621  169538   \n",
       "7   4046953  4070870  ...   477110   408345   348195  275781  224099  175204   \n",
       "8   4136675  4058091  ...   478523   408546   343970  288149  223875  178209   \n",
       "9   4158746  4148184  ...   475977   410170   344518  284978  234217  178269   \n",
       "10  4179415  4170335  ...   512913   408405   346269  285776  231933  186762   \n",
       "11  4197605  4191091  ...   519696   440546   345157  287573  232883  185193   \n",
       "12  4212663  4209367  ...   530746   446796   372733  286984  234651  186207   \n",
       "13  4224927  4224510  ...   563222   456742   378411  310285  234462  187885   \n",
       "14  4234407  4236850  ...   577076   485154   387244  315361  253831  187983   \n",
       "15  4241541  4246410  ...   603827   497552   411759  323092  258289  203793   \n",
       "16  4247023  4253622  ...   629497   521166   422712  343930  264943  207644   \n",
       "17  4251510  4259176  ...   680043   543860   443276  353462  282376  213272   \n",
       "18  4255027  4263734  ...   770811   588055   463076  371124  290549  227604   \n",
       "19  4257162  4267323  ...   748215   667162   501193  388146  305466  234485   \n",
       "20  4258174  4269529  ...   762942   648242   569191  420538  319876  246873   \n",
       "21  4258553  4270606  ...   769124   661622   553631  478118  346959  258866   \n",
       "22  4258759  4271048  ...  1031910   667612   565636  465573  394941  281125   \n",
       "23  4259263  4271317  ...   988246   896485   571337  476194  385045  320411   \n",
       "24  4260562  4271879  ...   997479   859393   767933  481511  394293  312785   \n",
       "25  4263019  4273236  ...  1026239   868258   736949  647883  399164  320707   \n",
       "26  4266773  4275751  ...  1051340   894124   745325  622456  537696  325079   \n",
       "27  4271863  4279557  ...  1084671   916872   768298  630241  517229  438444   \n",
       "28  4278183  4284700  ...  1129787   946769   788672  650372  524330  422306   \n",
       "29  4285326  4291065  ...  1176182   987035   815161  668365  541714  428659   \n",
       "30  4293157  4298251  ...  1228440  1028471   850660  691521  557379  443426   \n",
       "31  4301436  4306128  ...  1243444  1075049   887212  722401  577324  456844   \n",
       "32  4310107  4314454  ...  1294074  1089125   928219  754218  603788  473754   \n",
       "33  4319437  4323160  ...  1314377  1134429   941263  789836  631087  496077   \n",
       "34  4329420  4332527  ...  1328819  1153161   981318  801759  661578  519129   \n",
       "35  4340120  4342545  ...  1380528  1166801   998396  836711  672303  544817   \n",
       "36  4351589  4353279  ...  1379330  1213129  1011119  852085  702366  554309   \n",
       "37  4363787  4364782  ...  1371319  1213149  1052140  863783  716008  579768   \n",
       "38  4376523  4377015  ...  1382300  1207038  1053171  899635  726603  591682   \n",
       "39  4389597  4389787  ...  1392159  1217635  1048746  901453  757496  601117   \n",
       "40  4402843  4402898  ...  1376285  1227268  1058825  898482  759879  627331   \n",
       "41  4415975  4416184  ...  1310499  1214154  1068106  907935  758119  630059   \n",
       "42  4428755  4429352  ...  1298205  1156981  1057533  916728  766842  629269   \n",
       "43  4440978  4442171  ...  1305535  1147028  1008552  908433  775031  637175   \n",
       "44  4452526  4454427  ...  1343535  1154297  1000730  867121  768737  644664   \n",
       "\n",
       "    POP_97  POP_98  POP_99  POP_100  \n",
       "0    94311   68972   44895    81896  \n",
       "1   104540   70840   50486    83574  \n",
       "2   113165   78659   51938    86221  \n",
       "3   117240   85265   57778    87671  \n",
       "4   121128   88491   62724    92064  \n",
       "5   126502   91564   65221    98160  \n",
       "6   130778   95792   67596   103774  \n",
       "7   131682   99192   70843   108974  \n",
       "8   136274  100030   73482   114493  \n",
       "9   138820  103674   74220   119806  \n",
       "10  139061  105777   77053   123654  \n",
       "11  145904  106124   78746   128026  \n",
       "12  144887  111524   79131   132009  \n",
       "13  145895  110914   83296   134823  \n",
       "14  147425  111861   82975   139553  \n",
       "15  147719  113219   83827   142458  \n",
       "16  160375  113617   84987   144959  \n",
       "17  163632  123543   85423   147440  \n",
       "18  168303  126237   93039   149431  \n",
       "19  179859  130034   95218   156214  \n",
       "20  185553  139174   98240   162341  \n",
       "21  195653  143781  105309   168527  \n",
       "22  205445  151849  108965   177569  \n",
       "23  223408  159695  115275   186098  \n",
       "24  254982  173903  121430   196089  \n",
       "25  249255  198778  132425   206962  \n",
       "26  255908  194595  151611   221828  \n",
       "27  259745  200077  148646   245226  \n",
       "28  350807  203369  153070   258380  \n",
       "29  338368  275067  155823   269628  \n",
       "30  343938  265712  211093   278549  \n",
       "31  356264  270482  204240   323959  \n",
       "32  367553  280576  208236   349478  \n",
       "33  381644  289900  216335   368338  \n",
       "34  400153  301424  223879   385732  \n",
       "35  419285  316479  233112   402042  \n",
       "36  440562  332070  245118   419105  \n",
       "37  448805  349368  257567   438893  \n",
       "38  470006  356391  271360   460966  \n",
       "39  480230  373721  277216   485535  \n",
       "40  488479  382333  291110   505951  \n",
       "41  510357  389412  298218   529280  \n",
       "42  513233  407344  304158   549748  \n",
       "43  513171  410197  318575   567379  \n",
       "44  520204  410644  321274   589382  \n",
       "\n",
       "[45 rows x 102 columns]"
      ]
     },
     "execution_count": 11,
     "metadata": {},
     "output_type": "execute_result"
    }
   ],
   "source": [
    "data = pd.read_csv(\"tidy_1_pop.csv\")\n",
    "data"
   ]
  },
  {
   "attachments": {},
   "cell_type": "markdown",
   "metadata": {},
   "source": [
    "We can use `pd.melt()` to tidy the dataset. The `id_vars` argument specifies the columns that should not be melted. The `value_vars` argument specifies the columns that should be melted. In our case, `YEAR` is `id_vars` and the remaing columns are `value_vars`. We can specify the names of the melted columns using the `var_name` and `value_name` arguments."
   ]
  },
  {
   "cell_type": "code",
   "execution_count": 4,
   "metadata": {},
   "outputs": [
    {
     "data": {
      "text/plain": [
       "      YEAR      age      pop\n",
       "0     2016    POP_0  3970145\n",
       "1     2017    POP_0  4054035\n",
       "2     2018    POP_0  4075563\n",
       "3     2019    POP_0  4095614\n",
       "4     2020    POP_0  4113164\n",
       "...    ...      ...      ...\n",
       "4540  2056  POP_100   505951\n",
       "4541  2057  POP_100   529280\n",
       "4542  2058  POP_100   549748\n",
       "4543  2059  POP_100   567379\n",
       "4544  2060  POP_100   589382\n",
       "\n",
       "[4545 rows x 3 columns]"
      ]
     },
     "execution_count": 4,
     "metadata": {},
     "output_type": "execute_result"
    }
   ],
   "source": [
    "data_long = pd.melt(data,\n",
    "                id_vars=[\"YEAR\"],\n",
    "                var_name=\"age\",\n",
    "                value_name=\"pop\")\n",
    "data_long"
   ]
  },
  {
   "attachments": {},
   "cell_type": "markdown",
   "metadata": {},
   "source": [
    "By specifying the `value_vars` argument, we can only melt the columns we want."
   ]
  },
  {
   "cell_type": "code",
   "execution_count": 5,
   "metadata": {},
   "outputs": [
    {
     "data": {
      "text/plain": [
       "     YEAR    age      pop\n",
       "0    2016  POP_1  3995008\n",
       "1    2017  POP_1  3982964\n",
       "2    2018  POP_1  4068172\n",
       "3    2019  POP_1  4089881\n",
       "4    2020  POP_1  4110117\n",
       "..    ...    ...      ...\n",
       "130  2056  POP_3  4401231\n",
       "131  2057  POP_3  4411893\n",
       "132  2058  POP_3  4421774\n",
       "133  2059  POP_3  4430923\n",
       "134  2060  POP_3  4439404\n",
       "\n",
       "[135 rows x 3 columns]"
      ]
     },
     "execution_count": 5,
     "metadata": {},
     "output_type": "execute_result"
    }
   ],
   "source": [
    "data_long = pd.melt(data,\n",
    "                id_vars=[\"YEAR\"],\n",
    "                value_vars=[\"POP_1\", \"POP_2\", \"POP_3\"],\n",
    "                var_name=\"age\",\n",
    "                value_name=\"pop\")\n",
    "data_long"
   ]
  },
  {
   "attachments": {},
   "cell_type": "markdown",
   "metadata": {},
   "source": [
    "We can use `str.split()` to remove the prefix `POP_` from the `age` column."
   ]
  },
  {
   "cell_type": "code",
   "execution_count": 8,
   "metadata": {},
   "outputs": [
    {
     "data": {
      "text/plain": [
       "     YEAR age      pop\n",
       "0    2016   1  3995008\n",
       "1    2017   1  3982964\n",
       "2    2018   1  4068172\n",
       "3    2019   1  4089881\n",
       "4    2020   1  4110117\n",
       "..    ...  ..      ...\n",
       "130  2056   3  4401231\n",
       "131  2057   3  4411893\n",
       "132  2058   3  4421774\n",
       "133  2059   3  4430923\n",
       "134  2060   3  4439404\n",
       "\n",
       "[135 rows x 3 columns]"
      ]
     },
     "execution_count": 8,
     "metadata": {},
     "output_type": "execute_result"
    }
   ],
   "source": [
    "data_long[\"age\"] = data_long[\"age\"].apply(lambda x: x.split(\"_\")[1])\n",
    "data_long"
   ]
  },
  {
   "attachments": {},
   "cell_type": "markdown",
   "metadata": {},
   "source": [
    "### 1.2 Billboard top hits for 2000\n",
    "\n",
    "This dataset contains the song information of the top hits in 2000 and their rank by week. The ranks were organized in multiple columns (e.g., x1st.week, x2nd.week), where each column represents the rank of the song in a week."
   ]
  },
  {
   "cell_type": "code",
   "execution_count": 12,
   "metadata": {},
   "outputs": [
    {
     "data": {
      "text/plain": [
       "     year      artist.inverted                                  track   time  \\\n",
       "0    2000      Destiny's Child               Independent Women Part I  03:38   \n",
       "1    2000              Santana                           Maria, Maria  04:18   \n",
       "2    2000        Savage Garden                     I Knew I Loved You  04:07   \n",
       "3    2000              Madonna                                  Music  03:45   \n",
       "4    2000  Aguilera, Christina  Come On Over Baby (All I Want Is You)  03:38   \n",
       "..    ...                  ...                                    ...    ...   \n",
       "312  2000     Ghostface Killah                       Cherchez LaGhost  03:04   \n",
       "313  2000          Smith, Will                            Freakin' It  03:58   \n",
       "314  2000        Zombie Nation                          Kernkraft 400  03:30   \n",
       "315  2000       Eastsidaz, The                               Got Beef  03:58   \n",
       "316  2000               Fragma                         Toca's Miracle  03:22   \n",
       "\n",
       "    genre date.entered date.peaked  x1st.week  x2nd.week  x3rd.week  ...  \\\n",
       "0    Rock      9/23/00    11/18/00         78       63.0       49.0  ...   \n",
       "1    Rock      2/12/00      4/8/00         15        8.0        6.0  ...   \n",
       "2    Rock     10/23/99     1/29/00         71       48.0       43.0  ...   \n",
       "3    Rock      8/12/00     9/16/00         41       23.0       18.0  ...   \n",
       "4    Rock       8/5/00    10/14/00         57       47.0       45.0  ...   \n",
       "..    ...          ...         ...        ...        ...        ...  ...   \n",
       "312   R&B       8/5/00      8/5/00         98        NaN        NaN  ...   \n",
       "313   Rap      2/12/00     2/12/00         99       99.0       99.0  ...   \n",
       "314  Rock       9/2/00      9/2/00         99       99.0        NaN  ...   \n",
       "315   Rap       7/1/00      7/1/00         99       99.0        NaN  ...   \n",
       "316   R&B     10/28/00    10/28/00         99        NaN        NaN  ...   \n",
       "\n",
       "     x67th.week  x68th.week  x69th.week  x70th.week  x71st.week  x72nd.week  \\\n",
       "0           NaN         NaN         NaN         NaN         NaN         NaN   \n",
       "1           NaN         NaN         NaN         NaN         NaN         NaN   \n",
       "2           NaN         NaN         NaN         NaN         NaN         NaN   \n",
       "3           NaN         NaN         NaN         NaN         NaN         NaN   \n",
       "4           NaN         NaN         NaN         NaN         NaN         NaN   \n",
       "..          ...         ...         ...         ...         ...         ...   \n",
       "312         NaN         NaN         NaN         NaN         NaN         NaN   \n",
       "313         NaN         NaN         NaN         NaN         NaN         NaN   \n",
       "314         NaN         NaN         NaN         NaN         NaN         NaN   \n",
       "315         NaN         NaN         NaN         NaN         NaN         NaN   \n",
       "316         NaN         NaN         NaN         NaN         NaN         NaN   \n",
       "\n",
       "     x73rd.week  x74th.week  x75th.week  x76th.week  \n",
       "0           NaN         NaN         NaN         NaN  \n",
       "1           NaN         NaN         NaN         NaN  \n",
       "2           NaN         NaN         NaN         NaN  \n",
       "3           NaN         NaN         NaN         NaN  \n",
       "4           NaN         NaN         NaN         NaN  \n",
       "..          ...         ...         ...         ...  \n",
       "312         NaN         NaN         NaN         NaN  \n",
       "313         NaN         NaN         NaN         NaN  \n",
       "314         NaN         NaN         NaN         NaN  \n",
       "315         NaN         NaN         NaN         NaN  \n",
       "316         NaN         NaN         NaN         NaN  \n",
       "\n",
       "[317 rows x 83 columns]"
      ]
     },
     "execution_count": 12,
     "metadata": {},
     "output_type": "execute_result"
    }
   ],
   "source": [
    "data = pd.read_csv(\"tidy_2_bboard.csv\")\n",
    "data"
   ]
  },
  {
   "attachments": {},
   "cell_type": "markdown",
   "metadata": {},
   "source": [
    "Again, let's identify the `id_vars` and `value_vars`. The `id_vars` are `year`, `artist.inverted`, `track`, `time`, `genre`, `date.entered`, and `date.peaked`. The `value_vars` are the remaining columns."
   ]
  },
  {
   "cell_type": "code",
   "execution_count": 38,
   "metadata": {},
   "outputs": [
    {
     "data": {
      "text/plain": [
       "       year      artist.inverted                                  track  \\\n",
       "0      2000      Destiny's Child               Independent Women Part I   \n",
       "1      2000              Santana                           Maria, Maria   \n",
       "2      2000        Savage Garden                     I Knew I Loved You   \n",
       "3      2000              Madonna                                  Music   \n",
       "4      2000  Aguilera, Christina  Come On Over Baby (All I Want Is You)   \n",
       "...     ...                  ...                                    ...   \n",
       "19663  2000             Lonestar                                 Amazed   \n",
       "19700  2000                Creed                                 Higher   \n",
       "19980  2000             Lonestar                                 Amazed   \n",
       "20017  2000                Creed                                 Higher   \n",
       "20334  2000                Creed                                 Higher   \n",
       "\n",
       "        time    genre date.entered date.peaked        week  rank  \n",
       "0      03:38     Rock      9/23/00    11/18/00   x1st.week  78.0  \n",
       "1      04:18     Rock      2/12/00      4/8/00   x1st.week  15.0  \n",
       "2      04:07     Rock     10/23/99     1/29/00   x1st.week  71.0  \n",
       "3      03:45     Rock      8/12/00     9/16/00   x1st.week  41.0  \n",
       "4      03:38     Rock       8/5/00    10/14/00   x1st.week  57.0  \n",
       "...      ...      ...          ...         ...         ...   ...  \n",
       "19663  04:25  Country       6/5/99      3/4/00  x63rd.week  45.0  \n",
       "19700  05:16     Rock      9/11/99     7/22/00  x63rd.week  50.0  \n",
       "19980  04:25  Country       6/5/99      3/4/00  x64th.week  50.0  \n",
       "20017  05:16     Rock      9/11/99     7/22/00  x64th.week  50.0  \n",
       "20334  05:16     Rock      9/11/99     7/22/00  x65th.week  49.0  \n",
       "\n",
       "[5307 rows x 9 columns]"
      ]
     },
     "execution_count": 38,
     "metadata": {},
     "output_type": "execute_result"
    }
   ],
   "source": [
    "id_vars = data.columns[:7]\n",
    "data_long = data.melt(id_vars=id_vars, var_name=\"week\", value_name=\"rank\")\n",
    "data_long = data_long.dropna()\n",
    "data_long"
   ]
  },
  {
   "attachments": {},
   "cell_type": "markdown",
   "metadata": {},
   "source": [
    "Refine the `week` column by removing the prefix `x` and the suffix `.week`."
   ]
  },
  {
   "cell_type": "code",
   "execution_count": 39,
   "metadata": {},
   "outputs": [
    {
     "data": {
      "text/plain": [
       "       year      artist.inverted                                  track  \\\n",
       "0      2000      Destiny's Child               Independent Women Part I   \n",
       "1      2000              Santana                           Maria, Maria   \n",
       "2      2000        Savage Garden                     I Knew I Loved You   \n",
       "3      2000              Madonna                                  Music   \n",
       "4      2000  Aguilera, Christina  Come On Over Baby (All I Want Is You)   \n",
       "...     ...                  ...                                    ...   \n",
       "19663  2000             Lonestar                                 Amazed   \n",
       "19700  2000                Creed                                 Higher   \n",
       "19980  2000             Lonestar                                 Amazed   \n",
       "20017  2000                Creed                                 Higher   \n",
       "20334  2000                Creed                                 Higher   \n",
       "\n",
       "        time    genre date.entered date.peaked  week  rank  \n",
       "0      03:38     Rock      9/23/00    11/18/00     1    78  \n",
       "1      04:18     Rock      2/12/00      4/8/00     1    15  \n",
       "2      04:07     Rock     10/23/99     1/29/00     1    71  \n",
       "3      03:45     Rock      8/12/00     9/16/00     1    41  \n",
       "4      03:38     Rock       8/5/00    10/14/00     1    57  \n",
       "...      ...      ...          ...         ...   ...   ...  \n",
       "19663  04:25  Country       6/5/99      3/4/00    63    45  \n",
       "19700  05:16     Rock      9/11/99     7/22/00    63    50  \n",
       "19980  04:25  Country       6/5/99      3/4/00    64    50  \n",
       "20017  05:16     Rock      9/11/99     7/22/00    64    50  \n",
       "20334  05:16     Rock      9/11/99     7/22/00    65    49  \n",
       "\n",
       "[5307 rows x 9 columns]"
      ]
     },
     "execution_count": 39,
     "metadata": {},
     "output_type": "execute_result"
    }
   ],
   "source": [
    "data_long[\"week\"] = data_long[\"week\"].apply(lambda x: re.findall(r\"\\d+\", x)[0]).astype(int)\n",
    "data_long[\"rank\"] = data_long[\"rank\"].astype(int)\n",
    "data_long"
   ]
  },
  {
   "attachments": {},
   "cell_type": "markdown",
   "metadata": {},
   "source": [
    "## 2. Multiple variables are stored in one column\n",
    "\n",
    "### 2.1 Tuberculosis (TB) dataset\n",
    "\n",
    "This is a dataset describing the number of tuberculosis cases in different countries (column `country`) and years (column `year`). The remaining columns were coded in a format of `new_sp_xyyyy` where `x` is the gender and `yyyy` is numeric age range. For example, `new_sp_m014` kept the TB cases of male patients in the age range of 0-14."
   ]
  },
  {
   "cell_type": "code",
   "execution_count": 40,
   "metadata": {},
   "outputs": [
    {
     "data": {
      "text/plain": [
       "     country  year   new_sp  new_sp_m04  new_sp_m514  new_sp_m014  \\\n",
       "0         AD  1989      NaN         NaN          NaN          NaN   \n",
       "1         AD  1990      NaN         NaN          NaN          NaN   \n",
       "2         AD  1991      NaN         NaN          NaN          NaN   \n",
       "3         AD  1992      NaN         NaN          NaN          NaN   \n",
       "4         AD  1993     15.0         NaN          NaN          NaN   \n",
       "...      ...   ...      ...         ...          ...          ...   \n",
       "5764      ZW  2004  14581.0         NaN          NaN        187.0   \n",
       "5765      ZW  2005  13155.0         NaN          NaN        210.0   \n",
       "5766      ZW  2006  12718.0         NaN          NaN        215.0   \n",
       "5767      ZW  2007  10583.0         6.0        132.0        138.0   \n",
       "5768      ZW  2008   9830.0         NaN          NaN        127.0   \n",
       "\n",
       "      new_sp_m1524  new_sp_m2534  new_sp_m3544  new_sp_m4554  ...  new_sp_f04  \\\n",
       "0              NaN           NaN           NaN           NaN  ...         NaN   \n",
       "1              NaN           NaN           NaN           NaN  ...         NaN   \n",
       "2              NaN           NaN           NaN           NaN  ...         NaN   \n",
       "3              NaN           NaN           NaN           NaN  ...         NaN   \n",
       "4              NaN           NaN           NaN           NaN  ...         NaN   \n",
       "...            ...           ...           ...           ...  ...         ...   \n",
       "5764         833.0        2908.0        2298.0        1056.0  ...         NaN   \n",
       "5765         837.0        2264.0        1855.0         762.0  ...         NaN   \n",
       "5766         736.0        2391.0        1939.0         896.0  ...         NaN   \n",
       "5767         500.0        3693.0           0.0         716.0  ...         7.0   \n",
       "5768         614.0           0.0        3316.0         704.0  ...         NaN   \n",
       "\n",
       "      new_sp_f514  new_sp_f014  new_sp_f1524  new_sp_f2534  new_sp_f3544  \\\n",
       "0             NaN          NaN           NaN           NaN           NaN   \n",
       "1             NaN          NaN           NaN           NaN           NaN   \n",
       "2             NaN          NaN           NaN           NaN           NaN   \n",
       "3             NaN          NaN           NaN           NaN           NaN   \n",
       "4             NaN          NaN           NaN           NaN           NaN   \n",
       "...           ...          ...           ...           ...           ...   \n",
       "5764          NaN        225.0        1140.0        2858.0        1565.0   \n",
       "5765          NaN        269.0        1136.0        2242.0        1255.0   \n",
       "5766          NaN        237.0        1020.0        2424.0        1355.0   \n",
       "5767        178.0        185.0         739.0        3311.0           0.0   \n",
       "5768          NaN        145.0         840.0           0.0        2890.0   \n",
       "\n",
       "      new_sp_f4554  new_sp_f5564  new_sp_f65  new_sp_fu  \n",
       "0              NaN           NaN         NaN        NaN  \n",
       "1              NaN           NaN         NaN        NaN  \n",
       "2              NaN           NaN         NaN        NaN  \n",
       "3              NaN           NaN         NaN        NaN  \n",
       "4              NaN           NaN         NaN        NaN  \n",
       "...            ...           ...         ...        ...  \n",
       "5764         622.0         214.0       111.0        NaN  \n",
       "5765         578.0         193.0       603.0        NaN  \n",
       "5766         632.0         230.0        96.0        NaN  \n",
       "5767         553.0         213.0        90.0        NaN  \n",
       "5768         467.0         174.0       105.0        0.0  \n",
       "\n",
       "[5769 rows x 23 columns]"
      ]
     },
     "execution_count": 40,
     "metadata": {},
     "output_type": "execute_result"
    }
   ],
   "source": [
    "data = pd.read_csv(\"tidy_3_tb.csv\")\n",
    "data"
   ]
  },
  {
   "attachments": {},
   "cell_type": "markdown",
   "metadata": {},
   "source": [
    "Let's first tidy the columns of TB cases."
   ]
  },
  {
   "cell_type": "code",
   "execution_count": 43,
   "metadata": {},
   "outputs": [
    {
     "data": {
      "text/plain": [
       "       country  year   variable  value\n",
       "4           AD  1993     new_sp   15.0\n",
       "5           AD  1994     new_sp   24.0\n",
       "6           AD  1996     new_sp    8.0\n",
       "7           AD  1997     new_sp   17.0\n",
       "8           AD  1998     new_sp    1.0\n",
       "...        ...   ...        ...    ...\n",
       "120964      VU  2008  new_sp_fu    0.0\n",
       "121038      YE  2008  new_sp_fu    0.0\n",
       "121092      ZA  2008  new_sp_fu    0.0\n",
       "121119      ZM  2008  new_sp_fu    0.0\n",
       "121148      ZW  2008  new_sp_fu    0.0\n",
       "\n",
       "[38619 rows x 4 columns]"
      ]
     },
     "execution_count": 43,
     "metadata": {},
     "output_type": "execute_result"
    }
   ],
   "source": [
    "data_long = data.melt(id_vars=[\"country\", \"year\"]).dropna()\n",
    "data_long"
   ]
  },
  {
   "attachments": {},
   "cell_type": "markdown",
   "metadata": {},
   "source": [
    "Remove redundant columns."
   ]
  },
  {
   "cell_type": "code",
   "execution_count": 57,
   "metadata": {},
   "outputs": [
    {
     "data": {
      "text/plain": [
       "       country  year    variable  value\n",
       "5784        AD  2005  new_sp_m04    0.0\n",
       "5785        AD  2006  new_sp_m04    0.0\n",
       "5787        AD  2008  new_sp_m04    0.0\n",
       "5811        AE  2006  new_sp_m04    0.0\n",
       "5812        AE  2007  new_sp_m04    0.0\n",
       "...        ...   ...         ...    ...\n",
       "115375      ZW  2004  new_sp_f65  111.0\n",
       "115376      ZW  2005  new_sp_f65  603.0\n",
       "115377      ZW  2006  new_sp_f65   96.0\n",
       "115378      ZW  2007  new_sp_f65   90.0\n",
       "115379      ZW  2008  new_sp_f65  105.0\n",
       "\n",
       "[35009 rows x 4 columns]"
      ]
     },
     "execution_count": 57,
     "metadata": {},
     "output_type": "execute_result"
    }
   ],
   "source": [
    "data_long2 = data_long.query(\"variable not in ['new_sp', 'new_sp_mu', 'new_sp_fu']\")\n",
    "data_long2"
   ]
  },
  {
   "attachments": {},
   "cell_type": "markdown",
   "metadata": {},
   "source": [
    "Then, format the `variable` column to `gender` and `age`. "
   ]
  },
  {
   "cell_type": "code",
   "execution_count": 75,
   "metadata": {},
   "outputs": [
    {
     "name": "stderr",
     "output_type": "stream",
     "text": [
      "/var/folders/0k/_fn4_dgn04b2b44_sfhbshzr0000gp/T/ipykernel_14115/1936559116.py:1: SettingWithCopyWarning: \n",
      "A value is trying to be set on a copy of a slice from a DataFrame.\n",
      "Try using .loc[row_indexer,col_indexer] = value instead\n",
      "\n",
      "See the caveats in the documentation: https://pandas.pydata.org/pandas-docs/stable/user_guide/indexing.html#returning-a-view-versus-a-copy\n",
      "/var/folders/0k/_fn4_dgn04b2b44_sfhbshzr0000gp/T/ipykernel_14115/1936559116.py:3: SettingWithCopyWarning: \n",
      "A value is trying to be set on a copy of a slice from a DataFrame.\n",
      "Try using .loc[row_indexer,col_indexer] = value instead\n",
      "\n",
      "See the caveats in the documentation: https://pandas.pydata.org/pandas-docs/stable/user_guide/indexing.html#returning-a-view-versus-a-copy\n"
     ]
    }
   ],
   "source": [
    "data_long2[\"age\"] = data_long2[\"variable\"].\\\n",
    "    apply(lambda x: re.findall(r\"\\d+\", x.replace(\"new_sp_\", \"\"))[0])\n",
    "data_long2[\"gender\"] = data_long2[\"variable\"].\\\n",
    "    apply(lambda x: re.findall(r\"[mf]+\", x.replace(\"new_sp_\", \"\"))[0])"
   ]
  },
  {
   "cell_type": "code",
   "execution_count": 76,
   "metadata": {},
   "outputs": [
    {
     "data": {
      "text/plain": [
       "       country  year    variable  value age gender\n",
       "5784        AD  2005  new_sp_m04    0.0  04      m\n",
       "5785        AD  2006  new_sp_m04    0.0  04      m\n",
       "5787        AD  2008  new_sp_m04    0.0  04      m\n",
       "5811        AE  2006  new_sp_m04    0.0  04      m\n",
       "5812        AE  2007  new_sp_m04    0.0  04      m\n",
       "...        ...   ...         ...    ...  ..    ...\n",
       "115375      ZW  2004  new_sp_f65  111.0  65      f\n",
       "115376      ZW  2005  new_sp_f65  603.0  65      f\n",
       "115377      ZW  2006  new_sp_f65   96.0  65      f\n",
       "115378      ZW  2007  new_sp_f65   90.0  65      f\n",
       "115379      ZW  2008  new_sp_f65  105.0  65      f\n",
       "\n",
       "[35009 rows x 6 columns]"
      ]
     },
     "execution_count": 76,
     "metadata": {},
     "output_type": "execute_result"
    }
   ],
   "source": [
    "data_long2"
   ]
  },
  {
   "attachments": {},
   "cell_type": "markdown",
   "metadata": {},
   "source": [
    "## 3. Variables are stored in both rows and columns\n",
    "\n",
    "This is a scenario where variables are stored in both rows and columns. We will work on the `weather` dataset to demonstrate how to tidy this type of data. Since this dataset did not have a column header, we will use the `columns` attribute to specify the column names."
   ]
  },
  {
   "cell_type": "code",
   "execution_count": 87,
   "metadata": {},
   "outputs": [
    {
     "data": {
      "text/plain": [
       "                       idx    1    2    3    4    5    6    7    8    9  ...  \\\n",
       "0    MX000017004195504TMIN  150  150  160  150  160  160  160  160  160  ...   \n",
       "1    MX000017004195504PRCP    0    0    0    0    0    0    0    0    0  ...   \n",
       "2    MX000017004195505TMAX  310  310  310  300  300  300  310  310  310  ...   \n",
       "3    MX000017004195505TMIN  200  160  160  150  150  150  160  160  170  ...   \n",
       "4    MX000017004195505PRCP    0    0    0    0    0    0    0    0    0  ...   \n",
       "..                     ...  ...  ...  ...  ...  ...  ...  ...  ...  ...  ...   \n",
       "994  MX000017004199004TMIN    0  147  147  150  136    0  157    0    0  ...   \n",
       "995  MX000017004199004PRCP    0    0    0    0   23    0    0    0    0  ...   \n",
       "996  MX000017004199005TMAX    0  350  362  348  337    0  240    0    0  ...   \n",
       "997  MX000017004199005TMIN  168  168  167  167  170    0  132  132    0  ...   \n",
       "998  MX000017004199005PRCP    0    0    0    0   61    0  254   20    0  ...   \n",
       "\n",
       "      22   23   24   25   26   27   28   29   30   31  \n",
       "0    170  170  170  180  190  190  170  180  160    0  \n",
       "1      0    0    0    0    0    0    0    0    6    0  \n",
       "2    330  340  350  330  310  310  320  310  300  290  \n",
       "3    170  190  190  190  180  160  150  170  150  160  \n",
       "4      0    0    0    0    0  142    0   54    0   46  \n",
       "..   ...  ...  ...  ...  ...  ...  ...  ...  ...  ...  \n",
       "994    0    0    0    0    0    0    0    0  157    0  \n",
       "995    0    0    0    0    0    0    0    0    0    0  \n",
       "996    0  297    0    0    0    0    0    0    0  336  \n",
       "997  144  136  136  155  155    0    0  166  179  169  \n",
       "998    0   89    0    0    0    0    0    0    0    3  \n",
       "\n",
       "[999 rows x 32 columns]"
      ]
     },
     "execution_count": 87,
     "metadata": {},
     "output_type": "execute_result"
    }
   ],
   "source": [
    "data = pd.read_csv(\"tidy_4_weather.csv\", header=None)\n",
    "nrow, ncol = data.shape\n",
    "data.columns = [\"idx\"] + [i for i in range(1, ncol)]\n",
    "data"
   ]
  },
  {
   "attachments": {},
   "cell_type": "markdown",
   "metadata": {},
   "source": [
    "You should notice that the column `idx` contains complicated information: `station ID`, `year`, `month`, and `day`. We can use simple indexing to extract the information we want."
   ]
  },
  {
   "cell_type": "code",
   "execution_count": 88,
   "metadata": {},
   "outputs": [
    {
     "data": {
      "text/plain": [
       "       1    2    3    4    5    6    7    8    9   10  ...   26   27   28  \\\n",
       "0    150  150  160  150  160  160  160  160  160  170  ...  190  190  170   \n",
       "1      0    0    0    0    0    0    0    0    0    0  ...    0    0    0   \n",
       "2    310  310  310  300  300  300  310  310  310  300  ...  310  310  320   \n",
       "3    200  160  160  150  150  150  160  160  170  170  ...  180  160  150   \n",
       "4      0    0    0    0    0    0    0    0    0    0  ...    0  142    0   \n",
       "..   ...  ...  ...  ...  ...  ...  ...  ...  ...  ...  ...  ...  ...  ...   \n",
       "994    0  147  147  150  136    0  157    0    0  157  ...    0    0    0   \n",
       "995    0    0    0    0   23    0    0    0    0    0  ...    0    0    0   \n",
       "996    0  350  362  348  337    0  240    0    0    0  ...    0    0    0   \n",
       "997  168  168  167  167  170    0  132  132    0    0  ...  155    0    0   \n",
       "998    0    0    0    0   61    0  254   20    0    5  ...    0    0    0   \n",
       "\n",
       "      29   30   31         site  year  month  variable  \n",
       "0    180  160    0  MX000017004  1955      4      TMIN  \n",
       "1      0    6    0  MX000017004  1955      4      PRCP  \n",
       "2    310  300  290  MX000017004  1955      5      TMAX  \n",
       "3    170  150  160  MX000017004  1955      5      TMIN  \n",
       "4     54    0   46  MX000017004  1955      5      PRCP  \n",
       "..   ...  ...  ...          ...   ...    ...       ...  \n",
       "994    0  157    0  MX000017004  1990      4      TMIN  \n",
       "995    0    0    0  MX000017004  1990      4      PRCP  \n",
       "996    0    0  336  MX000017004  1990      5      TMAX  \n",
       "997  166  179  169  MX000017004  1990      5      TMIN  \n",
       "998    0    0    3  MX000017004  1990      5      PRCP  \n",
       "\n",
       "[999 rows x 35 columns]"
      ]
     },
     "execution_count": 88,
     "metadata": {},
     "output_type": "execute_result"
    }
   ],
   "source": [
    "data[\"site\"] = data[\"idx\"].apply(lambda x: x[:11])\n",
    "data[\"year\"] = data[\"idx\"].apply(lambda x: x[-10:-6]).astype(int)\n",
    "data[\"month\"] = data[\"idx\"].apply(lambda x: x[-6:-4]).astype(int)\n",
    "data[\"variable\"] = data[\"idx\"].apply(lambda x: x[-4:])\n",
    "data = data.drop(\"idx\", axis=1)\n",
    "data"
   ]
  },
  {
   "attachments": {},
   "cell_type": "markdown",
   "metadata": {},
   "source": [
    "Now, let's tidy the date information."
   ]
  },
  {
   "cell_type": "code",
   "execution_count": 94,
   "metadata": {},
   "outputs": [
    {
     "data": {
      "text/plain": [
       "              site  year  month variable  day  value\n",
       "0      MX000017004  1955      4     TMIN    1    150\n",
       "1      MX000017004  1955      4     PRCP    1      0\n",
       "2      MX000017004  1955      5     TMAX    1    310\n",
       "3      MX000017004  1955      5     TMIN    1    200\n",
       "4      MX000017004  1955      5     PRCP    1      0\n",
       "...            ...   ...    ...      ...  ...    ...\n",
       "30964  MX000017004  1990      4     TMIN   31      0\n",
       "30965  MX000017004  1990      4     PRCP   31      0\n",
       "30966  MX000017004  1990      5     TMAX   31    336\n",
       "30967  MX000017004  1990      5     TMIN   31    169\n",
       "30968  MX000017004  1990      5     PRCP   31      3\n",
       "\n",
       "[30969 rows x 6 columns]"
      ]
     },
     "execution_count": 94,
     "metadata": {},
     "output_type": "execute_result"
    }
   ],
   "source": [
    "data2 = data.melt(id_vars=[\"site\", \"year\", \"month\", \"variable\"],\n",
    "                  var_name=\"day\", value_name=\"value\")\n",
    "data2[\"day\"] = data2[\"day\"].astype(int)\n",
    "data2"
   ]
  },
  {
   "attachments": {},
   "cell_type": "markdown",
   "metadata": {},
   "source": [
    "Now, since there are three variables: `tmax`, `tmin`, and `prcp` in the `variable` column, we need to pivot it to the column names.\n",
    "\n",
    "We can use `df.pivot()` to do this. The `index` argument specifies the columns that should not be pivoted. The `columns` argument specifies the columns that should be pivoted. The `values` argument specifies the column that should be used as the values of the pivoted columns."
   ]
  },
  {
   "cell_type": "code",
   "execution_count": 96,
   "metadata": {},
   "outputs": [
    {
     "data": {
      "text/plain": [
       "variable         site  year  month  day  PRCP   TMAX   TMIN\n",
       "31        MX000017004  1955      5    1   0.0  310.0  200.0\n",
       "32        MX000017004  1955      5    2   0.0  310.0  160.0\n",
       "33        MX000017004  1955      5    3   0.0  310.0  160.0\n",
       "34        MX000017004  1955      5    4   0.0  300.0  150.0\n",
       "35        MX000017004  1955      5    5   0.0  300.0  150.0\n",
       "...               ...   ...    ...  ...   ...    ...    ...\n",
       "10411     MX000017004  1990      5   27   0.0    0.0    0.0\n",
       "10412     MX000017004  1990      5   28   0.0    0.0    0.0\n",
       "10413     MX000017004  1990      5   29   0.0    0.0  166.0\n",
       "10414     MX000017004  1990      5   30   0.0    0.0  179.0\n",
       "10415     MX000017004  1990      5   31   3.0  336.0  169.0\n",
       "\n",
       "[10230 rows x 7 columns]"
      ]
     },
     "execution_count": 96,
     "metadata": {},
     "output_type": "execute_result"
    }
   ],
   "source": [
    "data3 = data2.pivot(index = [\"site\", \"year\", \"month\", \"day\"],\n",
    "                    columns = \"variable\", values=\"value\")\n",
    "data3 = data3.reset_index().dropna()\n",
    "data3"
   ]
  },
  {
   "attachments": {},
   "cell_type": "markdown",
   "metadata": {},
   "source": [
    "## 4. Multiple types of observational units are stored in the same table\n",
    "\n",
    "Let's revisit the billboard dataset that we worked in the second type of messy data. Although we have tidied the dataset, we can still see many repeated values in the data. For example, if we only check records of the song \"Maria, Maria\", we can see that multiple columns, such as `artist.inverted` and `track`, were repeated for each week."
   ]
  },
  {
   "cell_type": "code",
   "execution_count": 98,
   "metadata": {},
   "outputs": [
    {
     "data": {
      "text/plain": [
       "       year      artist.inverted                                  track  \\\n",
       "0      2000      Destiny's Child               Independent Women Part I   \n",
       "1      2000              Santana                           Maria, Maria   \n",
       "2      2000        Savage Garden                     I Knew I Loved You   \n",
       "3      2000              Madonna                                  Music   \n",
       "4      2000  Aguilera, Christina  Come On Over Baby (All I Want Is You)   \n",
       "...     ...                  ...                                    ...   \n",
       "24087  2000     Ghostface Killah                       Cherchez LaGhost   \n",
       "24088  2000          Smith, Will                            Freakin' It   \n",
       "24089  2000        Zombie Nation                          Kernkraft 400   \n",
       "24090  2000       Eastsidaz, The                               Got Beef   \n",
       "24091  2000               Fragma                         Toca's Miracle   \n",
       "\n",
       "        time genre date.entered date.peaked  week  rank  \n",
       "0      03:38  Rock      9/23/00    11/18/00     1  78.0  \n",
       "1      04:18  Rock      2/12/00      4/8/00     1  15.0  \n",
       "2      04:07  Rock     10/23/99     1/29/00     1  71.0  \n",
       "3      03:45  Rock      8/12/00     9/16/00     1  41.0  \n",
       "4      03:38  Rock       8/5/00    10/14/00     1  57.0  \n",
       "...      ...   ...          ...         ...   ...   ...  \n",
       "24087  03:04   R&B       8/5/00      8/5/00    76   NaN  \n",
       "24088  03:58   Rap      2/12/00     2/12/00    76   NaN  \n",
       "24089  03:30  Rock       9/2/00      9/2/00    76   NaN  \n",
       "24090  03:58   Rap       7/1/00      7/1/00    76   NaN  \n",
       "24091  03:22   R&B     10/28/00    10/28/00    76   NaN  \n",
       "\n",
       "[24092 rows x 9 columns]"
      ]
     },
     "execution_count": 98,
     "metadata": {},
     "output_type": "execute_result"
    }
   ],
   "source": [
    "data = pd.read_csv(\"tidy_5_bboard_long.csv\")\n",
    "data"
   ]
  },
  {
   "cell_type": "code",
   "execution_count": 99,
   "metadata": {},
   "outputs": [
    {
     "data": {
      "text/plain": [
       "       year artist.inverted         track   time genre date.entered  \\\n",
       "1      2000         Santana  Maria, Maria  04:18  Rock      2/12/00   \n",
       "318    2000         Santana  Maria, Maria  04:18  Rock      2/12/00   \n",
       "635    2000         Santana  Maria, Maria  04:18  Rock      2/12/00   \n",
       "952    2000         Santana  Maria, Maria  04:18  Rock      2/12/00   \n",
       "1269   2000         Santana  Maria, Maria  04:18  Rock      2/12/00   \n",
       "...     ...             ...           ...    ...   ...          ...   \n",
       "22508  2000         Santana  Maria, Maria  04:18  Rock      2/12/00   \n",
       "22825  2000         Santana  Maria, Maria  04:18  Rock      2/12/00   \n",
       "23142  2000         Santana  Maria, Maria  04:18  Rock      2/12/00   \n",
       "23459  2000         Santana  Maria, Maria  04:18  Rock      2/12/00   \n",
       "23776  2000         Santana  Maria, Maria  04:18  Rock      2/12/00   \n",
       "\n",
       "      date.peaked  week  rank  \n",
       "1          4/8/00     1  15.0  \n",
       "318        4/8/00     2   8.0  \n",
       "635        4/8/00     3   6.0  \n",
       "952        4/8/00     4   5.0  \n",
       "1269       4/8/00     5   2.0  \n",
       "...           ...   ...   ...  \n",
       "22508      4/8/00    72   NaN  \n",
       "22825      4/8/00    73   NaN  \n",
       "23142      4/8/00    74   NaN  \n",
       "23459      4/8/00    75   NaN  \n",
       "23776      4/8/00    76   NaN  \n",
       "\n",
       "[76 rows x 9 columns]"
      ]
     },
     "execution_count": 99,
     "metadata": {},
     "output_type": "execute_result"
    }
   ],
   "source": [
    "data.query(\"track == 'Maria, Maria'\")"
   ]
  },
  {
   "attachments": {},
   "cell_type": "markdown",
   "metadata": {},
   "source": [
    "You can observe duplicated information being stored for the song \"Maria, Maria\". We need a separate table to store the song information only once."
   ]
  },
  {
   "attachments": {},
   "cell_type": "markdown",
   "metadata": {},
   "source": [
    "#### Get the columns that contain only song information"
   ]
  },
  {
   "cell_type": "code",
   "execution_count": 101,
   "metadata": {},
   "outputs": [
    {
     "data": {
      "text/plain": [
       "       year      artist.inverted                                  track  \\\n",
       "0      2000      Destiny's Child               Independent Women Part I   \n",
       "1      2000              Santana                           Maria, Maria   \n",
       "2      2000        Savage Garden                     I Knew I Loved You   \n",
       "3      2000              Madonna                                  Music   \n",
       "4      2000  Aguilera, Christina  Come On Over Baby (All I Want Is You)   \n",
       "...     ...                  ...                                    ...   \n",
       "24087  2000     Ghostface Killah                       Cherchez LaGhost   \n",
       "24088  2000          Smith, Will                            Freakin' It   \n",
       "24089  2000        Zombie Nation                          Kernkraft 400   \n",
       "24090  2000       Eastsidaz, The                               Got Beef   \n",
       "24091  2000               Fragma                         Toca's Miracle   \n",
       "\n",
       "        time genre date.entered date.peaked  \n",
       "0      03:38  Rock      9/23/00    11/18/00  \n",
       "1      04:18  Rock      2/12/00      4/8/00  \n",
       "2      04:07  Rock     10/23/99     1/29/00  \n",
       "3      03:45  Rock      8/12/00     9/16/00  \n",
       "4      03:38  Rock       8/5/00    10/14/00  \n",
       "...      ...   ...          ...         ...  \n",
       "24087  03:04   R&B       8/5/00      8/5/00  \n",
       "24088  03:58   Rap      2/12/00     2/12/00  \n",
       "24089  03:30  Rock       9/2/00      9/2/00  \n",
       "24090  03:58   Rap       7/1/00      7/1/00  \n",
       "24091  03:22   R&B     10/28/00    10/28/00  \n",
       "\n",
       "[24092 rows x 7 columns]"
      ]
     },
     "execution_count": 101,
     "metadata": {},
     "output_type": "execute_result"
    }
   ],
   "source": [
    "header_idx = [\"year\", \"artist.inverted\", \"track\", \"time\", \"genre\", \"date.entered\", \"date.peaked\"]\n",
    "data_song = data.loc[:, header_idx]\n",
    "data_song"
   ]
  },
  {
   "attachments": {},
   "cell_type": "markdown",
   "metadata": {},
   "source": [
    "Drop the duplicated rows using `pd.drop_duplicates()`. Check the row count of the new dataframe."
   ]
  },
  {
   "cell_type": "code",
   "execution_count": 102,
   "metadata": {},
   "outputs": [
    {
     "data": {
      "text/plain": [
       "     year      artist.inverted                                  track   time  \\\n",
       "0    2000      Destiny's Child               Independent Women Part I  03:38   \n",
       "1    2000              Santana                           Maria, Maria  04:18   \n",
       "2    2000        Savage Garden                     I Knew I Loved You  04:07   \n",
       "3    2000              Madonna                                  Music  03:45   \n",
       "4    2000  Aguilera, Christina  Come On Over Baby (All I Want Is You)  03:38   \n",
       "..    ...                  ...                                    ...    ...   \n",
       "312  2000     Ghostface Killah                       Cherchez LaGhost  03:04   \n",
       "313  2000          Smith, Will                            Freakin' It  03:58   \n",
       "314  2000        Zombie Nation                          Kernkraft 400  03:30   \n",
       "315  2000       Eastsidaz, The                               Got Beef  03:58   \n",
       "316  2000               Fragma                         Toca's Miracle  03:22   \n",
       "\n",
       "    genre date.entered date.peaked  \n",
       "0    Rock      9/23/00    11/18/00  \n",
       "1    Rock      2/12/00      4/8/00  \n",
       "2    Rock     10/23/99     1/29/00  \n",
       "3    Rock      8/12/00     9/16/00  \n",
       "4    Rock       8/5/00    10/14/00  \n",
       "..    ...          ...         ...  \n",
       "312   R&B       8/5/00      8/5/00  \n",
       "313   Rap      2/12/00     2/12/00  \n",
       "314  Rock       9/2/00      9/2/00  \n",
       "315   Rap       7/1/00      7/1/00  \n",
       "316   R&B     10/28/00    10/28/00  \n",
       "\n",
       "[317 rows x 7 columns]"
      ]
     },
     "execution_count": 102,
     "metadata": {},
     "output_type": "execute_result"
    }
   ],
   "source": [
    "data_song = data_song.drop_duplicates()\n",
    "data_song"
   ]
  },
  {
   "attachments": {},
   "cell_type": "markdown",
   "metadata": {},
   "source": [
    "We need to create a numeric index for the song table, because we will use it as a `foreign key` in the ranking table. Use `pd.reset_index()` to create a new column `index` and use it as the index of the song table."
   ]
  },
  {
   "cell_type": "code",
   "execution_count": 103,
   "metadata": {},
   "outputs": [
    {
     "data": {
      "text/plain": [
       "     index  year      artist.inverted                                  track  \\\n",
       "0        0  2000      Destiny's Child               Independent Women Part I   \n",
       "1        1  2000              Santana                           Maria, Maria   \n",
       "2        2  2000        Savage Garden                     I Knew I Loved You   \n",
       "3        3  2000              Madonna                                  Music   \n",
       "4        4  2000  Aguilera, Christina  Come On Over Baby (All I Want Is You)   \n",
       "..     ...   ...                  ...                                    ...   \n",
       "312    312  2000     Ghostface Killah                       Cherchez LaGhost   \n",
       "313    313  2000          Smith, Will                            Freakin' It   \n",
       "314    314  2000        Zombie Nation                          Kernkraft 400   \n",
       "315    315  2000       Eastsidaz, The                               Got Beef   \n",
       "316    316  2000               Fragma                         Toca's Miracle   \n",
       "\n",
       "      time genre date.entered date.peaked  \n",
       "0    03:38  Rock      9/23/00    11/18/00  \n",
       "1    04:18  Rock      2/12/00      4/8/00  \n",
       "2    04:07  Rock     10/23/99     1/29/00  \n",
       "3    03:45  Rock      8/12/00     9/16/00  \n",
       "4    03:38  Rock       8/5/00    10/14/00  \n",
       "..     ...   ...          ...         ...  \n",
       "312  03:04   R&B       8/5/00      8/5/00  \n",
       "313  03:58   Rap      2/12/00     2/12/00  \n",
       "314  03:30  Rock       9/2/00      9/2/00  \n",
       "315  03:58   Rap       7/1/00      7/1/00  \n",
       "316  03:22   R&B     10/28/00    10/28/00  \n",
       "\n",
       "[317 rows x 8 columns]"
      ]
     },
     "execution_count": 103,
     "metadata": {},
     "output_type": "execute_result"
    }
   ],
   "source": [
    "data_song = data_song.reset_index()\n",
    "data_song"
   ]
  },
  {
   "attachments": {},
   "cell_type": "markdown",
   "metadata": {},
   "source": [
    "Merge the `data_song` and the original `data` using `pd.merge()`. Now, we get the numeric index for each song in the ranking table.\n",
    "\n",
    "https://pandas.pydata.org/pandas-docs/stable/reference/api/pandas.DataFrame.merge.html"
   ]
  },
  {
   "cell_type": "code",
   "execution_count": 104,
   "metadata": {},
   "outputs": [
    {
     "data": {
      "text/plain": [
       "       index  year  artist.inverted                     track   time genre  \\\n",
       "0          0  2000  Destiny's Child  Independent Women Part I  03:38  Rock   \n",
       "1          0  2000  Destiny's Child  Independent Women Part I  03:38  Rock   \n",
       "2          0  2000  Destiny's Child  Independent Women Part I  03:38  Rock   \n",
       "3          0  2000  Destiny's Child  Independent Women Part I  03:38  Rock   \n",
       "4          0  2000  Destiny's Child  Independent Women Part I  03:38  Rock   \n",
       "...      ...   ...              ...                       ...    ...   ...   \n",
       "24087    316  2000           Fragma            Toca's Miracle  03:22   R&B   \n",
       "24088    316  2000           Fragma            Toca's Miracle  03:22   R&B   \n",
       "24089    316  2000           Fragma            Toca's Miracle  03:22   R&B   \n",
       "24090    316  2000           Fragma            Toca's Miracle  03:22   R&B   \n",
       "24091    316  2000           Fragma            Toca's Miracle  03:22   R&B   \n",
       "\n",
       "      date.entered date.peaked  week  rank  \n",
       "0          9/23/00    11/18/00     1  78.0  \n",
       "1          9/23/00    11/18/00     2  63.0  \n",
       "2          9/23/00    11/18/00     3  49.0  \n",
       "3          9/23/00    11/18/00     4  33.0  \n",
       "4          9/23/00    11/18/00     5  23.0  \n",
       "...            ...         ...   ...   ...  \n",
       "24087     10/28/00    10/28/00    72   NaN  \n",
       "24088     10/28/00    10/28/00    73   NaN  \n",
       "24089     10/28/00    10/28/00    74   NaN  \n",
       "24090     10/28/00    10/28/00    75   NaN  \n",
       "24091     10/28/00    10/28/00    76   NaN  \n",
       "\n",
       "[24092 rows x 10 columns]"
      ]
     },
     "execution_count": 104,
     "metadata": {},
     "output_type": "execute_result"
    }
   ],
   "source": [
    "data_merge = pd.merge(data_song, data, on=header_idx)\n",
    "data_merge"
   ]
  },
  {
   "attachments": {},
   "cell_type": "markdown",
   "metadata": {},
   "source": [
    "Finally, we can drop the song information to get the ranking table, which is indexed by the numeric index column: `index`."
   ]
  },
  {
   "cell_type": "code",
   "execution_count": 105,
   "metadata": {},
   "outputs": [
    {
     "data": {
      "text/plain": [
       "       index  week  rank\n",
       "0          0     1  78.0\n",
       "1          0     2  63.0\n",
       "2          0     3  49.0\n",
       "3          0     4  33.0\n",
       "4          0     5  23.0\n",
       "...      ...   ...   ...\n",
       "24087    316    72   NaN\n",
       "24088    316    73   NaN\n",
       "24089    316    74   NaN\n",
       "24090    316    75   NaN\n",
       "24091    316    76   NaN\n",
       "\n",
       "[24092 rows x 3 columns]"
      ]
     },
     "execution_count": 105,
     "metadata": {},
     "output_type": "execute_result"
    }
   ],
   "source": [
    "data_rank = data_merge.loc[:, [\"index\", \"week\", \"rank\"]]\n",
    "data_rank"
   ]
  },
  {
   "attachments": {},
   "cell_type": "markdown",
   "metadata": {},
   "source": [
    "We can compare the number of values we need before and after the transformation."
   ]
  },
  {
   "cell_type": "code",
   "execution_count": null,
   "metadata": {},
   "outputs": [
    {
     "name": "stdout",
     "output_type": "stream",
     "text": [
      "The number of elements (number of rows times number of columns) in data is  216828\n",
      "New data has  74812 elements\n",
      "Compression ratio is  0.34502923976608185\n"
     ]
    }
   ],
   "source": [
    "size_original = data.size\n",
    "size_new = data_rank.size + data_song.size\n",
    "\n",
    "print(\"The number of elements (number of rows times number of columns) in data is \", size_original)\n",
    "print(\"New data has \", size_new, \"elements\")\n",
    "print(\"Compression ratio is \",   size_new / size_original)"
   ]
  },
  {
   "attachments": {},
   "cell_type": "markdown",
   "metadata": {},
   "source": [
    "## 5. A single observational unit is stored in multiple tables\n",
    "\n",
    "This is a case where a single observational unit is stored in multiple tables organized by different variables. In this example, we will work on the `babynames` dataset. This dataset consists of multiple files, each of which contains the baby names and their proportions. The files are organized by year and gender in a format of `babynames_yyyy_xxx.csv`, where `yyyy` is the year and `xxx` is the gender (i.e., boy or girl)."
   ]
  },
  {
   "attachments": {},
   "cell_type": "markdown",
   "metadata": {},
   "source": [
    "Let's bbserve the file naming pattern first"
   ]
  },
  {
   "cell_type": "code",
   "execution_count": 106,
   "metadata": {},
   "outputs": [
    {
     "data": {
      "text/plain": [
       "['babynames_1887_boy.csv',\n",
       " 'babynames_1897_boy.csv',\n",
       " 'babynames_1959_girl.csv',\n",
       " 'babynames_1958_girl.csv',\n",
       " 'babynames_1946_boy.csv',\n",
       " 'babynames_1956_boy.csv',\n",
       " 'babynames_1982_girl.csv',\n",
       " 'babynames_1983_girl.csv',\n",
       " 'babynames_1924_boy.csv',\n",
       " 'babynames_1934_boy.csv',\n",
       " 'babynames_1910_girl.csv',\n",
       " 'babynames_2008_boy.csv',\n",
       " 'babynames_1911_girl.csv',\n",
       " 'babynames_2002_girl.csv',\n",
       " 'babynames_2003_girl.csv',\n",
       " 'babynames_1979_boy.csv',\n",
       " 'babynames_1969_boy.csv',\n",
       " 'babynames_1967_girl.csv',\n",
       " 'babynames_1966_girl.csv',\n",
       " 'babynames_1880_girl.csv',\n",
       " 'babynames_1881_girl.csv',\n",
       " 'babynames_1984_boy.csv',\n",
       " 'babynames_1994_boy.csv',\n",
       " 'babynames_1988_girl.csv',\n",
       " 'babynames_1989_girl.csv',\n",
       " 'babynames_2001_boy.csv',\n",
       " 'babynames_1953_girl.csv',\n",
       " 'babynames_1952_girl.csv',\n",
       " 'babynames_1924_girl.csv',\n",
       " 'babynames_1925_girl.csv',\n",
       " 'babynames_1902_boy.csv',\n",
       " 'babynames_1912_boy.csv',\n",
       " 'babynames_1960_boy.csv',\n",
       " 'babynames_1970_boy.csv',\n",
       " 'babynames_2008_girl.csv',\n",
       " 'babynames_1995_boy.csv',\n",
       " 'babynames_1985_boy.csv',\n",
       " 'babynames_2000_boy.csv',\n",
       " 'babynames_1907_girl.csv',\n",
       " 'babynames_1906_girl.csv',\n",
       " 'babynames_1995_girl.csv',\n",
       " 'babynames_1994_girl.csv',\n",
       " 'babynames_1913_boy.csv',\n",
       " 'babynames_1939_girl.csv',\n",
       " 'babynames_1903_boy.csv',\n",
       " 'babynames_1938_girl.csv',\n",
       " 'babynames_1970_girl.csv',\n",
       " 'babynames_1971_girl.csv',\n",
       " 'babynames_1971_boy.csv',\n",
       " 'babynames_1961_boy.csv',\n",
       " 'babynames_1957_boy.csv',\n",
       " 'babynames_1947_boy.csv',\n",
       " 'babynames_1896_boy.csv',\n",
       " 'babynames_1886_boy.csv',\n",
       " 'babynames_1944_girl.csv',\n",
       " 'babynames_1945_girl.csv',\n",
       " 'babynames_1897_girl.csv',\n",
       " 'babynames_1896_girl.csv',\n",
       " 'babynames_1935_boy.csv',\n",
       " 'babynames_1925_boy.csv',\n",
       " 'babynames_1968_boy.csv',\n",
       " 'babynames_1978_boy.csv',\n",
       " 'babynames_1933_girl.csv',\n",
       " 'babynames_1932_girl.csv',\n",
       " 'babynames_1992_girl.csv',\n",
       " 'babynames_1993_girl.csv',\n",
       " 'babynames_1900_girl.csv',\n",
       " 'babynames_1901_girl.csv',\n",
       " 'babynames_2002_boy.csv',\n",
       " 'babynames_1987_boy.csv',\n",
       " 'babynames_1997_boy.csv',\n",
       " 'babynames_1949_girl.csv',\n",
       " 'babynames_1948_girl.csv',\n",
       " 'babynames_1963_boy.csv',\n",
       " 'babynames_1973_boy.csv',\n",
       " 'babynames_1901_boy.csv',\n",
       " 'babynames_1911_boy.csv',\n",
       " 'babynames_1977_girl.csv',\n",
       " 'babynames_1976_girl.csv',\n",
       " 'babynames_1943_girl.csv',\n",
       " 'babynames_1942_girl.csv',\n",
       " 'babynames_1927_boy.csv',\n",
       " 'babynames_1937_boy.csv',\n",
       " 'babynames_1890_girl.csv',\n",
       " 'babynames_1891_girl.csv',\n",
       " 'babynames_1945_boy.csv',\n",
       " 'babynames_1955_boy.csv',\n",
       " 'babynames_1884_boy.csv',\n",
       " 'babynames_1894_boy.csv',\n",
       " 'babynames_1998_girl.csv',\n",
       " 'babynames_1999_girl.csv',\n",
       " 'babynames_1918_boy.csv',\n",
       " 'babynames_1908_boy.csv',\n",
       " 'babynames_1934_girl.csv',\n",
       " 'babynames_1935_girl.csv',\n",
       " 'babynames_1936_boy.csv',\n",
       " 'babynames_1926_boy.csv',\n",
       " 'babynames_1895_boy.csv',\n",
       " 'babynames_1885_boy.csv',\n",
       " 'babynames_1917_girl.csv',\n",
       " 'babynames_1916_girl.csv',\n",
       " 'babynames_1985_girl.csv',\n",
       " 'babynames_1984_girl.csv',\n",
       " 'babynames_1954_boy.csv',\n",
       " 'babynames_1944_boy.csv',\n",
       " 'babynames_1960_girl.csv',\n",
       " 'babynames_1961_girl.csv',\n",
       " 'babynames_2005_girl.csv',\n",
       " 'babynames_2004_girl.csv',\n",
       " 'babynames_1909_boy.csv',\n",
       " 'babynames_1919_boy.csv',\n",
       " 'babynames_1929_girl.csv',\n",
       " 'babynames_1928_girl.csv',\n",
       " 'babynames_1887_girl.csv',\n",
       " 'babynames_1886_girl.csv',\n",
       " 'babynames_2003_boy.csv',\n",
       " 'babynames_1954_girl.csv',\n",
       " 'babynames_1955_girl.csv',\n",
       " 'babynames_1996_boy.csv',\n",
       " 'babynames_1986_boy.csv',\n",
       " 'babynames_1972_boy.csv',\n",
       " 'babynames_1962_boy.csv',\n",
       " 'babynames_1923_girl.csv',\n",
       " 'babynames_1922_girl.csv',\n",
       " 'babynames_1910_boy.csv',\n",
       " 'babynames_1900_boy.csv',\n",
       " 'babynames_1967_boy.csv',\n",
       " 'babynames_1977_boy.csv',\n",
       " 'babynames_1947_girl.csv',\n",
       " 'babynames_1946_girl.csv',\n",
       " 'babynames_1894_girl.csv',\n",
       " 'babynames_1895_girl.csv',\n",
       " 'babynames_1905_boy.csv',\n",
       " 'babynames_1915_boy.csv',\n",
       " 'babynames_1899_boy.csv',\n",
       " 'babynames_1889_boy.csv',\n",
       " 'babynames_1958_boy.csv',\n",
       " 'babynames_1948_boy.csv',\n",
       " 'babynames_1979_girl.csv',\n",
       " 'babynames_1978_girl.csv',\n",
       " 'babynames_1930_girl.csv',\n",
       " 'babynames_1983_boy.csv',\n",
       " 'babynames_1931_girl.csv',\n",
       " 'babynames_1993_boy.csv',\n",
       " 'babynames_2006_boy.csv',\n",
       " 'babynames_1904_girl.csv',\n",
       " 'babynames_1905_girl.csv',\n",
       " 'babynames_1996_girl.csv',\n",
       " 'babynames_1997_girl.csv',\n",
       " 'babynames_1923_boy.csv',\n",
       " 'babynames_1933_boy.csv',\n",
       " 'babynames_1973_girl.csv',\n",
       " 'babynames_1972_girl.csv',\n",
       " 'babynames_1880_boy.csv',\n",
       " 'babynames_1890_boy.csv',\n",
       " 'babynames_1941_boy.csv',\n",
       " 'babynames_1951_boy.csv',\n",
       " 'babynames_1883_girl.csv',\n",
       " 'babynames_1882_girl.csv',\n",
       " 'babynames_1919_girl.csv',\n",
       " 'babynames_1918_girl.csv',\n",
       " 'babynames_1950_girl.csv',\n",
       " 'babynames_1951_girl.csv',\n",
       " 'babynames_1927_girl.csv',\n",
       " 'babynames_1926_girl.csv',\n",
       " 'babynames_1932_boy.csv',\n",
       " 'babynames_1922_boy.csv',\n",
       " 'babynames_1950_boy.csv',\n",
       " 'babynames_1940_boy.csv',\n",
       " 'babynames_1891_boy.csv',\n",
       " 'babynames_1881_boy.csv',\n",
       " 'babynames_1976_boy.csv',\n",
       " 'babynames_1966_boy.csv',\n",
       " 'babynames_1914_boy.csv',\n",
       " 'babynames_1904_boy.csv',\n",
       " 'babynames_1981_girl.csv',\n",
       " 'babynames_1980_girl.csv',\n",
       " 'babynames_1913_girl.csv',\n",
       " 'babynames_1912_girl.csv',\n",
       " 'babynames_1889_girl.csv',\n",
       " 'babynames_1888_girl.csv',\n",
       " 'babynames_1949_boy.csv',\n",
       " 'babynames_1959_boy.csv',\n",
       " 'babynames_2001_girl.csv',\n",
       " 'babynames_2000_girl.csv',\n",
       " 'babynames_1964_girl.csv',\n",
       " 'babynames_1965_girl.csv',\n",
       " 'babynames_1888_boy.csv',\n",
       " 'babynames_1898_boy.csv',\n",
       " 'babynames_1992_boy.csv',\n",
       " 'babynames_1982_boy.csv',\n",
       " 'babynames_2007_boy.csv',\n",
       " 'babynames_1884_girl.csv',\n",
       " 'babynames_1885_girl.csv',\n",
       " 'babynames_1957_girl.csv',\n",
       " 'babynames_1956_girl.csv',\n",
       " 'babynames_1942_boy.csv',\n",
       " 'babynames_1952_boy.csv',\n",
       " 'babynames_1920_girl.csv',\n",
       " 'babynames_1883_boy.csv',\n",
       " 'babynames_1921_girl.csv',\n",
       " 'babynames_1893_boy.csv',\n",
       " 'babynames_1999_boy.csv',\n",
       " 'babynames_1989_boy.csv',\n",
       " 'babynames_1920_boy.csv',\n",
       " 'babynames_1930_boy.csv',\n",
       " 'babynames_1969_girl.csv',\n",
       " 'babynames_1968_girl.csv',\n",
       " 'babynames_1906_boy.csv',\n",
       " 'babynames_1916_boy.csv',\n",
       " 'babynames_1914_girl.csv',\n",
       " 'babynames_1915_girl.csv',\n",
       " 'babynames_1964_boy.csv',\n",
       " 'babynames_1974_boy.csv',\n",
       " 'babynames_1986_girl.csv',\n",
       " 'babynames_1987_girl.csv',\n",
       " 'babynames_2005_boy.csv',\n",
       " 'babynames_1963_girl.csv',\n",
       " 'babynames_1962_girl.csv',\n",
       " 'babynames_1980_boy.csv',\n",
       " 'babynames_1990_boy.csv',\n",
       " 'babynames_1939_boy.csv',\n",
       " 'babynames_1929_boy.csv',\n",
       " 'babynames_2006_girl.csv',\n",
       " 'babynames_2007_girl.csv',\n",
       " 'babynames_1940_girl.csv',\n",
       " 'babynames_1941_girl.csv',\n",
       " 'babynames_1917_boy.csv',\n",
       " 'babynames_1907_boy.csv',\n",
       " 'babynames_1893_girl.csv',\n",
       " 'babynames_1892_girl.csv',\n",
       " 'babynames_1975_boy.csv',\n",
       " 'babynames_1965_boy.csv',\n",
       " 'babynames_1909_girl.csv',\n",
       " 'babynames_1908_girl.csv',\n",
       " 'babynames_1928_boy.csv',\n",
       " 'babynames_1938_boy.csv',\n",
       " 'babynames_2004_boy.csv',\n",
       " 'babynames_1991_boy.csv',\n",
       " 'babynames_1981_boy.csv',\n",
       " 'babynames_1937_girl.csv',\n",
       " 'babynames_1936_girl.csv',\n",
       " 'babynames_1991_girl.csv',\n",
       " 'babynames_1990_girl.csv',\n",
       " 'babynames_1903_girl.csv',\n",
       " 'babynames_1902_girl.csv',\n",
       " 'babynames_1899_girl.csv',\n",
       " 'babynames_1898_girl.csv',\n",
       " 'babynames_1892_boy.csv',\n",
       " 'babynames_1882_boy.csv',\n",
       " 'babynames_1953_boy.csv',\n",
       " 'babynames_1943_boy.csv',\n",
       " 'babynames_1931_boy.csv',\n",
       " 'babynames_1921_boy.csv',\n",
       " 'babynames_1974_girl.csv',\n",
       " 'babynames_1975_girl.csv',\n",
       " 'babynames_1988_boy.csv',\n",
       " 'babynames_1998_boy.csv']"
      ]
     },
     "execution_count": 106,
     "metadata": {},
     "output_type": "execute_result"
    }
   ],
   "source": [
    "os.listdir(\"tidy_6_babynames\")"
   ]
  },
  {
   "attachments": {},
   "cell_type": "markdown",
   "metadata": {},
   "source": [
    "We can try to open one of them to inspect the data."
   ]
  },
  {
   "cell_type": "code",
   "execution_count": null,
   "metadata": {},
   "outputs": [
    {
     "data": {
      "text/plain": [
       "        name   percent\n",
       "0       John  0.074181\n",
       "1    William  0.068344\n",
       "2      James  0.043617\n",
       "3     George  0.039190\n",
       "4    Charles  0.036875\n",
       "..       ...       ...\n",
       "995   Jessee  0.000046\n",
       "996    Jewel  0.000046\n",
       "997    Jodie  0.000046\n",
       "998     Lars  0.000046\n",
       "999   Laurel  0.000046\n",
       "\n",
       "[1000 rows x 2 columns]"
      ]
     },
     "execution_count": 230,
     "metadata": {},
     "output_type": "execute_result"
    }
   ],
   "source": [
    "pd.read_csv(os.path.join(\"tidy_6_babynames\", \"babynames_1887_boy.csv\"))"
   ]
  },
  {
   "attachments": {},
   "cell_type": "markdown",
   "metadata": {},
   "source": [
    "You will find that there is no year or gender information in the file, we need to extract them from the file name. Let's start with a single file to experiment the extraction process."
   ]
  },
  {
   "cell_type": "code",
   "execution_count": 108,
   "metadata": {},
   "outputs": [
    {
     "data": {
      "text/plain": [
       "        name   percent  year gender\n",
       "0       John  0.074181  1887    boy\n",
       "1    William  0.068344  1887    boy\n",
       "2      James  0.043617  1887    boy\n",
       "3     George  0.039190  1887    boy\n",
       "4    Charles  0.036875  1887    boy\n",
       "..       ...       ...   ...    ...\n",
       "995   Jessee  0.000046  1887    boy\n",
       "996    Jewel  0.000046  1887    boy\n",
       "997    Jodie  0.000046  1887    boy\n",
       "998     Lars  0.000046  1887    boy\n",
       "999   Laurel  0.000046  1887    boy\n",
       "\n",
       "[1000 rows x 4 columns]"
      ]
     },
     "execution_count": 108,
     "metadata": {},
     "output_type": "execute_result"
    }
   ],
   "source": [
    "filename = \"babynames_1887_boy.csv\"\n",
    "year = re.findall(r\"\\d+\", filename)[0]\n",
    "gender = re.findall(r\"[a-z]+\\.\", filename)[0].replace(\".\", \"\")\n",
    "data = pd.read_csv(os.path.join(\"tidy_6_babynames\", filename))\n",
    "data[\"year\"] = year\n",
    "data[\"gender\"] = gender\n",
    "data"
   ]
  },
  {
   "attachments": {},
   "cell_type": "markdown",
   "metadata": {},
   "source": [
    "Now, we can iteratively extract needed information from each file and store them into one csv file. We can create an empty file with only the header defined."
   ]
  },
  {
   "cell_type": "code",
   "execution_count": 111,
   "metadata": {},
   "outputs": [],
   "source": [
    "FILE_OUT = \"tidy_6_babynames.csv\"\n",
    "with open(FILE_OUT, \"w\") as f:\n",
    "    f.write(\"name,percent,year,gender\\n\")"
   ]
  },
  {
   "attachments": {},
   "cell_type": "markdown",
   "metadata": {},
   "source": [
    "Next, let's test the extraction process on the first five files. Try to define constant variables instead of hard-coding the values every time."
   ]
  },
  {
   "cell_type": "code",
   "execution_count": 112,
   "metadata": {},
   "outputs": [],
   "source": [
    "DIR_DATA = \"tidy_6_babynames\"\n",
    "ls_files = os.listdir(DIR_DATA)\n",
    "for filename in ls_files:\n",
    "    year = re.findall(r\"\\d+\", filename)[0]\n",
    "    gender = re.findall(r\"[a-z]+\\.\", filename)[0].replace(\".\", \"\")\n",
    "    data = pd.read_csv(os.path.join(DIR_DATA, filename))\n",
    "    data[\"year\"] = year\n",
    "    data[\"gender\"] = gender\n",
    "    data.to_csv(FILE_OUT, mode=\"a\", header=False, index=False)"
   ]
  },
  {
   "attachments": {},
   "cell_type": "markdown",
   "metadata": {},
   "source": [
    "Examine the extracted data."
   ]
  },
  {
   "cell_type": "code",
   "execution_count": 113,
   "metadata": {},
   "outputs": [
    {
     "name": "stdout",
     "output_type": "stream",
     "text": [
      "<class 'pandas.core.frame.DataFrame'>\n",
      "RangeIndex: 258000 entries, 0 to 257999\n",
      "Data columns (total 4 columns):\n",
      " #   Column   Non-Null Count   Dtype  \n",
      "---  ------   --------------   -----  \n",
      " 0   name     258000 non-null  object \n",
      " 1   percent  258000 non-null  float64\n",
      " 2   year     258000 non-null  int64  \n",
      " 3   gender   258000 non-null  object \n",
      "dtypes: float64(1), int64(1), object(2)\n",
      "memory usage: 7.9+ MB\n"
     ]
    }
   ],
   "source": [
    "data = pd.read_csv(FILE_OUT)\n",
    "data.info()"
   ]
  },
  {
   "cell_type": "code",
   "execution_count": 114,
   "metadata": {},
   "outputs": [
    {
     "data": {
      "text/plain": [
       "1887    2000\n",
       "1977    2000\n",
       "1972    2000\n",
       "1986    2000\n",
       "1996    2000\n",
       "        ... \n",
       "1913    2000\n",
       "1906    2000\n",
       "1907    2000\n",
       "2000    2000\n",
       "1991    2000\n",
       "Name: year, Length: 129, dtype: int64"
      ]
     },
     "execution_count": 114,
     "metadata": {},
     "output_type": "execute_result"
    }
   ],
   "source": [
    "data[\"year\"].value_counts()"
   ]
  },
  {
   "cell_type": "code",
   "execution_count": 115,
   "metadata": {},
   "outputs": [
    {
     "data": {
      "text/plain": [
       "boy     129000\n",
       "girl    129000\n",
       "Name: gender, dtype: int64"
      ]
     },
     "execution_count": 115,
     "metadata": {},
     "output_type": "execute_result"
    }
   ],
   "source": [
    "data[\"gender\"].value_counts()"
   ]
  },
  {
   "cell_type": "code",
   "execution_count": 116,
   "metadata": {},
   "outputs": [
    {
     "data": {
      "text/plain": [
       "              percent\n",
       "year gender          \n",
       "1880 boy     0.930746\n",
       "     girl    0.934546\n",
       "1881 boy     0.930439\n",
       "     girl    0.932690\n",
       "1882 boy     0.927532\n",
       "...               ...\n",
       "2006 girl    0.684830\n",
       "2007 boy     0.801105\n",
       "     girl    0.677453\n",
       "2008 boy     0.795414\n",
       "     girl    0.672516\n",
       "\n",
       "[258 rows x 1 columns]"
      ]
     },
     "execution_count": 116,
     "metadata": {},
     "output_type": "execute_result"
    }
   ],
   "source": [
    "data.groupby([\"year\", \"gender\"]).agg({\"percent\": \"sum\"})"
   ]
  },
  {
   "attachments": {},
   "cell_type": "markdown",
   "metadata": {},
   "source": [
    "## 6. Case study\n",
    "\n",
    "We will use a case study to illustrate the process of tidying data. The dataset `tidy_X.csv` contains the individual-level mortality from Mexico.\n",
    "The columns include the following:\n",
    "\n",
    "- `sex`: the gender of the deceased\n",
    "- `age`: the age of the deceased\n",
    "- `yod`: the year of death\n",
    "- `mod`: the month of death\n",
    "- `dod`: the day of death\n",
    "- `hod`: the hour of death\n",
    "- `cod`: the cause of death\n",
    "\n",
    "The goal is to find causes of death with unusual temporal patterns within a day."
   ]
  },
  {
   "attachments": {},
   "cell_type": "markdown",
   "metadata": {},
   "source": [
    "### 6.1 Basic data exploration\n",
    "Let's read the data first."
   ]
  },
  {
   "cell_type": "code",
   "execution_count": 119,
   "metadata": {},
   "outputs": [
    {
     "data": {
      "text/plain": [
       "        sex  age   yod  mod  dod  hod  cod\n",
       "0         1   90  2008    1    7   20  F17\n",
       "1         1   72  2008    1   13   14  I05\n",
       "2         1   49  2008    1   12   20  K65\n",
       "3         2   79  2008    1   20   10  I38\n",
       "4         1   15  2008    1    1   15  N18\n",
       "...     ...  ...   ...  ...  ...  ...  ...\n",
       "528323    1    1  2008   10    6   12  P22\n",
       "528324    2   20  2008   10   18   20  Q24\n",
       "528325    2    3  2008   11   11   19  P22\n",
       "528326    1   24  2008    9   25   12  P22\n",
       "528327    1    2  2008    9   22   16  P26\n",
       "\n",
       "[528328 rows x 7 columns]"
      ]
     },
     "execution_count": 119,
     "metadata": {},
     "output_type": "execute_result"
    }
   ],
   "source": [
    "data = pd.read_csv(\"tidy_X.csv\")\n",
    "data"
   ]
  },
  {
   "attachments": {},
   "cell_type": "markdown",
   "metadata": {},
   "source": [
    "Check the data types of the columns."
   ]
  },
  {
   "cell_type": "code",
   "execution_count": 123,
   "metadata": {},
   "outputs": [
    {
     "name": "stdout",
     "output_type": "stream",
     "text": [
      "<class 'pandas.core.frame.DataFrame'>\n",
      "RangeIndex: 528328 entries, 0 to 528327\n",
      "Data columns (total 7 columns):\n",
      " #   Column  Non-Null Count   Dtype \n",
      "---  ------  --------------   ----- \n",
      " 0   sex     528328 non-null  int64 \n",
      " 1   age     528328 non-null  int64 \n",
      " 2   yod     528328 non-null  int64 \n",
      " 3   mod     528328 non-null  int64 \n",
      " 4   dod     528328 non-null  int64 \n",
      " 5   hod     528328 non-null  int64 \n",
      " 6   cod     528328 non-null  object\n",
      "dtypes: int64(6), object(1)\n",
      "memory usage: 28.2+ MB\n"
     ]
    }
   ],
   "source": [
    "data.info()"
   ]
  },
  {
   "cell_type": "code",
   "execution_count": 124,
   "metadata": {},
   "outputs": [
    {
     "data": {
      "text/plain": [
       "                 sex            age            yod            mod  \\\n",
       "count  528328.000000  528328.000000  528328.000000  528328.000000   \n",
       "mean        1.443461      61.246593    2007.950735       6.490457   \n",
       "std         0.496794      24.611694       2.881578       3.554002   \n",
       "min         1.000000       1.000000       0.000000       0.000000   \n",
       "25%         1.000000      48.000000    2008.000000       3.000000   \n",
       "50%         1.000000      67.000000    2008.000000       6.000000   \n",
       "75%         2.000000      80.000000    2008.000000      10.000000   \n",
       "max         2.000000      99.000000    2008.000000      12.000000   \n",
       "\n",
       "                 dod            hod  \n",
       "count  528328.000000  528328.000000  \n",
       "mean       15.738475      11.701500  \n",
       "std         8.826922       6.763691  \n",
       "min         0.000000       0.000000  \n",
       "25%         8.000000       6.000000  \n",
       "50%        16.000000      12.000000  \n",
       "75%        23.000000      17.000000  \n",
       "max        31.000000      23.000000  "
      ]
     },
     "execution_count": 124,
     "metadata": {},
     "output_type": "execute_result"
    }
   ],
   "source": [
    "data.describe()"
   ]
  },
  {
   "attachments": {},
   "cell_type": "markdown",
   "metadata": {},
   "source": [
    "What if we want to examine the difference between the genders over the day? We can group `hod` and `sex` to calculate the counts of deaths in each hour."
   ]
  },
  {
   "cell_type": "code",
   "execution_count": 121,
   "metadata": {},
   "outputs": [
    {
     "data": {
      "text/plain": [
       "    hod  sex   size\n",
       "0     0    1  12224\n",
       "2     1    1  11376\n",
       "4     2    1  10771\n",
       "6     3    1  10906\n",
       "8     4    1  11140\n",
       "10    5    1  11943\n",
       "12    6    1  12912\n",
       "14    7    1  11843\n",
       "16    8    1  11933\n",
       "18    9    1  12187\n",
       "20   10    1  13281\n",
       "22   11    1  12977\n",
       "24   12    1  12770\n",
       "26   13    1  12647\n",
       "28   14    1  12595\n",
       "30   15    1  12618\n",
       "32   16    1  13050\n",
       "34   17    1  13004\n",
       "36   18    1  13417\n",
       "38   19    1  12743\n",
       "40   20    1  12658\n",
       "42   21    1  11595\n",
       "44   22    1  11413\n",
       "46   23    1  12032"
      ]
     },
     "execution_count": 121,
     "metadata": {},
     "output_type": "execute_result"
    }
   ],
   "source": [
    "data_grp = data.groupby([\"hod\", \"sex\"]).agg(size=(\"hod\", lambda x: len(x))).reset_index()\n",
    "data_grp.query(\"sex == 1\")"
   ]
  },
  {
   "attachments": {},
   "cell_type": "markdown",
   "metadata": {},
   "source": [
    "We can use `plotnine`, a Python version of `ggplot2`, to visualize the data."
   ]
  },
  {
   "cell_type": "code",
   "execution_count": 122,
   "metadata": {},
   "outputs": [
    {
     "data": {
      "image/png": "[encoded data removed]",
      "text/plain": [
       "<Figure size 640x480 with 1 Axes>"
      ]
     },
     "metadata": {},
     "output_type": "display_data"
    },
    {
     "data": {
      "text/plain": [
       "<ggplot: (706404852)>"
      ]
     },
     "execution_count": 122,
     "metadata": {},
     "output_type": "execute_result"
    }
   ],
   "source": [
    "from plotnine import *\n",
    "ggplot(data_grp, aes(x=\"hod\", y=\"size\", color=\"factor(sex)\")) + geom_point() + geom_line()"
   ]
  },
  {
   "attachments": {},
   "cell_type": "markdown",
   "metadata": {},
   "source": [
    "### 6.2 Count the number of deaths in each hour"
   ]
  },
  {
   "attachments": {},
   "cell_type": "markdown",
   "metadata": {},
   "source": [
    "We need to tidy the data by `hod` and `cod` to get the number of deaths in each hour. Before we do that, we can use `df.query()` to check what result we will get. For example, there should be five records of hod=0, and cod=A06."
   ]
  },
  {
   "cell_type": "code",
   "execution_count": 134,
   "metadata": {},
   "outputs": [
    {
     "data": {
      "text/plain": [
       "        sex  age   yod  mod  dod  hod  cod\n",
       "19640     2   88  2008    1   10    0  A06\n",
       "298031    1   56  2008   12   28    0  A06\n",
       "395562    2   22  2008   12   20    0  A06\n",
       "412156    1   83  2008    1    5    0  A06\n",
       "502497    1    2  2008    7   19    0  A06"
      ]
     },
     "execution_count": 134,
     "metadata": {},
     "output_type": "execute_result"
    }
   ],
   "source": [
    "data.query(\"hod == 0 and cod == 'A06'\")"
   ]
  },
  {
   "attachments": {},
   "cell_type": "markdown",
   "metadata": {},
   "source": [
    "Then use `df.groupby()` to group the data by `hod` and `cod` and aggregate the data by `size` to count the number of deaths. We should see \"5\" in the `freq_by_hodcod` column as we queried above."
   ]
  },
  {
   "cell_type": "code",
   "execution_count": 125,
   "metadata": {},
   "outputs": [
    {
     "data": {
      "text/plain": [
       "       hod  cod  freq_by_hodcod\n",
       "0        0  A02               1\n",
       "1        0  A04               6\n",
       "2        0  A06               5\n",
       "3        0  A09              87\n",
       "4        0  A15               7\n",
       "...    ...  ...             ...\n",
       "16171   23  Y34              28\n",
       "16172   23  Y57               3\n",
       "16173   23  Y83               7\n",
       "16174   23  Y86              16\n",
       "16175   23  Y89               5\n",
       "\n",
       "[16176 rows x 3 columns]"
      ]
     },
     "execution_count": 125,
     "metadata": {},
     "output_type": "execute_result"
    }
   ],
   "source": [
    "data_grp = data.groupby([\"hod\", \"cod\"]).agg(freq_by_hodcod=(\"hod\", \"size\")).reset_index()\n",
    "data_grp"
   ]
  },
  {
   "attachments": {},
   "cell_type": "markdown",
   "metadata": {},
   "source": [
    "It is equivalent to use `lambda` function to define the counting function."
   ]
  },
  {
   "cell_type": "code",
   "execution_count": 164,
   "metadata": {},
   "outputs": [
    {
     "data": {
      "text/plain": [
       "       hod  cod  freq_by_hodcod\n",
       "0        0  A02               1\n",
       "1        0  A04               6\n",
       "2        0  A06               5\n",
       "3        0  A09              91\n",
       "4        0  A15               7\n",
       "...    ...  ...             ...\n",
       "16702   99  Y33               2\n",
       "16703   99  Y34              99\n",
       "16704   99  Y40               1\n",
       "16705   99  Y57               3\n",
       "16706   99  Y86               2\n",
       "\n",
       "[16707 rows x 3 columns]"
      ]
     },
     "execution_count": 164,
     "metadata": {},
     "output_type": "execute_result"
    }
   ],
   "source": [
    "data_grp = data.groupby([\"hod\", \"cod\"]).agg(freq_by_hodcod=(\"hod\", lambda x: len(x))).reset_index()\n",
    "data_grp"
   ]
  },
  {
   "attachments": {},
   "cell_type": "markdown",
   "metadata": {},
   "source": [
    "### 6.3 The proportion of deaths in each cause by hour"
   ]
  },
  {
   "attachments": {},
   "cell_type": "markdown",
   "metadata": {},
   "source": [
    "Now, let's continue with the `data_grp` to compute proportion of deaths of each `cod` given `hod`. We need to determine the denominator of the proportion first. The denominator is the total number of deaths in each `cod` across all `hod`.\n",
    "\n",
    "Again, we can use `df.query()` to preview what we will get."
   ]
  },
  {
   "cell_type": "code",
   "execution_count": 127,
   "metadata": {},
   "outputs": [
    {
     "data": {
      "text/plain": [
       "       hod  cod  freq_by_hodcod\n",
       "5257     8  A03               1\n",
       "5922     9  A03               1\n",
       "6611    10  A03               1\n",
       "8014    12  A03               1\n",
       "11503   17  A03               1\n",
       "12204   18  A03               1\n",
       "14210   21  A03               1"
      ]
     },
     "execution_count": 127,
     "metadata": {},
     "output_type": "execute_result"
    }
   ],
   "source": [
    "data_grp.query(\"cod == 'A03'\")"
   ]
  },
  {
   "attachments": {},
   "cell_type": "markdown",
   "metadata": {},
   "source": [
    "Then use `df.groupby()` to group the data by `cod` and aggregate the data by `sum` to get the total number of deaths in each `cod`."
   ]
  },
  {
   "cell_type": "code",
   "execution_count": 126,
   "metadata": {},
   "outputs": [
    {
     "data": {
      "text/plain": [
       "      cod  sum_by_cod\n",
       "0     A01          51\n",
       "1     A02          62\n",
       "2     A03           7\n",
       "3     A04         144\n",
       "4     A05          20\n",
       "...   ...         ...\n",
       "1192  Y85           4\n",
       "1193  Y86         363\n",
       "1194  Y87           2\n",
       "1195  Y88           5\n",
       "1196  Y89          39\n",
       "\n",
       "[1197 rows x 2 columns]"
      ]
     },
     "execution_count": 126,
     "metadata": {},
     "output_type": "execute_result"
    }
   ],
   "source": [
    "sum_cod = data_grp.groupby([\"cod\"]).agg(sum_by_cod=(\"freq_by_hodcod\", \"sum\")).reset_index()\n",
    "sum_cod"
   ]
  },
  {
   "attachments": {},
   "cell_type": "markdown",
   "metadata": {},
   "source": [
    "We use `df.merge()` to merge the `data_grp` and the `sum_cod` to put the sum of deaths in each `cod` into the `data_grp` table."
   ]
  },
  {
   "cell_type": "code",
   "execution_count": 129,
   "metadata": {},
   "outputs": [
    {
     "data": {
      "text/plain": [
       "       hod  cod  freq_by_hodcod  sum_by_cod\n",
       "0        0  A02               1          62\n",
       "1        1  A02               3          62\n",
       "2        2  A02               9          62\n",
       "3        3  A02               1          62\n",
       "4        4  A02               3          62\n",
       "...    ...  ...             ...         ...\n",
       "16171   22  Y52               2           2\n",
       "16172   23  D24               1           1\n",
       "16173   23  N88               1           1\n",
       "16174   23  O67               1           1\n",
       "16175   23  V33               1           1\n",
       "\n",
       "[16176 rows x 4 columns]"
      ]
     },
     "execution_count": 129,
     "metadata": {},
     "output_type": "execute_result"
    }
   ],
   "source": [
    "data_grp2 = pd.merge(data_grp, sum_cod)\n",
    "data_grp2"
   ]
  },
  {
   "attachments": {},
   "cell_type": "markdown",
   "metadata": {},
   "source": [
    "Then, with the columns `freq_by_hodcod` as the numerator and `sum_cod` as the denominator, we can compute the proportion of deaths in each `hod` given `cod`."
   ]
  },
  {
   "cell_type": "code",
   "execution_count": 130,
   "metadata": {},
   "outputs": [
    {
     "data": {
      "text/plain": [
       "       hod  cod  freq_by_hodcod  sum_by_cod  prop_by_cod\n",
       "0        0  A02               1          62     0.016129\n",
       "1        1  A02               3          62     0.048387\n",
       "2        2  A02               9          62     0.145161\n",
       "3        3  A02               1          62     0.016129\n",
       "4        4  A02               3          62     0.048387\n",
       "...    ...  ...             ...         ...          ...\n",
       "16171   22  Y52               2           2     1.000000\n",
       "16172   23  D24               1           1     1.000000\n",
       "16173   23  N88               1           1     1.000000\n",
       "16174   23  O67               1           1     1.000000\n",
       "16175   23  V33               1           1     1.000000\n",
       "\n",
       "[16176 rows x 5 columns]"
      ]
     },
     "execution_count": 130,
     "metadata": {},
     "output_type": "execute_result"
    }
   ],
   "source": [
    "data_grp2[\"prop_by_cod\"] = data_grp2[\"freq_by_hodcod\"] / data_grp2[\"sum_by_cod\"]\n",
    "data_grp2"
   ]
  },
  {
   "attachments": {},
   "cell_type": "markdown",
   "metadata": {},
   "source": [
    "### 6.4 The proportion of deaths in each hour\n",
    "\n",
    "Next, to know if a cause of death has unusual temporal patterns, we need to compare the proportion of deaths in each hour with the proportion of deaths in each hour across all causes of death. We can use the `data_grp` to compute the sum of deaths in each hour first."
   ]
  },
  {
   "cell_type": "code",
   "execution_count": 131,
   "metadata": {},
   "outputs": [
    {
     "data": {
      "text/plain": [
       "    hod  sum_by_hod\n",
       "0     0       20072\n",
       "1     1       20248\n",
       "2     2       18806\n",
       "3     3       19532\n",
       "4     4       20069\n",
       "5     5       21883\n",
       "6     6       23536\n",
       "7     7       21619\n",
       "8     8       21713\n",
       "9     9       22223\n",
       "10   10       24093\n",
       "11   11       23627\n",
       "12   12       23172\n",
       "13   13       23058\n",
       "14   14       22786\n",
       "15   15       23047\n",
       "16   16       23622\n",
       "17   17       23395\n",
       "18   18       24093\n",
       "19   19       22681\n",
       "20   20       22702\n",
       "21   21       20813\n",
       "22   22       20298\n",
       "23   23       21240"
      ]
     },
     "execution_count": 131,
     "metadata": {},
     "output_type": "execute_result"
    }
   ],
   "source": [
    "sum_hod = data_grp2.groupby([\"hod\"]).agg(sum_by_hod=(\"freq_by_hodcod\", \"sum\")).reset_index()\n",
    "sum_hod"
   ]
  },
  {
   "attachments": {},
   "cell_type": "markdown",
   "metadata": {},
   "source": [
    "Then, we sum the `sum_by_hod` to obatain the total number of deaths as the denominator."
   ]
  },
  {
   "cell_type": "code",
   "execution_count": 133,
   "metadata": {},
   "outputs": [
    {
     "data": {
      "text/plain": [
       "    hod  sum_by_hod     sum\n",
       "0     0       20072  528328\n",
       "1     1       20248  528328\n",
       "2     2       18806  528328\n",
       "3     3       19532  528328\n",
       "4     4       20069  528328\n",
       "5     5       21883  528328\n",
       "6     6       23536  528328\n",
       "7     7       21619  528328\n",
       "8     8       21713  528328\n",
       "9     9       22223  528328\n",
       "10   10       24093  528328\n",
       "11   11       23627  528328\n",
       "12   12       23172  528328\n",
       "13   13       23058  528328\n",
       "14   14       22786  528328\n",
       "15   15       23047  528328\n",
       "16   16       23622  528328\n",
       "17   17       23395  528328\n",
       "18   18       24093  528328\n",
       "19   19       22681  528328\n",
       "20   20       22702  528328\n",
       "21   21       20813  528328\n",
       "22   22       20298  528328\n",
       "23   23       21240  528328"
      ]
     },
     "execution_count": 133,
     "metadata": {},
     "output_type": "execute_result"
    }
   ],
   "source": [
    "sum_hod[\"sum\"] = sum_hod[\"sum_by_hod\"].sum()\n",
    "sum_hod"
   ]
  },
  {
   "attachments": {},
   "cell_type": "markdown",
   "metadata": {},
   "source": [
    "Finally, we can compute the proportion of deaths in each hour."
   ]
  },
  {
   "cell_type": "code",
   "execution_count": 134,
   "metadata": {},
   "outputs": [
    {
     "data": {
      "text/plain": [
       "    hod  sum_by_hod  prop_by_hod\n",
       "0     0       20072     0.037992\n",
       "1     1       20248     0.038325\n",
       "2     2       18806     0.035595\n",
       "3     3       19532     0.036969\n",
       "4     4       20069     0.037986\n",
       "5     5       21883     0.041419\n",
       "6     6       23536     0.044548\n",
       "7     7       21619     0.040920\n",
       "8     8       21713     0.041098\n",
       "9     9       22223     0.042063\n",
       "10   10       24093     0.045602\n",
       "11   11       23627     0.044720\n",
       "12   12       23172     0.043859\n",
       "13   13       23058     0.043643\n",
       "14   14       22786     0.043129\n",
       "15   15       23047     0.043623\n",
       "16   16       23622     0.044711\n",
       "17   17       23395     0.044281\n",
       "18   18       24093     0.045602\n",
       "19   19       22681     0.042930\n",
       "20   20       22702     0.042970\n",
       "21   21       20813     0.039394\n",
       "22   22       20298     0.038419\n",
       "23   23       21240     0.040202"
      ]
     },
     "execution_count": 134,
     "metadata": {},
     "output_type": "execute_result"
    }
   ],
   "source": [
    "sum_hod[\"prop_by_hod\"] = sum_hod[\"sum_by_hod\"] / sum_hod[\"sum\"]\n",
    "sum_hod = sum_hod.loc[:, [\"hod\", \"sum_by_hod\", \"prop_by_hod\"]]\n",
    "sum_hod"
   ]
  },
  {
   "attachments": {},
   "cell_type": "markdown",
   "metadata": {},
   "source": [
    "Again, we can use `df.merge()` to concatenate new columns in `sum_hod` to the `data_grp2` table."
   ]
  },
  {
   "cell_type": "code",
   "execution_count": 135,
   "metadata": {},
   "outputs": [
    {
     "data": {
      "text/plain": [
       "       hod  cod  freq_by_hodcod  sum_by_cod  prop_by_cod  sum_by_hod  \\\n",
       "0        0  A02               1          62     0.016129       20072   \n",
       "1        0  A04               6         144     0.041667       20072   \n",
       "2        0  A06               5          88     0.056818       20072   \n",
       "3        0  A09              87        3111     0.027965       20072   \n",
       "4        0  A15               7         209     0.033493       20072   \n",
       "...    ...  ...             ...         ...          ...         ...   \n",
       "16171   23  N95               1           2     0.500000       21240   \n",
       "16172   23  D24               1           1     1.000000       21240   \n",
       "16173   23  N88               1           1     1.000000       21240   \n",
       "16174   23  O67               1           1     1.000000       21240   \n",
       "16175   23  V33               1           1     1.000000       21240   \n",
       "\n",
       "       prop_by_hod  \n",
       "0         0.037992  \n",
       "1         0.037992  \n",
       "2         0.037992  \n",
       "3         0.037992  \n",
       "4         0.037992  \n",
       "...            ...  \n",
       "16171     0.040202  \n",
       "16172     0.040202  \n",
       "16173     0.040202  \n",
       "16174     0.040202  \n",
       "16175     0.040202  \n",
       "\n",
       "[16176 rows x 7 columns]"
      ]
     },
     "execution_count": 135,
     "metadata": {},
     "output_type": "execute_result"
    }
   ],
   "source": [
    "data_grp3 = pd.merge(data_grp2, sum_hod)\n",
    "data_grp3"
   ]
  },
  {
   "attachments": {},
   "cell_type": "markdown",
   "metadata": {},
   "source": [
    "Check if we got the same result as the tidy paper."
   ]
  },
  {
   "cell_type": "code",
   "execution_count": 136,
   "metadata": {},
   "outputs": [
    {
     "data": {
      "text/plain": [
       "      hod  cod  freq_by_hodcod  sum_by_cod  prop_by_cod  sum_by_hod  \\\n",
       "5271    8  B16               4         106     0.037736       21713   \n",
       "5397    8  E84               3         111     0.027027       21713   \n",
       "5446    8  I21            2167       47510     0.045611       21713   \n",
       "\n",
       "      prop_by_hod  \n",
       "5271     0.041098  \n",
       "5397     0.041098  \n",
       "5446     0.041098  "
      ]
     },
     "execution_count": 136,
     "metadata": {},
     "output_type": "execute_result"
    }
   ],
   "source": [
    "data_grp3.query(\"cod in ['B16', 'E84', 'I21'] and hod == 8\")"
   ]
  },
  {
   "attachments": {},
   "cell_type": "markdown",
   "metadata": {},
   "source": [
    "### 6.5 Deviation from the expected proportion\n",
    "\n",
    "Finally, we can compute the deviation from the expected proportion (`prop_by_hod`)"
   ]
  },
  {
   "cell_type": "code",
   "execution_count": 138,
   "metadata": {},
   "outputs": [
    {
     "data": {
      "text/plain": [
       "   hod  cod  freq_by_hodcod  sum_by_cod  prop_by_cod  sum_by_hod  prop_by_hod  \\\n",
       "0    0  A02               1          62     0.016129       20072     0.037992   \n",
       "1    0  A04               6         144     0.041667       20072     0.037992   \n",
       "2    0  A06               5          88     0.056818       20072     0.037992   \n",
       "3    0  A09              87        3111     0.027965       20072     0.037992   \n",
       "4    0  A15               7         209     0.033493       20072     0.037992   \n",
       "\n",
       "   diff_prop  \n",
       "0   0.000478  \n",
       "1   0.000014  \n",
       "2   0.000354  \n",
       "3   0.000101  \n",
       "4   0.000020  "
      ]
     },
     "execution_count": 138,
     "metadata": {},
     "output_type": "execute_result"
    }
   ],
   "source": [
    "data_grp3[\"diff_prop\"] = (data_grp3[\"prop_by_cod\"] - data_grp3[\"prop_by_hod\"])**2\n",
    "data_grp3.head()"
   ]
  },
  {
   "attachments": {},
   "cell_type": "markdown",
   "metadata": {},
   "source": [
    "And we can follow the same process as the tidy paper to get the distance from the expected proportion."
   ]
  },
  {
   "cell_type": "code",
   "execution_count": 139,
   "metadata": {},
   "outputs": [
    {
     "data": {
      "text/plain": [
       "      cod     n      dist\n",
       "0     A01    51  0.000958\n",
       "1     A02    62  0.000733\n",
       "3     A04   144  0.000185\n",
       "5     A06    88  0.000360\n",
       "8     A09  3111  0.000030\n",
       "...   ...   ...       ...\n",
       "1172  Y33    60  0.000627\n",
       "1173  Y34   780  0.000068\n",
       "1183  Y57   111  0.000284\n",
       "1190  Y83   174  0.000203\n",
       "1193  Y86   363  0.000094\n",
       "\n",
       "[450 rows x 3 columns]"
      ]
     },
     "execution_count": 139,
     "metadata": {},
     "output_type": "execute_result"
    }
   ],
   "source": [
    "devi = data_grp3.groupby([\"cod\"]).agg(n=(\"freq_by_hodcod\", lambda x: x.sum()),\n",
    "                                      dist=(\"diff_prop\", lambda x: x.mean())).reset_index()\n",
    "devi = devi.query(\"n > 50\")\n",
    "devi"
   ]
  },
  {
   "attachments": {},
   "cell_type": "markdown",
   "metadata": {},
   "source": [
    "Now let's do a visualization!"
   ]
  },
  {
   "cell_type": "code",
   "execution_count": 140,
   "metadata": {},
   "outputs": [],
   "source": [
    "from plotnine import *"
   ]
  },
  {
   "cell_type": "code",
   "execution_count": 181,
   "metadata": {},
   "outputs": [
    {
     "data": {
      "image/png": "[encoded data removed]",
      "text/plain": [
       "<Figure size 640x480 with 1 Axes>"
      ]
     },
     "metadata": {},
     "output_type": "display_data"
    },
    {
     "data": {
      "text/plain": [
       "<ggplot: (401325638)>"
      ]
     },
     "execution_count": 181,
     "metadata": {},
     "output_type": "execute_result"
    }
   ],
   "source": [
    "ggplot(devi, aes(x = 'n', y = 'dist')) + geom_point()"
   ]
  },
  {
   "cell_type": "code",
   "execution_count": 186,
   "metadata": {},
   "outputs": [
    {
     "data": {
      "image/png": "[encoded data removed]",
      "text/plain": [
       "<Figure size 640x480 with 1 Axes>"
      ]
     },
     "metadata": {},
     "output_type": "display_data"
    },
    {
     "data": {
      "text/plain": [
       "<ggplot: (401161954)>"
      ]
     },
     "execution_count": 186,
     "metadata": {},
     "output_type": "execute_result"
    }
   ],
   "source": [
    "ggplot(devi, aes(x = 'n', y = 'dist')) + geom_point()+\\\n",
    "scale_x_log10() +\\\n",
    "scale_y_log10() +\\\n",
    "geom_smooth(method = \"lm\")"
   ]
  },
  {
   "attachments": {},
   "cell_type": "markdown",
   "metadata": {},
   "source": [
    "### 6.6 Use a residual plot to find unusual temporal patterns\n",
    "\n",
    "We can use how well the data fit a linear model to find unusual temporal patterns. We need `statsmodels` to fit a linear model. As we learned from the previous visualization, the data are linearly related when the variables are log-transformed. Hence, we can directly fit a linear model on the log-transformed data."
   ]
  },
  {
   "cell_type": "code",
   "execution_count": 154,
   "metadata": {},
   "outputs": [
    {
     "data": {
      "text/html": [
       "<table class=\"simpletable\">\n",
       "<caption>OLS Regression Results</caption>\n",
       "<tr>\n",
       "  <th>Dep. Variable:</th>        <td>log_dist</td>     <th>  R-squared:         </th> <td>   0.751</td> \n",
       "</tr>\n",
       "<tr>\n",
       "  <th>Model:</th>                   <td>OLS</td>       <th>  Adj. R-squared:    </th> <td>   0.750</td> \n",
       "</tr>\n",
       "<tr>\n",
       "  <th>Method:</th>             <td>Least Squares</td>  <th>  F-statistic:       </th> <td>   1348.</td> \n",
       "</tr>\n",
       "<tr>\n",
       "  <th>Date:</th>             <td>Mon, 20 Feb 2023</td> <th>  Prob (F-statistic):</th> <td>3.74e-137</td>\n",
       "</tr>\n",
       "<tr>\n",
       "  <th>Time:</th>                 <td>17:54:58</td>     <th>  Log-Likelihood:    </th> <td> -436.72</td> \n",
       "</tr>\n",
       "<tr>\n",
       "  <th>No. Observations:</th>      <td>   450</td>      <th>  AIC:               </th> <td>   877.4</td> \n",
       "</tr>\n",
       "<tr>\n",
       "  <th>Df Residuals:</th>          <td>   448</td>      <th>  BIC:               </th> <td>   885.7</td> \n",
       "</tr>\n",
       "<tr>\n",
       "  <th>Df Model:</th>              <td>     1</td>      <th>                     </th>     <td> </td>    \n",
       "</tr>\n",
       "<tr>\n",
       "  <th>Covariance Type:</th>      <td>nonrobust</td>    <th>                     </th>     <td> </td>    \n",
       "</tr>\n",
       "</table>\n",
       "<table class=\"simpletable\">\n",
       "<tr>\n",
       "      <td></td>         <th>coef</th>     <th>std err</th>      <th>t</th>      <th>P>|t|</th>  <th>[0.025</th>    <th>0.975]</th>  \n",
       "</tr>\n",
       "<tr>\n",
       "  <th>Intercept</th> <td>   -4.0754</td> <td>    0.130</td> <td>  -31.270</td> <td> 0.000</td> <td>   -4.332</td> <td>   -3.819</td>\n",
       "</tr>\n",
       "<tr>\n",
       "  <th>log_n</th>     <td>   -0.8050</td> <td>    0.022</td> <td>  -36.712</td> <td> 0.000</td> <td>   -0.848</td> <td>   -0.762</td>\n",
       "</tr>\n",
       "</table>\n",
       "<table class=\"simpletable\">\n",
       "<tr>\n",
       "  <th>Omnibus:</th>       <td>243.413</td> <th>  Durbin-Watson:     </th> <td>   1.160</td>\n",
       "</tr>\n",
       "<tr>\n",
       "  <th>Prob(Omnibus):</th> <td> 0.000</td>  <th>  Jarque-Bera (JB):  </th> <td>1486.742</td>\n",
       "</tr>\n",
       "<tr>\n",
       "  <th>Skew:</th>          <td> 2.343</td>  <th>  Prob(JB):          </th> <td>    0.00</td>\n",
       "</tr>\n",
       "<tr>\n",
       "  <th>Kurtosis:</th>      <td>10.572</td>  <th>  Cond. No.          </th> <td>    26.4</td>\n",
       "</tr>\n",
       "</table><br/><br/>Notes:<br/>[1] Standard Errors assume that the covariance matrix of the errors is correctly specified."
      ],
      "text/plain": [
       "<class 'statsmodels.iolib.summary.Summary'>\n",
       "\"\"\"\n",
       "                            OLS Regression Results                            \n",
       "==============================================================================\n",
       "Dep. Variable:               log_dist   R-squared:                       0.751\n",
       "Model:                            OLS   Adj. R-squared:                  0.750\n",
       "Method:                 Least Squares   F-statistic:                     1348.\n",
       "Date:                Mon, 20 Feb 2023   Prob (F-statistic):          3.74e-137\n",
       "Time:                        17:54:58   Log-Likelihood:                -436.72\n",
       "No. Observations:                 450   AIC:                             877.4\n",
       "Df Residuals:                     448   BIC:                             885.7\n",
       "Df Model:                           1                                         \n",
       "Covariance Type:            nonrobust                                         \n",
       "==============================================================================\n",
       "                 coef    std err          t      P>|t|      [0.025      0.975]\n",
       "------------------------------------------------------------------------------\n",
       "Intercept     -4.0754      0.130    -31.270      0.000      -4.332      -3.819\n",
       "log_n         -0.8050      0.022    -36.712      0.000      -0.848      -0.762\n",
       "==============================================================================\n",
       "Omnibus:                      243.413   Durbin-Watson:                   1.160\n",
       "Prob(Omnibus):                  0.000   Jarque-Bera (JB):             1486.742\n",
       "Skew:                           2.343   Prob(JB):                         0.00\n",
       "Kurtosis:                      10.572   Cond. No.                         26.4\n",
       "==============================================================================\n",
       "\n",
       "Notes:\n",
       "[1] Standard Errors assume that the covariance matrix of the errors is correctly specified.\n",
       "\"\"\""
      ]
     },
     "execution_count": 154,
     "metadata": {},
     "output_type": "execute_result"
    }
   ],
   "source": [
    "# fit a linear model\n",
    "import statsmodels.api as sm\n",
    "import numpy as np\n",
    "# log transformation\n",
    "devi[\"log_n\"] = np.log(devi[\"n\"])\n",
    "devi[\"log_dist\"] = np.log(devi[\"dist\"])\n",
    "# fit a linear model\n",
    "model = sm.OLS.from_formula(\"log_dist ~ log_n\", data=devi)\n",
    "result = model.fit()\n",
    "result.summary()"
   ]
  },
  {
   "attachments": {},
   "cell_type": "markdown",
   "metadata": {},
   "source": [
    "Put the fitted residuals into the `devi` dataframe."
   ]
  },
  {
   "cell_type": "code",
   "execution_count": 155,
   "metadata": {},
   "outputs": [
    {
     "data": {
      "text/plain": [
       "      cod     n      dist     log_n   log_dist     resid\n",
       "0     A01    51  0.000958  3.931826  -6.950290  0.290330\n",
       "1     A02    62  0.000733  4.127134  -7.218939  0.178910\n",
       "3     A04   144  0.000185  4.969813  -8.596625 -0.520395\n",
       "5     A06    88  0.000360  4.477337  -7.929282 -0.249510\n",
       "8     A09  3111  0.000030  8.042699 -10.422575  0.127419\n",
       "...   ...   ...       ...       ...        ...       ...\n",
       "1172  Y33    60  0.000627  4.094345  -7.373953 -0.002500\n",
       "1173  Y34   780  0.000068  6.659294  -9.596346 -0.160034\n",
       "1183  Y57   111  0.000284  4.709530  -8.165902 -0.299207\n",
       "1190  Y83   174  0.000203  5.159055  -8.501431 -0.272856\n",
       "1193  Y86   363  0.000094  5.894403  -9.270435 -0.449883\n",
       "\n",
       "[450 rows x 6 columns]"
      ]
     },
     "execution_count": 155,
     "metadata": {},
     "output_type": "execute_result"
    }
   ],
   "source": [
    "# get the residual\n",
    "devi[\"resid\"] = result.resid\n",
    "devi"
   ]
  },
  {
   "attachments": {},
   "cell_type": "markdown",
   "metadata": {},
   "source": [
    "Visualization: Use an arbitrary threshold, 1.5, to identify unusual temporal patterns."
   ]
  },
  {
   "cell_type": "code",
   "execution_count": 199,
   "metadata": {},
   "outputs": [
    {
     "data": {
      "image/png": "[encoded data removed]",
      "text/plain": [
       "<Figure size 640x480 with 1 Axes>"
      ]
     },
     "metadata": {},
     "output_type": "display_data"
    },
    {
     "data": {
      "text/plain": [
       "<ggplot: (710113250)>"
      ]
     },
     "execution_count": 199,
     "metadata": {},
     "output_type": "execute_result"
    }
   ],
   "source": [
    "ggplot(devi, aes(x = 'log_n', y = 'resid')) + geom_point() + geom_hline(yintercept = 1.5)"
   ]
  },
  {
   "attachments": {},
   "cell_type": "markdown",
   "metadata": {},
   "source": [
    "### 6.7 Visualize the unusual temporal patterns"
   ]
  },
  {
   "attachments": {},
   "cell_type": "markdown",
   "metadata": {},
   "source": [
    "Map the `cod` code to the full name of the cause of death."
   ]
  },
  {
   "cell_type": "code",
   "execution_count": 147,
   "metadata": {},
   "outputs": [
    {
     "data": {
      "text/plain": [
       "      cod                                           cod_name\n",
       "0     A00                                            Cholera\n",
       "1     A01                     Typhoid and paratyphoid fevers\n",
       "2     A02                        Other salmonella infections\n",
       "3     A03                                        Shigellosis\n",
       "4     A04              Other bacterial intestinal infections\n",
       "...   ...                                                ...\n",
       "1853  Y85                    Sequelae of transport accidents\n",
       "1854  Y86                        Sequelae of other accidents\n",
       "1855  Y87  Sequelae of intentional self harm, assault, an...\n",
       "1856  Y88  Sequelae with surgical and medical care as ext...\n",
       "1857  Y89                  Sequelae of other external causes\n",
       "\n",
       "[1858 rows x 2 columns]"
      ]
     },
     "execution_count": 147,
     "metadata": {},
     "output_type": "execute_result"
    }
   ],
   "source": [
    "map_cod = pd.read_csv(\"tidy_X_map_cod.csv\")\n",
    "map_cod.columns = [\"cod\", \"cod_name\"]\n",
    "map_cod"
   ]
  },
  {
   "cell_type": "code",
   "execution_count": 156,
   "metadata": {},
   "outputs": [
    {
     "data": {
      "text/plain": [
       "   cod     n      dist     log_n   log_dist     resid  \\\n",
       "0  A01    51  0.000958  3.931826  -6.950290  0.290330   \n",
       "1  A02    62  0.000733  4.127134  -7.218939  0.178910   \n",
       "2  A04   144  0.000185  4.969813  -8.596625 -0.520395   \n",
       "3  A06    88  0.000360  4.477337  -7.929282 -0.249510   \n",
       "4  A09  3111  0.000030  8.042699 -10.422575  0.127419   \n",
       "\n",
       "                                            cod_name  \n",
       "0                     Typhoid and paratyphoid fevers  \n",
       "1                        Other salmonella infections  \n",
       "2              Other bacterial intestinal infections  \n",
       "3                                          Amebiasis  \n",
       "4  Diarrhea and gastroenteritis of infectious origin  "
      ]
     },
     "execution_count": 156,
     "metadata": {},
     "output_type": "execute_result"
    }
   ],
   "source": [
    "devi2 = pd.merge(devi, map_cod)\n",
    "devi2.head()"
   ]
  },
  {
   "attachments": {},
   "cell_type": "markdown",
   "metadata": {},
   "source": [
    "Put the fitted information into the hour-level data, `data_grp3`."
   ]
  },
  {
   "cell_type": "code",
   "execution_count": 157,
   "metadata": {},
   "outputs": [
    {
     "data": {
      "text/plain": [
       "   hod  cod  freq_by_hodcod  sum_by_cod  prop_by_cod  sum_by_hod  prop_by_hod  \\\n",
       "0    0  A02               1          62     0.016129       20072     0.037992   \n",
       "1    0  A04               6         144     0.041667       20072     0.037992   \n",
       "2    0  A06               5          88     0.056818       20072     0.037992   \n",
       "3    0  A09              87        3111     0.027965       20072     0.037992   \n",
       "4    0  A15               7         209     0.033493       20072     0.037992   \n",
       "\n",
       "   diff_prop  \n",
       "0   0.000478  \n",
       "1   0.000014  \n",
       "2   0.000354  \n",
       "3   0.000101  \n",
       "4   0.000020  "
      ]
     },
     "execution_count": 157,
     "metadata": {},
     "output_type": "execute_result"
    }
   ],
   "source": [
    "data_grp3.head()"
   ]
  },
  {
   "cell_type": "code",
   "execution_count": 158,
   "metadata": {},
   "outputs": [
    {
     "data": {
      "text/plain": [
       "   hod  cod  freq_by_hodcod  sum_by_cod  prop_by_cod  sum_by_hod  prop_by_hod  \\\n",
       "0    0  A02               1          62     0.016129       20072     0.037992   \n",
       "1    1  A02               3          62     0.048387       20248     0.038325   \n",
       "2    2  A02               9          62     0.145161       18806     0.035595   \n",
       "3    3  A02               1          62     0.016129       19532     0.036969   \n",
       "4    4  A02               3          62     0.048387       20069     0.037986   \n",
       "5    5  A02               2          62     0.032258       21883     0.041419   \n",
       "6    6  A02               2          62     0.032258       23536     0.044548   \n",
       "7    7  A02               2          62     0.032258       21619     0.040920   \n",
       "8    8  A02               1          62     0.016129       21713     0.041098   \n",
       "9    9  A02               3          62     0.048387       22223     0.042063   \n",
       "\n",
       "   diff_prop   n      dist     log_n  log_dist    resid  \\\n",
       "0   0.000478  62  0.000733  4.127134 -7.218939  0.17891   \n",
       "1   0.000101  62  0.000733  4.127134 -7.218939  0.17891   \n",
       "2   0.012005  62  0.000733  4.127134 -7.218939  0.17891   \n",
       "3   0.000434  62  0.000733  4.127134 -7.218939  0.17891   \n",
       "4   0.000108  62  0.000733  4.127134 -7.218939  0.17891   \n",
       "5   0.000084  62  0.000733  4.127134 -7.218939  0.17891   \n",
       "6   0.000151  62  0.000733  4.127134 -7.218939  0.17891   \n",
       "7   0.000075  62  0.000733  4.127134 -7.218939  0.17891   \n",
       "8   0.000623  62  0.000733  4.127134 -7.218939  0.17891   \n",
       "9   0.000040  62  0.000733  4.127134 -7.218939  0.17891   \n",
       "\n",
       "                      cod_name  \n",
       "0  Other salmonella infections  \n",
       "1  Other salmonella infections  \n",
       "2  Other salmonella infections  \n",
       "3  Other salmonella infections  \n",
       "4  Other salmonella infections  \n",
       "5  Other salmonella infections  \n",
       "6  Other salmonella infections  \n",
       "7  Other salmonella infections  \n",
       "8  Other salmonella infections  \n",
       "9  Other salmonella infections  "
      ]
     },
     "execution_count": 158,
     "metadata": {},
     "output_type": "execute_result"
    }
   ],
   "source": [
    "data_grp4 = pd.merge(data_grp3, devi2, on=[\"cod\"])\n",
    "data_grp4.head(10)"
   ]
  },
  {
   "attachments": {},
   "cell_type": "markdown",
   "metadata": {},
   "source": [
    "Visualization"
   ]
  },
  {
   "cell_type": "code",
   "execution_count": 159,
   "metadata": {},
   "outputs": [
    {
     "data": {
      "image/png": "[encoded data removed]",
      "text/plain": [
       "<Figure size 1600x800 with 8 Axes>"
      ]
     },
     "metadata": {},
     "output_type": "display_data"
    },
    {
     "data": {
      "text/plain": [
       "<ggplot: (707506116)>"
      ]
     },
     "execution_count": 159,
     "metadata": {},
     "output_type": "execute_result"
    }
   ],
   "source": [
    "data_vis = data_grp4.query(\"n > 350 and (hod > 0 and hod < 24) and resid > 1.5\").iloc[:184]\n",
    "# set figure size\n",
    "ggplot(data_vis, aes(x = 'hod', y = 'prop_by_cod')) +\\\n",
    "    geom_line(aes(y = \"prop_by_hod\"), colour = \"grey\") +\\\n",
    "    geom_line() +\\\n",
    "    facet_wrap('~cod_name', ncol = 3) +\\\n",
    "    theme(figure_size=(16, 8))"
   ]
  }
 ],
 "metadata": {
  "kernelspec": {
   "display_name": "niche",
   "language": "python",
   "name": "python3"
  },
  "language_info": {
   "codemirror_mode": {
    "name": "ipython",
    "version": 3
   },
   "file_extension": ".py",
   "mimetype": "text/x-python",
   "name": "python",
   "nbconvert_exporter": "python",
   "pygments_lexer": "ipython3",
   "version": "3.9.16"
  },
  "orig_nbformat": 4,
  "vscode": {
   "interpreter": {
    "hash": "ad532947ed7ac808c0a842d8ff1aa280c18aa45f795e2b1f2d64f29153af8175"
   }
  }
 },
 "nbformat": 4,
 "nbformat_minor": 2
}
