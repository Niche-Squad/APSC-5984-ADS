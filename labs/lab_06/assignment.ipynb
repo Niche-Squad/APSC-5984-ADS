{
 "cells": [
  {
   "attachments": {},
   "cell_type": "markdown",
   "metadata": {},
   "source": [
    "# APSC-5984 Lab 6: Tidy data\n",
    "\n",
    "Due: 2023-03-13 (Monday) 23:59:59\n",
    "\n",
    "Grading Rubric (Total 300 points)\n",
    "\n",
    "| Items | Points | Earned |\n",
    "| :--- | :----- | :----- |\n",
    "| Push the assignment in time with the commit message: \"lab 6 submission\" | 210 | |\n",
    "| Tasks 1| 5 | |\n",
    "| Tasks 2| 5 | |\n",
    "| Tasks 3| 10 | |\n",
    "| Tasks 4| 15 | |\n",
    "| Tasks 5| 15 | |\n",
    "| Tasks 6| 5 | |\n",
    "| Tasks 7| 15 | |\n",
    "| Tasks 8| 5 | |\n",
    "| Tasks 9| 15 | |\n",
    "\n",
    "\n",
    "In this lab, you will reproduce the data analysis as shown in the tidy data paper but alter the `hod` factor to `sex` to discover any `cod` associated with gender."
   ]
  },
  {
   "attachments": {},
   "cell_type": "markdown",
   "metadata": {},
   "source": [
    "### Task 1\n",
    "Load the libraries accordingly (check the lecture slide if you are not sure how to do it):\n",
    "- `pandas`: alias `pd`\n",
    "- `numpy`: alias `np`\n",
    "- `plotnine`: from `plotnine` load all functions (*)\n",
    "- `statsmodels`: load `statsmodels.api` and alias it as `sm`\n",
    "\n",
    "If the import fails, install the library using:\n",
    "\n",
    "`conda install <library name>`"
   ]
  },
  {
   "cell_type": "code",
   "execution_count": 1,
   "metadata": {},
   "outputs": [],
   "source": [
    "pass"
   ]
  },
  {
   "attachments": {},
   "cell_type": "markdown",
   "metadata": {},
   "source": [
    "### Task 2\n",
    "\n",
    "Load the data `tidy_X.csv` and check the first 5 rows of the data."
   ]
  },
  {
   "cell_type": "code",
   "execution_count": 91,
   "metadata": {},
   "outputs": [],
   "source": [
    "pass"
   ]
  },
  {
   "attachments": {},
   "cell_type": "markdown",
   "metadata": {},
   "source": [
    "### Task 3\n",
    "\n",
    "Groupping the data by `sex` and `cod`, and then calculate the frequency (size) of each group. Store the result in a variable called `data_grp`.\n",
    "\n",
    "Hints:\n",
    "- `df.groupby()`\n",
    "- `<pd.group>.agg()`\n",
    "- `df.reset_index()`"
   ]
  },
  {
   "cell_type": "code",
   "execution_count": 92,
   "metadata": {},
   "outputs": [],
   "source": [
    "pass"
   ]
  },
  {
   "attachments": {},
   "cell_type": "markdown",
   "metadata": {},
   "source": [
    "### Task 4\n",
    "\n",
    "Calculate the gender proportion of deaths in each `cod`. Store the result in a variable called `prop_by_sexcod`.\n",
    "\n",
    "Hints:\n",
    "- `df.groupby()`\n",
    "- `<pd.group>.agg()`\n",
    "- `df.reset_index()`\n",
    "- `df.merge()`\n",
    "- The result dataframe, `data_grp`, should have five columns: `sex`, `cod`, `freq_by_sexcod`, `sum_by_cod`, and `prop_by_sexcod`."
   ]
  },
  {
   "cell_type": "code",
   "execution_count": null,
   "metadata": {},
   "outputs": [],
   "source": [
    "pass"
   ]
  },
  {
   "attachments": {},
   "cell_type": "markdown",
   "metadata": {},
   "source": [
    "### Task 5\n",
    "\n",
    "Calculate the proportion of deaths by `sex` regardless of `cod`. Store the result in a variable called `prop_by_sex`."
   ]
  },
  {
   "cell_type": "code",
   "execution_count": null,
   "metadata": {},
   "outputs": [],
   "source": [
    "pass"
   ]
  },
  {
   "attachments": {},
   "cell_type": "markdown",
   "metadata": {},
   "source": [
    "### Task 6\n",
    "\n",
    "Calculate the difference between `prop_by_sexcod` and `prop_by_sex` using the formula:\n",
    "\n",
    "diff_prop = (prop_by_sexcod - prop_by_sex) ** 2\n",
    "\n",
    "And store the result as a new column in `data_grp` called `diff_prop`."
   ]
  },
  {
   "cell_type": "code",
   "execution_count": null,
   "metadata": {},
   "outputs": [],
   "source": [
    "pass"
   ]
  },
  {
   "attachments": {},
   "cell_type": "markdown",
   "metadata": {},
   "source": [
    "### Task 7\n",
    "\n",
    "Derive a dataframe called `devi` that contains the `n` and `dist` columns from `data_grp`. And remove any rows that have `n` less than 50. Please use the lecture slide as a reference."
   ]
  },
  {
   "cell_type": "code",
   "execution_count": null,
   "metadata": {},
   "outputs": [],
   "source": [
    "pass"
   ]
  },
  {
   "attachments": {},
   "cell_type": "markdown",
   "metadata": {},
   "source": [
    "### Task 8\n",
    "\n",
    "Use log-scale to plot the `dist` vs `n` using `geom_point()` and `geom_smooth(method=\"lm\")`. Please use the lecture slide as a reference.\n",
    "\n"
   ]
  },
  {
   "cell_type": "code",
   "execution_count": null,
   "metadata": {},
   "outputs": [],
   "source": [
    "pass"
   ]
  },
  {
   "attachments": {},
   "cell_type": "markdown",
   "metadata": {},
   "source": [
    "### Task 9\n",
    "\n",
    "Use a linear model to fit the data and derive residuals. Then store the residuals in a variable called `resid` in the dataframe `devi`.\n",
    "\n",
    "IMPORTANT: Apply the log transformation to both `n` and `dist` before fitting the model."
   ]
  },
  {
   "cell_type": "code",
   "execution_count": null,
   "metadata": {},
   "outputs": [],
   "source": [
    "pass"
   ]
  },
  {
   "attachments": {},
   "cell_type": "markdown",
   "metadata": {},
   "source": [
    "---------------------------------------------------------------------------\n",
    "The assignment is done. You are encouraged to run the following code to check your results. You DO NOT need to modify anything below this line.\n",
    "\n",
    "---------------------------------------------------------------------------"
   ]
  },
  {
   "cell_type": "code",
   "execution_count": null,
   "metadata": {},
   "outputs": [],
   "source": [
    "ggplot(devi, aes(x = 'log_n', y = 'resid')) + geom_point() +geom_hline(yintercept = 4, color = \"red\")"
   ]
  },
  {
   "attachments": {},
   "cell_type": "markdown",
   "metadata": {},
   "source": [
    "Use the following code to add the full names of `cod` and `resid` to `data_grp`\n",
    "(YOU DO NOT NEED TO MODIFY ANYTHING)"
   ]
  },
  {
   "cell_type": "code",
   "execution_count": null,
   "metadata": {},
   "outputs": [],
   "source": [
    "map_cod = pd.read_csv(\"data/tidy_X_map_cod.csv\")\n",
    "map_cod.columns = [\"cod\", \"cod_name\"]\n",
    "devi2 = pd.merge(devi, map_cod).drop_duplicates()\n",
    "devi2"
   ]
  },
  {
   "cell_type": "code",
   "execution_count": null,
   "metadata": {},
   "outputs": [],
   "source": [
    "data_grp2 = pd.merge(data_grp, devi2, on=\"cod\")\n",
    "data_grp2"
   ]
  },
  {
   "attachments": {},
   "cell_type": "markdown",
   "metadata": {},
   "source": [
    "Visualize the outliers that have residuals greater than 4. (YOU DO NOT NEED TO MODIFY ANYTHING)"
   ]
  },
  {
   "cell_type": "code",
   "execution_count": null,
   "metadata": {},
   "outputs": [],
   "source": [
    "data_vis = data_grp2.query(\"resid > 4\")\n",
    "print(data_vis)"
   ]
  },
  {
   "cell_type": "code",
   "execution_count": null,
   "metadata": {},
   "outputs": [],
   "source": [
    "ggplot(data_vis, aes(x = 'factor(sex)', y = 'prop_by_sexcod')) +\\\n",
    "    geom_point(aes(y = \"prop_by_sex\"), colour = \"grey\") +\\\n",
    "    geom_point() +\\\n",
    "    facet_wrap('~cod_name', ncol = 3) +\\\n",
    "    theme(figure_size=(16, 8))"
   ]
  }
 ],
 "metadata": {
  "kernelspec": {
   "display_name": "niche",
   "language": "python",
   "name": "python3"
  },
  "language_info": {
   "codemirror_mode": {
    "name": "ipython",
    "version": 3
   },
   "file_extension": ".py",
   "mimetype": "text/x-python",
   "name": "python",
   "nbconvert_exporter": "python",
   "pygments_lexer": "ipython3",
   "version": "3.9.16"
  },
  "orig_nbformat": 4,
  "vscode": {
   "interpreter": {
    "hash": "ad532947ed7ac808c0a842d8ff1aa280c18aa45f795e2b1f2d64f29153af8175"
   }
  }
 },
 "nbformat": 4,
 "nbformat_minor": 2
}
