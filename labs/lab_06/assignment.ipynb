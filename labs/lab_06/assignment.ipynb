{
 "cells": [
  {
   "attachments": {},
   "cell_type": "markdown",
   "metadata": {},
   "source": [
    "# APSC-5984 Lab 6: Tidy data\n",
    "\n",
    "Due: 2023-03-13 (Monday) 23:59:59\n",
    "\n",
    "Grading Rubric (Total 300 points)\n",
    "\n",
    "| Items | Points | Earned |\n",
    "| :--- | :----- | :----- |\n",
    "| Push the assignment in time with the commit message: \"lab 6 submission\" | 210 | |\n",
    "| Tasks 1| 5 | |\n",
    "| Tasks 2| 5 | |\n",
    "| Tasks 3| 10 | |\n",
    "| Tasks 4| 15 | |\n",
    "| Tasks 5| 15 | |\n",
    "| Tasks 6| 5 | |\n",
    "| Tasks 7| 15 | |\n",
    "| Tasks 8| 5 | |\n",
    "| Tasks 9| 15 | |\n",
    "\n",
    "\n",
    "In this lab, you will reproduce the data analysis as shown in the tidy data paper but alter the `hod` factor to `sex` to discover any `cod` associated with gender."
   ]
  },
  {
   "attachments": {},
   "cell_type": "markdown",
   "metadata": {},
   "source": [
    "### Task 1\n",
    "Load the libraries accordingly (check the lecture slide if you are not sure how to do it):\n",
    "- `pandas`: alias `pd`\n",
    "- `numpy`: alias `np`\n",
    "- `plotnine`: from `plotnine` load all functions (*)\n",
    "- `statsmodels`: load `statsmodels.api` and alias it as `sm`\n",
    "\n",
    "If the import fails, install the library using:\n",
    "\n",
    "`conda install <library name>`"
   ]
  },
  {
   "cell_type": "code",
   "execution_count": 3,
   "metadata": {},
   "outputs": [],
   "source": [
    "import pandas as pd\n",
    "import numpy as np\n",
    "from plotnine import *\n",
    "import statsmodels.api as sm\n",
    "\n",
    "pass"
   ]
  },
  {
   "attachments": {},
   "cell_type": "markdown",
   "metadata": {},
   "source": [
    "### Task 2\n",
    "\n",
    "Load the data `tidy_X.csv` and check the first 5 rows of the data."
   ]
  },
  {
   "cell_type": "code",
   "execution_count": 5,
   "metadata": {},
   "outputs": [
    {
     "name": "stdout",
     "output_type": "stream",
     "text": [
      "        sex  age   yod  mod  dod  hod  cod\n",
      "0         1   90  2008    1    7   20  F17\n",
      "1         1   72  2008    1   13   14  I05\n",
      "2         1   49  2008    1   12   20  K65\n",
      "3         2   79  2008    1   20   10  I38\n",
      "4         1   15  2008    1    1   15  N18\n",
      "...     ...  ...   ...  ...  ...  ...  ...\n",
      "528323    1    1  2008   10    6   12  P22\n",
      "528324    2   20  2008   10   18   20  Q24\n",
      "528325    2    3  2008   11   11   19  P22\n",
      "528326    1   24  2008    9   25   12  P22\n",
      "528327    1    2  2008    9   22   16  P26\n",
      "\n",
      "[528328 rows x 7 columns]\n"
     ]
    }
   ],
   "source": [
    "import os\n",
    "import pandas as pd\n",
    "\n",
    "directory = \"data\"\n",
    "filename = r'/home/shihong/APSC-5984-ADS/labs/lab_06/data/tidy_X.csv'\n",
    "file_path = os.path.join(directory, filename)\n",
    "\n",
    "tidy_X = pd.read_csv(file_path)\n",
    "tidy_X.head()\n",
    "print(tidy_X)\n",
    "pass\n"
   ]
  },
  {
   "attachments": {},
   "cell_type": "markdown",
   "metadata": {},
   "source": [
    "### Task 3\n",
    "\n",
    "Groupping the data by `sex` and `cod`, and then calculate the frequency (size) of each group. Store the result in a variable called `data_grp`.\n",
    "\n",
    "Hints:\n",
    "- `df.groupby()`\n",
    "- `<pd.group>.agg()`\n",
    "- `df.reset_index()`"
   ]
  },
  {
   "cell_type": "code",
   "execution_count": 8,
   "metadata": {},
   "outputs": [
    {
     "name": "stdout",
     "output_type": "stream",
     "text": [
      "      sex  cod  freq\n",
      "0       1  A01    27\n",
      "1       1  A02    23\n",
      "2       1  A03     3\n",
      "3       1  A04    68\n",
      "4       1  A05    12\n",
      "...   ...  ...   ...\n",
      "2067    2  Y83    93\n",
      "2068    2  Y84     8\n",
      "2069    2  Y86   182\n",
      "2070    2  Y87     1\n",
      "2071    2  Y89    17\n",
      "\n",
      "[2072 rows x 3 columns]\n"
     ]
    }
   ],
   "source": [
    "data_grp = tidy_X.groupby(['sex', 'cod']).size().reset_index(name='freq')\n",
    "print(data_grp)\n",
    "pass"
   ]
  },
  {
   "attachments": {},
   "cell_type": "markdown",
   "metadata": {},
   "source": [
    "### Task 4\n",
    "\n",
    "Calculate the gender proportion of deaths in each `cod`. Store the result in a variable called `prop_by_sexcod`.\n",
    "\n",
    "Hints:\n",
    "- `df.groupby()`\n",
    "- `<pd.group>.agg()`\n",
    "- `df.reset_index()`\n",
    "- `df.merge()`\n",
    "- The result dataframe, `data_grp`, should have five columns: `sex`, `cod`, `freq_by_sexcod`, `sum_by_cod`, and `prop_by_sexcod`."
   ]
  },
  {
   "cell_type": "code",
   "execution_count": 9,
   "metadata": {},
   "outputs": [
    {
     "ename": "KeyError",
     "evalue": "'freq_by_sexcod'",
     "output_type": "error",
     "traceback": [
      "\u001b[0;31m---------------------------------------------------------------------------\u001b[0m",
      "\u001b[0;31mKeyError\u001b[0m                                  Traceback (most recent call last)",
      "File \u001b[0;32m~/miniconda3/lib/python3.10/site-packages/pandas/core/indexes/base.py:3803\u001b[0m, in \u001b[0;36mIndex.get_loc\u001b[0;34m(self, key, method, tolerance)\u001b[0m\n\u001b[1;32m   3802\u001b[0m \u001b[39mtry\u001b[39;00m:\n\u001b[0;32m-> 3803\u001b[0m     \u001b[39mreturn\u001b[39;00m \u001b[39mself\u001b[39;49m\u001b[39m.\u001b[39;49m_engine\u001b[39m.\u001b[39;49mget_loc(casted_key)\n\u001b[1;32m   3804\u001b[0m \u001b[39mexcept\u001b[39;00m \u001b[39mKeyError\u001b[39;00m \u001b[39mas\u001b[39;00m err:\n",
      "File \u001b[0;32m~/miniconda3/lib/python3.10/site-packages/pandas/_libs/index.pyx:138\u001b[0m, in \u001b[0;36mpandas._libs.index.IndexEngine.get_loc\u001b[0;34m()\u001b[0m\n",
      "File \u001b[0;32m~/miniconda3/lib/python3.10/site-packages/pandas/_libs/index.pyx:165\u001b[0m, in \u001b[0;36mpandas._libs.index.IndexEngine.get_loc\u001b[0;34m()\u001b[0m\n",
      "File \u001b[0;32mpandas/_libs/hashtable_class_helper.pxi:5745\u001b[0m, in \u001b[0;36mpandas._libs.hashtable.PyObjectHashTable.get_item\u001b[0;34m()\u001b[0m\n",
      "File \u001b[0;32mpandas/_libs/hashtable_class_helper.pxi:5753\u001b[0m, in \u001b[0;36mpandas._libs.hashtable.PyObjectHashTable.get_item\u001b[0;34m()\u001b[0m\n",
      "\u001b[0;31mKeyError\u001b[0m: 'freq_by_sexcod'",
      "\nThe above exception was the direct cause of the following exception:\n",
      "\u001b[0;31mKeyError\u001b[0m                                  Traceback (most recent call last)",
      "Cell \u001b[0;32mIn[9], line 4\u001b[0m\n\u001b[1;32m      2\u001b[0m sum_by_cod \u001b[39m=\u001b[39m data_grp\u001b[39m.\u001b[39mgroupby(\u001b[39m'\u001b[39m\u001b[39mcod\u001b[39m\u001b[39m'\u001b[39m)[\u001b[39m'\u001b[39m\u001b[39mfreq_by_sexcod\u001b[39m\u001b[39m'\u001b[39m]\u001b[39m.\u001b[39msum()\u001b[39m.\u001b[39mreset_index()\n\u001b[1;32m      3\u001b[0m data_grp \u001b[39m=\u001b[39m data_grp\u001b[39m.\u001b[39mmerge(sum_by_cod, on\u001b[39m=\u001b[39m\u001b[39m'\u001b[39m\u001b[39mcod\u001b[39m\u001b[39m'\u001b[39m)\n\u001b[0;32m----> 4\u001b[0m data_grp[\u001b[39m'\u001b[39m\u001b[39mprop_by_sexcod\u001b[39m\u001b[39m'\u001b[39m] \u001b[39m=\u001b[39m data_grp[\u001b[39m'\u001b[39;49m\u001b[39mfreq_by_sexcod\u001b[39;49m\u001b[39m'\u001b[39;49m] \u001b[39m/\u001b[39m data_grp[\u001b[39m'\u001b[39m\u001b[39mfreq_by_sexcod\u001b[39m\u001b[39m'\u001b[39m]\u001b[39m.\u001b[39msum()\n\u001b[1;32m      5\u001b[0m \u001b[39mpass\u001b[39;00m\n",
      "File \u001b[0;32m~/miniconda3/lib/python3.10/site-packages/pandas/core/frame.py:3805\u001b[0m, in \u001b[0;36mDataFrame.__getitem__\u001b[0;34m(self, key)\u001b[0m\n\u001b[1;32m   3803\u001b[0m \u001b[39mif\u001b[39;00m \u001b[39mself\u001b[39m\u001b[39m.\u001b[39mcolumns\u001b[39m.\u001b[39mnlevels \u001b[39m>\u001b[39m \u001b[39m1\u001b[39m:\n\u001b[1;32m   3804\u001b[0m     \u001b[39mreturn\u001b[39;00m \u001b[39mself\u001b[39m\u001b[39m.\u001b[39m_getitem_multilevel(key)\n\u001b[0;32m-> 3805\u001b[0m indexer \u001b[39m=\u001b[39m \u001b[39mself\u001b[39;49m\u001b[39m.\u001b[39;49mcolumns\u001b[39m.\u001b[39;49mget_loc(key)\n\u001b[1;32m   3806\u001b[0m \u001b[39mif\u001b[39;00m is_integer(indexer):\n\u001b[1;32m   3807\u001b[0m     indexer \u001b[39m=\u001b[39m [indexer]\n",
      "File \u001b[0;32m~/miniconda3/lib/python3.10/site-packages/pandas/core/indexes/base.py:3805\u001b[0m, in \u001b[0;36mIndex.get_loc\u001b[0;34m(self, key, method, tolerance)\u001b[0m\n\u001b[1;32m   3803\u001b[0m     \u001b[39mreturn\u001b[39;00m \u001b[39mself\u001b[39m\u001b[39m.\u001b[39m_engine\u001b[39m.\u001b[39mget_loc(casted_key)\n\u001b[1;32m   3804\u001b[0m \u001b[39mexcept\u001b[39;00m \u001b[39mKeyError\u001b[39;00m \u001b[39mas\u001b[39;00m err:\n\u001b[0;32m-> 3805\u001b[0m     \u001b[39mraise\u001b[39;00m \u001b[39mKeyError\u001b[39;00m(key) \u001b[39mfrom\u001b[39;00m \u001b[39merr\u001b[39;00m\n\u001b[1;32m   3806\u001b[0m \u001b[39mexcept\u001b[39;00m \u001b[39mTypeError\u001b[39;00m:\n\u001b[1;32m   3807\u001b[0m     \u001b[39m# If we have a listlike key, _check_indexing_error will raise\u001b[39;00m\n\u001b[1;32m   3808\u001b[0m     \u001b[39m#  InvalidIndexError. Otherwise we fall through and re-raise\u001b[39;00m\n\u001b[1;32m   3809\u001b[0m     \u001b[39m#  the TypeError.\u001b[39;00m\n\u001b[1;32m   3810\u001b[0m     \u001b[39mself\u001b[39m\u001b[39m.\u001b[39m_check_indexing_error(key)\n",
      "\u001b[0;31mKeyError\u001b[0m: 'freq_by_sexcod'"
     ]
    }
   ],
   "source": [
    "data_grp = tidy_X.groupby(['sex', 'cod']).agg(freq_by_sexcod=('sex', 'size')).reset_index()\n",
    "sum_by_cod = data_grp.groupby('cod')['freq_by_sexcod'].sum().reset_index()\n",
    "data_grp = data_grp.merge(sum_by_cod, on='cod')\n",
    "data_grp['prop_by_sexcod'] = data_grp['freq_by_sexcod'] / data_grp['freq_by_sexcod'].sum()\n",
    "pass\n"
   ]
  },
  {
   "attachments": {},
   "cell_type": "markdown",
   "metadata": {},
   "source": [
    "### Task 5\n",
    "\n",
    "Calculate the proportion of deaths by `sex` regardless of `cod`. Store the result in a variable called `prop_by_sex`."
   ]
  },
  {
   "cell_type": "code",
   "execution_count": null,
   "metadata": {},
   "outputs": [],
   "source": [
    "pass"
   ]
  },
  {
   "attachments": {},
   "cell_type": "markdown",
   "metadata": {},
   "source": [
    "### Task 6\n",
    "\n",
    "Calculate the difference between `prop_by_sexcod` and `prop_by_sex` using the formula:\n",
    "\n",
    "diff_prop = (prop_by_sexcod - prop_by_sex) ** 2\n",
    "\n",
    "And store the result as a new column in `data_grp` called `diff_prop`."
   ]
  },
  {
   "cell_type": "code",
   "execution_count": null,
   "metadata": {},
   "outputs": [],
   "source": [
    "pass"
   ]
  },
  {
   "attachments": {},
   "cell_type": "markdown",
   "metadata": {},
   "source": [
    "### Task 7\n",
    "\n",
    "Derive a dataframe called `devi` that contains the `n` and `dist` columns from `data_grp`. And remove any rows that have `n` less than 50. Please use the lecture slide as a reference."
   ]
  },
  {
   "cell_type": "code",
   "execution_count": null,
   "metadata": {},
   "outputs": [],
   "source": [
    "pass"
   ]
  },
  {
   "attachments": {},
   "cell_type": "markdown",
   "metadata": {},
   "source": [
    "### Task 8\n",
    "\n",
    "Use log-scale to plot the `dist` vs `n` using `geom_point()` and `geom_smooth(method=\"lm\")`. Please use the lecture slide as a reference.\n",
    "\n"
   ]
  },
  {
   "cell_type": "code",
   "execution_count": null,
   "metadata": {},
   "outputs": [],
   "source": [
    "pass"
   ]
  },
  {
   "attachments": {},
   "cell_type": "markdown",
   "metadata": {},
   "source": [
    "### Task 9\n",
    "\n",
    "Use a linear model to fit the data and derive residuals. Then store the residuals in a variable called `resid` in the dataframe `devi`.\n",
    "\n",
    "IMPORTANT: Apply the log transformation to both `n` and `dist` before fitting the model."
   ]
  },
  {
   "cell_type": "code",
   "execution_count": null,
   "metadata": {},
   "outputs": [],
   "source": [
    "pass"
   ]
  },
  {
   "attachments": {},
   "cell_type": "markdown",
   "metadata": {},
   "source": [
    "---------------------------------------------------------------------------\n",
    "The assignment is done. You are encouraged to run the following code to check your results. You DO NOT need to modify anything below this line.\n",
    "\n",
    "---------------------------------------------------------------------------"
   ]
  },
  {
   "cell_type": "code",
   "execution_count": null,
   "metadata": {},
   "outputs": [],
   "source": [
    "ggplot(devi, aes(x = 'log_n', y = 'resid')) + geom_point() +geom_hline(yintercept = 4, color = \"red\")"
   ]
  },
  {
   "attachments": {},
   "cell_type": "markdown",
   "metadata": {},
   "source": [
    "Use the following code to add the full names of `cod` and `resid` to `data_grp`\n",
    "(YOU DO NOT NEED TO MODIFY ANYTHING)"
   ]
  },
  {
   "cell_type": "code",
   "execution_count": null,
   "metadata": {},
   "outputs": [],
   "source": [
    "map_cod = pd.read_csv(\"data/tidy_X_map_cod.csv\")\n",
    "map_cod.columns = [\"cod\", \"cod_name\"]\n",
    "devi2 = pd.merge(devi, map_cod).drop_duplicates()\n",
    "devi2"
   ]
  },
  {
   "cell_type": "code",
   "execution_count": null,
   "metadata": {},
   "outputs": [],
   "source": [
    "data_grp2 = pd.merge(data_grp, devi2, on=\"cod\")\n",
    "data_grp2"
   ]
  },
  {
   "attachments": {},
   "cell_type": "markdown",
   "metadata": {},
   "source": [
    "Visualize the outliers that have residuals greater than 4. (YOU DO NOT NEED TO MODIFY ANYTHING)"
   ]
  },
  {
   "cell_type": "code",
   "execution_count": null,
   "metadata": {},
   "outputs": [],
   "source": [
    "data_vis = data_grp2.query(\"resid > 4\")\n",
    "print(data_vis)"
   ]
  },
  {
   "cell_type": "code",
   "execution_count": null,
   "metadata": {},
   "outputs": [],
   "source": [
    "ggplot(data_vis, aes(x = 'factor(sex)', y = 'prop_by_sexcod')) +\\\n",
    "    geom_point(aes(y = \"prop_by_sex\"), colour = \"grey\") +\\\n",
    "    geom_point() +\\\n",
    "    facet_wrap('~cod_name', ncol = 3) +\\\n",
    "    theme(figure_size=(16, 8))"
   ]
  }
 ],
 "metadata": {
  "kernelspec": {
   "display_name": "niche",
   "language": "python",
   "name": "python3"
  },
  "language_info": {
   "codemirror_mode": {
    "name": "ipython",
    "version": 3
   },
   "file_extension": ".py",
   "mimetype": "text/x-python",
   "name": "python",
   "nbconvert_exporter": "python",
   "pygments_lexer": "ipython3",
   "version": "3.10.8"
  },
  "orig_nbformat": 4,
  "vscode": {
   "interpreter": {
    "hash": "ad532947ed7ac808c0a842d8ff1aa280c18aa45f795e2b1f2d64f29153af8175"
   }
  }
 },
 "nbformat": 4,
 "nbformat_minor": 2
}
