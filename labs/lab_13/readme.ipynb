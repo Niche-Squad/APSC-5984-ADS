{
 "cells": [
  {
   "attachments": {},
   "cell_type": "markdown",
   "metadata": {},
   "source": [
    "# APSC-5984 Week 13: Object-Oriented Programming (OOP)\n",
    "\n",
    "Object-Oriented Programming (OOP) is a programming paradigm that uses objects and their interactions to design applications and computer programs. The concept of OOP was introduced in the 1960s, and popularized by languages like Smalltalk, C++, and Java.\n",
    "\n",
    "The OOP paradigm is based on the concept of \"objects\", which can contain:\n",
    "- **data**, often known as attributes\n",
    "- and **code**, often known as methods"
   ]
  },
  {
   "cell_type": "code",
   "execution_count": 34,
   "metadata": {},
   "outputs": [
    {
     "data": {
      "text/plain": [
       "5.0"
      ]
     },
     "execution_count": 34,
     "metadata": {},
     "output_type": "execute_result"
    }
   ],
   "source": [
    "import numpy as np\n",
    "\n",
    "# instantiate an object of type `ndarray` named `matrix`\n",
    "matrix = np.array([[1, 2, 3], [4, 5, 6], [7, 8, 9]])\n",
    "\n",
    "# `shape` is an attribute (data) of the object `matrix`\n",
    "matrix.shape\n",
    "\n",
    "# `reshape`, `sum`, and `mean` are methods (code) of the object `matrix`\n",
    "matrix.reshape(1, 9)\n",
    "matrix.sum()\n",
    "matrix.mean()"
   ]
  },
  {
   "attachments": {},
   "cell_type": "markdown",
   "metadata": {},
   "source": [
    "A feature of objects is that an object's procedures can access and often modify the data attributes of the object with which they are associated (objects have a notion of \"this\" or \"self\"). In OOP, computer programs are designed by making them out of objects that interact with one another. There is significant diversity of OOP languages, but the most popular ones are class-based, meaning that objects are instances of classes, which also determine their types (e.g., integer, string, etc.)."
   ]
  },
  {
   "attachments": {},
   "cell_type": "markdown",
   "metadata": {},
   "source": [
    "## You don't need to know everything under the hood to drive a car\n",
    "\n",
    "<img src=\"under_the_hood.png\" width=\"500\">\n",
    "\n",
    "In the same way, you don't need to know everything under the hood to drive a car. You don't need to know how the engine works, how the transmission works, how the brakes work, how the steering works, etc. You just need to know how to operate high-level methods (e.g., how to start the car, how to accelerate, how to brake, how to turn, etc.), and you can acheive your goal of moving yourself from one place to another.\n"
   ]
  },
  {
   "attachments": {},
   "cell_type": "markdown",
   "metadata": {},
   "source": [
    "## Classes, attributes, and methods\n",
    "\n",
    "In Python, objects are created using classes, which can contain attributes and methods. Let's work on a simple example to illustrate this concept.\n",
    "\n",
    "There are several components to a Python class:\n",
    "\n",
    "- **Class name**: the name of the class, which is typically capitalized\n",
    "- **Constructor**: a special method that is called when an object is created from the class\n",
    "- **Attributes**: variables that belong to the class. In this example, we have a `name` attribute and a `age` attribute.\n",
    "- **Methods**: functions that belong to the class. In this example, we have\n",
    "  - `get_name()`: a method that returns the name of the person\n",
    "  - `get_age()`: a method that returns the age of the person\n",
    "  - `get_ten_years_older()`: a method that returns the age of the person in 10 years\n"
   ]
  },
  {
   "cell_type": "code",
   "execution_count": 33,
   "metadata": {},
   "outputs": [],
   "source": [
    "class Person: # Class name\n",
    "    def __init__(self, name, age): # constructor\n",
    "        self.name = name # attribute\n",
    "        self.age = age # attribute\n",
    "\n",
    "    def get_name(self): # getter method\n",
    "        return self.name\n",
    "\n",
    "    def get_age(self): # getter method\n",
    "        return self.age\n",
    "\n",
    "    def get_ten_years_older(self): # method that modifies the object\n",
    "        self.age += 10\n",
    "        return self.age"
   ]
  },
  {
   "attachments": {},
   "cell_type": "markdown",
   "metadata": {},
   "source": [
    "### Exercise: Create a Bank Account class\n",
    "\n",
    "Create a class called `BankAccount` that has the following attributes and methods:\n",
    "\n",
    "- Attributes:\n",
    "  - `balance`: the balance of the account\n",
    "  - `owner`: the owner of the account\n",
    "\n",
    "- Methods:\n",
    "  - `get_balance()`: returns the balance of the account\n",
    "  - `get_owner()`: returns the owner of the account\n",
    "  - `deposit(amount)`: deposits `amount` into the account\n",
    "  - `withdraw(amount)`: withdraws `amount` from the account"
   ]
  },
  {
   "cell_type": "code",
   "execution_count": 36,
   "metadata": {},
   "outputs": [],
   "source": [
    "pass"
   ]
  },
  {
   "attachments": {},
   "cell_type": "markdown",
   "metadata": {},
   "source": [
    "## Difference between OOP and Functional (or procedural) Programming\n",
    "\n",
    "In procedural programming, the focus is on writing functions or procedures that operate on data. The program is viewed as a list of functions that are called sequentially. In contrast, OOP focuses on creating objects that contain both data and functions. The objects are friendly to be modified, maintained, and reused in other programs. Here are some examples of procedural and OOP programming:"
   ]
  },
  {
   "attachments": {},
   "cell_type": "markdown",
   "metadata": {},
   "source": [
    "### Example 1: Calculating the area and perimeter of a rectangle\n",
    "\n",
    "You are provided with the height and width of a rectangle, and you need to calculate the area and perimeter of the rectangle. In this case, we want to calculate the area of a ractangle with height 5 and width 10:\n",
    "\n",
    "- The area of a rectangle is calculated by multiplying the height and width of the rectangle\n",
    "- The perimeter of a rectangle is calculated by adding the height and width of the rectangle and then multiplying the sum by 2."
   ]
  },
  {
   "cell_type": "code",
   "execution_count": 15,
   "metadata": {},
   "outputs": [],
   "source": [
    "width = 10\n",
    "height = 5"
   ]
  },
  {
   "attachments": {},
   "cell_type": "markdown",
   "metadata": {},
   "source": [
    "#### Procedural programming\n",
    "\n",
    "- Without function call"
   ]
  },
  {
   "cell_type": "code",
   "execution_count": 24,
   "metadata": {},
   "outputs": [
    {
     "name": "stdout",
     "output_type": "stream",
     "text": [
      "Area:  50\n",
      "Perimeter:  30\n"
     ]
    }
   ],
   "source": [
    "# area\n",
    "area = width * height\n",
    "# perimeter\n",
    "perimeter = 2 * (width + height)\n",
    "\n",
    "# output\n",
    "print(\"Area: \", area)\n",
    "print(\"Perimeter: \", perimeter)"
   ]
  },
  {
   "attachments": {},
   "cell_type": "markdown",
   "metadata": {},
   "source": [
    "* With a function call"
   ]
  },
  {
   "cell_type": "code",
   "execution_count": 25,
   "metadata": {},
   "outputs": [
    {
     "name": "stdout",
     "output_type": "stream",
     "text": [
      "Area:  50\n",
      "Perimeter:  30\n"
     ]
    }
   ],
   "source": [
    "# area\n",
    "def get_area(width, height):\n",
    "    return width * height\n",
    "are = get_area(width, height)\n",
    "\n",
    "# perimeter\n",
    "def get_perimeter(width, height):\n",
    "    return 2 * (width + height)\n",
    "perimeter = get_perimeter(width, height)\n",
    "\n",
    "# output\n",
    "print(\"Area: \", area)\n",
    "print(\"Perimeter: \", perimeter)"
   ]
  },
  {
   "attachments": {},
   "cell_type": "markdown",
   "metadata": {},
   "source": [
    "#### OOP programming"
   ]
  },
  {
   "cell_type": "code",
   "execution_count": 27,
   "metadata": {},
   "outputs": [
    {
     "name": "stdout",
     "output_type": "stream",
     "text": [
      "Area:  50\n",
      "Perimeter:  30\n"
     ]
    }
   ],
   "source": [
    "class Rectangle: # class name\n",
    "    def __init__(self, width, height): # constructor\n",
    "        self.width = width # attribute\n",
    "        self.height = height # attribute\n",
    "\n",
    "    def area(self): # method\n",
    "        return self.width * self.height\n",
    "\n",
    "    def perimeter(self): # method\n",
    "        return 2 * (self.width + self.height)\n",
    "\n",
    "# instantiate an object of type `Rectangle`\n",
    "rectangle = Rectangle(width, height)\n",
    "\n",
    "# area\n",
    "area = rectangle.area()\n",
    "# perimeter\n",
    "perimeter = rectangle.perimeter()\n",
    "\n",
    "# output\n",
    "print(\"Area: \", area)\n",
    "print(\"Perimeter: \", perimeter)"
   ]
  },
  {
   "attachments": {},
   "cell_type": "markdown",
   "metadata": {},
   "source": [
    "### Example 2: Computing the distance between two points\n",
    "\n",
    "You are provided with the coordinates of two points, and you need to calculate the distance between the two points. In this case, we want to calculate the distance between the points (0, 0) and (3, 4):"
   ]
  },
  {
   "cell_type": "code",
   "execution_count": 28,
   "metadata": {},
   "outputs": [],
   "source": [
    "x1, y1 = 0, 0 # point 1\n",
    "x2, y2 = 3, 4 # point 2"
   ]
  },
  {
   "attachments": {},
   "cell_type": "markdown",
   "metadata": {},
   "source": [
    "#### Procedural programming"
   ]
  },
  {
   "cell_type": "code",
   "execution_count": 29,
   "metadata": {},
   "outputs": [
    {
     "name": "stdout",
     "output_type": "stream",
     "text": [
      "Distance: 5.0\n"
     ]
    }
   ],
   "source": [
    "def calculate_distance(x1, y1, x2, y2):\n",
    "    return ((x2 - x1) ** 2 + (y2 - y1) ** 2) ** .5\n",
    "\n",
    "distance = calculate_distance(x1, y1, x2, y2)\n",
    "\n",
    "print(f\"Distance: {distance}\")"
   ]
  },
  {
   "attachments": {},
   "cell_type": "markdown",
   "metadata": {},
   "source": [
    "#### OOP programming"
   ]
  },
  {
   "cell_type": "code",
   "execution_count": 35,
   "metadata": {},
   "outputs": [
    {
     "name": "stdout",
     "output_type": "stream",
     "text": [
      "Distance: 5.0\n"
     ]
    }
   ],
   "source": [
    "class Point:\n",
    "    def __init__(self, x, y):\n",
    "        self.x = x\n",
    "        self.y = y\n",
    "\n",
    "    def distance_to(self, other_point):\n",
    "        x1, y1 = self.x, self.y\n",
    "        x2, y2 = other_point.x, other_point.y\n",
    "        return ((x2 - x1) ** 2 + (y2 - y1) ** 2) ** .5\n",
    "\n",
    "point1 = Point(x1, y1)\n",
    "point2 = Point(x2, y2)\n",
    "\n",
    "distance = point1.distance_to(point2)\n",
    "\n",
    "print(f\"Distance: {distance}\")"
   ]
  },
  {
   "attachments": {},
   "cell_type": "markdown",
   "metadata": {},
   "source": [
    "## Core fundamentals of OOP\n",
    "\n",
    "There are four core fundamentals of OOP:\n",
    "\n",
    "1. **Abstraction**: Generalization of a concept (e.g., car). The ability to focus on the essential characteristics of an object.\n",
    "\n",
    "2. **Encapsulation**: Protecting the data or methods from the outside world (e.g.,using a hood of the car). Hiding the implementation details from the user (e.g., how the engine works), only the functionality (e.g., steering wheel) will be provided to the user.\n",
    "\n",
    "3. **Inheritance**: The ability to define a new class with little or no modification to an existing class (e.g., a new car model).\n",
    "\n",
    "4. **Polymorphism**: The ability to operate on different data types using the same interface. For example, a car can be a sedan, a truck, or a sport car, but they all can be operated using a steering wheel."
   ]
  },
  {
   "attachments": {},
   "cell_type": "markdown",
   "metadata": {},
   "source": [
    "## Abstraction\n",
    "\n",
    "Abstraction is the process of generalizing a concept. For example, a dog is a specific type of animal. To define a dog, we need to first define the high-level concept of an animal (abstract class), and then define a dog as a specific type of animal (concrete class).\n",
    "\n",
    "In Python, you can define an abstract class using the `abc` module, which stands for \"Abstract Base Class\". The abc module provides a decorator called `@abstractmethod` and a metaclass called ABC that are used to define abstract classes and methods."
   ]
  },
  {
   "cell_type": "code",
   "execution_count": 40,
   "metadata": {},
   "outputs": [],
   "source": [
    "from abc import ABC, abstractmethod\n",
    "\n",
    "class Animal(ABC):\n",
    "\n",
    "    @abstractmethod\n",
    "    def get_name(self):\n",
    "        pass\n",
    "\n",
    "    @abstractmethod\n",
    "    def make_sound(self):\n",
    "        pass\n"
   ]
  },
  {
   "attachments": {},
   "cell_type": "markdown",
   "metadata": {},
   "source": [
    "In this example, we define an abstract class Animal that has two abstract methods: `get_name()` and `make_sound()`. The Animal class inherits from the `ABC` class, and the abstract methods are decorated with `@abstractmethod`. This indicates that any class derived from Animal must provide an implementation for these methods. If a derived class does not provide an implementation for all abstract methods, it will also be considered an abstract class and cannot be instantiated.\n",
    "\n",
    "Here's an example of a concrete class that derives from the Animal abstract class:"
   ]
  },
  {
   "cell_type": "code",
   "execution_count": 41,
   "metadata": {},
   "outputs": [
    {
     "name": "stdout",
     "output_type": "stream",
     "text": [
      "Dog\n",
      "Woof!\n"
     ]
    }
   ],
   "source": [
    "class Dog(Animal):\n",
    "\n",
    "    def get_name(self):\n",
    "        return \"Dog\"\n",
    "\n",
    "    def make_sound(self):\n",
    "        return \"Woof!\"\n",
    "\n",
    "dog = Dog()\n",
    "print(dog.get_name())\n",
    "print(dog.make_sound())"
   ]
  },
  {
   "attachments": {},
   "cell_type": "markdown",
   "metadata": {},
   "source": [
    "### Exercise: Create an abstract class called `Shape`"
   ]
  }
 ],
 "metadata": {
  "language_info": {
   "name": "python"
  },
  "orig_nbformat": 4
 },
 "nbformat": 4,
 "nbformat_minor": 2
}
