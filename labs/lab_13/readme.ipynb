{
 "cells": [
  {
   "attachments": {},
   "cell_type": "markdown",
   "metadata": {},
   "source": [
    "# APSC-5984 Week 13: Object-Oriented Programming (OOP)\n",
    "\n",
    "Object-Oriented Programming (OOP) is a programming paradigm that uses objects and their interactions to design applications and computer programs. The concept of OOP was introduced in the 1960s, and popularized by languages like Smalltalk, C++, and Java.\n",
    "\n",
    "The OOP paradigm is based on the concept of \"objects\", which can contain:\n",
    "- **data**, often known as attributes\n",
    "- and **code**, often known as methods"
   ]
  },
  {
   "cell_type": "code",
   "execution_count": 2,
   "metadata": {},
   "outputs": [
    {
     "data": {
      "text/plain": [
       "array([[1, 2, 3],\n",
       "       [4, 5, 6],\n",
       "       [7, 8, 9]])"
      ]
     },
     "execution_count": 2,
     "metadata": {},
     "output_type": "execute_result"
    }
   ],
   "source": [
    "import numpy as np\n",
    "\n",
    "# instantiate an object of type `ndarray` named `matrix`\n",
    "matrix = np.array([[1, 2, 3], [4, 5, 6], [7, 8, 9]])\n",
    "matrix"
   ]
  },
  {
   "cell_type": "code",
   "execution_count": 3,
   "metadata": {},
   "outputs": [
    {
     "data": {
      "text/plain": [
       "numpy.ndarray"
      ]
     },
     "execution_count": 3,
     "metadata": {},
     "output_type": "execute_result"
    }
   ],
   "source": [
    "# object name (class name): numpy.ndarray\n",
    "type(matrix)"
   ]
  },
  {
   "attachments": {},
   "cell_type": "markdown",
   "metadata": {},
   "source": [
    "Examples of attributes"
   ]
  },
  {
   "cell_type": "code",
   "execution_count": 6,
   "metadata": {},
   "outputs": [],
   "source": [
    "matrix.dtype # tells us the data type of the elements\n",
    "matrix.shape # tells us the dimension of the matirx"
   ]
  },
  {
   "attachments": {},
   "cell_type": "markdown",
   "metadata": {},
   "source": [
    "Examples of methods"
   ]
  },
  {
   "cell_type": "code",
   "execution_count": 10,
   "metadata": {},
   "outputs": [
    {
     "data": {
      "text/plain": [
       "array([1, 2, 3, 4, 5, 6, 7, 8, 9])"
      ]
     },
     "execution_count": 10,
     "metadata": {},
     "output_type": "execute_result"
    }
   ],
   "source": [
    "matrix.sum()\n",
    "matrix.min()\n",
    "matrix.max()\n",
    "matrix.flatten() # turn a matrix (multi-dimension) into a vector (1D)"
   ]
  },
  {
   "cell_type": "code",
   "execution_count": 12,
   "metadata": {},
   "outputs": [
    {
     "data": {
      "text/plain": [
       "4"
      ]
     },
     "execution_count": 12,
     "metadata": {},
     "output_type": "execute_result"
    }
   ],
   "source": [
    "random_int = 10 # an instance of an integer class\n",
    "random_int.bit_length() # an method of an integer"
   ]
  },
  {
   "attachments": {},
   "cell_type": "markdown",
   "metadata": {},
   "source": [
    "A feature of objects is that an object's procedures can access and often modify the data attributes of the object with which they are associated (objects have a notion of \"this\" or \"self\"). In OOP, computer programs are designed by making them out of objects that interact with one another. There is significant diversity of OOP languages, but the most popular ones are class-based, meaning that objects are instances of classes, which also determine their types (e.g., integer, string, etc.)."
   ]
  },
  {
   "attachments": {},
   "cell_type": "markdown",
   "metadata": {},
   "source": [
    "## You don't need to know everything under the hood to drive a car\n",
    "\n",
    "<img src=\"under_the_hood.png\" width=\"500\">\n",
    "\n",
    "In the same way, you don't need to know everything under the hood to drive a car. You don't need to know how the engine works, how the transmission works, how the brakes work, how the steering works, etc. You just need to know how to operate high-level methods (e.g., how to start the car, how to accelerate, how to brake, how to turn, etc.), and you can acheive your goal of moving yourself from one place to another.\n"
   ]
  },
  {
   "attachments": {},
   "cell_type": "markdown",
   "metadata": {},
   "source": [
    "## Classes, attributes, and methods\n",
    "\n",
    "In Python, objects are created using classes, which can contain attributes and methods. Let's work on a simple example to illustrate this concept.\n",
    "\n",
    "There are several components to a Python class:\n",
    "\n",
    "- **Class name**: the name of the class, which is typically capitalized\n",
    "- **Constructor**: a special method that is called when an object is created from the class\n",
    "- **Attributes**: variables that belong to the class. In this example, we have a `name` attribute and a `age` attribute.\n",
    "- **Methods**: functions that belong to the class. In this example, we have\n",
    "  - `get_name()`: a method that returns the name of the person\n",
    "  - `get_age()`: a method that returns the age of the person\n",
    "  - `get_ten_years_older()`: a method that returns the age of the person in 10 years\n"
   ]
  },
  {
   "cell_type": "code",
   "execution_count": 28,
   "metadata": {},
   "outputs": [],
   "source": [
    "class Person: # Class name\n",
    "    def __init__(self, age_from_user=30, name_from_user=\"random\"): # Constructor\n",
    "        self.age = age_from_user\n",
    "        self.name = name_from_user\n",
    "\n",
    "    def get_age(self):\n",
    "        age = self.age # assign the internal data to a local variable `age`\n",
    "        name = self.name\n",
    "        print(\"The age of {} is {}\".format(name, age))\n",
    "        return age"
   ]
  },
  {
   "cell_type": "code",
   "execution_count": 30,
   "metadata": {},
   "outputs": [
    {
     "name": "stdout",
     "output_type": "stream",
     "text": [
      "The age of Jason_2nd is 50\n"
     ]
    }
   ],
   "source": [
    "person_jason = Person(50, \"Jason_2nd\") # an instance of a Person class\n",
    "age_jason = person_jason.get_age()"
   ]
  },
  {
   "cell_type": "code",
   "execution_count": 25,
   "metadata": {},
   "outputs": [
    {
     "data": {
      "text/plain": [
       "30"
      ]
     },
     "execution_count": 25,
     "metadata": {},
     "output_type": "execute_result"
    }
   ],
   "source": [
    "person_random = Person()\n",
    "person_random.age"
   ]
  },
  {
   "attachments": {},
   "cell_type": "markdown",
   "metadata": {},
   "source": [
    "### Exercise: Create a Bank Account class\n",
    "\n",
    "Create a class called `BankAccount` that has the following attributes and methods:\n",
    "\n",
    "- Attributes:\n",
    "  - `balance`: the balance of the account\n",
    "  - `owner`: the owner of the account\n",
    "\n",
    "- Methods:\n",
    "  - `get_balance()`: returns the balance of the account\n",
    "  - `get_owner()`: returns the owner of the account\n",
    "  - `deposit(amount)`: deposits `amount` into the account\n",
    "  - `withdraw(amount)`: withdraws `amount` from the account"
   ]
  },
  {
   "cell_type": "code",
   "execution_count": 31,
   "metadata": {},
   "outputs": [],
   "source": [
    "class BankAccount:\n",
    "    def __init__(self, balance=0, name=\"random\"):\n",
    "        self.balance = balance\n",
    "        self.name = name\n",
    "\n",
    "    def get_balance(self):\n",
    "        # display the balance\n",
    "        return self.balance\n",
    "\n",
    "    def get_owner(self):\n",
    "        return self.name\n",
    "\n",
    "    def deposit(self, amount): # setter method, which return nothing\n",
    "        self.balance = self.balance + amount\n",
    "        print(\"Deposit {} to {}\".format(amount, self.name))\n",
    "\n",
    "    def withdraw(self, amount):\n",
    "        self.balance = self.balance - amount\n",
    "        print(\"Withdraw {} from {}\".format(amount, self.name))"
   ]
  },
  {
   "cell_type": "code",
   "execution_count": 33,
   "metadata": {},
   "outputs": [
    {
     "name": "stdout",
     "output_type": "stream",
     "text": [
      "Deposit 500 to Jason\n"
     ]
    }
   ],
   "source": [
    "acc_jason = BankAccount(100, \"Jason\")\n",
    "acc_jason.deposit(500)"
   ]
  },
  {
   "cell_type": "code",
   "execution_count": 34,
   "metadata": {},
   "outputs": [
    {
     "data": {
      "text/plain": [
       "600"
      ]
     },
     "execution_count": 34,
     "metadata": {},
     "output_type": "execute_result"
    }
   ],
   "source": [
    "acc_jason.get_balance()"
   ]
  },
  {
   "attachments": {},
   "cell_type": "markdown",
   "metadata": {},
   "source": [
    "## Difference between OOP and Functional (or procedural) Programming\n",
    "\n",
    "In procedural programming, the focus is on writing functions or procedures that operate on data. The program is viewed as a list of functions that are called sequentially. In contrast, OOP focuses on creating objects that contain both data and functions. The objects are friendly to be modified, maintained, and reused in other programs. Here are some examples of procedural and OOP programming:"
   ]
  },
  {
   "attachments": {},
   "cell_type": "markdown",
   "metadata": {},
   "source": [
    "### Example 1: Calculating the area and perimeter of a rectangle\n",
    "\n",
    "You are provided with the height and width of a rectangle, and you need to calculate the area and perimeter of the rectangle. In this case, we want to calculate the area of a ractangle with height 5 and width 10:\n",
    "\n",
    "- The area of a rectangle is calculated by multiplying the height and width of the rectangle\n",
    "- The perimeter of a rectangle is calculated by adding the height and width of the rectangle and then multiplying the sum by 2."
   ]
  },
  {
   "cell_type": "code",
   "execution_count": 36,
   "metadata": {},
   "outputs": [],
   "source": [
    "width = 10\n",
    "height = 5"
   ]
  },
  {
   "attachments": {},
   "cell_type": "markdown",
   "metadata": {},
   "source": [
    "#### Procedural programming\n",
    "\n",
    "- Without function call"
   ]
  },
  {
   "cell_type": "code",
   "execution_count": 37,
   "metadata": {},
   "outputs": [
    {
     "name": "stdout",
     "output_type": "stream",
     "text": [
      "Area:  50\n",
      "Perimeter:  30\n"
     ]
    }
   ],
   "source": [
    "# area\n",
    "area = width * height\n",
    "# perimeter\n",
    "perimeter = 2 * (width + height)\n",
    "\n",
    "# output\n",
    "print(\"Area: \", area)\n",
    "print(\"Perimeter: \", perimeter)"
   ]
  },
  {
   "cell_type": "code",
   "execution_count": 38,
   "metadata": {},
   "outputs": [
    {
     "name": "stdout",
     "output_type": "stream",
     "text": [
      "Area:  600\n",
      "Perimeter:  100\n"
     ]
    }
   ],
   "source": [
    "width2 = 20\n",
    "height2 = 30\n",
    "\n",
    "area2 = width2 * height2\n",
    "perimeter2 = 2 * (width2 + height2)\n",
    "\n",
    "print(\"Area: \", area2)\n",
    "print(\"Perimeter: \", perimeter2)"
   ]
  },
  {
   "attachments": {},
   "cell_type": "markdown",
   "metadata": {},
   "source": [
    "* With a function call"
   ]
  },
  {
   "cell_type": "code",
   "execution_count": 40,
   "metadata": {},
   "outputs": [
    {
     "name": "stdout",
     "output_type": "stream",
     "text": [
      "Area:  50\n",
      "Perimeter:  30\n"
     ]
    }
   ],
   "source": [
    "# area\n",
    "def get_area(width, height):\n",
    "    return width * height\n",
    "are = get_area(width, height)\n",
    "\n",
    "# perimeter\n",
    "def get_perimeter(width, height):\n",
    "    return 2 * (width + height)\n",
    "perimeter = get_perimeter(width, height)\n",
    "\n",
    "# output\n",
    "print(\"Area: \", area)\n",
    "print(\"Perimeter: \", perimeter)"
   ]
  },
  {
   "cell_type": "code",
   "execution_count": 41,
   "metadata": {},
   "outputs": [
    {
     "name": "stdout",
     "output_type": "stream",
     "text": [
      "Area:  600\n",
      "Perimeter:  100\n"
     ]
    }
   ],
   "source": [
    "width2 = 20\n",
    "height2 = 30\n",
    "width3 = 20\n",
    "height3 = 50\n",
    "\n",
    "area2 = get_area(width2, height2)\n",
    "perimeter2 = get_perimeter(width2, height2)\n",
    "\n",
    "print(\"Area: \", area2)\n",
    "print(\"Perimeter: \", perimeter2)"
   ]
  },
  {
   "attachments": {},
   "cell_type": "markdown",
   "metadata": {},
   "source": [
    "#### OOP programming"
   ]
  },
  {
   "cell_type": "code",
   "execution_count": 42,
   "metadata": {},
   "outputs": [
    {
     "name": "stdout",
     "output_type": "stream",
     "text": [
      "Area:  50\n",
      "Perimeter:  30\n"
     ]
    }
   ],
   "source": [
    "class Rectangle: # class name\n",
    "    def __init__(self, width, height): # constructor\n",
    "        self.width = width # attribute\n",
    "        self.height = height # attribute\n",
    "\n",
    "    def area(self): # method\n",
    "        return self.width * self.height\n",
    "\n",
    "    def perimeter(self): # method\n",
    "        return 2 * (self.width + self.height)\n",
    "\n",
    "\n",
    "# instantiate an object of type `Rectangle`\n",
    "rectangle = Rectangle(width, height)\n",
    "\n",
    "# area\n",
    "area = rectangle.area()\n",
    "# perimeter\n",
    "perimeter = rectangle.perimeter()\n",
    "\n",
    "# output\n",
    "print(\"Area: \", area)\n",
    "print(\"Perimeter: \", perimeter)"
   ]
  },
  {
   "attachments": {},
   "cell_type": "markdown",
   "metadata": {},
   "source": [
    "### Example 2: Computing the distance between two points\n",
    "\n",
    "You are provided with the coordinates of two points, and you need to calculate the distance between the two points. In this case, we want to calculate the distance between the points (0, 0) and (3, 4):"
   ]
  },
  {
   "cell_type": "code",
   "execution_count": 28,
   "metadata": {},
   "outputs": [],
   "source": [
    "x1, y1 = 0, 0 # point 1\n",
    "x2, y2 = 3, 4 # point 2"
   ]
  },
  {
   "attachments": {},
   "cell_type": "markdown",
   "metadata": {},
   "source": [
    "#### Procedural programming"
   ]
  },
  {
   "cell_type": "code",
   "execution_count": 29,
   "metadata": {},
   "outputs": [
    {
     "name": "stdout",
     "output_type": "stream",
     "text": [
      "Distance: 5.0\n"
     ]
    }
   ],
   "source": [
    "def calculate_distance(x1, y1, x2, y2):\n",
    "    return ((x2 - x1) ** 2 + (y2 - y1) ** 2) ** .5\n",
    "\n",
    "distance = calculate_distance(x1, y1, x2, y2)\n",
    "\n",
    "print(f\"Distance: {distance}\")"
   ]
  },
  {
   "attachments": {},
   "cell_type": "markdown",
   "metadata": {},
   "source": [
    "#### OOP programming"
   ]
  },
  {
   "cell_type": "code",
   "execution_count": 35,
   "metadata": {},
   "outputs": [
    {
     "name": "stdout",
     "output_type": "stream",
     "text": [
      "Distance: 5.0\n"
     ]
    }
   ],
   "source": [
    "class Point:\n",
    "    def __init__(self, x, y):\n",
    "        self.x = x # attribute, int\n",
    "        self.y = y # attribute, int\n",
    "\n",
    "    def distance_to(self, other_point): # other_point: self-defined object\n",
    "        # get the xy coordinate from itself\n",
    "        x1, y1 = self.x, self.y\n",
    "        # get the xy coordinate from the other point\n",
    "        x2, y2 = other_point.x, other_point.y\n",
    "        # apply the distance formula\n",
    "        return ((x2 - x1) ** 2 + (y2 - y1) ** 2) ** .5\n",
    "\n",
    "point1 = Point(x1, y1)\n",
    "point2 = Point(x2, y2)\n",
    "\n",
    "distance = point1.distance_to(point2)\n",
    "\n",
    "print(f\"Distance: {distance}\")"
   ]
  },
  {
   "attachments": {},
   "cell_type": "markdown",
   "metadata": {},
   "source": [
    "## Core fundamentals of OOP\n",
    "\n",
    "There are four core fundamentals of OOP:\n",
    "\n",
    "1. **Abstraction**: Generalization of a concept (e.g., car). The ability to focus on the essential characteristics of an object.\n",
    "\n",
    "2. **Encapsulation**: Protecting the data or methods from the outside world (e.g.,using a hood of the car). Hiding the implementation details from the user (e.g., how the engine works), only the functionality (e.g., steering wheel) will be provided to the user.\n",
    "\n",
    "3. **Inheritance**: The ability to define a new class with little or no modification to an existing class (e.g., a new car model).\n",
    "\n",
    "4. **Polymorphism**: The ability to operate on different data types using the same interface. For example, a car can be a sedan, a truck, or a sport car, but they all can be operated using a steering wheel."
   ]
  },
  {
   "attachments": {},
   "cell_type": "markdown",
   "metadata": {},
   "source": [
    "## Abstraction\n",
    "\n",
    "Abstraction is the process of generalizing a concept. For example, a dog is a specific type of animal. To define a dog, we need to first define the high-level concept of an animal (abstract class), and then define a dog as a specific type of animal (concrete class).\n",
    "\n",
    "In Python, you can define an abstract class using the `abc` module, which stands for \"Abstract Base Class\". The abc module provides a decorator called `@abstractmethod` and a metaclass called ABC that are used to define abstract classes and methods."
   ]
  },
  {
   "cell_type": "code",
   "execution_count": 47,
   "metadata": {},
   "outputs": [],
   "source": [
    "from abc import ABC, abstractmethod\n",
    "\n",
    "class Animal(ABC):\n",
    "\n",
    "    @abstractmethod # required to be implemented by the subclass\n",
    "    def get_name(self):\n",
    "        pass\n",
    "\n",
    "    @abstractmethod # required to be implemented by the subclass\n",
    "    def make_sound(self):\n",
    "        pass\n"
   ]
  },
  {
   "attachments": {},
   "cell_type": "markdown",
   "metadata": {},
   "source": [
    "In this example, we define an abstract class Animal that has two abstract methods: `get_name()` and `make_sound()`. The Animal class inherits from the `ABC` class, and the abstract methods are decorated with `@abstractmethod`. This indicates that any class derived from Animal must provide an implementation for these methods. If a derived class does not provide an implementation for all abstract methods, it will also be considered an abstract class and cannot be instantiated.\n",
    "\n",
    "Here's an example of a concrete class that derives from the Animal abstract class:"
   ]
  },
  {
   "cell_type": "code",
   "execution_count": 49,
   "metadata": {},
   "outputs": [
    {
     "name": "stdout",
     "output_type": "stream",
     "text": [
      "Woof!\n",
      "Meow!\n"
     ]
    }
   ],
   "source": [
    "class Dog(Animal):\n",
    "\n",
    "    def get_name(self):\n",
    "        return \"Dog\"\n",
    "\n",
    "    def make_sound(self):\n",
    "        return \"Woof!\"\n",
    "\n",
    "class Cat(Animal):\n",
    "\n",
    "    def get_name(self):\n",
    "        return \"Cat\"\n",
    "\n",
    "    def make_sound(self):\n",
    "        return \"Meow!\"\n",
    "\n",
    "\n",
    "dog = Dog()\n",
    "print(dog.make_sound())\n",
    "cat = Cat()\n",
    "print(cat.make_sound())"
   ]
  },
  {
   "attachments": {},
   "cell_type": "markdown",
   "metadata": {},
   "source": [
    "### Exercise: Create an abstract class for a shape"
   ]
  },
  {
   "cell_type": "code",
   "execution_count": 45,
   "metadata": {},
   "outputs": [],
   "source": [
    "pass"
   ]
  },
  {
   "attachments": {},
   "cell_type": "markdown",
   "metadata": {},
   "source": [
    "## Encapsulation\n",
    "\n",
    "Encapsulation is the process of hiding the implementation details from the user, while exposing the functionality. For example, a car has a hood that hides the engine, but the user can still operate the car using the steering wheel.\n",
    "\n",
    "In Python, to avoid the user from accessing the attributes and methods of a class directly, you can prefix the attributes and methods with a double underscore (`__`). This indicates that the attributes and methods are \"private\", and they should not be accessed directly from outside the class. Instead, you should provide \"public\" methods for accessing the \"private\" attributes and methods. This is called encapsulation."
   ]
  },
  {
   "attachments": {},
   "cell_type": "markdown",
   "metadata": {},
   "source": [
    "### Example: Dog"
   ]
  },
  {
   "cell_type": "code",
   "execution_count": 83,
   "metadata": {},
   "outputs": [],
   "source": [
    "class Dog:\n",
    "    def __init__(self, name, age):\n",
    "        self.__name = name # private attribute\n",
    "        self.__age = age # private attribute\n",
    "\n",
    "    def __bark(self): # private method\n",
    "        return \"Woof!\"\n",
    "\n",
    "    def greet(self): # public method\n",
    "        # the dog will bark only when it is greeting\n",
    "        return f\"My name is {self.__name}. {self.__bark()}\"\n",
    "\n",
    "    def rename(self, new_name): # public method\n",
    "        self.__name = new_name\n",
    "        print(\"The name has been changed.\")\n",
    "\n",
    "    def get_age(self): # public method\n",
    "        return self.__age\n",
    "\n",
    "    def set_age(self, age): # public method\n",
    "        if age > 0:\n",
    "            self.__age = age\n",
    "        else:\n",
    "            print(\"Invalid age.\")"
   ]
  },
  {
   "cell_type": "code",
   "execution_count": 86,
   "metadata": {},
   "outputs": [
    {
     "data": {
      "text/plain": [
       "'My name is Max. Woof!'"
      ]
     },
     "execution_count": 86,
     "metadata": {},
     "output_type": "execute_result"
    }
   ],
   "source": [
    "dog = Dog(\"Max\", 10)\n",
    "dog.__name = \"Buddy\" # this will not change the name of the dog\n",
    "dog.greet()"
   ]
  },
  {
   "cell_type": "code",
   "execution_count": 87,
   "metadata": {},
   "outputs": [
    {
     "name": "stdout",
     "output_type": "stream",
     "text": [
      "The name has been changed.\n"
     ]
    },
    {
     "data": {
      "text/plain": [
       "'My name is Buddy. Woof!'"
      ]
     },
     "execution_count": 87,
     "metadata": {},
     "output_type": "execute_result"
    }
   ],
   "source": [
    "dog.rename(\"Buddy\")\n",
    "dog.greet()"
   ]
  },
  {
   "attachments": {},
   "cell_type": "markdown",
   "metadata": {},
   "source": [
    "### Example: Quadratic Equation\n",
    "\n",
    "We can create a solver for a quadratic equation using OOP."
   ]
  },
  {
   "cell_type": "code",
   "execution_count": 88,
   "metadata": {},
   "outputs": [
    {
     "name": "stdout",
     "output_type": "stream",
     "text": [
      "Roots: 2.0, 1.0\n"
     ]
    }
   ],
   "source": [
    "import math\n",
    "\n",
    "class QuadraticEquation:\n",
    "    def __init__(self, a, b, c):\n",
    "        self.__a = a\n",
    "        self.__b = b\n",
    "        self.__c = c\n",
    "\n",
    "    def __discriminant(self):\n",
    "        return self.__b ** 2 - 4 * self.__a * self.__c\n",
    "\n",
    "    def __has_real_roots(self):\n",
    "        return self.__discriminant() >= 0\n",
    "\n",
    "    def calculate_roots(self):\n",
    "        if not self.__has_real_roots():\n",
    "            print(\"No real roots.\")\n",
    "            return None\n",
    "\n",
    "        d = self.__discriminant()\n",
    "        root1 = (-self.__b + math.sqrt(d)) / (2 * self.__a)\n",
    "        root2 = (-self.__b - math.sqrt(d)) / (2 * self.__a)\n",
    "        return root1, root2\n",
    "\n",
    "# Example usage\n",
    "eq1 = QuadraticEquation(1, -3, 2)\n",
    "roots = eq1.calculate_roots()\n",
    "if roots:\n",
    "    print(f\"Roots: {roots[0]}, {roots[1]}\")\n"
   ]
  },
  {
   "attachments": {},
   "cell_type": "markdown",
   "metadata": {},
   "source": [
    "## Exercise: Working with dataframes\n",
    "\n",
    "Determine the relationship between the cows' daily milk production yield and their hourly walking activity while taking into account additional factors such as temperature, humidity, and parity number.\n",
    "\n",
    "### Dataset"
   ]
  },
  {
   "cell_type": "code",
   "execution_count": 93,
   "metadata": {},
   "outputs": [
    {
     "name": "stdout",
     "output_type": "stream",
     "text": [
      "Milk data:\n"
     ]
    },
    {
     "data": {
      "text/html": [
       "<div>\n",
       "<style scoped>\n",
       "    .dataframe tbody tr th:only-of-type {\n",
       "        vertical-align: middle;\n",
       "    }\n",
       "\n",
       "    .dataframe tbody tr th {\n",
       "        vertical-align: top;\n",
       "    }\n",
       "\n",
       "    .dataframe thead th {\n",
       "        text-align: right;\n",
       "    }\n",
       "</style>\n",
       "<table border=\"1\" class=\"dataframe\">\n",
       "  <thead>\n",
       "    <tr style=\"text-align: right;\">\n",
       "      <th></th>\n",
       "      <th>cow_id</th>\n",
       "      <th>farm_id</th>\n",
       "      <th>yield</th>\n",
       "    </tr>\n",
       "  </thead>\n",
       "  <tbody>\n",
       "    <tr>\n",
       "      <th>0</th>\n",
       "      <td>1</td>\n",
       "      <td>2</td>\n",
       "      <td>1107.539840</td>\n",
       "    </tr>\n",
       "    <tr>\n",
       "      <th>1</th>\n",
       "      <td>2</td>\n",
       "      <td>2</td>\n",
       "      <td>1113.366979</td>\n",
       "    </tr>\n",
       "    <tr>\n",
       "      <th>2</th>\n",
       "      <td>3</td>\n",
       "      <td>1</td>\n",
       "      <td>1108.767593</td>\n",
       "    </tr>\n",
       "    <tr>\n",
       "      <th>3</th>\n",
       "      <td>4</td>\n",
       "      <td>4</td>\n",
       "      <td>1103.465606</td>\n",
       "    </tr>\n",
       "    <tr>\n",
       "      <th>4</th>\n",
       "      <td>5</td>\n",
       "      <td>4</td>\n",
       "      <td>1070.154631</td>\n",
       "    </tr>\n",
       "  </tbody>\n",
       "</table>\n",
       "</div>"
      ],
      "text/plain": [
       "   cow_id  farm_id        yield\n",
       "0       1        2  1107.539840\n",
       "1       2        2  1113.366979\n",
       "2       3        1  1108.767593\n",
       "3       4        4  1103.465606\n",
       "4       5        4  1070.154631"
      ]
     },
     "metadata": {},
     "output_type": "display_data"
    },
    {
     "name": "stdout",
     "output_type": "stream",
     "text": [
      "Walk data:\n"
     ]
    },
    {
     "data": {
      "text/html": [
       "<div>\n",
       "<style scoped>\n",
       "    .dataframe tbody tr th:only-of-type {\n",
       "        vertical-align: middle;\n",
       "    }\n",
       "\n",
       "    .dataframe tbody tr th {\n",
       "        vertical-align: top;\n",
       "    }\n",
       "\n",
       "    .dataframe thead th {\n",
       "        text-align: right;\n",
       "    }\n",
       "</style>\n",
       "<table border=\"1\" class=\"dataframe\">\n",
       "  <thead>\n",
       "    <tr style=\"text-align: right;\">\n",
       "      <th></th>\n",
       "      <th>cow_id</th>\n",
       "      <th>farm_id</th>\n",
       "      <th>day</th>\n",
       "      <th>hour</th>\n",
       "      <th>steps</th>\n",
       "      <th>temperature</th>\n",
       "      <th>humidity</th>\n",
       "    </tr>\n",
       "  </thead>\n",
       "  <tbody>\n",
       "    <tr>\n",
       "      <th>0</th>\n",
       "      <td>1</td>\n",
       "      <td>2</td>\n",
       "      <td>0</td>\n",
       "      <td>0</td>\n",
       "      <td>148</td>\n",
       "      <td>16.4</td>\n",
       "      <td>47.5</td>\n",
       "    </tr>\n",
       "    <tr>\n",
       "      <th>1</th>\n",
       "      <td>1</td>\n",
       "      <td>2</td>\n",
       "      <td>0</td>\n",
       "      <td>1</td>\n",
       "      <td>102</td>\n",
       "      <td>22.1</td>\n",
       "      <td>64.1</td>\n",
       "    </tr>\n",
       "    <tr>\n",
       "      <th>2</th>\n",
       "      <td>1</td>\n",
       "      <td>2</td>\n",
       "      <td>0</td>\n",
       "      <td>2</td>\n",
       "      <td>198</td>\n",
       "      <td>15.7</td>\n",
       "      <td>45.0</td>\n",
       "    </tr>\n",
       "    <tr>\n",
       "      <th>3</th>\n",
       "      <td>1</td>\n",
       "      <td>2</td>\n",
       "      <td>0</td>\n",
       "      <td>3</td>\n",
       "      <td>149</td>\n",
       "      <td>17.4</td>\n",
       "      <td>63.9</td>\n",
       "    </tr>\n",
       "    <tr>\n",
       "      <th>4</th>\n",
       "      <td>1</td>\n",
       "      <td>2</td>\n",
       "      <td>0</td>\n",
       "      <td>4</td>\n",
       "      <td>161</td>\n",
       "      <td>23.9</td>\n",
       "      <td>78.8</td>\n",
       "    </tr>\n",
       "  </tbody>\n",
       "</table>\n",
       "</div>"
      ],
      "text/plain": [
       "   cow_id  farm_id  day  hour  steps  temperature  humidity\n",
       "0       1        2    0     0    148         16.4      47.5\n",
       "1       1        2    0     1    102         22.1      64.1\n",
       "2       1        2    0     2    198         15.7      45.0\n",
       "3       1        2    0     3    149         17.4      63.9\n",
       "4       1        2    0     4    161         23.9      78.8"
      ]
     },
     "metadata": {},
     "output_type": "display_data"
    }
   ],
   "source": [
    "import pandas as pd\n",
    "\n",
    "data_milk = pd.read_csv(\"data_milk.csv\")\n",
    "data_walk = pd.read_csv(\"data_walk.csv\")\n",
    "\n",
    "print(\"Milk data:\")\n",
    "display(data_milk.head())\n",
    "print(\"Walk data:\")\n",
    "display(data_walk.head())"
   ]
  },
  {
   "cell_type": "code",
   "execution_count": null,
   "metadata": {},
   "outputs": [],
   "source": []
  }
 ],
 "metadata": {
  "kernelspec": {
   "display_name": "niche",
   "language": "python",
   "name": "python3"
  },
  "language_info": {
   "codemirror_mode": {
    "name": "ipython",
    "version": 3
   },
   "file_extension": ".py",
   "mimetype": "text/x-python",
   "name": "python",
   "nbconvert_exporter": "python",
   "pygments_lexer": "ipython3",
   "version": "3.9.16"
  },
  "orig_nbformat": 4
 },
 "nbformat": 4,
 "nbformat_minor": 2
}
