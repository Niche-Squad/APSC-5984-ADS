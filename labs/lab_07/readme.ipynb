{
 "cells": [
  {
   "attachments": {},
   "cell_type": "markdown",
   "metadata": {},
   "source": [
    "# APSC-5984 Lab 7: API and Database\n",
    "\n",
    "## 0. Overview\n",
    "\n",
    "API stands for Application Programming Interface. It is a set of tools meant to interact with other software or database. In this lab, we will use `requests` to interact with two USDA APIs. Later this week, we will also use `sqlite3` to practice building a database on our own.\n"
   ]
  },
  {
   "cell_type": "code",
   "execution_count": 1,
   "metadata": {},
   "outputs": [],
   "source": [
    "import pandas as pd\n",
    "import numpy as np\n",
    "import requests"
   ]
  },
  {
   "attachments": {},
   "cell_type": "markdown",
   "metadata": {},
   "source": [
    "## 1. USDA local food portal API\n",
    "\n",
    "### Configuration\n",
    "\n",
    "Before you can use the API, you need to get an API key and essentail parameters, such as the database you want to interact with and the query you want to run. Please treat the API key as a password and do not share it with others. Go to the [USDA local food portal](https://www.usdalocalfoodportal.com/fe/fregisterpublicapi) to register for an API key."
   ]
  },
  {
   "cell_type": "code",
   "execution_count": null,
   "metadata": {},
   "outputs": [],
   "source": [
    "API = \"xxxxxxx\" # fill in your API key\n",
    "headers = {\n",
    "    \"User-Agent\": \"Mozilla/5.0 (Windows NT 10.0; Win64; x64) AppleWebKit/537.36 (KHTML, like Gecko) Chrome/96.0.4664.110 Safari/537.36\",\n",
    "    \"Referer\": \"https://www.google.com/\",\n",
    "}\n",
    "params = {\"apikey\": API, \"y\": 37.221508, \"x\": -80.423857, \"radius\": 100}\n",
    "base_url = \"https://www.usdalocalfoodportal.com/api/farmersmarket/\""
   ]
  },
  {
   "attachments": {},
   "cell_type": "markdown",
   "metadata": {},
   "source": [
    "### Request responses\n",
    "\n",
    "The responses are usually coded as 3-digit numbers. The most common ones are:\n",
    "\n",
    "* 1xx - Informational response - the request was received, continuing process\n",
    "* 2xx - Success - the request was successfully received, understood, and accepted\n",
    "* 3xx - Redirection - further action needs to be taken in order to complete the request\n",
    "* 4xx - Client error - the request contains bad syntax or cannot be fulfilled\n",
    "* 5xx - Server error - the server failed to fulfill an apparently valid request\n",
    "\n",
    "In most cases, you want to get a 2xx response. If you get a 4xx or 5xx response, you need to check your code and make sure you are using the API correctly."
   ]
  },
  {
   "cell_type": "code",
   "execution_count": 3,
   "metadata": {},
   "outputs": [
    {
     "data": {
      "text/plain": [
       "<Response [200]>"
      ]
     },
     "execution_count": 3,
     "metadata": {},
     "output_type": "execute_result"
    }
   ],
   "source": [
    "response = requests.get(base_url, headers=headers, params=params)\n",
    "response"
   ]
  },
  {
   "attachments": {},
   "cell_type": "markdown",
   "metadata": {},
   "source": [
    "### Parsing JSON\n",
    "\n",
    "The response from the API is usually in JSON format. JSON stands for JavaScript Object Notation. It is a lightweight data-interchange format. It is not easy for humans to read and write, hense we can call `.json()` and `pd.DataFrame()` to parse the response into a tabular format."
   ]
  },
  {
   "cell_type": "code",
   "execution_count": 4,
   "metadata": {},
   "outputs": [
    {
     "data": {
      "text/html": [
       "<div>\n",
       "<style scoped>\n",
       "    .dataframe tbody tr th:only-of-type {\n",
       "        vertical-align: middle;\n",
       "    }\n",
       "\n",
       "    .dataframe tbody tr th {\n",
       "        vertical-align: top;\n",
       "    }\n",
       "\n",
       "    .dataframe thead th {\n",
       "        text-align: right;\n",
       "    }\n",
       "</style>\n",
       "<table border=\"1\" class=\"dataframe\">\n",
       "  <thead>\n",
       "    <tr style=\"text-align: right;\">\n",
       "      <th></th>\n",
       "      <th>directory_type</th>\n",
       "      <th>directory_name</th>\n",
       "      <th>updatetime</th>\n",
       "      <th>listing_image</th>\n",
       "      <th>listing_id</th>\n",
       "      <th>listing_name</th>\n",
       "      <th>listing_desc</th>\n",
       "      <th>brief_desc</th>\n",
       "      <th>mydesc</th>\n",
       "      <th>contact_name</th>\n",
       "      <th>...</th>\n",
       "      <th>media_blog</th>\n",
       "      <th>location_address</th>\n",
       "      <th>location_state</th>\n",
       "      <th>location_city</th>\n",
       "      <th>location_street</th>\n",
       "      <th>location_zipcode</th>\n",
       "      <th>location_x</th>\n",
       "      <th>location_y</th>\n",
       "      <th>distance</th>\n",
       "      <th>term</th>\n",
       "    </tr>\n",
       "  </thead>\n",
       "  <tbody>\n",
       "    <tr>\n",
       "      <th>0</th>\n",
       "      <td>farmersmarket</td>\n",
       "      <td>farmers market</td>\n",
       "      <td>Jan 26th, 2021</td>\n",
       "      <td>default-farmersmarket-4-3.jpg</td>\n",
       "      <td>300156</td>\n",
       "      <td>Salem Farmers Market</td>\n",
       "      <td>None</td>\n",
       "      <td>Open: April to December; January to March; &lt;br...</td>\n",
       "      <td></td>\n",
       "      <td>Market Manager</td>\n",
       "      <td>...</td>\n",
       "      <td>None</td>\n",
       "      <td>3 East Main Street, Salem, Virginia 24153</td>\n",
       "      <td>Virginia</td>\n",
       "      <td>Salem</td>\n",
       "      <td>3 East Main Street</td>\n",
       "      <td>24153</td>\n",
       "      <td>-80.058606</td>\n",
       "      <td>37.292997</td>\n",
       "      <td>20.684638895041772</td>\n",
       "      <td></td>\n",
       "    </tr>\n",
       "    <tr>\n",
       "      <th>1</th>\n",
       "      <td>farmersmarket</td>\n",
       "      <td>farmers market</td>\n",
       "      <td>Feb 1st, 2021</td>\n",
       "      <td>default-farmersmarket-4-3.jpg</td>\n",
       "      <td>300469</td>\n",
       "      <td>Grandin Village Farmers Market</td>\n",
       "      <td>None</td>\n",
       "      <td>Open: April to November; November to March; &lt;b...</td>\n",
       "      <td></td>\n",
       "      <td>Sam Lev</td>\n",
       "      <td>...</td>\n",
       "      <td>None</td>\n",
       "      <td>2080 Westover Ave SW, Roanoke, Virginia 24015</td>\n",
       "      <td>Virginia</td>\n",
       "      <td>Roanoke</td>\n",
       "      <td>2080 Westover Ave SW</td>\n",
       "      <td>24015</td>\n",
       "      <td>-79.978064</td>\n",
       "      <td>37.265053</td>\n",
       "      <td>24.703908391067827</td>\n",
       "      <td></td>\n",
       "    </tr>\n",
       "    <tr>\n",
       "      <th>2</th>\n",
       "      <td>farmersmarket</td>\n",
       "      <td>farmers market</td>\n",
       "      <td>Sep 27th, 2021</td>\n",
       "      <td>default-farmersmarket-4-3.jpg</td>\n",
       "      <td>301601</td>\n",
       "      <td>The Historic City Market</td>\n",
       "      <td>None</td>\n",
       "      <td>Open: Year-round&lt;br&gt;Available Products: Fresh ...</td>\n",
       "      <td></td>\n",
       "      <td>Eric L Pendleton</td>\n",
       "      <td>...</td>\n",
       "      <td>None</td>\n",
       "      <td>213 Market St SE 3rd Floor, Downtown Roanoke I...</td>\n",
       "      <td>Virginia</td>\n",
       "      <td>Roanoke</td>\n",
       "      <td>213 Market St SE 3rd Floor, Downtown Roanoke Inc.</td>\n",
       "      <td>24011</td>\n",
       "      <td>-79.939064</td>\n",
       "      <td>37.271606</td>\n",
       "      <td>26.88770808513208</td>\n",
       "      <td></td>\n",
       "    </tr>\n",
       "    <tr>\n",
       "      <th>3</th>\n",
       "      <td>farmersmarket</td>\n",
       "      <td>farmers market</td>\n",
       "      <td>Aug 23rd, 2021</td>\n",
       "      <td>default-farmersmarket-4-3.jpg</td>\n",
       "      <td>301590</td>\n",
       "      <td>Rocky Mount Farmers Market</td>\n",
       "      <td>None</td>\n",
       "      <td>Open: April to December; &lt;br&gt;Available Product...</td>\n",
       "      <td></td>\n",
       "      <td>Paul Cauley</td>\n",
       "      <td>...</td>\n",
       "      <td>None</td>\n",
       "      <td>435 Franklin St, Rocky Mount, Virginia 24151</td>\n",
       "      <td>Virginia</td>\n",
       "      <td>Rocky Mount</td>\n",
       "      <td>435 Franklin St</td>\n",
       "      <td>24151</td>\n",
       "      <td>-79.888073</td>\n",
       "      <td>36.994866</td>\n",
       "      <td>33.41846778835633</td>\n",
       "      <td></td>\n",
       "    </tr>\n",
       "    <tr>\n",
       "      <th>4</th>\n",
       "      <td>farmersmarket</td>\n",
       "      <td>farmers market</td>\n",
       "      <td>Jan 7th, 2021</td>\n",
       "      <td>default-farmersmarket-4-3.jpg</td>\n",
       "      <td>300467</td>\n",
       "      <td>Wytheville Farmers Market</td>\n",
       "      <td>None</td>\n",
       "      <td>Open: Year-round&lt;br&gt;Available Products: Fresh ...</td>\n",
       "      <td></td>\n",
       "      <td>Joanne McNulty</td>\n",
       "      <td>...</td>\n",
       "      <td>None</td>\n",
       "      <td>210 W. Spring Street, Wytheville , Virginia 24368</td>\n",
       "      <td>Virginia</td>\n",
       "      <td>Wytheville</td>\n",
       "      <td>210 W. Spring Street</td>\n",
       "      <td>24368</td>\n",
       "      <td>-81.083367</td>\n",
       "      <td>36.9486397</td>\n",
       "      <td>40.94927484093051</td>\n",
       "      <td></td>\n",
       "    </tr>\n",
       "  </tbody>\n",
       "</table>\n",
       "<p>5 rows × 28 columns</p>\n",
       "</div>"
      ],
      "text/plain": [
       "  directory_type  directory_name      updatetime  \\\n",
       "0  farmersmarket  farmers market  Jan 26th, 2021   \n",
       "1  farmersmarket  farmers market   Feb 1st, 2021   \n",
       "2  farmersmarket  farmers market  Sep 27th, 2021   \n",
       "3  farmersmarket  farmers market  Aug 23rd, 2021   \n",
       "4  farmersmarket  farmers market   Jan 7th, 2021   \n",
       "\n",
       "                   listing_image listing_id                    listing_name  \\\n",
       "0  default-farmersmarket-4-3.jpg     300156            Salem Farmers Market   \n",
       "1  default-farmersmarket-4-3.jpg     300469  Grandin Village Farmers Market   \n",
       "2  default-farmersmarket-4-3.jpg     301601        The Historic City Market   \n",
       "3  default-farmersmarket-4-3.jpg     301590      Rocky Mount Farmers Market   \n",
       "4  default-farmersmarket-4-3.jpg     300467       Wytheville Farmers Market   \n",
       "\n",
       "  listing_desc                                         brief_desc mydesc  \\\n",
       "0         None  Open: April to December; January to March; <br...          \n",
       "1         None  Open: April to November; November to March; <b...          \n",
       "2         None  Open: Year-round<br>Available Products: Fresh ...          \n",
       "3         None  Open: April to December; <br>Available Product...          \n",
       "4         None  Open: Year-round<br>Available Products: Fresh ...          \n",
       "\n",
       "       contact_name  ... media_blog  \\\n",
       "0    Market Manager  ...       None   \n",
       "1           Sam Lev  ...       None   \n",
       "2  Eric L Pendleton  ...       None   \n",
       "3       Paul Cauley  ...       None   \n",
       "4    Joanne McNulty  ...       None   \n",
       "\n",
       "                                    location_address location_state  \\\n",
       "0          3 East Main Street, Salem, Virginia 24153       Virginia   \n",
       "1      2080 Westover Ave SW, Roanoke, Virginia 24015       Virginia   \n",
       "2  213 Market St SE 3rd Floor, Downtown Roanoke I...       Virginia   \n",
       "3       435 Franklin St, Rocky Mount, Virginia 24151       Virginia   \n",
       "4  210 W. Spring Street, Wytheville , Virginia 24368       Virginia   \n",
       "\n",
       "  location_city                                    location_street  \\\n",
       "0         Salem                                 3 East Main Street   \n",
       "1       Roanoke                               2080 Westover Ave SW   \n",
       "2       Roanoke  213 Market St SE 3rd Floor, Downtown Roanoke Inc.   \n",
       "3   Rocky Mount                                    435 Franklin St   \n",
       "4    Wytheville                               210 W. Spring Street   \n",
       "\n",
       "  location_zipcode  location_x  location_y            distance term  \n",
       "0            24153  -80.058606   37.292997  20.684638895041772       \n",
       "1            24015  -79.978064   37.265053  24.703908391067827       \n",
       "2            24011  -79.939064   37.271606   26.88770808513208       \n",
       "3            24151  -79.888073   36.994866   33.41846778835633       \n",
       "4            24368  -81.083367  36.9486397   40.94927484093051       \n",
       "\n",
       "[5 rows x 28 columns]"
      ]
     },
     "execution_count": 4,
     "metadata": {},
     "output_type": "execute_result"
    }
   ],
   "source": [
    "json = response.json()\n",
    "df = pd.DataFrame(json[\"data\"])\n",
    "df.head()"
   ]
  },
  {
   "attachments": {},
   "cell_type": "markdown",
   "metadata": {},
   "source": [
    "### Rearranging the data\n",
    "\n",
    "The data might contain more information than you need. We can use Pandas techniques we learned before to rearrange the data."
   ]
  },
  {
   "cell_type": "code",
   "execution_count": 7,
   "metadata": {},
   "outputs": [
    {
     "data": {
      "text/html": [
       "<div>\n",
       "<style scoped>\n",
       "    .dataframe tbody tr th:only-of-type {\n",
       "        vertical-align: middle;\n",
       "    }\n",
       "\n",
       "    .dataframe tbody tr th {\n",
       "        vertical-align: top;\n",
       "    }\n",
       "\n",
       "    .dataframe thead th {\n",
       "        text-align: right;\n",
       "    }\n",
       "</style>\n",
       "<table border=\"1\" class=\"dataframe\">\n",
       "  <thead>\n",
       "    <tr style=\"text-align: right;\">\n",
       "      <th></th>\n",
       "      <th>listing_name</th>\n",
       "      <th>brief_desc</th>\n",
       "      <th>contact_name</th>\n",
       "      <th>contact_phone</th>\n",
       "      <th>media_website</th>\n",
       "      <th>media_facebook</th>\n",
       "      <th>media_twitter</th>\n",
       "      <th>location_city</th>\n",
       "      <th>location_state</th>\n",
       "      <th>location_y</th>\n",
       "      <th>location_x</th>\n",
       "    </tr>\n",
       "  </thead>\n",
       "  <tbody>\n",
       "    <tr>\n",
       "      <th>0</th>\n",
       "      <td>Salem Farmers Market</td>\n",
       "      <td>Open: April to December; January to March; &lt;br...</td>\n",
       "      <td>Market Manager</td>\n",
       "      <td>540-375-4098</td>\n",
       "      <td>market.salemva.gov</td>\n",
       "      <td>https://www.facebook.com/SalemVaMarket</td>\n",
       "      <td>https://twitter.com/SalemVaMarket</td>\n",
       "      <td>Salem</td>\n",
       "      <td>Virginia</td>\n",
       "      <td>37.292997</td>\n",
       "      <td>-80.058606</td>\n",
       "    </tr>\n",
       "    <tr>\n",
       "      <th>1</th>\n",
       "      <td>Grandin Village Farmers Market</td>\n",
       "      <td>Open: April to November; November to March; &lt;b...</td>\n",
       "      <td>Sam Lev</td>\n",
       "      <td>540-632-1360</td>\n",
       "      <td>www.leapforlocalfood.org/grandin</td>\n",
       "      <td>facebook.com/grandinvillagecommunitymarket</td>\n",
       "      <td>@leapforlocal</td>\n",
       "      <td>Roanoke</td>\n",
       "      <td>Virginia</td>\n",
       "      <td>37.265053</td>\n",
       "      <td>-79.978064</td>\n",
       "    </tr>\n",
       "    <tr>\n",
       "      <th>2</th>\n",
       "      <td>The Historic City Market</td>\n",
       "      <td>Open: Year-round&lt;br&gt;Available Products: Fresh ...</td>\n",
       "      <td>Eric L Pendleton</td>\n",
       "      <td>5403422028</td>\n",
       "      <td>Downtownroanoke.org</td>\n",
       "      <td>The Historic City Market</td>\n",
       "      <td>None</td>\n",
       "      <td>Roanoke</td>\n",
       "      <td>Virginia</td>\n",
       "      <td>37.271606</td>\n",
       "      <td>-79.939064</td>\n",
       "    </tr>\n",
       "    <tr>\n",
       "      <th>3</th>\n",
       "      <td>Rocky Mount Farmers Market</td>\n",
       "      <td>Open: April to December; &lt;br&gt;Available Product...</td>\n",
       "      <td>Paul Cauley</td>\n",
       "      <td>540-488-2023</td>\n",
       "      <td>None</td>\n",
       "      <td>None</td>\n",
       "      <td>None</td>\n",
       "      <td>Rocky Mount</td>\n",
       "      <td>Virginia</td>\n",
       "      <td>36.994866</td>\n",
       "      <td>-79.888073</td>\n",
       "    </tr>\n",
       "    <tr>\n",
       "      <th>4</th>\n",
       "      <td>Wytheville Farmers Market</td>\n",
       "      <td>Open: Year-round&lt;br&gt;Available Products: Fresh ...</td>\n",
       "      <td>Joanne McNulty</td>\n",
       "      <td>276-620-4095</td>\n",
       "      <td>www.wythevillefarmersmarket.com</td>\n",
       "      <td>Wytheville Farmers Market</td>\n",
       "      <td>None</td>\n",
       "      <td>Wytheville</td>\n",
       "      <td>Virginia</td>\n",
       "      <td>36.9486397</td>\n",
       "      <td>-81.083367</td>\n",
       "    </tr>\n",
       "    <tr>\n",
       "      <th>5</th>\n",
       "      <td>Galax Farmers Market</td>\n",
       "      <td>Open: 05/11/2023 to 10/28/2023; &lt;br&gt;Available ...</td>\n",
       "      <td>Jordan Shaw</td>\n",
       "      <td>276.733.4145</td>\n",
       "      <td>https://visitgalax.com/</td>\n",
       "      <td>https://www.facebook.com/search/top?q=galaxfar...</td>\n",
       "      <td></td>\n",
       "      <td>Galax</td>\n",
       "      <td>VA</td>\n",
       "      <td>36.6632146</td>\n",
       "      <td>-80.925742</td>\n",
       "    </tr>\n",
       "    <tr>\n",
       "      <th>6</th>\n",
       "      <td>Forest farmers market</td>\n",
       "      <td>Open: April to October; November to December; ...</td>\n",
       "      <td>Dorothy McIntyre</td>\n",
       "      <td>434-665-5475</td>\n",
       "      <td>www.forestfarmersmarket.com</td>\n",
       "      <td>https://www.facebook.com/pages/Forest-farmers-...</td>\n",
       "      <td>https://twitter.com/FFM221</td>\n",
       "      <td>Forest</td>\n",
       "      <td>Virginia</td>\n",
       "      <td>37.3643700</td>\n",
       "      <td>-79.285443</td>\n",
       "    </tr>\n",
       "    <tr>\n",
       "      <th>7</th>\n",
       "      <td>King Farmers' Market</td>\n",
       "      <td>Open: May to September; &lt;br&gt;Available Products...</td>\n",
       "      <td>Deb Fox</td>\n",
       "      <td>336-618-1086</td>\n",
       "      <td>www.kingfarmersmarket.com</td>\n",
       "      <td>www.facebook.com/KingFarmersMarket</td>\n",
       "      <td>https://twitter.com/KingFarmersMkt</td>\n",
       "      <td>King</td>\n",
       "      <td>North Carolina</td>\n",
       "      <td>36.276367</td>\n",
       "      <td>-80.341178</td>\n",
       "    </tr>\n",
       "    <tr>\n",
       "      <th>8</th>\n",
       "      <td>Lynchburg Community Market</td>\n",
       "      <td>Open: Year-round&lt;br&gt;Available Products: Fresh ...</td>\n",
       "      <td>Ricky Kowalewski</td>\n",
       "      <td>434.455.3962</td>\n",
       "      <td>http://lynchburgcommunitymarket.com/</td>\n",
       "      <td>https://www.facebook.com/LynchburgCommunityMar...</td>\n",
       "      <td>None</td>\n",
       "      <td>Lynchburg</td>\n",
       "      <td>Virginia</td>\n",
       "      <td>37.411517</td>\n",
       "      <td>-79.140379</td>\n",
       "    </tr>\n",
       "    <tr>\n",
       "      <th>9</th>\n",
       "      <td>The Market at Second Stage</td>\n",
       "      <td>Open: May to October; November to April; &lt;br&gt;A...</td>\n",
       "      <td>Mary Hurst</td>\n",
       "      <td>434.941.0997</td>\n",
       "      <td>https://secondstageamherst.org/markets</td>\n",
       "      <td>https://www.facebook.com/The-Market-at-Second-...</td>\n",
       "      <td>None</td>\n",
       "      <td>Amherst</td>\n",
       "      <td>Virginia</td>\n",
       "      <td>37.583162</td>\n",
       "      <td>-79.048809</td>\n",
       "    </tr>\n",
       "    <tr>\n",
       "      <th>10</th>\n",
       "      <td>Piedmont Triad Farmers Market</td>\n",
       "      <td>Open: Year-round&lt;br&gt;Available Products: Fresh ...</td>\n",
       "      <td>Rick Cecil</td>\n",
       "      <td>(336) 605-9157</td>\n",
       "      <td>www.triadfarmersmarket.com</td>\n",
       "      <td>https://www.facebook.com/pages/Robert-G-Shaw-P...</td>\n",
       "      <td>None</td>\n",
       "      <td>Colfax</td>\n",
       "      <td>North Carolina</td>\n",
       "      <td>36.087691</td>\n",
       "      <td>-79.992657</td>\n",
       "    </tr>\n",
       "    <tr>\n",
       "      <th>11</th>\n",
       "      <td>Wilkes County Farmers' Market</td>\n",
       "      <td>Open: April to October; ; &lt;br&gt;Available Produc...</td>\n",
       "      <td>Garrett Griffin</td>\n",
       "      <td>3366677129</td>\n",
       "      <td>www.downtownnorthwilkesboro.com</td>\n",
       "      <td>https://www.facebook.com/wilkescountyfarmersma...</td>\n",
       "      <td>None</td>\n",
       "      <td>North Wilkesboro</td>\n",
       "      <td>North Carolina</td>\n",
       "      <td>36.159075</td>\n",
       "      <td>-81.145200</td>\n",
       "    </tr>\n",
       "    <tr>\n",
       "      <th>12</th>\n",
       "      <td>The Corner Farmers Market</td>\n",
       "      <td>Open: Year-round&lt;br&gt;Available Products: Fresh ...</td>\n",
       "      <td>Kathy Newsom</td>\n",
       "      <td>3365586924</td>\n",
       "      <td>www.cornermarketgso.com</td>\n",
       "      <td>https://www.facebook.com/walkerelamcornermarket/</td>\n",
       "      <td>None</td>\n",
       "      <td>Greensboro</td>\n",
       "      <td>North Carolina</td>\n",
       "      <td>36.069019</td>\n",
       "      <td>-79.828293</td>\n",
       "    </tr>\n",
       "    <tr>\n",
       "      <th>13</th>\n",
       "      <td>Webster Springs Farmer's Market</td>\n",
       "      <td>Open: July to October; &lt;br&gt;Available Products:...</td>\n",
       "      <td>Mike Hall</td>\n",
       "      <td>304-847-2727</td>\n",
       "      <td>None</td>\n",
       "      <td>None</td>\n",
       "      <td>None</td>\n",
       "      <td>Webster Springs</td>\n",
       "      <td>West Virginia</td>\n",
       "      <td>38.478420</td>\n",
       "      <td>-80.415459</td>\n",
       "    </tr>\n",
       "    <tr>\n",
       "      <th>14</th>\n",
       "      <td>Boone Winter Farmers Market</td>\n",
       "      <td>Open: 12/03/2022 to 03/25/2023; &lt;br&gt;Available ...</td>\n",
       "      <td>Rachel Kinard</td>\n",
       "      <td>803-429-3943</td>\n",
       "      <td>https://www.brwia.org/wintermarket.html</td>\n",
       "      <td>https://www.facebook.com/BooneWinterFM</td>\n",
       "      <td></td>\n",
       "      <td>Boone</td>\n",
       "      <td>North Carolina</td>\n",
       "      <td>36.2204478</td>\n",
       "      <td>-81.6887158</td>\n",
       "    </tr>\n",
       "    <tr>\n",
       "      <th>15</th>\n",
       "      <td>King Street Farmers Market</td>\n",
       "      <td>Open: 05/03/2022 to 10/25/2022; &lt;br&gt;Available ...</td>\n",
       "      <td>Rachel Kinard</td>\n",
       "      <td>8034293943</td>\n",
       "      <td>https://www.brwia.org/ksm.html</td>\n",
       "      <td>https://www.facebook.com/KingStreetMkt</td>\n",
       "      <td></td>\n",
       "      <td>Boone</td>\n",
       "      <td>North Carolina</td>\n",
       "      <td>36.2198305</td>\n",
       "      <td>-81.69312339999999</td>\n",
       "    </tr>\n",
       "    <tr>\n",
       "      <th>16</th>\n",
       "      <td>Verona Farmers Market</td>\n",
       "      <td>Open: May to October; &lt;br&gt;Available Products: ...</td>\n",
       "      <td>Georgia Meyer</td>\n",
       "      <td>651-356-2410</td>\n",
       "      <td>https://www.projectgrows.org/food-access/north...</td>\n",
       "      <td>https://www.facebook.com/NAFarmMarket/?ref=boo...</td>\n",
       "      <td>None</td>\n",
       "      <td>Verona</td>\n",
       "      <td>Virginia</td>\n",
       "      <td>38.193744</td>\n",
       "      <td>-79.010219</td>\n",
       "    </tr>\n",
       "    <tr>\n",
       "      <th>17</th>\n",
       "      <td>Carrboro Farmers' Market</td>\n",
       "      <td>Open: January to March; March to October; Nove...</td>\n",
       "      <td>Maggie Funkhouser</td>\n",
       "      <td>9192803326</td>\n",
       "      <td>www.carrborofarmersmarket.com</td>\n",
       "      <td>https://www.facebook.com/carrborofarmersmarket</td>\n",
       "      <td>None</td>\n",
       "      <td>Carrboro</td>\n",
       "      <td>North Carolina</td>\n",
       "      <td>35.910781</td>\n",
       "      <td>-79.077607</td>\n",
       "    </tr>\n",
       "    <tr>\n",
       "      <th>18</th>\n",
       "      <td>The Chapel Hill Farmers' Market</td>\n",
       "      <td>Open: 04/02/2022 to 11/19/2022; 12/03/2022 to ...</td>\n",
       "      <td>Kate Underhill</td>\n",
       "      <td>9195339496</td>\n",
       "      <td>https://www.thechapelhillfarmersmarket.com/</td>\n",
       "      <td>https://www.facebook.com/TheChapelHillFarmersM...</td>\n",
       "      <td>https://twitter.com/chfarmersmarket</td>\n",
       "      <td>Chapel Hill</td>\n",
       "      <td>North Carolina</td>\n",
       "      <td>35.927587</td>\n",
       "      <td>-79.026717</td>\n",
       "    </tr>\n",
       "  </tbody>\n",
       "</table>\n",
       "</div>"
      ],
      "text/plain": [
       "                       listing_name  \\\n",
       "0              Salem Farmers Market   \n",
       "1    Grandin Village Farmers Market   \n",
       "2          The Historic City Market   \n",
       "3        Rocky Mount Farmers Market   \n",
       "4         Wytheville Farmers Market   \n",
       "5              Galax Farmers Market   \n",
       "6             Forest farmers market   \n",
       "7              King Farmers' Market   \n",
       "8        Lynchburg Community Market   \n",
       "9        The Market at Second Stage   \n",
       "10    Piedmont Triad Farmers Market   \n",
       "11    Wilkes County Farmers' Market   \n",
       "12        The Corner Farmers Market   \n",
       "13  Webster Springs Farmer's Market   \n",
       "14      Boone Winter Farmers Market   \n",
       "15       King Street Farmers Market   \n",
       "16            Verona Farmers Market   \n",
       "17         Carrboro Farmers' Market   \n",
       "18  The Chapel Hill Farmers' Market   \n",
       "\n",
       "                                           brief_desc       contact_name  \\\n",
       "0   Open: April to December; January to March; <br...     Market Manager   \n",
       "1   Open: April to November; November to March; <b...            Sam Lev   \n",
       "2   Open: Year-round<br>Available Products: Fresh ...   Eric L Pendleton   \n",
       "3   Open: April to December; <br>Available Product...        Paul Cauley   \n",
       "4   Open: Year-round<br>Available Products: Fresh ...     Joanne McNulty   \n",
       "5   Open: 05/11/2023 to 10/28/2023; <br>Available ...        Jordan Shaw   \n",
       "6   Open: April to October; November to December; ...   Dorothy McIntyre   \n",
       "7   Open: May to September; <br>Available Products...            Deb Fox   \n",
       "8   Open: Year-round<br>Available Products: Fresh ...   Ricky Kowalewski   \n",
       "9   Open: May to October; November to April; <br>A...         Mary Hurst   \n",
       "10  Open: Year-round<br>Available Products: Fresh ...         Rick Cecil   \n",
       "11  Open: April to October; ; <br>Available Produc...    Garrett Griffin   \n",
       "12  Open: Year-round<br>Available Products: Fresh ...       Kathy Newsom   \n",
       "13  Open: July to October; <br>Available Products:...          Mike Hall   \n",
       "14  Open: 12/03/2022 to 03/25/2023; <br>Available ...      Rachel Kinard   \n",
       "15  Open: 05/03/2022 to 10/25/2022; <br>Available ...      Rachel Kinard   \n",
       "16  Open: May to October; <br>Available Products: ...      Georgia Meyer   \n",
       "17  Open: January to March; March to October; Nove...  Maggie Funkhouser   \n",
       "18  Open: 04/02/2022 to 11/19/2022; 12/03/2022 to ...     Kate Underhill   \n",
       "\n",
       "     contact_phone                                      media_website  \\\n",
       "0     540-375-4098                                 market.salemva.gov   \n",
       "1     540-632-1360                   www.leapforlocalfood.org/grandin   \n",
       "2       5403422028                                Downtownroanoke.org   \n",
       "3     540-488-2023                                               None   \n",
       "4     276-620-4095                    www.wythevillefarmersmarket.com   \n",
       "5     276.733.4145                            https://visitgalax.com/   \n",
       "6     434-665-5475                        www.forestfarmersmarket.com   \n",
       "7     336-618-1086                          www.kingfarmersmarket.com   \n",
       "8     434.455.3962               http://lynchburgcommunitymarket.com/   \n",
       "9     434.941.0997             https://secondstageamherst.org/markets   \n",
       "10  (336) 605-9157                         www.triadfarmersmarket.com   \n",
       "11      3366677129                    www.downtownnorthwilkesboro.com   \n",
       "12      3365586924                            www.cornermarketgso.com   \n",
       "13    304-847-2727                                               None   \n",
       "14    803-429-3943            https://www.brwia.org/wintermarket.html   \n",
       "15      8034293943                     https://www.brwia.org/ksm.html   \n",
       "16    651-356-2410  https://www.projectgrows.org/food-access/north...   \n",
       "17      9192803326                      www.carrborofarmersmarket.com   \n",
       "18      9195339496        https://www.thechapelhillfarmersmarket.com/   \n",
       "\n",
       "                                       media_facebook  \\\n",
       "0              https://www.facebook.com/SalemVaMarket   \n",
       "1          facebook.com/grandinvillagecommunitymarket   \n",
       "2                            The Historic City Market   \n",
       "3                                                None   \n",
       "4                           Wytheville Farmers Market   \n",
       "5   https://www.facebook.com/search/top?q=galaxfar...   \n",
       "6   https://www.facebook.com/pages/Forest-farmers-...   \n",
       "7                  www.facebook.com/KingFarmersMarket   \n",
       "8   https://www.facebook.com/LynchburgCommunityMar...   \n",
       "9   https://www.facebook.com/The-Market-at-Second-...   \n",
       "10  https://www.facebook.com/pages/Robert-G-Shaw-P...   \n",
       "11  https://www.facebook.com/wilkescountyfarmersma...   \n",
       "12   https://www.facebook.com/walkerelamcornermarket/   \n",
       "13                                               None   \n",
       "14             https://www.facebook.com/BooneWinterFM   \n",
       "15             https://www.facebook.com/KingStreetMkt   \n",
       "16  https://www.facebook.com/NAFarmMarket/?ref=boo...   \n",
       "17     https://www.facebook.com/carrborofarmersmarket   \n",
       "18  https://www.facebook.com/TheChapelHillFarmersM...   \n",
       "\n",
       "                          media_twitter     location_city  location_state  \\\n",
       "0     https://twitter.com/SalemVaMarket             Salem        Virginia   \n",
       "1                         @leapforlocal           Roanoke        Virginia   \n",
       "2                                  None           Roanoke        Virginia   \n",
       "3                                  None       Rocky Mount        Virginia   \n",
       "4                                  None        Wytheville        Virginia   \n",
       "5                                                   Galax              VA   \n",
       "6            https://twitter.com/FFM221            Forest        Virginia   \n",
       "7    https://twitter.com/KingFarmersMkt              King  North Carolina   \n",
       "8                                  None         Lynchburg        Virginia   \n",
       "9                                  None           Amherst        Virginia   \n",
       "10                                 None            Colfax  North Carolina   \n",
       "11                                 None  North Wilkesboro  North Carolina   \n",
       "12                                 None        Greensboro  North Carolina   \n",
       "13                                 None   Webster Springs   West Virginia   \n",
       "14                                                  Boone  North Carolina   \n",
       "15                                                  Boone  North Carolina   \n",
       "16                                 None            Verona        Virginia   \n",
       "17                                 None          Carrboro  North Carolina   \n",
       "18  https://twitter.com/chfarmersmarket       Chapel Hill  North Carolina   \n",
       "\n",
       "    location_y          location_x  \n",
       "0    37.292997          -80.058606  \n",
       "1    37.265053          -79.978064  \n",
       "2    37.271606          -79.939064  \n",
       "3    36.994866          -79.888073  \n",
       "4   36.9486397          -81.083367  \n",
       "5   36.6632146          -80.925742  \n",
       "6   37.3643700          -79.285443  \n",
       "7    36.276367          -80.341178  \n",
       "8    37.411517          -79.140379  \n",
       "9    37.583162          -79.048809  \n",
       "10   36.087691          -79.992657  \n",
       "11   36.159075          -81.145200  \n",
       "12   36.069019          -79.828293  \n",
       "13   38.478420          -80.415459  \n",
       "14  36.2204478         -81.6887158  \n",
       "15  36.2198305  -81.69312339999999  \n",
       "16   38.193744          -79.010219  \n",
       "17   35.910781          -79.077607  \n",
       "18   35.927587          -79.026717  "
      ]
     },
     "execution_count": 7,
     "metadata": {},
     "output_type": "execute_result"
    }
   ],
   "source": [
    "cols = [\n",
    "    \"listing_name\",\n",
    "    \"brief_desc\",\n",
    "    \"contact_name\",\n",
    "    \"contact_phone\",\n",
    "    \"media_website\",\n",
    "    \"media_facebook\",\n",
    "    \"media_twitter\",\n",
    "    \"location_city\",\n",
    "    \"location_state\",\n",
    "    \"location_y\",\n",
    "    \"location_x\",\n",
    "]\n",
    "\n",
    "df.loc[:, cols]"
   ]
  },
  {
   "attachments": {},
   "cell_type": "markdown",
   "metadata": {},
   "source": [
    "## 2. Agricultural Resource Management Survey (ARMS) API\n",
    "\n",
    "### API key\n",
    "\n",
    "Go to [ARMS API](https://www.ers.usda.gov/developer/data-apis/arms-data-api/#apiForm) to obtain an API key for the USDA ARMS API."
   ]
  },
  {
   "cell_type": "code",
   "execution_count": 14,
   "metadata": {},
   "outputs": [],
   "source": [
    "API = \"xxxxxxx\" # fill in your API key\n",
    "params = {\"api_key\": API}"
   ]
  },
  {
   "attachments": {},
   "cell_type": "markdown",
   "metadata": {},
   "source": [
    "### Use `arms/year` to get the list of available years\n",
    "\n",
    "This API has a lot of data. Based on the documentation https://www.ers.usda.gov/developer/data-apis/arms-data-api/#apiForm, we can use `arms/year` to get the list of available years."
   ]
  },
  {
   "cell_type": "code",
   "execution_count": 8,
   "metadata": {},
   "outputs": [
    {
     "data": {
      "text/plain": [
       "{'status': 'ok',\n",
       " 'info': {'timing': {'executing': 93, 'unit': 'ms'},\n",
       "  'result_coverage': 'total',\n",
       "  'total': {'record_count': 26}},\n",
       " 'data': [2021,\n",
       "  2020,\n",
       "  2019,\n",
       "  2018,\n",
       "  2017,\n",
       "  2016,\n",
       "  2015,\n",
       "  2014,\n",
       "  2013,\n",
       "  2012,\n",
       "  2011,\n",
       "  2010,\n",
       "  2009,\n",
       "  2008,\n",
       "  2007,\n",
       "  2006,\n",
       "  2005,\n",
       "  2004,\n",
       "  2003,\n",
       "  2002,\n",
       "  2001,\n",
       "  2000,\n",
       "  1999,\n",
       "  1998,\n",
       "  1997,\n",
       "  1996]}"
      ]
     },
     "execution_count": 8,
     "metadata": {},
     "output_type": "execute_result"
    }
   ],
   "source": [
    "# arms/year\n",
    "url = \"https://api.ers.usda.gov/data/arms/year\"\n",
    "response = requests.get(url, headers=headers, params=params)\n",
    "json_data = response.json()\n",
    "json_data"
   ]
  },
  {
   "attachments": {},
   "cell_type": "markdown",
   "metadata": {},
   "source": [
    "### Use `arms/report` to get the list of available reports\n",
    "\n",
    "To make sure we are using the API correctly, we can use `arms/report` to get the list of available reports. We will later need to use the correct report name to get the data."
   ]
  },
  {
   "cell_type": "code",
   "execution_count": 17,
   "metadata": {},
   "outputs": [
    {
     "data": {
      "text/html": [
       "<div>\n",
       "<style scoped>\n",
       "    .dataframe tbody tr th:only-of-type {\n",
       "        vertical-align: middle;\n",
       "    }\n",
       "\n",
       "    .dataframe tbody tr th {\n",
       "        vertical-align: top;\n",
       "    }\n",
       "\n",
       "    .dataframe thead th {\n",
       "        text-align: right;\n",
       "    }\n",
       "</style>\n",
       "<table border=\"1\" class=\"dataframe\">\n",
       "  <thead>\n",
       "    <tr style=\"text-align: right;\">\n",
       "      <th></th>\n",
       "      <th>id</th>\n",
       "      <th>name</th>\n",
       "      <th>desc</th>\n",
       "    </tr>\n",
       "  </thead>\n",
       "  <tbody>\n",
       "    <tr>\n",
       "      <th>0</th>\n",
       "      <td>1</td>\n",
       "      <td>Farm Business Balance Sheet</td>\n",
       "      <td>None</td>\n",
       "    </tr>\n",
       "    <tr>\n",
       "      <th>1</th>\n",
       "      <td>2</td>\n",
       "      <td>Farm Business Income Statement</td>\n",
       "      <td>None</td>\n",
       "    </tr>\n",
       "    <tr>\n",
       "      <th>2</th>\n",
       "      <td>3</td>\n",
       "      <td>Farm Business Financial Ratios</td>\n",
       "      <td>None</td>\n",
       "    </tr>\n",
       "    <tr>\n",
       "      <th>3</th>\n",
       "      <td>4</td>\n",
       "      <td>Structural Characteristics</td>\n",
       "      <td>None</td>\n",
       "    </tr>\n",
       "    <tr>\n",
       "      <th>4</th>\n",
       "      <td>5</td>\n",
       "      <td>Farm Business Debt Repayment Capacity</td>\n",
       "      <td>None</td>\n",
       "    </tr>\n",
       "    <tr>\n",
       "      <th>5</th>\n",
       "      <td>6</td>\n",
       "      <td>Government Payments</td>\n",
       "      <td>None</td>\n",
       "    </tr>\n",
       "    <tr>\n",
       "      <th>6</th>\n",
       "      <td>7</td>\n",
       "      <td>Operator Household Income</td>\n",
       "      <td>None</td>\n",
       "    </tr>\n",
       "    <tr>\n",
       "      <th>7</th>\n",
       "      <td>8</td>\n",
       "      <td>Operator Household Balance Sheet</td>\n",
       "      <td>None</td>\n",
       "    </tr>\n",
       "  </tbody>\n",
       "</table>\n",
       "</div>"
      ],
      "text/plain": [
       "   id                                   name  desc\n",
       "0   1            Farm Business Balance Sheet  None\n",
       "1   2         Farm Business Income Statement  None\n",
       "2   3         Farm Business Financial Ratios  None\n",
       "3   4             Structural Characteristics  None\n",
       "4   5  Farm Business Debt Repayment Capacity  None\n",
       "5   6                    Government Payments  None\n",
       "6   7              Operator Household Income  None\n",
       "7   8       Operator Household Balance Sheet  None"
      ]
     },
     "execution_count": 17,
     "metadata": {},
     "output_type": "execute_result"
    }
   ],
   "source": [
    "# get all report\n",
    "url = \"https://api.ers.usda.gov/data/arms/report\"\n",
    "response = requests.get(url, headers=headers, params=params)\n",
    "js = response.json()\n",
    "df = pd.DataFrame(response.json()[\"data\"])\n",
    "df"
   ]
  },
  {
   "attachments": {},
   "cell_type": "markdown",
   "metadata": {},
   "source": [
    "### Farm Business Income Statement\n",
    "\n",
    "Let's say we want to get the farm business income statement for all farms in the US for the years 2008 to 2022. We can start with a single year, say 2018."
   ]
  },
  {
   "cell_type": "code",
   "execution_count": 18,
   "metadata": {},
   "outputs": [
    {
     "data": {
      "text/html": [
       "<div>\n",
       "<style scoped>\n",
       "    .dataframe tbody tr th:only-of-type {\n",
       "        vertical-align: middle;\n",
       "    }\n",
       "\n",
       "    .dataframe tbody tr th {\n",
       "        vertical-align: top;\n",
       "    }\n",
       "\n",
       "    .dataframe thead th {\n",
       "        text-align: right;\n",
       "    }\n",
       "</style>\n",
       "<table border=\"1\" class=\"dataframe\">\n",
       "  <thead>\n",
       "    <tr style=\"text-align: right;\">\n",
       "      <th></th>\n",
       "      <th>year</th>\n",
       "      <th>state</th>\n",
       "      <th>report</th>\n",
       "      <th>farmtype</th>\n",
       "      <th>category</th>\n",
       "      <th>category_value</th>\n",
       "      <th>category2</th>\n",
       "      <th>category2_value</th>\n",
       "      <th>variable_id</th>\n",
       "      <th>variable_name</th>\n",
       "      <th>...</th>\n",
       "      <th>variable_group_id</th>\n",
       "      <th>variable_unit</th>\n",
       "      <th>variable_description</th>\n",
       "      <th>variable_is_invalid</th>\n",
       "      <th>estimate</th>\n",
       "      <th>median</th>\n",
       "      <th>statistic</th>\n",
       "      <th>rse</th>\n",
       "      <th>unreliable_estimate</th>\n",
       "      <th>decimal_display</th>\n",
       "    </tr>\n",
       "  </thead>\n",
       "  <tbody>\n",
       "    <tr>\n",
       "      <th>0</th>\n",
       "      <td>2018</td>\n",
       "      <td>All survey states</td>\n",
       "      <td>Farm Business Income Statement</td>\n",
       "      <td>All Farms</td>\n",
       "      <td>Operator Age</td>\n",
       "      <td>55 to 64 years old</td>\n",
       "      <td>All Farms</td>\n",
       "      <td>TOTAL</td>\n",
       "      <td>kount</td>\n",
       "      <td>Farms</td>\n",
       "      <td>...</td>\n",
       "      <td>None</td>\n",
       "      <td>Number</td>\n",
       "      <td>Estimated number of farms.</td>\n",
       "      <td>False</td>\n",
       "      <td>694246.0</td>\n",
       "      <td>NaN</td>\n",
       "      <td>TOTAL</td>\n",
       "      <td>0.0</td>\n",
       "      <td>0</td>\n",
       "      <td>0</td>\n",
       "    </tr>\n",
       "    <tr>\n",
       "      <th>1</th>\n",
       "      <td>2018</td>\n",
       "      <td>All survey states</td>\n",
       "      <td>Farm Business Income Statement</td>\n",
       "      <td>All Farms</td>\n",
       "      <td>Farm Typology</td>\n",
       "      <td>Retirement farms (2011 to present)</td>\n",
       "      <td>All Farms</td>\n",
       "      <td>TOTAL</td>\n",
       "      <td>kount</td>\n",
       "      <td>Farms</td>\n",
       "      <td>...</td>\n",
       "      <td>None</td>\n",
       "      <td>Number</td>\n",
       "      <td>Estimated number of farms.</td>\n",
       "      <td>False</td>\n",
       "      <td>250289.0</td>\n",
       "      <td>NaN</td>\n",
       "      <td>TOTAL</td>\n",
       "      <td>0.0</td>\n",
       "      <td>0</td>\n",
       "      <td>0</td>\n",
       "    </tr>\n",
       "    <tr>\n",
       "      <th>2</th>\n",
       "      <td>2018</td>\n",
       "      <td>All survey states</td>\n",
       "      <td>Farm Business Income Statement</td>\n",
       "      <td>All Farms</td>\n",
       "      <td>Farm Typology</td>\n",
       "      <td>Farming occupation/lower-sales farms (2011 to ...</td>\n",
       "      <td>All Farms</td>\n",
       "      <td>TOTAL</td>\n",
       "      <td>kount</td>\n",
       "      <td>Farms</td>\n",
       "      <td>...</td>\n",
       "      <td>None</td>\n",
       "      <td>Number</td>\n",
       "      <td>Estimated number of farms.</td>\n",
       "      <td>False</td>\n",
       "      <td>640223.0</td>\n",
       "      <td>NaN</td>\n",
       "      <td>TOTAL</td>\n",
       "      <td>0.0</td>\n",
       "      <td>0</td>\n",
       "      <td>0</td>\n",
       "    </tr>\n",
       "    <tr>\n",
       "      <th>3</th>\n",
       "      <td>2018</td>\n",
       "      <td>All survey states</td>\n",
       "      <td>Farm Business Income Statement</td>\n",
       "      <td>All Farms</td>\n",
       "      <td>Collapsed Farm Typology</td>\n",
       "      <td>Intermediate farms</td>\n",
       "      <td>All Farms</td>\n",
       "      <td>TOTAL</td>\n",
       "      <td>kount</td>\n",
       "      <td>Farms</td>\n",
       "      <td>...</td>\n",
       "      <td>None</td>\n",
       "      <td>Number</td>\n",
       "      <td>Estimated number of farms.</td>\n",
       "      <td>False</td>\n",
       "      <td>742931.0</td>\n",
       "      <td>NaN</td>\n",
       "      <td>TOTAL</td>\n",
       "      <td>0.0</td>\n",
       "      <td>0</td>\n",
       "      <td>0</td>\n",
       "    </tr>\n",
       "    <tr>\n",
       "      <th>4</th>\n",
       "      <td>2018</td>\n",
       "      <td>All survey states</td>\n",
       "      <td>Farm Business Income Statement</td>\n",
       "      <td>All Farms</td>\n",
       "      <td>NASS Region</td>\n",
       "      <td>Atlantic region</td>\n",
       "      <td>All Farms</td>\n",
       "      <td>TOTAL</td>\n",
       "      <td>kount</td>\n",
       "      <td>Farms</td>\n",
       "      <td>...</td>\n",
       "      <td>None</td>\n",
       "      <td>Number</td>\n",
       "      <td>Estimated number of farms.</td>\n",
       "      <td>False</td>\n",
       "      <td>400703.0</td>\n",
       "      <td>NaN</td>\n",
       "      <td>TOTAL</td>\n",
       "      <td>0.0</td>\n",
       "      <td>0</td>\n",
       "      <td>0</td>\n",
       "    </tr>\n",
       "    <tr>\n",
       "      <th>...</th>\n",
       "      <td>...</td>\n",
       "      <td>...</td>\n",
       "      <td>...</td>\n",
       "      <td>...</td>\n",
       "      <td>...</td>\n",
       "      <td>...</td>\n",
       "      <td>...</td>\n",
       "      <td>...</td>\n",
       "      <td>...</td>\n",
       "      <td>...</td>\n",
       "      <td>...</td>\n",
       "      <td>...</td>\n",
       "      <td>...</td>\n",
       "      <td>...</td>\n",
       "      <td>...</td>\n",
       "      <td>...</td>\n",
       "      <td>...</td>\n",
       "      <td>...</td>\n",
       "      <td>...</td>\n",
       "      <td>...</td>\n",
       "      <td>...</td>\n",
       "    </tr>\n",
       "    <tr>\n",
       "      <th>1483</th>\n",
       "      <td>2018</td>\n",
       "      <td>All survey states</td>\n",
       "      <td>Farm Business Income Statement</td>\n",
       "      <td>All Farms</td>\n",
       "      <td>Economic Class</td>\n",
       "      <td>Less than $100,000</td>\n",
       "      <td>All Farms</td>\n",
       "      <td>TOTAL</td>\n",
       "      <td>infi</td>\n",
       "      <td>Net farm income</td>\n",
       "      <td>...</td>\n",
       "      <td>None</td>\n",
       "      <td>Dollars per farm</td>\n",
       "      <td>Net farm income indicates the profit or loss a...</td>\n",
       "      <td>False</td>\n",
       "      <td>3060.0</td>\n",
       "      <td>1763.0</td>\n",
       "      <td>MEAN</td>\n",
       "      <td>20.5</td>\n",
       "      <td>0</td>\n",
       "      <td>0</td>\n",
       "    </tr>\n",
       "    <tr>\n",
       "      <th>1484</th>\n",
       "      <td>2018</td>\n",
       "      <td>All survey states</td>\n",
       "      <td>Farm Business Income Statement</td>\n",
       "      <td>All Farms</td>\n",
       "      <td>Production Specialty</td>\n",
       "      <td>Soybean</td>\n",
       "      <td>All Farms</td>\n",
       "      <td>TOTAL</td>\n",
       "      <td>infi</td>\n",
       "      <td>Net farm income</td>\n",
       "      <td>...</td>\n",
       "      <td>None</td>\n",
       "      <td>Dollars per farm</td>\n",
       "      <td>Net farm income indicates the profit or loss a...</td>\n",
       "      <td>False</td>\n",
       "      <td>52760.0</td>\n",
       "      <td>16317.0</td>\n",
       "      <td>MEAN</td>\n",
       "      <td>9.1</td>\n",
       "      <td>0</td>\n",
       "      <td>0</td>\n",
       "    </tr>\n",
       "    <tr>\n",
       "      <th>1485</th>\n",
       "      <td>2018</td>\n",
       "      <td>All survey states</td>\n",
       "      <td>Farm Business Income Statement</td>\n",
       "      <td>All Farms</td>\n",
       "      <td>Production Specialty</td>\n",
       "      <td>Tobacco, Cotton, Peanuts</td>\n",
       "      <td>All Farms</td>\n",
       "      <td>TOTAL</td>\n",
       "      <td>infi</td>\n",
       "      <td>Net farm income</td>\n",
       "      <td>...</td>\n",
       "      <td>None</td>\n",
       "      <td>Dollars per farm</td>\n",
       "      <td>Net farm income indicates the profit or loss a...</td>\n",
       "      <td>False</td>\n",
       "      <td>96513.0</td>\n",
       "      <td>30838.0</td>\n",
       "      <td>MEAN</td>\n",
       "      <td>26.8</td>\n",
       "      <td>0</td>\n",
       "      <td>0</td>\n",
       "    </tr>\n",
       "    <tr>\n",
       "      <th>1486</th>\n",
       "      <td>2018</td>\n",
       "      <td>All survey states</td>\n",
       "      <td>Farm Business Income Statement</td>\n",
       "      <td>All Farms</td>\n",
       "      <td>Production Specialty</td>\n",
       "      <td>Poultry</td>\n",
       "      <td>All Farms</td>\n",
       "      <td>TOTAL</td>\n",
       "      <td>infi</td>\n",
       "      <td>Net farm income</td>\n",
       "      <td>...</td>\n",
       "      <td>None</td>\n",
       "      <td>Dollars per farm</td>\n",
       "      <td>Net farm income indicates the profit or loss a...</td>\n",
       "      <td>False</td>\n",
       "      <td>47773.0</td>\n",
       "      <td>13140.0</td>\n",
       "      <td>MEAN</td>\n",
       "      <td>17.5</td>\n",
       "      <td>0</td>\n",
       "      <td>0</td>\n",
       "    </tr>\n",
       "    <tr>\n",
       "      <th>1487</th>\n",
       "      <td>2018</td>\n",
       "      <td>All survey states</td>\n",
       "      <td>Farm Business Income Statement</td>\n",
       "      <td>All Farms</td>\n",
       "      <td>Production Specialty</td>\n",
       "      <td>All other livestock</td>\n",
       "      <td>All Farms</td>\n",
       "      <td>TOTAL</td>\n",
       "      <td>infi</td>\n",
       "      <td>Net farm income</td>\n",
       "      <td>...</td>\n",
       "      <td>None</td>\n",
       "      <td>Dollars per farm</td>\n",
       "      <td>Net farm income indicates the profit or loss a...</td>\n",
       "      <td>False</td>\n",
       "      <td>2657.0</td>\n",
       "      <td>-848.0</td>\n",
       "      <td>MEAN</td>\n",
       "      <td>108.6</td>\n",
       "      <td>0</td>\n",
       "      <td>0</td>\n",
       "    </tr>\n",
       "  </tbody>\n",
       "</table>\n",
       "<p>1488 rows × 23 columns</p>\n",
       "</div>"
      ],
      "text/plain": [
       "      year              state                          report   farmtype  \\\n",
       "0     2018  All survey states  Farm Business Income Statement  All Farms   \n",
       "1     2018  All survey states  Farm Business Income Statement  All Farms   \n",
       "2     2018  All survey states  Farm Business Income Statement  All Farms   \n",
       "3     2018  All survey states  Farm Business Income Statement  All Farms   \n",
       "4     2018  All survey states  Farm Business Income Statement  All Farms   \n",
       "...    ...                ...                             ...        ...   \n",
       "1483  2018  All survey states  Farm Business Income Statement  All Farms   \n",
       "1484  2018  All survey states  Farm Business Income Statement  All Farms   \n",
       "1485  2018  All survey states  Farm Business Income Statement  All Farms   \n",
       "1486  2018  All survey states  Farm Business Income Statement  All Farms   \n",
       "1487  2018  All survey states  Farm Business Income Statement  All Farms   \n",
       "\n",
       "                     category  \\\n",
       "0                Operator Age   \n",
       "1               Farm Typology   \n",
       "2               Farm Typology   \n",
       "3     Collapsed Farm Typology   \n",
       "4                 NASS Region   \n",
       "...                       ...   \n",
       "1483           Economic Class   \n",
       "1484     Production Specialty   \n",
       "1485     Production Specialty   \n",
       "1486     Production Specialty   \n",
       "1487     Production Specialty   \n",
       "\n",
       "                                         category_value  category2  \\\n",
       "0                                    55 to 64 years old  All Farms   \n",
       "1                    Retirement farms (2011 to present)  All Farms   \n",
       "2     Farming occupation/lower-sales farms (2011 to ...  All Farms   \n",
       "3                                    Intermediate farms  All Farms   \n",
       "4                                       Atlantic region  All Farms   \n",
       "...                                                 ...        ...   \n",
       "1483                                 Less than $100,000  All Farms   \n",
       "1484                                            Soybean  All Farms   \n",
       "1485                           Tobacco, Cotton, Peanuts  All Farms   \n",
       "1486                                            Poultry  All Farms   \n",
       "1487                                All other livestock  All Farms   \n",
       "\n",
       "     category2_value variable_id    variable_name  ...  variable_group_id  \\\n",
       "0              TOTAL       kount            Farms  ...               None   \n",
       "1              TOTAL       kount            Farms  ...               None   \n",
       "2              TOTAL       kount            Farms  ...               None   \n",
       "3              TOTAL       kount            Farms  ...               None   \n",
       "4              TOTAL       kount            Farms  ...               None   \n",
       "...              ...         ...              ...  ...                ...   \n",
       "1483           TOTAL        infi  Net farm income  ...               None   \n",
       "1484           TOTAL        infi  Net farm income  ...               None   \n",
       "1485           TOTAL        infi  Net farm income  ...               None   \n",
       "1486           TOTAL        infi  Net farm income  ...               None   \n",
       "1487           TOTAL        infi  Net farm income  ...               None   \n",
       "\n",
       "         variable_unit                               variable_description  \\\n",
       "0               Number                         Estimated number of farms.   \n",
       "1               Number                         Estimated number of farms.   \n",
       "2               Number                         Estimated number of farms.   \n",
       "3               Number                         Estimated number of farms.   \n",
       "4               Number                         Estimated number of farms.   \n",
       "...                ...                                                ...   \n",
       "1483  Dollars per farm  Net farm income indicates the profit or loss a...   \n",
       "1484  Dollars per farm  Net farm income indicates the profit or loss a...   \n",
       "1485  Dollars per farm  Net farm income indicates the profit or loss a...   \n",
       "1486  Dollars per farm  Net farm income indicates the profit or loss a...   \n",
       "1487  Dollars per farm  Net farm income indicates the profit or loss a...   \n",
       "\n",
       "     variable_is_invalid  estimate   median  statistic    rse  \\\n",
       "0                  False  694246.0      NaN      TOTAL    0.0   \n",
       "1                  False  250289.0      NaN      TOTAL    0.0   \n",
       "2                  False  640223.0      NaN      TOTAL    0.0   \n",
       "3                  False  742931.0      NaN      TOTAL    0.0   \n",
       "4                  False  400703.0      NaN      TOTAL    0.0   \n",
       "...                  ...       ...      ...        ...    ...   \n",
       "1483               False    3060.0   1763.0       MEAN   20.5   \n",
       "1484               False   52760.0  16317.0       MEAN    9.1   \n",
       "1485               False   96513.0  30838.0       MEAN   26.8   \n",
       "1486               False   47773.0  13140.0       MEAN   17.5   \n",
       "1487               False    2657.0   -848.0       MEAN  108.6   \n",
       "\n",
       "      unreliable_estimate decimal_display  \n",
       "0                       0               0  \n",
       "1                       0               0  \n",
       "2                       0               0  \n",
       "3                       0               0  \n",
       "4                       0               0  \n",
       "...                   ...             ...  \n",
       "1483                    0               0  \n",
       "1484                    0               0  \n",
       "1485                    0               0  \n",
       "1486                    0               0  \n",
       "1487                    0               0  \n",
       "\n",
       "[1488 rows x 23 columns]"
      ]
     },
     "execution_count": 18,
     "metadata": {},
     "output_type": "execute_result"
    }
   ],
   "source": [
    "params = {\n",
    "    \"api_key\": API,\n",
    "    \"Year\": 2018,\n",
    "    \"report\": \"Farm Business Income Statement\",\n",
    "}\n",
    "url = \"https://api.ers.usda.gov/data/arms/surveydata\"\n",
    "response = requests.get(url, headers=headers, params=params)\n",
    "json_data = response.json()\n",
    "data = pd.DataFrame(json_data[\"data\"])\n",
    "data"
   ]
  },
  {
   "attachments": {},
   "cell_type": "markdown",
   "metadata": {},
   "source": [
    "### Check the data\n",
    "\n",
    "You can check the data by inspecting the unique values of each column of interest. For example, if you want to know any category other than \"Operator Age\", you can use the following code:"
   ]
  },
  {
   "cell_type": "code",
   "execution_count": 19,
   "metadata": {},
   "outputs": [
    {
     "data": {
      "text/plain": [
       "array(['Operator Age', 'Farm Typology', 'Collapsed Farm Typology',\n",
       "       'NASS Region', 'Farm Resource Region', 'Economic Class',\n",
       "       'Production Specialty', 'All Farms'], dtype=object)"
      ]
     },
     "execution_count": 19,
     "metadata": {},
     "output_type": "execute_result"
    }
   ],
   "source": [
    "data[\"category\"].unique()"
   ]
  },
  {
   "attachments": {},
   "cell_type": "markdown",
   "metadata": {},
   "source": [
    "You may also want to know what `Production Specialty` was recorded as. You can combine `df.query()` and `df.unique()`."
   ]
  },
  {
   "cell_type": "code",
   "execution_count": 22,
   "metadata": {},
   "outputs": [
    {
     "data": {
      "text/plain": [
       "array(['Corn', 'Tobacco, Cotton, Peanuts', 'Other Field Crops', 'Cattle',\n",
       "       'Hogs', 'Dairy', 'All other livestock', 'General Cash Grains',\n",
       "       'Wheat', 'Soybean', 'Specialty Crops (F,V,N)', 'Poultry'],\n",
       "      dtype=object)"
      ]
     },
     "execution_count": 22,
     "metadata": {},
     "output_type": "execute_result"
    }
   ],
   "source": [
    "data.query(\"category == 'Production Specialty'\").loc[:, \"category_value\"].unique()"
   ]
  },
  {
   "attachments": {},
   "cell_type": "markdown",
   "metadata": {},
   "source": [
    "We can check variables to know what attributes are available for that category."
   ]
  },
  {
   "cell_type": "code",
   "execution_count": 23,
   "metadata": {},
   "outputs": [
    {
     "data": {
      "text/plain": [
       "array(['Farms', 'Gross cash farm income', 'Livestock income',\n",
       "       'Crop sales', 'Government payments', 'Other farm-related income',\n",
       "       'Total cash expenses', 'Variable expenses', 'Livestock purchases',\n",
       "       'Feed', 'Other livestock-related', 'Seed and plants',\n",
       "       'Fertilizer and chemicals', 'Utilities', 'Labor', 'Fuels and oils',\n",
       "       'Repairs and maintenance', 'Machine-hire and custom work',\n",
       "       'Other variable expenses', 'Fixed expenses',\n",
       "       'Real estate and property taxes', 'Interest', 'Insurance premiums',\n",
       "       'Rent and lease payments', 'Net cash farm income',\n",
       "       'Nonmoney income', 'Value of inventory change', 'Depreciation',\n",
       "       'Labor, non-cash benefits', 'Adjusted breeding livestock income',\n",
       "       'Net farm income'], dtype=object)"
      ]
     },
     "execution_count": 23,
     "metadata": {},
     "output_type": "execute_result"
    }
   ],
   "source": [
    "data.query(\"category == 'Production Specialty'\").loc[:, \"variable_name\"].unique()"
   ]
  },
  {
   "attachments": {},
   "cell_type": "markdown",
   "metadata": {},
   "source": [
    "### Functions\n",
    "\n",
    "It is a good idea to wrap up the code into functions so that you can reuse them later. Especially when we deal with the queries with repeated patterns, we can use functions to make the code more concise.\n",
    "\n",
    "To design a function, first thing we can to define is the input and output. In our case, we provide API key and parameters (year, report name, etc.) as input and get a parsed dataframe as output."
   ]
  },
  {
   "cell_type": "code",
   "execution_count": 24,
   "metadata": {},
   "outputs": [],
   "source": [
    "def query_data(year, API, report=\"Farm Business Income Statement\"):\n",
    "    # inputs\n",
    "    params = {\n",
    "        \"api_key\": API,\n",
    "        \"Year\": year,\n",
    "        \"report\": report,\n",
    "    }\n",
    "    headers = {\n",
    "        \"User-Agent\": \"Mozilla/5.0 (Windows NT 10.0; Win64; x64) AppleWebKit/537.36 (KHTML, like Gecko) Chrome/96.0.4664.110 Safari/537.36\",\n",
    "        \"Referer\": \"https://www.google.com/\",\n",
    "    }\n",
    "    url = \"https://api.ers.usda.gov/data/arms/surveydata\"\n",
    "    # query\n",
    "    response = requests.get(url, headers=headers, params=params)\n",
    "    print(\"status code:\", response.status_code)\n",
    "    json_data = response.json()\n",
    "    data = pd.DataFrame(json_data[\"data\"])\n",
    "    # parse output\n",
    "    data = data.query(\"variable_name == 'Gross cash farm income'\")\n",
    "    return data"
   ]
  },
  {
   "attachments": {},
   "cell_type": "markdown",
   "metadata": {},
   "source": [
    "Validate the function"
   ]
  },
  {
   "cell_type": "code",
   "execution_count": 27,
   "metadata": {},
   "outputs": [
    {
     "name": "stdout",
     "output_type": "stream",
     "text": [
      "status code: 200\n"
     ]
    },
    {
     "data": {
      "text/html": [
       "<div>\n",
       "<style scoped>\n",
       "    .dataframe tbody tr th:only-of-type {\n",
       "        vertical-align: middle;\n",
       "    }\n",
       "\n",
       "    .dataframe tbody tr th {\n",
       "        vertical-align: top;\n",
       "    }\n",
       "\n",
       "    .dataframe thead th {\n",
       "        text-align: right;\n",
       "    }\n",
       "</style>\n",
       "<table border=\"1\" class=\"dataframe\">\n",
       "  <thead>\n",
       "    <tr style=\"text-align: right;\">\n",
       "      <th></th>\n",
       "      <th>year</th>\n",
       "      <th>state</th>\n",
       "      <th>report</th>\n",
       "      <th>farmtype</th>\n",
       "      <th>category</th>\n",
       "      <th>category_value</th>\n",
       "      <th>category2</th>\n",
       "      <th>category2_value</th>\n",
       "      <th>variable_id</th>\n",
       "      <th>variable_name</th>\n",
       "      <th>...</th>\n",
       "      <th>variable_group_id</th>\n",
       "      <th>variable_unit</th>\n",
       "      <th>variable_description</th>\n",
       "      <th>variable_is_invalid</th>\n",
       "      <th>estimate</th>\n",
       "      <th>median</th>\n",
       "      <th>statistic</th>\n",
       "      <th>rse</th>\n",
       "      <th>unreliable_estimate</th>\n",
       "      <th>decimal_display</th>\n",
       "    </tr>\n",
       "  </thead>\n",
       "  <tbody>\n",
       "    <tr>\n",
       "      <th>48</th>\n",
       "      <td>2018</td>\n",
       "      <td>All survey states</td>\n",
       "      <td>Farm Business Income Statement</td>\n",
       "      <td>All Farms</td>\n",
       "      <td>Operator Age</td>\n",
       "      <td>34 years or younger</td>\n",
       "      <td>All Farms</td>\n",
       "      <td>TOTAL</td>\n",
       "      <td>igcfi</td>\n",
       "      <td>Gross cash farm income</td>\n",
       "      <td>...</td>\n",
       "      <td>None</td>\n",
       "      <td>Dollars per farm</td>\n",
       "      <td>For farms participating in government programs...</td>\n",
       "      <td>False</td>\n",
       "      <td>212459.0</td>\n",
       "      <td>30102.0</td>\n",
       "      <td>MEAN</td>\n",
       "      <td>11.8</td>\n",
       "      <td>0</td>\n",
       "      <td>0</td>\n",
       "    </tr>\n",
       "    <tr>\n",
       "      <th>49</th>\n",
       "      <td>2018</td>\n",
       "      <td>All survey states</td>\n",
       "      <td>Farm Business Income Statement</td>\n",
       "      <td>All Farms</td>\n",
       "      <td>Operator Age</td>\n",
       "      <td>55 to 64 years old</td>\n",
       "      <td>All Farms</td>\n",
       "      <td>TOTAL</td>\n",
       "      <td>igcfi</td>\n",
       "      <td>Gross cash farm income</td>\n",
       "      <td>...</td>\n",
       "      <td>None</td>\n",
       "      <td>Dollars per farm</td>\n",
       "      <td>For farms participating in government programs...</td>\n",
       "      <td>False</td>\n",
       "      <td>188384.0</td>\n",
       "      <td>7140.0</td>\n",
       "      <td>MEAN</td>\n",
       "      <td>4.0</td>\n",
       "      <td>0</td>\n",
       "      <td>0</td>\n",
       "    </tr>\n",
       "    <tr>\n",
       "      <th>50</th>\n",
       "      <td>2018</td>\n",
       "      <td>All survey states</td>\n",
       "      <td>Farm Business Income Statement</td>\n",
       "      <td>All Farms</td>\n",
       "      <td>Operator Age</td>\n",
       "      <td>65 years or older</td>\n",
       "      <td>All Farms</td>\n",
       "      <td>TOTAL</td>\n",
       "      <td>igcfi</td>\n",
       "      <td>Gross cash farm income</td>\n",
       "      <td>...</td>\n",
       "      <td>None</td>\n",
       "      <td>Dollars per farm</td>\n",
       "      <td>For farms participating in government programs...</td>\n",
       "      <td>False</td>\n",
       "      <td>108034.0</td>\n",
       "      <td>8865.0</td>\n",
       "      <td>MEAN</td>\n",
       "      <td>6.3</td>\n",
       "      <td>0</td>\n",
       "      <td>0</td>\n",
       "    </tr>\n",
       "    <tr>\n",
       "      <th>51</th>\n",
       "      <td>2018</td>\n",
       "      <td>All survey states</td>\n",
       "      <td>Farm Business Income Statement</td>\n",
       "      <td>All Farms</td>\n",
       "      <td>Farm Typology</td>\n",
       "      <td>Farming occupation/lower-sales farms (2011 to ...</td>\n",
       "      <td>All Farms</td>\n",
       "      <td>TOTAL</td>\n",
       "      <td>igcfi</td>\n",
       "      <td>Gross cash farm income</td>\n",
       "      <td>...</td>\n",
       "      <td>None</td>\n",
       "      <td>Dollars per farm</td>\n",
       "      <td>For farms participating in government programs...</td>\n",
       "      <td>False</td>\n",
       "      <td>27750.0</td>\n",
       "      <td>9800.0</td>\n",
       "      <td>MEAN</td>\n",
       "      <td>4.1</td>\n",
       "      <td>0</td>\n",
       "      <td>0</td>\n",
       "    </tr>\n",
       "    <tr>\n",
       "      <th>52</th>\n",
       "      <td>2018</td>\n",
       "      <td>All survey states</td>\n",
       "      <td>Farm Business Income Statement</td>\n",
       "      <td>All Farms</td>\n",
       "      <td>Farm Typology</td>\n",
       "      <td>Very large farms (2011 to present)</td>\n",
       "      <td>All Farms</td>\n",
       "      <td>TOTAL</td>\n",
       "      <td>igcfi</td>\n",
       "      <td>Gross cash farm income</td>\n",
       "      <td>...</td>\n",
       "      <td>None</td>\n",
       "      <td>Dollars per farm</td>\n",
       "      <td>For farms participating in government programs...</td>\n",
       "      <td>False</td>\n",
       "      <td>11634254.0</td>\n",
       "      <td>7404800.0</td>\n",
       "      <td>MEAN</td>\n",
       "      <td>11.3</td>\n",
       "      <td>0</td>\n",
       "      <td>0</td>\n",
       "    </tr>\n",
       "  </tbody>\n",
       "</table>\n",
       "<p>5 rows × 23 columns</p>\n",
       "</div>"
      ],
      "text/plain": [
       "    year              state                          report   farmtype  \\\n",
       "48  2018  All survey states  Farm Business Income Statement  All Farms   \n",
       "49  2018  All survey states  Farm Business Income Statement  All Farms   \n",
       "50  2018  All survey states  Farm Business Income Statement  All Farms   \n",
       "51  2018  All survey states  Farm Business Income Statement  All Farms   \n",
       "52  2018  All survey states  Farm Business Income Statement  All Farms   \n",
       "\n",
       "         category                                     category_value  \\\n",
       "48   Operator Age                                34 years or younger   \n",
       "49   Operator Age                                 55 to 64 years old   \n",
       "50   Operator Age                                  65 years or older   \n",
       "51  Farm Typology  Farming occupation/lower-sales farms (2011 to ...   \n",
       "52  Farm Typology                 Very large farms (2011 to present)   \n",
       "\n",
       "    category2 category2_value variable_id           variable_name  ...  \\\n",
       "48  All Farms           TOTAL       igcfi  Gross cash farm income  ...   \n",
       "49  All Farms           TOTAL       igcfi  Gross cash farm income  ...   \n",
       "50  All Farms           TOTAL       igcfi  Gross cash farm income  ...   \n",
       "51  All Farms           TOTAL       igcfi  Gross cash farm income  ...   \n",
       "52  All Farms           TOTAL       igcfi  Gross cash farm income  ...   \n",
       "\n",
       "    variable_group_id     variable_unit  \\\n",
       "48               None  Dollars per farm   \n",
       "49               None  Dollars per farm   \n",
       "50               None  Dollars per farm   \n",
       "51               None  Dollars per farm   \n",
       "52               None  Dollars per farm   \n",
       "\n",
       "                                 variable_description variable_is_invalid  \\\n",
       "48  For farms participating in government programs...               False   \n",
       "49  For farms participating in government programs...               False   \n",
       "50  For farms participating in government programs...               False   \n",
       "51  For farms participating in government programs...               False   \n",
       "52  For farms participating in government programs...               False   \n",
       "\n",
       "      estimate     median  statistic   rse  unreliable_estimate  \\\n",
       "48    212459.0    30102.0       MEAN  11.8                    0   \n",
       "49    188384.0     7140.0       MEAN   4.0                    0   \n",
       "50    108034.0     8865.0       MEAN   6.3                    0   \n",
       "51     27750.0     9800.0       MEAN   4.1                    0   \n",
       "52  11634254.0  7404800.0       MEAN  11.3                    0   \n",
       "\n",
       "   decimal_display  \n",
       "48               0  \n",
       "49               0  \n",
       "50               0  \n",
       "51               0  \n",
       "52               0  \n",
       "\n",
       "[5 rows x 23 columns]"
      ]
     },
     "execution_count": 27,
     "metadata": {},
     "output_type": "execute_result"
    }
   ],
   "source": [
    "data = query_data(2018, API)\n",
    "data.head()"
   ]
  },
  {
   "attachments": {},
   "cell_type": "markdown",
   "metadata": {},
   "source": [
    "We can define another function to process the data we get from the API. In this example, we will do the following processing:\n",
    "\n",
    "- Select the columns of interest\n",
    "- calculate standard deviation of the income statement\n",
    "- calculate 95% confidence interval of the standard deviation"
   ]
  },
  {
   "cell_type": "code",
   "execution_count": 28,
   "metadata": {},
   "outputs": [],
   "source": [
    "def post_process(data):\n",
    "    cols = [\"year\", \"category\", \"category_value\", \"estimate\", \"median\", \"rse\"]\n",
    "    datasub = data.loc[:, cols]\n",
    "    datasub[\"se\"] = datasub[\"estimate\"] * (datasub[\"rse\"] / 100)\n",
    "    datasub[\"upper\"] = datasub[\"estimate\"] + datasub[\"se\"] * 1.96  # 95% CI\n",
    "    datasub[\"lower\"] = datasub[\"estimate\"] - datasub[\"se\"] * 1.96  # 95% CI\n",
    "    return datasub"
   ]
  },
  {
   "attachments": {},
   "cell_type": "markdown",
   "metadata": {},
   "source": [
    "Always check the results to make sure the function works as expected."
   ]
  },
  {
   "cell_type": "code",
   "execution_count": 30,
   "metadata": {},
   "outputs": [
    {
     "name": "stdout",
     "output_type": "stream",
     "text": [
      "status code: 200\n"
     ]
    },
    {
     "data": {
      "text/html": [
       "<div>\n",
       "<style scoped>\n",
       "    .dataframe tbody tr th:only-of-type {\n",
       "        vertical-align: middle;\n",
       "    }\n",
       "\n",
       "    .dataframe tbody tr th {\n",
       "        vertical-align: top;\n",
       "    }\n",
       "\n",
       "    .dataframe thead th {\n",
       "        text-align: right;\n",
       "    }\n",
       "</style>\n",
       "<table border=\"1\" class=\"dataframe\">\n",
       "  <thead>\n",
       "    <tr style=\"text-align: right;\">\n",
       "      <th></th>\n",
       "      <th>year</th>\n",
       "      <th>category</th>\n",
       "      <th>category_value</th>\n",
       "      <th>estimate</th>\n",
       "      <th>median</th>\n",
       "      <th>rse</th>\n",
       "      <th>se</th>\n",
       "      <th>upper</th>\n",
       "      <th>lower</th>\n",
       "    </tr>\n",
       "  </thead>\n",
       "  <tbody>\n",
       "    <tr>\n",
       "      <th>48</th>\n",
       "      <td>2018</td>\n",
       "      <td>Operator Age</td>\n",
       "      <td>34 years or younger</td>\n",
       "      <td>212459.0</td>\n",
       "      <td>30102.0</td>\n",
       "      <td>11.8</td>\n",
       "      <td>25070.162</td>\n",
       "      <td>2.615965e+05</td>\n",
       "      <td>1.633215e+05</td>\n",
       "    </tr>\n",
       "    <tr>\n",
       "      <th>49</th>\n",
       "      <td>2018</td>\n",
       "      <td>Operator Age</td>\n",
       "      <td>55 to 64 years old</td>\n",
       "      <td>188384.0</td>\n",
       "      <td>7140.0</td>\n",
       "      <td>4.0</td>\n",
       "      <td>7535.360</td>\n",
       "      <td>2.031533e+05</td>\n",
       "      <td>1.736147e+05</td>\n",
       "    </tr>\n",
       "    <tr>\n",
       "      <th>50</th>\n",
       "      <td>2018</td>\n",
       "      <td>Operator Age</td>\n",
       "      <td>65 years or older</td>\n",
       "      <td>108034.0</td>\n",
       "      <td>8865.0</td>\n",
       "      <td>6.3</td>\n",
       "      <td>6806.142</td>\n",
       "      <td>1.213740e+05</td>\n",
       "      <td>9.469396e+04</td>\n",
       "    </tr>\n",
       "    <tr>\n",
       "      <th>51</th>\n",
       "      <td>2018</td>\n",
       "      <td>Farm Typology</td>\n",
       "      <td>Farming occupation/lower-sales farms (2011 to ...</td>\n",
       "      <td>27750.0</td>\n",
       "      <td>9800.0</td>\n",
       "      <td>4.1</td>\n",
       "      <td>1137.750</td>\n",
       "      <td>2.997999e+04</td>\n",
       "      <td>2.552001e+04</td>\n",
       "    </tr>\n",
       "    <tr>\n",
       "      <th>52</th>\n",
       "      <td>2018</td>\n",
       "      <td>Farm Typology</td>\n",
       "      <td>Very large farms (2011 to present)</td>\n",
       "      <td>11634254.0</td>\n",
       "      <td>7404800.0</td>\n",
       "      <td>11.3</td>\n",
       "      <td>1314670.702</td>\n",
       "      <td>1.421101e+07</td>\n",
       "      <td>9.057499e+06</td>\n",
       "    </tr>\n",
       "  </tbody>\n",
       "</table>\n",
       "</div>"
      ],
      "text/plain": [
       "    year       category                                     category_value  \\\n",
       "48  2018   Operator Age                                34 years or younger   \n",
       "49  2018   Operator Age                                 55 to 64 years old   \n",
       "50  2018   Operator Age                                  65 years or older   \n",
       "51  2018  Farm Typology  Farming occupation/lower-sales farms (2011 to ...   \n",
       "52  2018  Farm Typology                 Very large farms (2011 to present)   \n",
       "\n",
       "      estimate     median   rse           se         upper         lower  \n",
       "48    212459.0    30102.0  11.8    25070.162  2.615965e+05  1.633215e+05  \n",
       "49    188384.0     7140.0   4.0     7535.360  2.031533e+05  1.736147e+05  \n",
       "50    108034.0     8865.0   6.3     6806.142  1.213740e+05  9.469396e+04  \n",
       "51     27750.0     9800.0   4.1     1137.750  2.997999e+04  2.552001e+04  \n",
       "52  11634254.0  7404800.0  11.3  1314670.702  1.421101e+07  9.057499e+06  "
      ]
     },
     "execution_count": 30,
     "metadata": {},
     "output_type": "execute_result"
    }
   ],
   "source": [
    "data18 = query_data(2018, API)\n",
    "data18 = post_process(data18)\n",
    "data18.head()"
   ]
  },
  {
   "attachments": {},
   "cell_type": "markdown",
   "metadata": {},
   "source": [
    "### Query multiple years\n",
    "\n",
    "With the functions we defined, it is now easier to query multiple years. We can use a for loop to iterate through the years and use the functions we defined to get the data. To avoid overloading the server, we can use `time.sleep()` to pause the code for one second between each query."
   ]
  },
  {
   "cell_type": "code",
   "execution_count": 31,
   "metadata": {},
   "outputs": [
    {
     "name": "stdout",
     "output_type": "stream",
     "text": [
      "Loading data for year 2008\n",
      "status code: 200\n",
      "Loading data for year 2009\n",
      "status code: 200\n",
      "Loading data for year 2010\n",
      "status code: 200\n",
      "Loading data for year 2011\n",
      "status code: 200\n",
      "Loading data for year 2012\n",
      "status code: 200\n",
      "Loading data for year 2013\n",
      "status code: 200\n",
      "Loading data for year 2014\n",
      "status code: 200\n",
      "Loading data for year 2015\n",
      "status code: 200\n",
      "Loading data for year 2016\n",
      "status code: 200\n",
      "Loading data for year 2017\n",
      "status code: 200\n",
      "Loading data for year 2018\n",
      "status code: 200\n",
      "Loading data for year 2019\n",
      "status code: 200\n",
      "Loading data for year 2020\n",
      "status code: 200\n",
      "Loading data for year 2021\n",
      "status code: 200\n"
     ]
    }
   ],
   "source": [
    "import time\n",
    "\n",
    "data = pd.DataFrame()\n",
    "for year in range(2008, 2022):  # only 2008-2021\n",
    "    print(\"Loading data for year\", year)\n",
    "    data_query = query_data(year, API)\n",
    "    data_query = post_process(data_query)\n",
    "    data = pd.concat([data, data_query], axis=0)\n",
    "    time.sleep(1)"
   ]
  },
  {
   "attachments": {},
   "cell_type": "markdown",
   "metadata": {},
   "source": [
    "Check the result"
   ]
  },
  {
   "cell_type": "code",
   "execution_count": 32,
   "metadata": {},
   "outputs": [
    {
     "data": {
      "text/html": [
       "<div>\n",
       "<style scoped>\n",
       "    .dataframe tbody tr th:only-of-type {\n",
       "        vertical-align: middle;\n",
       "    }\n",
       "\n",
       "    .dataframe tbody tr th {\n",
       "        vertical-align: top;\n",
       "    }\n",
       "\n",
       "    .dataframe thead th {\n",
       "        text-align: right;\n",
       "    }\n",
       "</style>\n",
       "<table border=\"1\" class=\"dataframe\">\n",
       "  <thead>\n",
       "    <tr style=\"text-align: right;\">\n",
       "      <th></th>\n",
       "      <th>year</th>\n",
       "      <th>category</th>\n",
       "      <th>category_value</th>\n",
       "      <th>estimate</th>\n",
       "      <th>median</th>\n",
       "      <th>rse</th>\n",
       "      <th>se</th>\n",
       "      <th>upper</th>\n",
       "      <th>lower</th>\n",
       "    </tr>\n",
       "  </thead>\n",
       "  <tbody>\n",
       "    <tr>\n",
       "      <th>47</th>\n",
       "      <td>2008</td>\n",
       "      <td>Operator Age</td>\n",
       "      <td>45 to 54 years old</td>\n",
       "      <td>155557.0</td>\n",
       "      <td>6892.0</td>\n",
       "      <td>4.1</td>\n",
       "      <td>6377.837</td>\n",
       "      <td>1.680576e+05</td>\n",
       "      <td>1.430564e+05</td>\n",
       "    </tr>\n",
       "    <tr>\n",
       "      <th>48</th>\n",
       "      <td>2008</td>\n",
       "      <td>Farm Typology</td>\n",
       "      <td>Retirement farms (1996 through 2010)</td>\n",
       "      <td>13992.0</td>\n",
       "      <td>4000.0</td>\n",
       "      <td>4.3</td>\n",
       "      <td>601.656</td>\n",
       "      <td>1.517125e+04</td>\n",
       "      <td>1.281275e+04</td>\n",
       "    </tr>\n",
       "    <tr>\n",
       "      <th>49</th>\n",
       "      <td>2008</td>\n",
       "      <td>Collapsed Farm Typology</td>\n",
       "      <td>Intermediate farms</td>\n",
       "      <td>57234.0</td>\n",
       "      <td>22000.0</td>\n",
       "      <td>2.4</td>\n",
       "      <td>1373.616</td>\n",
       "      <td>5.992629e+04</td>\n",
       "      <td>5.454171e+04</td>\n",
       "    </tr>\n",
       "    <tr>\n",
       "      <th>50</th>\n",
       "      <td>2008</td>\n",
       "      <td>Collapsed Farm Typology</td>\n",
       "      <td>Commercial farms</td>\n",
       "      <td>813566.0</td>\n",
       "      <td>414011.0</td>\n",
       "      <td>2.4</td>\n",
       "      <td>19525.584</td>\n",
       "      <td>8.518361e+05</td>\n",
       "      <td>7.752959e+05</td>\n",
       "    </tr>\n",
       "    <tr>\n",
       "      <th>51</th>\n",
       "      <td>2008</td>\n",
       "      <td>NASS Region</td>\n",
       "      <td>Atlantic region</td>\n",
       "      <td>67912.0</td>\n",
       "      <td>5200.0</td>\n",
       "      <td>3.6</td>\n",
       "      <td>2444.832</td>\n",
       "      <td>7.270387e+04</td>\n",
       "      <td>6.312013e+04</td>\n",
       "    </tr>\n",
       "    <tr>\n",
       "      <th>...</th>\n",
       "      <td>...</td>\n",
       "      <td>...</td>\n",
       "      <td>...</td>\n",
       "      <td>...</td>\n",
       "      <td>...</td>\n",
       "      <td>...</td>\n",
       "      <td>...</td>\n",
       "      <td>...</td>\n",
       "      <td>...</td>\n",
       "    </tr>\n",
       "    <tr>\n",
       "      <th>91</th>\n",
       "      <td>2021</td>\n",
       "      <td>Production Specialty</td>\n",
       "      <td>Tobacco, Cotton, Peanuts</td>\n",
       "      <td>886937.0</td>\n",
       "      <td>522000.0</td>\n",
       "      <td>14.0</td>\n",
       "      <td>124171.180</td>\n",
       "      <td>1.130313e+06</td>\n",
       "      <td>6.435615e+05</td>\n",
       "    </tr>\n",
       "    <tr>\n",
       "      <th>92</th>\n",
       "      <td>2021</td>\n",
       "      <td>Production Specialty</td>\n",
       "      <td>Other Field Crops</td>\n",
       "      <td>53155.0</td>\n",
       "      <td>5000.0</td>\n",
       "      <td>9.7</td>\n",
       "      <td>5156.035</td>\n",
       "      <td>6.326083e+04</td>\n",
       "      <td>4.304917e+04</td>\n",
       "    </tr>\n",
       "    <tr>\n",
       "      <th>93</th>\n",
       "      <td>2021</td>\n",
       "      <td>Production Specialty</td>\n",
       "      <td>Specialty Crops (F,V,N)</td>\n",
       "      <td>447255.0</td>\n",
       "      <td>16904.0</td>\n",
       "      <td>13.3</td>\n",
       "      <td>59484.915</td>\n",
       "      <td>5.638454e+05</td>\n",
       "      <td>3.306646e+05</td>\n",
       "    </tr>\n",
       "    <tr>\n",
       "      <th>94</th>\n",
       "      <td>2021</td>\n",
       "      <td>Production Specialty</td>\n",
       "      <td>Poultry</td>\n",
       "      <td>183738.0</td>\n",
       "      <td>21000.0</td>\n",
       "      <td>16.8</td>\n",
       "      <td>30867.984</td>\n",
       "      <td>2.442392e+05</td>\n",
       "      <td>1.232368e+05</td>\n",
       "    </tr>\n",
       "    <tr>\n",
       "      <th>95</th>\n",
       "      <td>2021</td>\n",
       "      <td>Production Specialty</td>\n",
       "      <td>Dairy</td>\n",
       "      <td>1565673.0</td>\n",
       "      <td>332890.0</td>\n",
       "      <td>7.2</td>\n",
       "      <td>112728.456</td>\n",
       "      <td>1.786621e+06</td>\n",
       "      <td>1.344725e+06</td>\n",
       "    </tr>\n",
       "  </tbody>\n",
       "</table>\n",
       "<p>669 rows × 9 columns</p>\n",
       "</div>"
      ],
      "text/plain": [
       "    year                 category                        category_value  \\\n",
       "47  2008             Operator Age                    45 to 54 years old   \n",
       "48  2008            Farm Typology  Retirement farms (1996 through 2010)   \n",
       "49  2008  Collapsed Farm Typology                    Intermediate farms   \n",
       "50  2008  Collapsed Farm Typology                      Commercial farms   \n",
       "51  2008              NASS Region                       Atlantic region   \n",
       "..   ...                      ...                                   ...   \n",
       "91  2021     Production Specialty              Tobacco, Cotton, Peanuts   \n",
       "92  2021     Production Specialty                     Other Field Crops   \n",
       "93  2021     Production Specialty               Specialty Crops (F,V,N)   \n",
       "94  2021     Production Specialty                               Poultry   \n",
       "95  2021     Production Specialty                                 Dairy   \n",
       "\n",
       "     estimate    median   rse          se         upper         lower  \n",
       "47   155557.0    6892.0   4.1    6377.837  1.680576e+05  1.430564e+05  \n",
       "48    13992.0    4000.0   4.3     601.656  1.517125e+04  1.281275e+04  \n",
       "49    57234.0   22000.0   2.4    1373.616  5.992629e+04  5.454171e+04  \n",
       "50   813566.0  414011.0   2.4   19525.584  8.518361e+05  7.752959e+05  \n",
       "51    67912.0    5200.0   3.6    2444.832  7.270387e+04  6.312013e+04  \n",
       "..        ...       ...   ...         ...           ...           ...  \n",
       "91   886937.0  522000.0  14.0  124171.180  1.130313e+06  6.435615e+05  \n",
       "92    53155.0    5000.0   9.7    5156.035  6.326083e+04  4.304917e+04  \n",
       "93   447255.0   16904.0  13.3   59484.915  5.638454e+05  3.306646e+05  \n",
       "94   183738.0   21000.0  16.8   30867.984  2.442392e+05  1.232368e+05  \n",
       "95  1565673.0  332890.0   7.2  112728.456  1.786621e+06  1.344725e+06  \n",
       "\n",
       "[669 rows x 9 columns]"
      ]
     },
     "execution_count": 32,
     "metadata": {},
     "output_type": "execute_result"
    }
   ],
   "source": [
    "data"
   ]
  },
  {
   "attachments": {},
   "cell_type": "markdown",
   "metadata": {},
   "source": [
    "### Visualize the data\n",
    "\n",
    "Now, let's focus on the two categories: `NASS Region` and `Production Specialty`. We will use ggplot2 (`plotnine` library) to visualize the income statement for each category across years."
   ]
  },
  {
   "cell_type": "code",
   "execution_count": 33,
   "metadata": {},
   "outputs": [
    {
     "name": "stderr",
     "output_type": "stream",
     "text": [
      "/var/folders/0k/_fn4_dgn04b2b44_sfhbshzr0000gp/T/ipykernel_59862/1007048301.py:3: SettingWithCopyWarning: \n",
      "A value is trying to be set on a copy of a slice from a DataFrame.\n",
      "Try using .loc[row_indexer,col_indexer] = value instead\n",
      "\n",
      "See the caveats in the documentation: https://pandas.pydata.org/pandas-docs/stable/user_guide/indexing.html#returning-a-view-versus-a-copy\n"
     ]
    },
    {
     "data": {
      "text/html": [
       "<div>\n",
       "<style scoped>\n",
       "    .dataframe tbody tr th:only-of-type {\n",
       "        vertical-align: middle;\n",
       "    }\n",
       "\n",
       "    .dataframe tbody tr th {\n",
       "        vertical-align: top;\n",
       "    }\n",
       "\n",
       "    .dataframe thead th {\n",
       "        text-align: right;\n",
       "    }\n",
       "</style>\n",
       "<table border=\"1\" class=\"dataframe\">\n",
       "  <thead>\n",
       "    <tr style=\"text-align: right;\">\n",
       "      <th></th>\n",
       "      <th>year</th>\n",
       "      <th>category</th>\n",
       "      <th>category_value</th>\n",
       "      <th>estimate</th>\n",
       "      <th>median</th>\n",
       "      <th>rse</th>\n",
       "      <th>se</th>\n",
       "      <th>upper</th>\n",
       "      <th>lower</th>\n",
       "      <th>group</th>\n",
       "    </tr>\n",
       "  </thead>\n",
       "  <tbody>\n",
       "    <tr>\n",
       "      <th>51</th>\n",
       "      <td>2008</td>\n",
       "      <td>NASS Region</td>\n",
       "      <td>Atlantic region</td>\n",
       "      <td>67912.0</td>\n",
       "      <td>5200.0</td>\n",
       "      <td>3.6</td>\n",
       "      <td>2444.832</td>\n",
       "      <td>7.270387e+04</td>\n",
       "      <td>6.312013e+04</td>\n",
       "      <td>NASS Region - Atlantic region</td>\n",
       "    </tr>\n",
       "    <tr>\n",
       "      <th>52</th>\n",
       "      <td>2008</td>\n",
       "      <td>NASS Region</td>\n",
       "      <td>South region</td>\n",
       "      <td>92042.0</td>\n",
       "      <td>4800.0</td>\n",
       "      <td>8.2</td>\n",
       "      <td>7547.444</td>\n",
       "      <td>1.068350e+05</td>\n",
       "      <td>7.724901e+04</td>\n",
       "      <td>NASS Region - South region</td>\n",
       "    </tr>\n",
       "    <tr>\n",
       "      <th>53</th>\n",
       "      <td>2008</td>\n",
       "      <td>NASS Region</td>\n",
       "      <td>Midwest region</td>\n",
       "      <td>140805.0</td>\n",
       "      <td>12600.0</td>\n",
       "      <td>2.4</td>\n",
       "      <td>3379.320</td>\n",
       "      <td>1.474285e+05</td>\n",
       "      <td>1.341815e+05</td>\n",
       "      <td>NASS Region - Midwest region</td>\n",
       "    </tr>\n",
       "    <tr>\n",
       "      <th>54</th>\n",
       "      <td>2008</td>\n",
       "      <td>NASS Region</td>\n",
       "      <td>Plains region</td>\n",
       "      <td>116175.0</td>\n",
       "      <td>8203.0</td>\n",
       "      <td>3.2</td>\n",
       "      <td>3717.600</td>\n",
       "      <td>1.234615e+05</td>\n",
       "      <td>1.088885e+05</td>\n",
       "      <td>NASS Region - Plains region</td>\n",
       "    </tr>\n",
       "    <tr>\n",
       "      <th>55</th>\n",
       "      <td>2008</td>\n",
       "      <td>NASS Region</td>\n",
       "      <td>West region</td>\n",
       "      <td>215985.0</td>\n",
       "      <td>7465.0</td>\n",
       "      <td>3.8</td>\n",
       "      <td>8207.430</td>\n",
       "      <td>2.320716e+05</td>\n",
       "      <td>1.998984e+05</td>\n",
       "      <td>NASS Region - West region</td>\n",
       "    </tr>\n",
       "    <tr>\n",
       "      <th>...</th>\n",
       "      <td>...</td>\n",
       "      <td>...</td>\n",
       "      <td>...</td>\n",
       "      <td>...</td>\n",
       "      <td>...</td>\n",
       "      <td>...</td>\n",
       "      <td>...</td>\n",
       "      <td>...</td>\n",
       "      <td>...</td>\n",
       "      <td>...</td>\n",
       "    </tr>\n",
       "    <tr>\n",
       "      <th>91</th>\n",
       "      <td>2021</td>\n",
       "      <td>Production Specialty</td>\n",
       "      <td>Tobacco, Cotton, Peanuts</td>\n",
       "      <td>886937.0</td>\n",
       "      <td>522000.0</td>\n",
       "      <td>14.0</td>\n",
       "      <td>124171.180</td>\n",
       "      <td>1.130313e+06</td>\n",
       "      <td>6.435615e+05</td>\n",
       "      <td>Production Specialty - Tobacco, Cotton, Peanuts</td>\n",
       "    </tr>\n",
       "    <tr>\n",
       "      <th>92</th>\n",
       "      <td>2021</td>\n",
       "      <td>Production Specialty</td>\n",
       "      <td>Other Field Crops</td>\n",
       "      <td>53155.0</td>\n",
       "      <td>5000.0</td>\n",
       "      <td>9.7</td>\n",
       "      <td>5156.035</td>\n",
       "      <td>6.326083e+04</td>\n",
       "      <td>4.304917e+04</td>\n",
       "      <td>Production Specialty - Other Field Crops</td>\n",
       "    </tr>\n",
       "    <tr>\n",
       "      <th>93</th>\n",
       "      <td>2021</td>\n",
       "      <td>Production Specialty</td>\n",
       "      <td>Specialty Crops (F,V,N)</td>\n",
       "      <td>447255.0</td>\n",
       "      <td>16904.0</td>\n",
       "      <td>13.3</td>\n",
       "      <td>59484.915</td>\n",
       "      <td>5.638454e+05</td>\n",
       "      <td>3.306646e+05</td>\n",
       "      <td>Production Specialty - Specialty Crops (F,V,N)</td>\n",
       "    </tr>\n",
       "    <tr>\n",
       "      <th>94</th>\n",
       "      <td>2021</td>\n",
       "      <td>Production Specialty</td>\n",
       "      <td>Poultry</td>\n",
       "      <td>183738.0</td>\n",
       "      <td>21000.0</td>\n",
       "      <td>16.8</td>\n",
       "      <td>30867.984</td>\n",
       "      <td>2.442392e+05</td>\n",
       "      <td>1.232368e+05</td>\n",
       "      <td>Production Specialty - Poultry</td>\n",
       "    </tr>\n",
       "    <tr>\n",
       "      <th>95</th>\n",
       "      <td>2021</td>\n",
       "      <td>Production Specialty</td>\n",
       "      <td>Dairy</td>\n",
       "      <td>1565673.0</td>\n",
       "      <td>332890.0</td>\n",
       "      <td>7.2</td>\n",
       "      <td>112728.456</td>\n",
       "      <td>1.786621e+06</td>\n",
       "      <td>1.344725e+06</td>\n",
       "      <td>Production Specialty - Dairy</td>\n",
       "    </tr>\n",
       "  </tbody>\n",
       "</table>\n",
       "<p>238 rows × 10 columns</p>\n",
       "</div>"
      ],
      "text/plain": [
       "    year              category            category_value   estimate    median  \\\n",
       "51  2008           NASS Region           Atlantic region    67912.0    5200.0   \n",
       "52  2008           NASS Region              South region    92042.0    4800.0   \n",
       "53  2008           NASS Region            Midwest region   140805.0   12600.0   \n",
       "54  2008           NASS Region             Plains region   116175.0    8203.0   \n",
       "55  2008           NASS Region               West region   215985.0    7465.0   \n",
       "..   ...                   ...                       ...        ...       ...   \n",
       "91  2021  Production Specialty  Tobacco, Cotton, Peanuts   886937.0  522000.0   \n",
       "92  2021  Production Specialty         Other Field Crops    53155.0    5000.0   \n",
       "93  2021  Production Specialty   Specialty Crops (F,V,N)   447255.0   16904.0   \n",
       "94  2021  Production Specialty                   Poultry   183738.0   21000.0   \n",
       "95  2021  Production Specialty                     Dairy  1565673.0  332890.0   \n",
       "\n",
       "     rse          se         upper         lower  \\\n",
       "51   3.6    2444.832  7.270387e+04  6.312013e+04   \n",
       "52   8.2    7547.444  1.068350e+05  7.724901e+04   \n",
       "53   2.4    3379.320  1.474285e+05  1.341815e+05   \n",
       "54   3.2    3717.600  1.234615e+05  1.088885e+05   \n",
       "55   3.8    8207.430  2.320716e+05  1.998984e+05   \n",
       "..   ...         ...           ...           ...   \n",
       "91  14.0  124171.180  1.130313e+06  6.435615e+05   \n",
       "92   9.7    5156.035  6.326083e+04  4.304917e+04   \n",
       "93  13.3   59484.915  5.638454e+05  3.306646e+05   \n",
       "94  16.8   30867.984  2.442392e+05  1.232368e+05   \n",
       "95   7.2  112728.456  1.786621e+06  1.344725e+06   \n",
       "\n",
       "                                              group  \n",
       "51                    NASS Region - Atlantic region  \n",
       "52                       NASS Region - South region  \n",
       "53                     NASS Region - Midwest region  \n",
       "54                      NASS Region - Plains region  \n",
       "55                        NASS Region - West region  \n",
       "..                                              ...  \n",
       "91  Production Specialty - Tobacco, Cotton, Peanuts  \n",
       "92         Production Specialty - Other Field Crops  \n",
       "93   Production Specialty - Specialty Crops (F,V,N)  \n",
       "94                   Production Specialty - Poultry  \n",
       "95                     Production Specialty - Dairy  \n",
       "\n",
       "[238 rows x 10 columns]"
      ]
     },
     "execution_count": 33,
     "metadata": {},
     "output_type": "execute_result"
    }
   ],
   "source": [
    "from plotnine import *\n",
    "dataplot = data.query(\"category in ['NASS Region', 'Production Specialty']\")\n",
    "dataplot[\"group\"] = dataplot[\"category\"] + \" - \" + dataplot[\"category_value\"]\n",
    "dataplot"
   ]
  },
  {
   "attachments": {},
   "cell_type": "markdown",
   "metadata": {},
   "source": [
    "By region"
   ]
  },
  {
   "cell_type": "code",
   "execution_count": 37,
   "metadata": {},
   "outputs": [
    {
     "data": {
      "image/png": "[encoded data removed]",
      "text/plain": [
       "<Figure size 1000x1000 with 1 Axes>"
      ]
     },
     "metadata": {},
     "output_type": "display_data"
    },
    {
     "data": {
      "text/plain": [
       "<ggplot: (685146251)>"
      ]
     },
     "execution_count": 37,
     "metadata": {},
     "output_type": "execute_result"
    }
   ],
   "source": [
    "(\n",
    "    ggplot(\n",
    "        dataplot.query(\"category == 'NASS Region'\"),\n",
    "        aes(x=\"year\", color=\"category_value\", group=\"group\"),\n",
    "    )\n",
    "    + geom_line(aes(y=\"estimate\", color=\"category_value\"))\n",
    "    + geom_line(aes(y=\"median\", color=\"category_value\"))\n",
    "    + geom_ribbon(aes(ymin=\"lower\", ymax=\"upper\", fill=\"category_value\"), alpha=0.2)\n",
    "    + theme(figure_size=(10, 10))\n",
    ")"
   ]
  },
  {
   "attachments": {},
   "cell_type": "markdown",
   "metadata": {},
   "source": [
    "By production specialty. We only show the livestock categories."
   ]
  },
  {
   "cell_type": "code",
   "execution_count": 39,
   "metadata": {},
   "outputs": [
    {
     "data": {
      "image/png": "[encoded data removed]",
      "text/plain": [
       "<Figure size 1000x1000 with 1 Axes>"
      ]
     },
     "metadata": {},
     "output_type": "display_data"
    },
    {
     "data": {
      "text/plain": [
       "<ggplot: (685147956)>"
      ]
     },
     "execution_count": 39,
     "metadata": {},
     "output_type": "execute_result"
    }
   ],
   "source": [
    "(\n",
    "    ggplot(\n",
    "        dataplot.query(\n",
    "            \"category == 'Production Specialty' and category_value in ['Dairy', 'Cattle', 'Hogs', 'Poultry']\"\n",
    "        ),\n",
    "        aes(\n",
    "            x=\"year\",\n",
    "            color=\"category_value\",\n",
    "            fill=\"category_value\",\n",
    "            group=\"category_value\",\n",
    "        ),\n",
    "    )\n",
    "    + geom_line(aes(y=\"estimate\"))\n",
    "    + geom_line(aes(y=\"median\"))\n",
    "    + geom_ribbon(aes(ymin=\"lower\", ymax=\"upper\"), alpha=0.2)\n",
    "    # color theme\n",
    "    + scale_color_brewer(type=\"qual\", palette=\"Set2\")\n",
    "    + scale_fill_brewer(type=\"qual\", palette=\"Set2\")\n",
    "    + theme(figure_size=(10, 10))\n",
    ")"
   ]
  },
  {
   "attachments": {},
   "cell_type": "markdown",
   "metadata": {},
   "source": [
    "We can apply a log transformation to the data to make the plot more readable."
   ]
  },
  {
   "cell_type": "code",
   "execution_count": 40,
   "metadata": {},
   "outputs": [
    {
     "name": "stderr",
     "output_type": "stream",
     "text": [
      "/var/folders/0k/_fn4_dgn04b2b44_sfhbshzr0000gp/T/ipykernel_59862/885553557.py:3: SettingWithCopyWarning: \n",
      "A value is trying to be set on a copy of a slice from a DataFrame.\n",
      "Try using .loc[row_indexer,col_indexer] = value instead\n",
      "\n",
      "See the caveats in the documentation: https://pandas.pydata.org/pandas-docs/stable/user_guide/indexing.html#returning-a-view-versus-a-copy\n",
      "/var/folders/0k/_fn4_dgn04b2b44_sfhbshzr0000gp/T/ipykernel_59862/885553557.py:4: SettingWithCopyWarning: \n",
      "A value is trying to be set on a copy of a slice from a DataFrame.\n",
      "Try using .loc[row_indexer,col_indexer] = value instead\n",
      "\n",
      "See the caveats in the documentation: https://pandas.pydata.org/pandas-docs/stable/user_guide/indexing.html#returning-a-view-versus-a-copy\n",
      "/Users/niche/miniforge3/envs/niche/lib/python3.9/site-packages/pandas/core/arraylike.py:402: RuntimeWarning: invalid value encountered in log\n",
      "/var/folders/0k/_fn4_dgn04b2b44_sfhbshzr0000gp/T/ipykernel_59862/885553557.py:5: SettingWithCopyWarning: \n",
      "A value is trying to be set on a copy of a slice from a DataFrame.\n",
      "Try using .loc[row_indexer,col_indexer] = value instead\n",
      "\n",
      "See the caveats in the documentation: https://pandas.pydata.org/pandas-docs/stable/user_guide/indexing.html#returning-a-view-versus-a-copy\n",
      "/Users/niche/miniforge3/envs/niche/lib/python3.9/site-packages/pandas/core/arraylike.py:402: RuntimeWarning: divide by zero encountered in log\n",
      "/var/folders/0k/_fn4_dgn04b2b44_sfhbshzr0000gp/T/ipykernel_59862/885553557.py:6: SettingWithCopyWarning: \n",
      "A value is trying to be set on a copy of a slice from a DataFrame.\n",
      "Try using .loc[row_indexer,col_indexer] = value instead\n",
      "\n",
      "See the caveats in the documentation: https://pandas.pydata.org/pandas-docs/stable/user_guide/indexing.html#returning-a-view-versus-a-copy\n"
     ]
    },
    {
     "data": {
      "image/png": "[encoded data removed]",
      "text/plain": [
       "<Figure size 1000x1000 with 1 Axes>"
      ]
     },
     "metadata": {},
     "output_type": "display_data"
    },
    {
     "data": {
      "text/plain": [
       "<ggplot: (685725654)>"
      ]
     },
     "execution_count": 40,
     "metadata": {},
     "output_type": "execute_result"
    }
   ],
   "source": [
    "import numpy as np\n",
    "\n",
    "dataplot[\"log_estimate\"] = np.log(dataplot[\"estimate\"])\n",
    "dataplot[\"log_upper\"] = np.log(dataplot[\"upper\"])\n",
    "dataplot[\"log_lower\"] = np.log(dataplot[\"lower\"])\n",
    "dataplot[\"log_median\"] = np.log(dataplot[\"median\"])\n",
    "(\n",
    "    ggplot(\n",
    "        dataplot.query(\n",
    "            \"category == 'Production Specialty' and category_value in ['Dairy', 'Cattle', 'Hogs', 'Poultry']\"\n",
    "        ),\n",
    "        aes(\n",
    "            x=\"year\",\n",
    "            color=\"category_value\",\n",
    "            fill=\"category_value\",\n",
    "            group=\"category_value\",\n",
    "        ),\n",
    "    )\n",
    "    + geom_line(aes(y=\"log_estimate\"), size=1)\n",
    "    + geom_line(aes(y=\"log_median\"))\n",
    "    + geom_ribbon(aes(ymin=\"log_lower\", ymax=\"log_upper\"), alpha=0.2)\n",
    "    + scale_color_brewer(type=\"qual\", palette=\"Set2\")\n",
    "    + scale_fill_brewer(type=\"qual\", palette=\"Set2\")\n",
    "    + theme(figure_size=(10, 10))\n",
    ")\n"
   ]
  },
  {
   "attachments": {},
   "cell_type": "markdown",
   "metadata": {},
   "source": [
    "## 3. SQLite3\n",
    "\n",
    "After we learn how to interact with an existing database through API, we can also build our own database using our own data. In this section, we will use `sqlite3` to build a database and query the data.\n"
   ]
  },
  {
   "cell_type": "code",
   "execution_count": 41,
   "metadata": {},
   "outputs": [],
   "source": [
    "import sqlite3"
   ]
  },
  {
   "attachments": {},
   "cell_type": "markdown",
   "metadata": {},
   "source": [
    "### Create a database\n",
    "\n",
    "Creating a database is as simple as creating a file. We can use `sqlite3.connect()` to create a database file."
   ]
  },
  {
   "cell_type": "code",
   "execution_count": 50,
   "metadata": {},
   "outputs": [],
   "source": [
    "conn = sqlite3.connect(\"demo.db\") # conn stands for connection"
   ]
  },
  {
   "attachments": {},
   "cell_type": "markdown",
   "metadata": {},
   "source": [
    "Like we learned in the previous section, a database can contain multiple tables (or surveys, reports). To craete a table, we need to specify the name of the columns and the data type. We also need to specify the primary key, which is a unique identifier for each row. We can create a table named `users` with the following columns:\n",
    "\n",
    "- `id` - INTEGER (PRIMARY KEY)\n",
    "- `name` - TEXT\n",
    "- `gender` - TEXT\n",
    "- `age` - INTEGER"
   ]
  },
  {
   "cell_type": "code",
   "execution_count": 93,
   "metadata": {},
   "outputs": [
    {
     "data": {
      "text/plain": [
       "<sqlite3.Cursor at 0x28fdb7c70>"
      ]
     },
     "execution_count": 93,
     "metadata": {},
     "output_type": "execute_result"
    }
   ],
   "source": [
    "cur = conn.cursor() # cur stands for cursor\n",
    "cur.execute(\n",
    "    \"\"\"\n",
    "    CREATE TABLE users (\n",
    "        id INTEGER PRIMARY KEY,\n",
    "        name TEXT NOT NULL,\n",
    "        gender TEXT,\n",
    "        age INTEGER\n",
    "    )\n",
    "    \"\"\"\n",
    ")"
   ]
  },
  {
   "attachments": {},
   "cell_type": "markdown",
   "metadata": {},
   "source": [
    "Check the table columns"
   ]
  },
  {
   "cell_type": "code",
   "execution_count": 94,
   "metadata": {},
   "outputs": [
    {
     "data": {
      "text/plain": [
       "[(0, 'id', 'INTEGER', 0, None, 1),\n",
       " (1, 'name', 'TEXT', 1, None, 0),\n",
       " (2, 'gender', 'TEXT', 0, None, 0),\n",
       " (3, 'age', 'INTEGER', 0, None, 0)]"
      ]
     },
     "execution_count": 94,
     "metadata": {},
     "output_type": "execute_result"
    }
   ],
   "source": [
    "cur.execute(\"PRAGMA table_info(users)\")\n",
    "cur.fetchall()"
   ]
  },
  {
   "attachments": {},
   "cell_type": "markdown",
   "metadata": {},
   "source": [
    "If you think the command is too complicated, we can use a function to simplify the process."
   ]
  },
  {
   "cell_type": "code",
   "execution_count": 103,
   "metadata": {},
   "outputs": [
    {
     "data": {
      "text/plain": [
       "[('id', 'INTEGER'), ('name', 'TEXT'), ('gender', 'TEXT'), ('age', 'INTEGER')]"
      ]
     },
     "metadata": {},
     "output_type": "display_data"
    }
   ],
   "source": [
    "def list_cols(cur, table):\n",
    "    cur.execute(\"PRAGMA table_info(%s)\" % table)\n",
    "    return display([x[1:3] for x in cur.fetchall()])\n",
    "\n",
    "list_cols(cur, \"users\")"
   ]
  },
  {
   "attachments": {},
   "cell_type": "markdown",
   "metadata": {},
   "source": [
    "### Save the database\n",
    "\n",
    "We can use `conn.commit()` to save the changes to the database. Like how we deal with a file, we need to close `conn.close()` the database after we are done with it."
   ]
  },
  {
   "cell_type": "code",
   "execution_count": 84,
   "metadata": {},
   "outputs": [],
   "source": [
    "conn.commit()\n",
    "conn.close()"
   ]
  },
  {
   "attachments": {},
   "cell_type": "markdown",
   "metadata": {},
   "source": [
    "Or we can use a `with` statement to automatically close the database after we are done with it."
   ]
  },
  {
   "cell_type": "code",
   "execution_count": 105,
   "metadata": {},
   "outputs": [
    {
     "data": {
      "text/plain": [
       "[('id', 'INTEGER'), ('name', 'TEXT'), ('gender', 'TEXT'), ('age', 'INTEGER')]"
      ]
     },
     "metadata": {},
     "output_type": "display_data"
    }
   ],
   "source": [
    "with sqlite3.connect(\"demo.db\") as conn:\n",
    "    cur = conn.cursor()\n",
    "    list_cols(cur, \"users\")"
   ]
  },
  {
   "attachments": {},
   "cell_type": "markdown",
   "metadata": {},
   "source": [
    "### Insert data\n",
    "\n",
    "There are two ways to insert data into a table:\n",
    "\n",
    "Provide information for all columns\n",
    "- `INSERT INTO users VALUES (1, 'John', 'M', 20)`\n",
    "\n",
    "Provide information for some columns\n",
    "- `INSERT INTO users (name, gender) VALUES ('John', 'M')`"
   ]
  },
  {
   "cell_type": "code",
   "execution_count": 96,
   "metadata": {},
   "outputs": [
    {
     "data": {
      "text/plain": [
       "<sqlite3.Cursor at 0x28fdb7c70>"
      ]
     },
     "execution_count": 96,
     "metadata": {},
     "output_type": "execute_result"
    }
   ],
   "source": [
    "cur.execute(\"INSERT INTO users VALUES (1, 'Mary', 'F', 25)\")\n",
    "cur.execute(\"INSERT INTO users (name) VALUES ('John')\")"
   ]
  },
  {
   "attachments": {},
   "cell_type": "markdown",
   "metadata": {},
   "source": [
    "Check the data"
   ]
  },
  {
   "cell_type": "code",
   "execution_count": 97,
   "metadata": {},
   "outputs": [
    {
     "data": {
      "text/plain": [
       "[(1, 'Mary', 'F', 25), (2, 'John', None, None)]"
      ]
     },
     "execution_count": 97,
     "metadata": {},
     "output_type": "execute_result"
    }
   ],
   "source": [
    "cur.execute(\"SELECT * FROM users\")\n",
    "cur.fetchall()"
   ]
  },
  {
   "attachments": {},
   "cell_type": "markdown",
   "metadata": {},
   "source": [
    "Or wrap it up in a function"
   ]
  },
  {
   "cell_type": "code",
   "execution_count": 101,
   "metadata": {},
   "outputs": [
    {
     "data": {
      "text/plain": [
       "[(1, 'Mary', 'F', 25),\n",
       " (2, 'John', None, None),\n",
       " (3, 'Camille', 'female', 40),\n",
       " (4, 'Mike', 'male', 25),\n",
       " (5, 'Jason', 'male', 35),\n",
       " (6, 'Maria', 'female', 20)]"
      ]
     },
     "metadata": {},
     "output_type": "display_data"
    }
   ],
   "source": [
    "def print_table(cur, table):\n",
    "    cur.execute(\"SELECT * FROM %s\" % table)\n",
    "    display(cur.fetchall())\n",
    "\n",
    "print_table(cur, \"users\")"
   ]
  },
  {
   "attachments": {},
   "cell_type": "markdown",
   "metadata": {},
   "source": [
    "You can actually use `df.to_sql()` to insert data into a table. Parameters we need to consider:\n",
    "\n",
    "- `if_exists`: If the table already exists, we can choose to `replace` the table, or `append` the data to the existing table.\n",
    "- `index`: whether to include the index of the dataframe as a column in the table."
   ]
  },
  {
   "cell_type": "code",
   "execution_count": 99,
   "metadata": {},
   "outputs": [
    {
     "data": {
      "text/plain": [
       "4"
      ]
     },
     "execution_count": 99,
     "metadata": {},
     "output_type": "execute_result"
    }
   ],
   "source": [
    "df = pd.DataFrame(\n",
    "    {\n",
    "        \"name\": [\"Camille\", \"Mike\", \"Jason\", \"Maria\"],\n",
    "        \"gender\": [\"female\", \"male\", \"male\", \"female\"],\n",
    "        \"age\": [40, 25, 35, 20],\n",
    "    }\n",
    ")\n",
    "df.to_sql(\"users\", conn, if_exists=\"append\", index=False)  # if_exists=\"replace\""
   ]
  },
  {
   "cell_type": "code",
   "execution_count": 106,
   "metadata": {},
   "outputs": [
    {
     "data": {
      "text/plain": [
       "[(1, 'Mary', 'F', 25),\n",
       " (2, 'John', None, None),\n",
       " (3, 'Camille', 'female', 40),\n",
       " (4, 'Mike', 'male', 25),\n",
       " (5, 'Jason', 'male', 35),\n",
       " (6, 'Maria', 'female', 20)]"
      ]
     },
     "metadata": {},
     "output_type": "display_data"
    }
   ],
   "source": [
    "print_table(cur, \"users\")"
   ]
  },
  {
   "attachments": {},
   "cell_type": "markdown",
   "metadata": {},
   "source": [
    "### Add constraints to columns\n",
    "\n",
    "You might notice that the gender values were not in a consistent format, which should either be [`M`, `F`] or [`Male`, `Female`]. We can use `CHECK` to add constraints to the columns.\n",
    "\n",
    "Before re-creating the table, we need to drop the table first."
   ]
  },
  {
   "cell_type": "code",
   "execution_count": 107,
   "metadata": {},
   "outputs": [
    {
     "data": {
      "text/plain": [
       "<sqlite3.Cursor at 0x28fdb7b20>"
      ]
     },
     "execution_count": 107,
     "metadata": {},
     "output_type": "execute_result"
    }
   ],
   "source": [
    "cur.execute(\"DROP TABLE users\")"
   ]
  },
  {
   "attachments": {},
   "cell_type": "markdown",
   "metadata": {},
   "source": [
    "Then create a new table with the constraints:\n",
    "\n",
    "* id - INTEGER (PRIMARY KEY)\n",
    "* name - TEXT - NOT NULL\n",
    "* gender - TEXT - can only be either 'male' or 'female'\n",
    "* age - INTEGER - must be in the range of 0 to 150\n",
    "* weight - REAL - must be in the range of 0 to 300"
   ]
  },
  {
   "cell_type": "code",
   "execution_count": 108,
   "metadata": {},
   "outputs": [
    {
     "data": {
      "text/plain": [
       "<sqlite3.Cursor at 0x28fdb7b20>"
      ]
     },
     "execution_count": 108,
     "metadata": {},
     "output_type": "execute_result"
    }
   ],
   "source": [
    "cur.execute(\n",
    "    \"\"\"\n",
    "    CREATE TABLE users (\n",
    "        id INTEGER PRIMARY KEY,\n",
    "        name TEXT NOT NULL,\n",
    "        gender TEXT CHECK(gender IN (\"male\", \"female\")),\n",
    "        age INTEGER CHECK(age >= 0 AND age <= 150),\n",
    "        weight REAL CHECK(weight >= 0 AND weight <= 300)\n",
    "    )\n",
    "    \"\"\"\n",
    ")"
   ]
  },
  {
   "attachments": {},
   "cell_type": "markdown",
   "metadata": {},
   "source": [
    "Now, let's try to insert data again. We can start with expected values:"
   ]
  },
  {
   "cell_type": "code",
   "execution_count": 110,
   "metadata": {},
   "outputs": [
    {
     "data": {
      "text/plain": [
       "<sqlite3.Cursor at 0x28fdb7b20>"
      ]
     },
     "execution_count": 110,
     "metadata": {},
     "output_type": "execute_result"
    }
   ],
   "source": [
    "cur.execute(\"INSERT INTO users VALUES (1, 'Mary', 'female', 25, 150)\")"
   ]
  },
  {
   "cell_type": "code",
   "execution_count": 111,
   "metadata": {},
   "outputs": [
    {
     "data": {
      "text/plain": [
       "[(1, 'Mary', 'female', 25, 150.0)]"
      ]
     },
     "metadata": {},
     "output_type": "display_data"
    }
   ],
   "source": [
    "print_table(cur, \"users\")"
   ]
  },
  {
   "attachments": {},
   "cell_type": "markdown",
   "metadata": {},
   "source": [
    "Let's try different exceptions:"
   ]
  },
  {
   "cell_type": "code",
   "execution_count": 112,
   "metadata": {},
   "outputs": [
    {
     "ename": "IntegrityError",
     "evalue": "CHECK constraint failed: gender IN (\"male\", \"female\")",
     "output_type": "error",
     "traceback": [
      "\u001b[0;31m---------------------------------------------------------------------------\u001b[0m",
      "\u001b[0;31mIntegrityError\u001b[0m                            Traceback (most recent call last)",
      "Cell \u001b[0;32mIn[112], line 1\u001b[0m\n\u001b[0;32m----> 1\u001b[0m cur\u001b[39m.\u001b[39;49mexecute(\u001b[39m\"\u001b[39;49m\u001b[39mINSERT INTO users VALUES (2, \u001b[39;49m\u001b[39m'\u001b[39;49m\u001b[39mMary\u001b[39;49m\u001b[39m'\u001b[39;49m\u001b[39m, \u001b[39;49m\u001b[39m'\u001b[39;49m\u001b[39mf\u001b[39;49m\u001b[39m'\u001b[39;49m\u001b[39m, 25, 150)\u001b[39;49m\u001b[39m\"\u001b[39;49m)\n",
      "\u001b[0;31mIntegrityError\u001b[0m: CHECK constraint failed: gender IN (\"male\", \"female\")"
     ]
    }
   ],
   "source": [
    "cur.execute(\"INSERT INTO users VALUES (2, 'Mary', 'f', 25, 150)\")"
   ]
  },
  {
   "cell_type": "code",
   "execution_count": 114,
   "metadata": {},
   "outputs": [
    {
     "ename": "IntegrityError",
     "evalue": "CHECK constraint failed: age >= 0 AND age <= 150",
     "output_type": "error",
     "traceback": [
      "\u001b[0;31m---------------------------------------------------------------------------\u001b[0m",
      "\u001b[0;31mIntegrityError\u001b[0m                            Traceback (most recent call last)",
      "Cell \u001b[0;32mIn[114], line 1\u001b[0m\n\u001b[0;32m----> 1\u001b[0m cur\u001b[39m.\u001b[39;49mexecute(\u001b[39m\"\u001b[39;49m\u001b[39mINSERT INTO users VALUES (2, \u001b[39;49m\u001b[39m'\u001b[39;49m\u001b[39mMary\u001b[39;49m\u001b[39m'\u001b[39;49m\u001b[39m, \u001b[39;49m\u001b[39m'\u001b[39;49m\u001b[39mfemale\u001b[39;49m\u001b[39m'\u001b[39;49m\u001b[39m, -3, 200)\u001b[39;49m\u001b[39m\"\u001b[39;49m)\n",
      "\u001b[0;31mIntegrityError\u001b[0m: CHECK constraint failed: age >= 0 AND age <= 150"
     ]
    }
   ],
   "source": [
    "cur.execute(\"INSERT INTO users VALUES (2, 'Mary', 'female', -3, 200)\")"
   ]
  },
  {
   "attachments": {},
   "cell_type": "markdown",
   "metadata": {},
   "source": [
    "By setting constraints to the columns, it is easier to ensure the data quality when the database is growing. Here is a complete code for creating a `user` table with data inserted."
   ]
  },
  {
   "cell_type": "code",
   "execution_count": 120,
   "metadata": {},
   "outputs": [],
   "source": [
    "with sqlite3.connect(\"demo.db\") as conn:\n",
    "    cur = conn.cursor()\n",
    "    cur.execute(\n",
    "    \"\"\"\n",
    "    CREATE TABLE users (\n",
    "        id INTEGER PRIMARY KEY,\n",
    "        name TEXT NOT NULL,\n",
    "        gender TEXT CHECK(gender IN (\"male\", \"female\")),\n",
    "        age INTEGER CHECK(age >= 0 AND age <= 150),\n",
    "        weight REAL CHECK(weight >= 0 AND weight <= 300)\n",
    "    )\n",
    "    \"\"\")\n",
    "\n",
    "    df = pd.DataFrame(\n",
    "        {\n",
    "            \"name\": [\"Camille\", \"Mike\", \"Jason\", \"Maria\"],\n",
    "            \"gender\": [\"female\", \"male\", \"male\", \"female\"],\n",
    "            \"age\": [40, 25, 35, 20],\n",
    "            \"weight\": [150, 200, 180, 120],\n",
    "        }\n",
    "    )\n",
    "    df.to_sql(\"users\", conn, if_exists=\"append\", index=False)\n",
    "    print_table(cur, \"users\")"
   ]
  },
  {
   "attachments": {},
   "cell_type": "markdown",
   "metadata": {},
   "source": [
    "### Reference integrity"
   ]
  },
  {
   "attachments": {},
   "cell_type": "markdown",
   "metadata": {},
   "source": [
    "We already have a table `users` to define users' information. Now, let's create another table `walks` to record the walking activity."
   ]
  },
  {
   "cell_type": "code",
   "execution_count": null,
   "metadata": {},
   "outputs": [],
   "source": [
    "conn = sqlite3.connect(\"demo.db\")\n",
    "cur = conn.cursor()\n",
    "cur.execute(\n",
    "    \"\"\"\n",
    "    CREATE TABLE walks (\n",
    "        id INTEGER PRIMARY KEY,\n",
    "        user_id INTEGER NOT NULL,\n",
    "        date TEXT NOT NULL,\n",
    "        distance FLOAT NOT NULL,\n",
    "        duration INTEGER NOT NULL,\n",
    "        FOREIGN KEY (user_id) REFERENCES users (id))\n",
    "    \"\"\"\n",
    ")"
   ]
  },
  {
   "attachments": {},
   "cell_type": "markdown",
   "metadata": {},
   "source": [
    "You may notice that we set `user_id` as the foreign key. This means that the value of `user_id` must correspond to the value of `id` in the `users` table when we need to consider the relationship between the two tables. This is called a `reference integrity`. We can use `REFERENCES` to set the reference integrity."
   ]
  },
  {
   "attachments": {},
   "cell_type": "markdown",
   "metadata": {},
   "source": [
    "The `walks` table include the information of the walking date, distance, and duration.Let's insert data into this `walks` table."
   ]
  },
  {
   "cell_type": "code",
   "execution_count": 133,
   "metadata": {},
   "outputs": [
    {
     "data": {
      "text/plain": [
       "10"
      ]
     },
     "execution_count": 133,
     "metadata": {},
     "output_type": "execute_result"
    }
   ],
   "source": [
    "data = pd.DataFrame(\n",
    "    data={\n",
    "        \"user_id\": [1, 1, 1, 2, 2, 3, 3, 4, 4, 4],\n",
    "        \"date\": [\n",
    "            \"02-26-2023\",\n",
    "            \"02-27-2023\",\n",
    "            \"02-28-2023\",\n",
    "            \"02-26-2023\",\n",
    "            \"02-27-2023\",\n",
    "            \"02-26-2023\",\n",
    "            \"02-27-2023\",\n",
    "            \"02-26-2023\",\n",
    "            \"02-27-2023\",\n",
    "            \"02-28-2023\",\n",
    "        ],\n",
    "        \"distance\": [1.2, 1.5, 1.7, 2.2, 2.5, 3.2, 3.5, 4.2, 4.5, 4.7],\n",
    "        \"duration\": [30, 40, 50, 60, 70, 80, 90, 100, 110, 120],\n",
    "    }\n",
    ")\n",
    "data.to_sql(\"walks\", conn, if_exists=\"append\", index=False)"
   ]
  },
  {
   "cell_type": "code",
   "execution_count": 134,
   "metadata": {},
   "outputs": [
    {
     "data": {
      "text/plain": [
       "[(1, '02-26-2023', 1.2, 30),\n",
       " (1, '02-27-2023', 1.5, 40),\n",
       " (1, '02-28-2023', 1.7, 50),\n",
       " (2, '02-26-2023', 2.2, 60),\n",
       " (2, '02-27-2023', 2.5, 70),\n",
       " (3, '02-26-2023', 3.2, 80),\n",
       " (3, '02-27-2023', 3.5, 90),\n",
       " (4, '02-26-2023', 4.2, 100),\n",
       " (4, '02-27-2023', 4.5, 110),\n",
       " (4, '02-28-2023', 4.7, 120)]"
      ]
     },
     "metadata": {},
     "output_type": "display_data"
    }
   ],
   "source": [
    "print_table(cur, \"walks\")"
   ]
  },
  {
   "attachments": {},
   "cell_type": "markdown",
   "metadata": {},
   "source": [
    "Ok, now we have two tables with data inserted. We can use `JOIN` to put the data from two tables together."
   ]
  },
  {
   "cell_type": "code",
   "execution_count": 135,
   "metadata": {},
   "outputs": [
    {
     "data": {
      "text/plain": [
       "[(1, '02-26-2023', 1.2, 30, 1, 'Camille', 'female', 40, 150.0),\n",
       " (1, '02-27-2023', 1.5, 40, 1, 'Camille', 'female', 40, 150.0),\n",
       " (1, '02-28-2023', 1.7, 50, 1, 'Camille', 'female', 40, 150.0),\n",
       " (2, '02-26-2023', 2.2, 60, 2, 'Mike', 'male', 25, 200.0),\n",
       " (2, '02-27-2023', 2.5, 70, 2, 'Mike', 'male', 25, 200.0),\n",
       " (3, '02-26-2023', 3.2, 80, 3, 'Jason', 'male', 35, 180.0),\n",
       " (3, '02-27-2023', 3.5, 90, 3, 'Jason', 'male', 35, 180.0),\n",
       " (4, '02-26-2023', 4.2, 100, 4, 'Maria', 'female', 20, 120.0),\n",
       " (4, '02-27-2023', 4.5, 110, 4, 'Maria', 'female', 20, 120.0),\n",
       " (4, '02-28-2023', 4.7, 120, 4, 'Maria', 'female', 20, 120.0)]"
      ]
     },
     "execution_count": 135,
     "metadata": {},
     "output_type": "execute_result"
    }
   ],
   "source": [
    "cur.execute(\n",
    "    \"\"\"\n",
    "    SELECT * FROM walks JOIN users\n",
    "    ON walks.user_id = users.id\n",
    "    \"\"\"\n",
    ")\n",
    "cur.fetchall()"
   ]
  },
  {
   "attachments": {},
   "cell_type": "markdown",
   "metadata": {},
   "source": [
    "You see that the user information was added to the `walks` table. This is similar to how we use `df.merge()` to combine two dataframes in Pandas."
   ]
  },
  {
   "cell_type": "code",
   "execution_count": 136,
   "metadata": {},
   "outputs": [
    {
     "data": {
      "text/html": [
       "<div>\n",
       "<style scoped>\n",
       "    .dataframe tbody tr th:only-of-type {\n",
       "        vertical-align: middle;\n",
       "    }\n",
       "\n",
       "    .dataframe tbody tr th {\n",
       "        vertical-align: top;\n",
       "    }\n",
       "\n",
       "    .dataframe thead th {\n",
       "        text-align: right;\n",
       "    }\n",
       "</style>\n",
       "<table border=\"1\" class=\"dataframe\">\n",
       "  <thead>\n",
       "    <tr style=\"text-align: right;\">\n",
       "      <th></th>\n",
       "      <th>user_id</th>\n",
       "      <th>date</th>\n",
       "      <th>distance</th>\n",
       "      <th>duration</th>\n",
       "      <th>id</th>\n",
       "      <th>name</th>\n",
       "      <th>gender</th>\n",
       "      <th>age</th>\n",
       "      <th>weight</th>\n",
       "    </tr>\n",
       "  </thead>\n",
       "  <tbody>\n",
       "    <tr>\n",
       "      <th>0</th>\n",
       "      <td>1</td>\n",
       "      <td>02-26-2023</td>\n",
       "      <td>1.2</td>\n",
       "      <td>30</td>\n",
       "      <td>1</td>\n",
       "      <td>Camille</td>\n",
       "      <td>female</td>\n",
       "      <td>40</td>\n",
       "      <td>150.0</td>\n",
       "    </tr>\n",
       "    <tr>\n",
       "      <th>1</th>\n",
       "      <td>1</td>\n",
       "      <td>02-27-2023</td>\n",
       "      <td>1.5</td>\n",
       "      <td>40</td>\n",
       "      <td>1</td>\n",
       "      <td>Camille</td>\n",
       "      <td>female</td>\n",
       "      <td>40</td>\n",
       "      <td>150.0</td>\n",
       "    </tr>\n",
       "    <tr>\n",
       "      <th>2</th>\n",
       "      <td>1</td>\n",
       "      <td>02-28-2023</td>\n",
       "      <td>1.7</td>\n",
       "      <td>50</td>\n",
       "      <td>1</td>\n",
       "      <td>Camille</td>\n",
       "      <td>female</td>\n",
       "      <td>40</td>\n",
       "      <td>150.0</td>\n",
       "    </tr>\n",
       "    <tr>\n",
       "      <th>3</th>\n",
       "      <td>2</td>\n",
       "      <td>02-26-2023</td>\n",
       "      <td>2.2</td>\n",
       "      <td>60</td>\n",
       "      <td>2</td>\n",
       "      <td>Mike</td>\n",
       "      <td>male</td>\n",
       "      <td>25</td>\n",
       "      <td>200.0</td>\n",
       "    </tr>\n",
       "    <tr>\n",
       "      <th>4</th>\n",
       "      <td>2</td>\n",
       "      <td>02-27-2023</td>\n",
       "      <td>2.5</td>\n",
       "      <td>70</td>\n",
       "      <td>2</td>\n",
       "      <td>Mike</td>\n",
       "      <td>male</td>\n",
       "      <td>25</td>\n",
       "      <td>200.0</td>\n",
       "    </tr>\n",
       "    <tr>\n",
       "      <th>5</th>\n",
       "      <td>3</td>\n",
       "      <td>02-26-2023</td>\n",
       "      <td>3.2</td>\n",
       "      <td>80</td>\n",
       "      <td>3</td>\n",
       "      <td>Jason</td>\n",
       "      <td>male</td>\n",
       "      <td>35</td>\n",
       "      <td>180.0</td>\n",
       "    </tr>\n",
       "    <tr>\n",
       "      <th>6</th>\n",
       "      <td>3</td>\n",
       "      <td>02-27-2023</td>\n",
       "      <td>3.5</td>\n",
       "      <td>90</td>\n",
       "      <td>3</td>\n",
       "      <td>Jason</td>\n",
       "      <td>male</td>\n",
       "      <td>35</td>\n",
       "      <td>180.0</td>\n",
       "    </tr>\n",
       "    <tr>\n",
       "      <th>7</th>\n",
       "      <td>4</td>\n",
       "      <td>02-26-2023</td>\n",
       "      <td>4.2</td>\n",
       "      <td>100</td>\n",
       "      <td>4</td>\n",
       "      <td>Maria</td>\n",
       "      <td>female</td>\n",
       "      <td>20</td>\n",
       "      <td>120.0</td>\n",
       "    </tr>\n",
       "    <tr>\n",
       "      <th>8</th>\n",
       "      <td>4</td>\n",
       "      <td>02-27-2023</td>\n",
       "      <td>4.5</td>\n",
       "      <td>110</td>\n",
       "      <td>4</td>\n",
       "      <td>Maria</td>\n",
       "      <td>female</td>\n",
       "      <td>20</td>\n",
       "      <td>120.0</td>\n",
       "    </tr>\n",
       "    <tr>\n",
       "      <th>9</th>\n",
       "      <td>4</td>\n",
       "      <td>02-28-2023</td>\n",
       "      <td>4.7</td>\n",
       "      <td>120</td>\n",
       "      <td>4</td>\n",
       "      <td>Maria</td>\n",
       "      <td>female</td>\n",
       "      <td>20</td>\n",
       "      <td>120.0</td>\n",
       "    </tr>\n",
       "  </tbody>\n",
       "</table>\n",
       "</div>"
      ],
      "text/plain": [
       "   user_id        date  distance  duration  id     name  gender  age  weight\n",
       "0        1  02-26-2023       1.2        30   1  Camille  female   40   150.0\n",
       "1        1  02-27-2023       1.5        40   1  Camille  female   40   150.0\n",
       "2        1  02-28-2023       1.7        50   1  Camille  female   40   150.0\n",
       "3        2  02-26-2023       2.2        60   2     Mike    male   25   200.0\n",
       "4        2  02-27-2023       2.5        70   2     Mike    male   25   200.0\n",
       "5        3  02-26-2023       3.2        80   3    Jason    male   35   180.0\n",
       "6        3  02-27-2023       3.5        90   3    Jason    male   35   180.0\n",
       "7        4  02-26-2023       4.2       100   4    Maria  female   20   120.0\n",
       "8        4  02-27-2023       4.5       110   4    Maria  female   20   120.0\n",
       "9        4  02-28-2023       4.7       120   4    Maria  female   20   120.0"
      ]
     },
     "execution_count": 136,
     "metadata": {},
     "output_type": "execute_result"
    }
   ],
   "source": [
    "df_users = pd.read_sql(\"SELECT * FROM users\", conn)\n",
    "df_walks = pd.read_sql(\"SELECT * FROM walks\", conn)\n",
    "pd.merge(df_walks, df_users, left_on=\"user_id\", right_on=\"id\")"
   ]
  },
  {
   "attachments": {},
   "cell_type": "markdown",
   "metadata": {},
   "source": [
    "### SQlite3 VS. Pandas\n",
    "\n",
    "Here we will put the major functionalities of SQLite3 and Pandas side by side to see how they compare.\n",
    "\n",
    "#### Sorting\n",
    "\n",
    "SQLite3"
   ]
  },
  {
   "cell_type": "code",
   "execution_count": 138,
   "metadata": {},
   "outputs": [
    {
     "data": {
      "text/plain": [
       "[(1, 'Camille', 'female', 40, 150.0),\n",
       " (3, 'Jason', 'male', 35, 180.0),\n",
       " (2, 'Mike', 'male', 25, 200.0),\n",
       " (4, 'Maria', 'female', 20, 120.0)]"
      ]
     },
     "execution_count": 138,
     "metadata": {},
     "output_type": "execute_result"
    }
   ],
   "source": [
    "cur.execute(\"SELECT * FROM users ORDER BY age DESC\")  # or ASC\n",
    "cur.fetchall()"
   ]
  },
  {
   "attachments": {},
   "cell_type": "markdown",
   "metadata": {},
   "source": [
    "Pandas"
   ]
  },
  {
   "cell_type": "code",
   "execution_count": 139,
   "metadata": {},
   "outputs": [
    {
     "data": {
      "text/html": [
       "<div>\n",
       "<style scoped>\n",
       "    .dataframe tbody tr th:only-of-type {\n",
       "        vertical-align: middle;\n",
       "    }\n",
       "\n",
       "    .dataframe tbody tr th {\n",
       "        vertical-align: top;\n",
       "    }\n",
       "\n",
       "    .dataframe thead th {\n",
       "        text-align: right;\n",
       "    }\n",
       "</style>\n",
       "<table border=\"1\" class=\"dataframe\">\n",
       "  <thead>\n",
       "    <tr style=\"text-align: right;\">\n",
       "      <th></th>\n",
       "      <th>id</th>\n",
       "      <th>name</th>\n",
       "      <th>gender</th>\n",
       "      <th>age</th>\n",
       "      <th>weight</th>\n",
       "    </tr>\n",
       "  </thead>\n",
       "  <tbody>\n",
       "    <tr>\n",
       "      <th>0</th>\n",
       "      <td>1</td>\n",
       "      <td>Camille</td>\n",
       "      <td>female</td>\n",
       "      <td>40</td>\n",
       "      <td>150.0</td>\n",
       "    </tr>\n",
       "    <tr>\n",
       "      <th>2</th>\n",
       "      <td>3</td>\n",
       "      <td>Jason</td>\n",
       "      <td>male</td>\n",
       "      <td>35</td>\n",
       "      <td>180.0</td>\n",
       "    </tr>\n",
       "    <tr>\n",
       "      <th>1</th>\n",
       "      <td>2</td>\n",
       "      <td>Mike</td>\n",
       "      <td>male</td>\n",
       "      <td>25</td>\n",
       "      <td>200.0</td>\n",
       "    </tr>\n",
       "    <tr>\n",
       "      <th>3</th>\n",
       "      <td>4</td>\n",
       "      <td>Maria</td>\n",
       "      <td>female</td>\n",
       "      <td>20</td>\n",
       "      <td>120.0</td>\n",
       "    </tr>\n",
       "  </tbody>\n",
       "</table>\n",
       "</div>"
      ],
      "text/plain": [
       "   id     name  gender  age  weight\n",
       "0   1  Camille  female   40   150.0\n",
       "2   3    Jason    male   35   180.0\n",
       "1   2     Mike    male   25   200.0\n",
       "3   4    Maria  female   20   120.0"
      ]
     },
     "execution_count": 139,
     "metadata": {},
     "output_type": "execute_result"
    }
   ],
   "source": [
    "df_users.sort_values(by=\"age\", ascending=False)"
   ]
  },
  {
   "attachments": {},
   "cell_type": "markdown",
   "metadata": {},
   "source": [
    "#### Filtering\n",
    "\n",
    "SQLite3"
   ]
  },
  {
   "cell_type": "code",
   "execution_count": 141,
   "metadata": {},
   "outputs": [
    {
     "data": {
      "text/plain": [
       "[(40, 'female'), (35, 'male')]"
      ]
     },
     "execution_count": 141,
     "metadata": {},
     "output_type": "execute_result"
    }
   ],
   "source": [
    "cur.execute(\"SELECT age, gender FROM users WHERE age > 30\")\n",
    "cur.fetchall()"
   ]
  },
  {
   "attachments": {},
   "cell_type": "markdown",
   "metadata": {},
   "source": [
    "Pandas"
   ]
  },
  {
   "cell_type": "code",
   "execution_count": 140,
   "metadata": {},
   "outputs": [
    {
     "data": {
      "text/html": [
       "<div>\n",
       "<style scoped>\n",
       "    .dataframe tbody tr th:only-of-type {\n",
       "        vertical-align: middle;\n",
       "    }\n",
       "\n",
       "    .dataframe tbody tr th {\n",
       "        vertical-align: top;\n",
       "    }\n",
       "\n",
       "    .dataframe thead th {\n",
       "        text-align: right;\n",
       "    }\n",
       "</style>\n",
       "<table border=\"1\" class=\"dataframe\">\n",
       "  <thead>\n",
       "    <tr style=\"text-align: right;\">\n",
       "      <th></th>\n",
       "      <th>age</th>\n",
       "      <th>gender</th>\n",
       "    </tr>\n",
       "  </thead>\n",
       "  <tbody>\n",
       "    <tr>\n",
       "      <th>0</th>\n",
       "      <td>40</td>\n",
       "      <td>female</td>\n",
       "    </tr>\n",
       "    <tr>\n",
       "      <th>2</th>\n",
       "      <td>35</td>\n",
       "      <td>male</td>\n",
       "    </tr>\n",
       "  </tbody>\n",
       "</table>\n",
       "</div>"
      ],
      "text/plain": [
       "   age  gender\n",
       "0   40  female\n",
       "2   35    male"
      ]
     },
     "execution_count": 140,
     "metadata": {},
     "output_type": "execute_result"
    }
   ],
   "source": [
    "df_users.loc[:, [\"age\", \"gender\"]].query(\"age > 30\")"
   ]
  },
  {
   "attachments": {},
   "cell_type": "markdown",
   "metadata": {},
   "source": [
    "SQLite3"
   ]
  },
  {
   "cell_type": "code",
   "execution_count": 143,
   "metadata": {},
   "outputs": [
    {
     "data": {
      "text/plain": [
       "[('Camille', 150.0), ('Mike', 200.0), ('Jason', 180.0), ('Maria', 120.0)]"
      ]
     },
     "execution_count": 143,
     "metadata": {},
     "output_type": "execute_result"
    }
   ],
   "source": [
    "cur.execute(\n",
    "    \"\"\"\n",
    "    SELECT name, weight FROM users\n",
    "    WHERE name LIKE '%m%'\n",
    "    OR name LIKE '%n%'\n",
    "    \"\"\"\n",
    ")\n",
    "cur.fetchall()"
   ]
  },
  {
   "attachments": {},
   "cell_type": "markdown",
   "metadata": {},
   "source": [
    "Pandas"
   ]
  },
  {
   "cell_type": "code",
   "execution_count": 142,
   "metadata": {},
   "outputs": [
    {
     "data": {
      "text/html": [
       "<div>\n",
       "<style scoped>\n",
       "    .dataframe tbody tr th:only-of-type {\n",
       "        vertical-align: middle;\n",
       "    }\n",
       "\n",
       "    .dataframe tbody tr th {\n",
       "        vertical-align: top;\n",
       "    }\n",
       "\n",
       "    .dataframe thead th {\n",
       "        text-align: right;\n",
       "    }\n",
       "</style>\n",
       "<table border=\"1\" class=\"dataframe\">\n",
       "  <thead>\n",
       "    <tr style=\"text-align: right;\">\n",
       "      <th></th>\n",
       "      <th>name</th>\n",
       "      <th>weight</th>\n",
       "    </tr>\n",
       "  </thead>\n",
       "  <tbody>\n",
       "    <tr>\n",
       "      <th>0</th>\n",
       "      <td>Camille</td>\n",
       "      <td>150.0</td>\n",
       "    </tr>\n",
       "    <tr>\n",
       "      <th>1</th>\n",
       "      <td>Mike</td>\n",
       "      <td>200.0</td>\n",
       "    </tr>\n",
       "    <tr>\n",
       "      <th>2</th>\n",
       "      <td>Jason</td>\n",
       "      <td>180.0</td>\n",
       "    </tr>\n",
       "    <tr>\n",
       "      <th>3</th>\n",
       "      <td>Maria</td>\n",
       "      <td>120.0</td>\n",
       "    </tr>\n",
       "  </tbody>\n",
       "</table>\n",
       "</div>"
      ],
      "text/plain": [
       "      name  weight\n",
       "0  Camille   150.0\n",
       "1     Mike   200.0\n",
       "2    Jason   180.0\n",
       "3    Maria   120.0"
      ]
     },
     "execution_count": 142,
     "metadata": {},
     "output_type": "execute_result"
    }
   ],
   "source": [
    "df_users.loc[:, [\"name\", \"weight\"]].query(\n",
    "    \"\"\"\n",
    "    name.str.upper().str.contains('M') |\\\n",
    "    name.str.upper().str.contains('N')\n",
    "    \"\"\"\n",
    ")"
   ]
  },
  {
   "attachments": {},
   "cell_type": "markdown",
   "metadata": {},
   "source": [
    "#### Grouping\n",
    "\n",
    "SQLite3"
   ]
  },
  {
   "cell_type": "code",
   "execution_count": 144,
   "metadata": {},
   "outputs": [
    {
     "data": {
      "text/plain": [
       "[(1, 1.4666666666666668, 120, 3),\n",
       " (2, 2.35, 130, 2),\n",
       " (3, 3.35, 170, 2),\n",
       " (4, 4.466666666666666, 330, 3)]"
      ]
     },
     "execution_count": 144,
     "metadata": {},
     "output_type": "execute_result"
    }
   ],
   "source": [
    "cur.execute(\n",
    "    \"\"\"\n",
    "    SELECT user_id, avg(distance), sum(duration), count(distance)\n",
    "    FROM walks GROUP BY user_id\n",
    "    \"\"\"\n",
    ")\n",
    "cur.fetchall()"
   ]
  },
  {
   "attachments": {},
   "cell_type": "markdown",
   "metadata": {},
   "source": [
    "Pandas"
   ]
  },
  {
   "cell_type": "code",
   "execution_count": 147,
   "metadata": {},
   "outputs": [
    {
     "data": {
      "text/html": [
       "<div>\n",
       "<style scoped>\n",
       "    .dataframe tbody tr th:only-of-type {\n",
       "        vertical-align: middle;\n",
       "    }\n",
       "\n",
       "    .dataframe tbody tr th {\n",
       "        vertical-align: top;\n",
       "    }\n",
       "\n",
       "    .dataframe thead th {\n",
       "        text-align: right;\n",
       "    }\n",
       "</style>\n",
       "<table border=\"1\" class=\"dataframe\">\n",
       "  <thead>\n",
       "    <tr style=\"text-align: right;\">\n",
       "      <th></th>\n",
       "      <th>distance_mean</th>\n",
       "      <th>duration_sum</th>\n",
       "      <th>distance_count</th>\n",
       "    </tr>\n",
       "    <tr>\n",
       "      <th>user_id</th>\n",
       "      <th></th>\n",
       "      <th></th>\n",
       "      <th></th>\n",
       "    </tr>\n",
       "  </thead>\n",
       "  <tbody>\n",
       "    <tr>\n",
       "      <th>1</th>\n",
       "      <td>1.466667</td>\n",
       "      <td>120</td>\n",
       "      <td>3</td>\n",
       "    </tr>\n",
       "    <tr>\n",
       "      <th>2</th>\n",
       "      <td>2.350000</td>\n",
       "      <td>130</td>\n",
       "      <td>2</td>\n",
       "    </tr>\n",
       "    <tr>\n",
       "      <th>3</th>\n",
       "      <td>3.350000</td>\n",
       "      <td>170</td>\n",
       "      <td>2</td>\n",
       "    </tr>\n",
       "    <tr>\n",
       "      <th>4</th>\n",
       "      <td>4.466667</td>\n",
       "      <td>330</td>\n",
       "      <td>3</td>\n",
       "    </tr>\n",
       "  </tbody>\n",
       "</table>\n",
       "</div>"
      ],
      "text/plain": [
       "         distance_mean  duration_sum  distance_count\n",
       "user_id                                             \n",
       "1             1.466667           120               3\n",
       "2             2.350000           130               2\n",
       "3             3.350000           170               2\n",
       "4             4.466667           330               3"
      ]
     },
     "execution_count": 147,
     "metadata": {},
     "output_type": "execute_result"
    }
   ],
   "source": [
    "df_walks.groupby(\"user_id\").aggregate(\n",
    "    distance_mean=(\"distance\", \"mean\"),\n",
    "    duration_sum=(\"duration\", \"sum\"),\n",
    "    distance_count=(\"distance\", \"count\"),\n",
    ")"
   ]
  },
  {
   "attachments": {},
   "cell_type": "markdown",
   "metadata": {},
   "source": [
    "### sqlite_master\n",
    "\n",
    "`sqliet_master` is a system table that contains the information of all tables in the database. We can use `SELECT * FROM sqlite_master` to get the information of all tables. The output will look like this:\n",
    "\n",
    "* `type`: the type of the object. In this case, it is `table`.\n",
    "* `name`: the name of the table.\n",
    "* `tbl_name`: the name of the table.\n",
    "* `rootpage`: the page number of the root b-tree page for the table.\n",
    "* `sql`: the SQL statement used to create the table."
   ]
  },
  {
   "cell_type": "code",
   "execution_count": 149,
   "metadata": {},
   "outputs": [
    {
     "data": {
      "text/plain": [
       "[('table',\n",
       "  'users',\n",
       "  'users',\n",
       "  2,\n",
       "  'CREATE TABLE users (\\n        id INTEGER PRIMARY KEY,\\n        name TEXT NOT NULL,\\n        gender TEXT CHECK(gender IN (\"male\", \"female\")),\\n        age INTEGER CHECK(age >= 0 AND age <= 150),\\n        weight REAL CHECK(weight >= 0 AND weight <= 300)\\n    )'),\n",
       " ('table',\n",
       "  'walks',\n",
       "  'walks',\n",
       "  3,\n",
       "  'CREATE TABLE \"walks\" (\\n\"user_id\" INTEGER,\\n  \"date\" TEXT,\\n  \"distance\" REAL,\\n  \"duration\" INTEGER\\n)')]"
      ]
     },
     "execution_count": 149,
     "metadata": {},
     "output_type": "execute_result"
    }
   ],
   "source": [
    "cur.execute(\"SELECT * FROM sqlite_master\")\n",
    "cur.fetchall()"
   ]
  },
  {
   "attachments": {},
   "cell_type": "markdown",
   "metadata": {},
   "source": [
    "Or simply list all the tables in the database."
   ]
  },
  {
   "cell_type": "code",
   "execution_count": 150,
   "metadata": {},
   "outputs": [
    {
     "data": {
      "text/plain": [
       "[('users',), ('walks',)]"
      ]
     },
     "execution_count": 150,
     "metadata": {},
     "output_type": "execute_result"
    }
   ],
   "source": [
    "cur.execute(\"SELECT name FROM sqlite_master WHERE type='table'\")\n",
    "cur.fetchall()"
   ]
  },
  {
   "attachments": {},
   "cell_type": "markdown",
   "metadata": {},
   "source": [
    "### Collection of functions"
   ]
  },
  {
   "cell_type": "code",
   "execution_count": 102,
   "metadata": {},
   "outputs": [],
   "source": [
    "def list_cols(cur, table):\n",
    "    cur.execute(\"PRAGMA table_info(%s)\" % table)\n",
    "    cols = [x[1:3] for x in cur.fetchall()]\n",
    "    return display(cols)\n",
    "\n",
    "def print_table(cur, table):\n",
    "    cur.execute(\"SELECT * FROM %s\" % table)\n",
    "    output = cur.fetchall()\n",
    "    display(output)\n",
    "\n",
    "def clean_table(cur, table):\n",
    "    cur.execute(\"DELETE FROM %s\" % table)\n",
    "\n",
    "def drop_table(cur, table):\n",
    "    cur.execute(\"DROP TABLE %s\" % table)"
   ]
  }
 ],
 "metadata": {
  "kernelspec": {
   "display_name": "niche",
   "language": "python",
   "name": "python3"
  },
  "language_info": {
   "codemirror_mode": {
    "name": "ipython",
    "version": 3
   },
   "file_extension": ".py",
   "mimetype": "text/x-python",
   "name": "python",
   "nbconvert_exporter": "python",
   "pygments_lexer": "ipython3",
   "version": "3.9.16"
  },
  "orig_nbformat": 4,
  "vscode": {
   "interpreter": {
    "hash": "ad532947ed7ac808c0a842d8ff1aa280c18aa45f795e2b1f2d64f29153af8175"
   }
  }
 },
 "nbformat": 4,
 "nbformat_minor": 2
}
