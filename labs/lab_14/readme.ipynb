{
 "cells": [
  {
   "attachments": {},
   "cell_type": "markdown",
   "metadata": {},
   "source": [
    "# APSC-5984 Week 14: Object-Oriented Programming (OOP) - Part 2\n",
    "\n",
    "In this note, we will continue our discussion on OOP. This note will cover the concepts of inheritance and polymorphism. And we will work on a simple example to demonstrate all the OOP concepts we have learned so far.\n",
    "\n",
    "It is a recap of the OOP principles:\n",
    "\n",
    "1. **Abstraction**: Generalization of a concept (e.g., car). The ability to focus on the essential characteristics of an object.\n",
    "\n",
    "2. **Encapsulation**: Protecting the data or methods from the outside world (e.g.,using a hood of the car). Hiding the implementation details from the user (e.g., how the engine works), only the functionality (e.g., steering wheel) will be provided to the user.\n",
    "\n",
    "3. **Inheritance**: The ability to define a new class with little or no modification to an existing class (e.g., a new car model).\n",
    "\n",
    "4. **Polymorphism**: The ability to operate on different data types using the same interface. For example, a car can be a sedan, a truck, or a sport car, but they all can be operated using a steering wheel.\n"
   ]
  },
  {
   "cell_type": "code",
   "execution_count": 1,
   "metadata": {},
   "outputs": [],
   "source": [
    "from abc import ABC, abstractmethod\n",
    "import numpy as np\n",
    "import pandas as pd"
   ]
  },
  {
   "attachments": {},
   "cell_type": "markdown",
   "metadata": {},
   "source": [
    "## Inheritance\n",
    "\n",
    "Inheritance is a way to form classes that are derived upon existing classes. The derived class inherits the features from the base class and can have additional features of its own. For example, we can define a class called `Car` and then define more specific classes like `Sedan`, `Truck`, and `SportCar` that inherit the properties of the `Car` class. Remember that the abstract class \"Animal\" we defined in the previous note? We can define more specific classes like `Dog`, `Cat`, and `Bird` that inherit the properties of the `Animal` class.\n",
    "\n",
    "In Python, inheritance works by passing the parent class as an argument to the definition of a child class. Let's use the bank account as an example."
   ]
  },
  {
   "cell_type": "code",
   "execution_count": 23,
   "metadata": {},
   "outputs": [],
   "source": [
    "class BankAccount:\n",
    "    def __init__(self, balance=0, name=\"James\"):\n",
    "        self.balance = balance\n",
    "        self.name = name\n",
    "\n",
    "    def get_balance(self):\n",
    "        return self.balance\n",
    "\n",
    "    def get_owner(self):\n",
    "        return self.name\n",
    "\n",
    "    def deposit(self, amount): # setter method, which return nothing\n",
    "        self.balance = self.balance + amount\n",
    "        print(\"Deposit {} to {}\".format(amount, self.name))\n",
    "\n",
    "    def withdraw(self, amount):\n",
    "        if amount > self.balance:\n",
    "            print(\"Withdraw {} from {} is not allowed\".format(amount, self.name))\n",
    "            return 0\n",
    "        else:\n",
    "            self.balance = self.balance - amount\n",
    "            print(\"Withdraw {} from {}\".format(amount, self.name))\n",
    "            return amount"
   ]
  },
  {
   "attachments": {},
   "cell_type": "markdown",
   "metadata": {},
   "source": [
    "We can then define more specific classes like `CheckingAccount` and `SavingAccount` that inherit the properties of the `BankAccount` class. The `CheckingAccount` and `SavingAccount` classes will have all the properties of the `BankAccount` class, but they can also have additional properties of their own. Here is an example:\n",
    "\n",
    "* The `CheckingAccount` class can have a property called `overdraft_fee` and an overriden method called `withdraw` to allow overdraft.\n",
    "\n",
    "* The `SavingAccount` class can have a property called `interest_rate` and a method called `calculate_interest` to calculate the interest of the account."
   ]
  },
  {
   "cell_type": "code",
   "execution_count": 24,
   "metadata": {},
   "outputs": [
    {
     "name": "stdout",
     "output_type": "stream",
     "text": [
      "Deposit 100 to James\n",
      "Withdraw 50 from James\n",
      "\n",
      "--- Savings ---\n",
      "Savings balance: 1050\n",
      "Savings interest: 31.5\n",
      "\n",
      "--- Checking ---\n",
      "Deposit 100 to George\n",
      "Withdraw 750 from George\n",
      "Checking balance: -150\n"
     ]
    }
   ],
   "source": [
    "class SavingsAccount(BankAccount):\n",
    "    def __init__(self, balance, name, interest_rate):\n",
    "        super().__init__(balance, name)\n",
    "        self.interest_rate = interest_rate\n",
    "\n",
    "    def calculate_interest(self):\n",
    "        return self.balance * self.interest_rate\n",
    "\n",
    "class CheckingAccount(BankAccount):\n",
    "    def __init__(self, balance, name, overdraft_limit):\n",
    "        super().__init__(balance, name)\n",
    "        self.overdraft_limit = overdraft_limit\n",
    "\n",
    "    def withdraw(self, amount):\n",
    "        if amount <= self.balance + self.overdraft_limit:\n",
    "            self.balance -= amount\n",
    "            print(\"Withdraw {} from {}\".format(amount, self.name))\n",
    "        else:\n",
    "            print(\"Overdraft limit exceeded\")\n",
    "\n",
    "# Example usage\n",
    "savings = SavingsAccount(balance=1000, name=\"James\", interest_rate=0.03)\n",
    "checking = CheckingAccount(balance=500, name=\"George\", overdraft_limit=200)\n",
    "\n",
    "savings.deposit(amount=100)\n",
    "savings.withdraw(amount=50)\n",
    "print(\"\\n--- Savings ---\")\n",
    "print(f\"Savings balance: {savings.get_balance()}\")  # Output: Savings balance: 1050\n",
    "print(f\"Savings interest: {savings.calculate_interest()}\")  # Output: Savings interest: 31.5\n",
    "\n",
    "print(\"\\n--- Checking ---\")\n",
    "checking.deposit(amount=100)\n",
    "checking.withdraw(amount=750)\n",
    "print(f\"Checking balance: {checking.get_balance()}\")  # Output: Checking balance: 50\n"
   ]
  },
  {
   "attachments": {},
   "cell_type": "markdown",
   "metadata": {},
   "source": [
    "## Polymorphism\n",
    "\n",
    "Polymorphism is the ability to treat an object differently depending on the context. For example, a car can be a sedan, a truck, or a sport car, but they all can be operated using a steering wheel.\n",
    "\n",
    "In Python, polymorphism is achieved by defining methods in the child class with the same name as defined in their parent class. Let's use the bank account as an example again."
   ]
  },
  {
   "cell_type": "code",
   "execution_count": 29,
   "metadata": {},
   "outputs": [],
   "source": [
    "class BankAccount:\n",
    "    def __init__(self, balance=0, name=\"James\"):\n",
    "        self.balance = balance\n",
    "        self.name = name\n",
    "\n",
    "    def get_balance(self):\n",
    "        return self.balance\n",
    "\n",
    "    def get_owner(self):\n",
    "        return self.name\n",
    "\n",
    "class SavingsAccount(BankAccount):\n",
    "    def __init__(self, balance, name, interest_rate):\n",
    "        super().__init__(balance, name)\n",
    "        self.interest_rate = interest_rate\n",
    "\n",
    "    def get_balance(self):\n",
    "        print(\"Getting balance from a SavingsAccount...\")\n",
    "        return super().get_balance()\n",
    "\n",
    "    def get_owner(self):\n",
    "        print(\"Getting owner from a SavingsAccount...\")\n",
    "        return super().get_owner()\n",
    "\n",
    "class CheckingAccount(BankAccount):\n",
    "    def __init__(self, balance, name, overdraft_limit):\n",
    "        super().__init__(balance, name)\n",
    "        self.overdraft_limit = overdraft_limit\n",
    "\n",
    "    def get_balance(self):\n",
    "        print(\"Getting balance from a CheckingAccount...\")\n",
    "        return super().get_balance()\n",
    "\n",
    "    def get_owner(self):\n",
    "        print(\"Getting owner from a CheckingAccount...\")\n",
    "        return super().get_owner()"
   ]
  },
  {
   "cell_type": "code",
   "execution_count": 30,
   "metadata": {},
   "outputs": [
    {
     "name": "stdout",
     "output_type": "stream",
     "text": [
      "Getting balance from a SavingsAccount...\n",
      "Account balance: 1000\n",
      "Getting owner from a SavingsAccount...\n",
      "Account owner: Jason\n",
      "\n",
      "Getting balance from a CheckingAccount...\n",
      "Account balance: 500\n",
      "Getting owner from a CheckingAccount...\n",
      "Account owner: Jasme\n",
      "\n",
      "Getting balance from a SavingsAccount...\n",
      "Account balance: 2000\n",
      "Getting owner from a SavingsAccount...\n",
      "Account owner: Blake\n",
      "\n",
      "Getting balance from a SavingsAccount...\n",
      "Account balance: 800\n",
      "Getting owner from a SavingsAccount...\n",
      "Account owner: Mary\n",
      "\n",
      "Getting balance from a CheckingAccount...\n",
      "Account balance: 100\n",
      "Getting owner from a CheckingAccount...\n",
      "Account owner: Emily\n",
      "\n"
     ]
    }
   ],
   "source": [
    "bank_accounts = [\n",
    "    SavingsAccount(name=\"Jason\", balance=1000, interest_rate=0.03),\n",
    "    CheckingAccount(name=\"Jasme\", balance=500, overdraft_limit=200),\n",
    "    SavingsAccount(name=\"Blake\", balance=2000, interest_rate=0.05),\n",
    "    SavingsAccount(name=\"Mary\", balance=800, interest_rate=0.01),\n",
    "    CheckingAccount(name=\"Emily\", balance=100, overdraft_limit=50)\n",
    "]\n",
    "\n",
    "# Example usage\n",
    "for account in bank_accounts:\n",
    "    print(f\"Account balance: {account.get_balance()}\")\n",
    "    print(f\"Account owner: {account.get_owner()}\")\n",
    "    print()"
   ]
  },
  {
   "attachments": {},
   "cell_type": "markdown",
   "metadata": {},
   "source": [
    "## Exercise: Sale Data Analysis\n",
    "\n",
    "You are provided with a CSV file called `data.csv` that contains the sales data of a company. The goal is to calculate the total sales of each store. Noted that different stores have different discounts on their products."
   ]
  },
  {
   "cell_type": "code",
   "execution_count": 31,
   "metadata": {},
   "outputs": [
    {
     "data": {
      "text/html": [
       "<div>\n",
       "<style scoped>\n",
       "    .dataframe tbody tr th:only-of-type {\n",
       "        vertical-align: middle;\n",
       "    }\n",
       "\n",
       "    .dataframe tbody tr th {\n",
       "        vertical-align: top;\n",
       "    }\n",
       "\n",
       "    .dataframe thead th {\n",
       "        text-align: right;\n",
       "    }\n",
       "</style>\n",
       "<table border=\"1\" class=\"dataframe\">\n",
       "  <thead>\n",
       "    <tr style=\"text-align: right;\">\n",
       "      <th></th>\n",
       "      <th>Store</th>\n",
       "      <th>Category</th>\n",
       "      <th>Product</th>\n",
       "      <th>Units Sold</th>\n",
       "      <th>Price per Unit</th>\n",
       "    </tr>\n",
       "  </thead>\n",
       "  <tbody>\n",
       "    <tr>\n",
       "      <th>0</th>\n",
       "      <td>A</td>\n",
       "      <td>Food</td>\n",
       "      <td>Apple</td>\n",
       "      <td>50</td>\n",
       "      <td>2</td>\n",
       "    </tr>\n",
       "    <tr>\n",
       "      <th>1</th>\n",
       "      <td>A</td>\n",
       "      <td>Food</td>\n",
       "      <td>Banana</td>\n",
       "      <td>100</td>\n",
       "      <td>1</td>\n",
       "    </tr>\n",
       "    <tr>\n",
       "      <th>2</th>\n",
       "      <td>A</td>\n",
       "      <td>Electronics</td>\n",
       "      <td>TV</td>\n",
       "      <td>10</td>\n",
       "      <td>500</td>\n",
       "    </tr>\n",
       "    <tr>\n",
       "      <th>3</th>\n",
       "      <td>B</td>\n",
       "      <td>Food</td>\n",
       "      <td>Apple</td>\n",
       "      <td>30</td>\n",
       "      <td>2</td>\n",
       "    </tr>\n",
       "    <tr>\n",
       "      <th>4</th>\n",
       "      <td>B</td>\n",
       "      <td>Electronics</td>\n",
       "      <td>Laptop</td>\n",
       "      <td>5</td>\n",
       "      <td>1000</td>\n",
       "    </tr>\n",
       "    <tr>\n",
       "      <th>5</th>\n",
       "      <td>B</td>\n",
       "      <td>Electronics</td>\n",
       "      <td>TV</td>\n",
       "      <td>2</td>\n",
       "      <td>500</td>\n",
       "    </tr>\n",
       "  </tbody>\n",
       "</table>\n",
       "</div>"
      ],
      "text/plain": [
       "  Store     Category Product  Units Sold  Price per Unit\n",
       "0     A         Food   Apple          50               2\n",
       "1     A         Food  Banana         100               1\n",
       "2     A  Electronics      TV          10             500\n",
       "3     B         Food   Apple          30               2\n",
       "4     B  Electronics  Laptop           5            1000\n",
       "5     B  Electronics      TV           2             500"
      ]
     },
     "metadata": {},
     "output_type": "display_data"
    }
   ],
   "source": [
    "data = pd.read_csv(\"data.csv\")\n",
    "display(data)"
   ]
  },
  {
   "attachments": {},
   "cell_type": "markdown",
   "metadata": {},
   "source": [
    "Your task is to perform a sales data analysis using OOP principles.\n",
    "\n",
    "1. Create an abstraction class `Store` that will encapsulate the store's sales data in a pandas DataFrame. The class should have the following methods:\n",
    "\n",
    "   * __ init __(self, data): Initialize the store with sales data as a DataFrame.\n",
    "   * __category_sales(self, category): Calculate the total sales for a given category in the store.\n",
    "   * total_sales(self): Calculate the total sales for the store.\n",
    "\n",
    "2. Create two derived classes, `GroceryStore` and `ElectronicsStore`, that inherit from the base class `Store`. Each derived class should override the `__category_sales` and `total_sales` methods to provide their own implementations:\n",
    "\n",
    "   * For `GroceryStore`, apply a 10% discount on the Food category.\n",
    "   * For `ElectronicsStore`, apply a 15% discount on the Electronics category.\n",
    "\n",
    "3. Calculate the total sales for each store."
   ]
  },
  {
   "cell_type": "code",
   "execution_count": null,
   "metadata": {},
   "outputs": [],
   "source": []
  }
 ],
 "metadata": {
  "kernelspec": {
   "display_name": "niche",
   "language": "python",
   "name": "python3"
  },
  "language_info": {
   "codemirror_mode": {
    "name": "ipython",
    "version": 3
   },
   "file_extension": ".py",
   "mimetype": "text/x-python",
   "name": "python",
   "nbconvert_exporter": "python",
   "pygments_lexer": "ipython3",
   "version": "3.9.16"
  },
  "orig_nbformat": 4
 },
 "nbformat": 4,
 "nbformat_minor": 2
}
