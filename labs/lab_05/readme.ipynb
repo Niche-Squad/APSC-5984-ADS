{
 "cells": [
  {
   "attachments": {},
   "cell_type": "markdown",
   "metadata": {},
   "source": [
    "# APSC-5984 Lab 5: Dataframe\n",
    "\n",
    "Due: 2023-02-20 (Monday) 23:59:59\n",
    "\n",
    "## 0. Overview\n",
    "\n",
    "We will introduce the concept of `DataFrame` in this lab. You will be intstructed to use the Python library `pandas` to manipulate dataframes. First, let's import the library. Conventionally, we import it as `pd`."
   ]
  },
  {
   "cell_type": "code",
   "execution_count": 1,
   "metadata": {},
   "outputs": [],
   "source": [
    "import pandas as pd\n",
    "import os\n",
    "os.chdir(\"data\")\n",
    "pd.set_option(\"display.notebook_repr_html\", False)"
   ]
  },
  {
   "attachments": {},
   "cell_type": "markdown",
   "metadata": {},
   "source": [
    "## 1. Data Loading and Saving\n",
    "\n",
    "We will work on the several files in the `lab_05` folder to practice how to load and save files"
   ]
  },
  {
   "attachments": {},
   "cell_type": "markdown",
   "metadata": {},
   "source": [
    "### 1.1 CSV and tab-delimited files\n",
    "\n",
    "#### 1.1.1 Separators\n",
    "\n",
    "The basic function to load data in `pandas` is `pd.read_csv()`. It can read data from a CSV file or a tab-delimited file. The default delimiter is comma \"`,`\", but it also allows you to specify other delimiters, such as tab \"`\\t`\"."
   ]
  },
  {
   "attachments": {},
   "cell_type": "markdown",
   "metadata": {},
   "source": [
    "The file `file_A.csv` is a CSV file with comma as the delimiter:"
   ]
  },
  {
   "cell_type": "code",
   "execution_count": 2,
   "metadata": {},
   "outputs": [
    {
     "name": "stdout",
     "output_type": "stream",
     "text": [
      "id,A,B,C\n",
      "a1,1,1,1\n",
      "a2,0,1,0\n",
      "a3,1,0,1"
     ]
    }
   ],
   "source": [
    "!cat file_A.csv"
   ]
  },
  {
   "cell_type": "code",
   "execution_count": 3,
   "metadata": {},
   "outputs": [
    {
     "data": {
      "text/plain": [
       "   id  A  B  C\n",
       "0  a1  1  1  1\n",
       "1  a2  0  1  0\n",
       "2  a3  1  0  1"
      ]
     },
     "execution_count": 3,
     "metadata": {},
     "output_type": "execute_result"
    }
   ],
   "source": [
    "pd.read_csv('file_A.csv')"
   ]
  },
  {
   "attachments": {},
   "cell_type": "markdown",
   "metadata": {},
   "source": [
    "The file `file_A.csv` was correctly loaded into Python. The dataframe has 3 rows and 4 columns. What if we use the same way to load the file `file_B.txt` that is tab-delimited?"
   ]
  },
  {
   "cell_type": "code",
   "execution_count": 4,
   "metadata": {},
   "outputs": [
    {
     "name": "stdout",
     "output_type": "stream",
     "text": [
      "id\tA\tB\tC\n",
      "a1\t1\t1\t1\n",
      "a2\t0\t1\t0\n",
      "a3\t1\t0\t1"
     ]
    }
   ],
   "source": [
    "!cat file_B.txt"
   ]
  },
  {
   "cell_type": "code",
   "execution_count": 5,
   "metadata": {},
   "outputs": [
    {
     "data": {
      "text/plain": [
       "   id\\tA\\tB\\tC\n",
       "0  a1\\t1\\t1\\t1\n",
       "1  a2\\t0\\t1\\t0\n",
       "2  a3\\t1\\t0\\t1"
      ]
     },
     "execution_count": 5,
     "metadata": {},
     "output_type": "execute_result"
    }
   ],
   "source": [
    "pd.read_csv('file_B.txt')"
   ]
  },
  {
   "attachments": {},
   "cell_type": "markdown",
   "metadata": {},
   "source": [
    "The result was not what we expected. The reason is that the default delimiter is comma, but the file is tab-delimited. We can specify the delimiter as tab \"`\\t`\" to fix the problem."
   ]
  },
  {
   "cell_type": "code",
   "execution_count": 6,
   "metadata": {},
   "outputs": [
    {
     "data": {
      "text/plain": [
       "   id  A  B  C\n",
       "0  a1  1  1  1\n",
       "1  a2  0  1  0\n",
       "2  a3  1  0  1"
      ]
     },
     "execution_count": 6,
     "metadata": {},
     "output_type": "execute_result"
    }
   ],
   "source": [
    "pd.read_csv('file_B.txt', sep='\\t')"
   ]
  },
  {
   "attachments": {},
   "cell_type": "markdown",
   "metadata": {},
   "source": [
    "Great! Noted that `sep` can be any character, such as \"`|`\", \"`;`\", \"`:`\", etc. So, always check the delimiter before loading the file."
   ]
  },
  {
   "attachments": {},
   "cell_type": "markdown",
   "metadata": {},
   "source": [
    "#### 1.1.2 Header\n",
    "\n",
    "In some cases, the first row of the file is not the header. We can use the argument `header` to specify the row number of the header."
   ]
  },
  {
   "attachments": {},
   "cell_type": "markdown",
   "metadata": {},
   "source": [
    "This example shows what would happen if we do not specify the header wiht a non-header file `file_A_nh.csv`."
   ]
  },
  {
   "cell_type": "code",
   "execution_count": 7,
   "metadata": {},
   "outputs": [
    {
     "name": "stdout",
     "output_type": "stream",
     "text": [
      "a1,1,1,1\n",
      "a2,0,1,0\n",
      "a3,1,0,1"
     ]
    }
   ],
   "source": [
    "!cat file_A_nh.csv"
   ]
  },
  {
   "cell_type": "code",
   "execution_count": 8,
   "metadata": {},
   "outputs": [
    {
     "data": {
      "text/plain": [
       "   a1  1  1.1  1.2\n",
       "0  a2  0    1    0\n",
       "1  a3  1    0    1"
      ]
     },
     "execution_count": 8,
     "metadata": {},
     "output_type": "execute_result"
    }
   ],
   "source": [
    "pd.read_csv('file_A_nh.csv')"
   ]
  },
  {
   "attachments": {},
   "cell_type": "markdown",
   "metadata": {},
   "source": [
    "The first row was loaded as the header. Here is the fix."
   ]
  },
  {
   "cell_type": "code",
   "execution_count": 9,
   "metadata": {},
   "outputs": [
    {
     "data": {
      "text/plain": [
       "    0  1  2  3\n",
       "0  a1  1  1  1\n",
       "1  a2  0  1  0\n",
       "2  a3  1  0  1"
      ]
     },
     "execution_count": 9,
     "metadata": {},
     "output_type": "execute_result"
    }
   ],
   "source": [
    "pd.read_csv('file_A_nh.csv', header=None)"
   ]
  },
  {
   "attachments": {},
   "cell_type": "markdown",
   "metadata": {},
   "source": [
    "Some files may be coded with two headers:"
   ]
  },
  {
   "cell_type": "code",
   "execution_count": 10,
   "metadata": {},
   "outputs": [
    {
     "name": "stdout",
     "output_type": "stream",
     "text": [
      "id,A,B,C\n",
      "a1,1,1,1\n",
      "a2,0,1,0\n",
      "a3,1,0,1\n",
      "id,D,E,F\n",
      "a4,1,1,1\n",
      "a5,0,1,0\n",
      "a6,1,0,1"
     ]
    }
   ],
   "source": [
    "!cat file_A_2h.csv"
   ]
  },
  {
   "attachments": {},
   "cell_type": "markdown",
   "metadata": {},
   "source": [
    "If we want the 5th row to be the header, we can use `header=4` (again, it is 0-based)."
   ]
  },
  {
   "cell_type": "code",
   "execution_count": 11,
   "metadata": {},
   "outputs": [
    {
     "data": {
      "text/plain": [
       "   id  D  E  F\n",
       "0  a4  1  1  1\n",
       "1  a5  0  1  0\n",
       "2  a6  1  0  1"
      ]
     },
     "execution_count": 11,
     "metadata": {},
     "output_type": "execute_result"
    }
   ],
   "source": [
    "pd.read_csv('file_A_2h.csv', header=4)"
   ]
  },
  {
   "attachments": {},
   "cell_type": "markdown",
   "metadata": {},
   "source": [
    "### 1.2 Excel spreadsheet (.xlsx)\n",
    "\n",
    "Excel spreadsheet is a common format for data storage. However, given it is a format that contains multiple sheets, it is not straightforward to load it into a tabular format.\n",
    "\n",
    "#### 1.2.1 Load a single sheet\n",
    "\n",
    "Here is an example of using `pd.read_excel()` to load the spreadsheet `file_C.xlsx`:"
   ]
  },
  {
   "cell_type": "code",
   "execution_count": 12,
   "metadata": {},
   "outputs": [
    {
     "data": {
      "text/plain": [
       "   id  A  B  C\n",
       "0  a1  1  1  1\n",
       "1  a2  0  1  0\n",
       "2  a3  1  0  1"
      ]
     },
     "execution_count": 12,
     "metadata": {},
     "output_type": "execute_result"
    }
   ],
   "source": [
    "pd.read_excel('file_C.xlsx')"
   ]
  },
  {
   "attachments": {},
   "cell_type": "markdown",
   "metadata": {},
   "source": [
    "By default, it only loads the first sheet. We can specify the sheet name or the sheet number to load other sheets."
   ]
  },
  {
   "cell_type": "code",
   "execution_count": 13,
   "metadata": {},
   "outputs": [
    {
     "data": {
      "text/plain": [
       "   id  D  E  F\n",
       "0  a4  0  1  0\n",
       "1  a5  0  0  0\n",
       "2  a6  1  1  0\n",
       "3  a7  2  2  0\n",
       "4  a8  3  3  0\n",
       "5  a9  4  4  0"
      ]
     },
     "execution_count": 13,
     "metadata": {},
     "output_type": "execute_result"
    }
   ],
   "source": [
    "pd.read_excel('file_C.xlsx', sheet_name='Sheet2')"
   ]
  },
  {
   "cell_type": "code",
   "execution_count": 14,
   "metadata": {},
   "outputs": [
    {
     "data": {
      "text/plain": [
       "          A         B\n",
       "0  0.631007  0.034287\n",
       "1  0.114071  0.370723\n",
       "2  0.156949  0.851093\n",
       "3  0.051913  0.089328\n",
       "4  0.089216  0.861941\n",
       "5  0.572473  0.364972\n",
       "6  0.452546  0.152391\n",
       "7  0.052752  0.024641"
      ]
     },
     "execution_count": 14,
     "metadata": {},
     "output_type": "execute_result"
    }
   ],
   "source": [
    "pd.read_excel('file_C.xlsx', sheet_name='Sheet3')"
   ]
  },
  {
   "attachments": {},
   "cell_type": "markdown",
   "metadata": {},
   "source": [
    "### 1.2.2 Dictionary of dataframes\n",
    "\n",
    "In `pandas`, Excel spreadsheet is loaded as a dictionary of dataframes. The keys are the sheet names, and the values are the dataframes.\n",
    "\n",
    "To load the entire spreadsheet taht contains all sheets, we can use `pd.read_excel()` with `sheet_name=None`:\n"
   ]
  },
  {
   "cell_type": "code",
   "execution_count": 15,
   "metadata": {},
   "outputs": [
    {
     "name": "stdout",
     "output_type": "stream",
     "text": [
      "{'Sheet1':    id  A  B  C\n",
      "0  a1  1  1  1\n",
      "1  a2  0  1  0\n",
      "2  a3  1  0  1, 'Sheet2':    id  D  E  F\n",
      "0  a4  0  1  0\n",
      "1  a5  0  0  0\n",
      "2  a6  1  1  0\n",
      "3  a7  2  2  0\n",
      "4  a8  3  3  0\n",
      "5  a9  4  4  0, 'Sheet3':           A         B\n",
      "0  0.631007  0.034287\n",
      "1  0.114071  0.370723\n",
      "2  0.156949  0.851093\n",
      "3  0.051913  0.089328\n",
      "4  0.089216  0.861941\n",
      "5  0.572473  0.364972\n",
      "6  0.452546  0.152391\n",
      "7  0.052752  0.024641}\n"
     ]
    }
   ],
   "source": [
    "data = pd.read_excel('file_C.xlsx', sheet_name=None)\n",
    "print(data)"
   ]
  },
  {
   "attachments": {},
   "cell_type": "markdown",
   "metadata": {},
   "source": [
    "The sheets might not be displayed well aligned, but you can still see the keys as each sheet name and its corresponding dataframe. You can use the 'lookup' function we learned in the previous lecture to find the dataframe of a specific sheet:"
   ]
  },
  {
   "cell_type": "code",
   "execution_count": 16,
   "metadata": {},
   "outputs": [
    {
     "data": {
      "text/plain": [
       "          A         B\n",
       "0  0.631007  0.034287\n",
       "1  0.114071  0.370723\n",
       "2  0.156949  0.851093\n",
       "3  0.051913  0.089328\n",
       "4  0.089216  0.861941\n",
       "5  0.572473  0.364972\n",
       "6  0.452546  0.152391\n",
       "7  0.052752  0.024641"
      ]
     },
     "execution_count": 16,
     "metadata": {},
     "output_type": "execute_result"
    }
   ],
   "source": [
    "data[\"Sheet3\"]"
   ]
  },
  {
   "attachments": {},
   "cell_type": "markdown",
   "metadata": {},
   "source": [
    "### 1.3 Save data\n",
    "\n",
    "#### 1.3.1 Save as CSV\n",
    "\n",
    "We can use `df.to_csv()` to save a dataframe as a CSV file. Here are parameters that we can use:\n",
    "\n",
    "- `sep`: the delimiter. Default is comma \"`,`\".\n",
    "- `index`: whether to save the index column. Default is `True`.\n",
    "- `header`: whether to save the header. Default is `True`.\n",
    "- `columns`: the columns to save. Default is `None` (all columns).\n",
    "- `mode`: the mode to open the file. Default is `\"w\"` (write). Other options are `\"a\"` (append) and `\"r\"` (read)."
   ]
  },
  {
   "cell_type": "code",
   "execution_count": 17,
   "metadata": {},
   "outputs": [
    {
     "name": "stdout",
     "output_type": "stream",
     "text": [
      ",id,A,B,C\n",
      "0,a1,1,1,1\n",
      "1,a2,0,1,0\n",
      "2,a3,1,0,1\n"
     ]
    }
   ],
   "source": [
    "data[\"Sheet1\"].to_csv('out_A.csv')\n",
    "!cat out_A.csv"
   ]
  },
  {
   "cell_type": "code",
   "execution_count": 18,
   "metadata": {},
   "outputs": [
    {
     "name": "stdout",
     "output_type": "stream",
     "text": [
      "id,A,B,C\n",
      "a1,1,1,1\n",
      "a2,0,1,0\n",
      "a3,1,0,1\n"
     ]
    }
   ],
   "source": [
    "data[\"Sheet1\"].to_csv('out_A.csv', index=False)\n",
    "!cat out_A.csv"
   ]
  },
  {
   "cell_type": "code",
   "execution_count": 19,
   "metadata": {},
   "outputs": [
    {
     "name": "stdout",
     "output_type": "stream",
     "text": [
      "a1,1,1,1\n",
      "a2,0,1,0\n",
      "a3,1,0,1\n"
     ]
    }
   ],
   "source": [
    "data[\"Sheet1\"].to_csv('out_A.csv', index=False, header=None)\n",
    "!cat out_A.csv"
   ]
  },
  {
   "cell_type": "code",
   "execution_count": 20,
   "metadata": {},
   "outputs": [
    {
     "name": "stdout",
     "output_type": "stream",
     "text": [
      "a1\t1\t1\t1\n",
      "a2\t0\t1\t0\n",
      "a3\t1\t0\t1\n"
     ]
    }
   ],
   "source": [
    "data[\"Sheet1\"].to_csv('out_A.csv', index=False, header=None, sep='\\t')\n",
    "!cat out_A.csv"
   ]
  },
  {
   "cell_type": "code",
   "execution_count": 21,
   "metadata": {},
   "outputs": [
    {
     "name": "stdout",
     "output_type": "stream",
     "text": [
      "A,B\n",
      "1,1\n",
      "0,1\n",
      "1,0\n"
     ]
    }
   ],
   "source": [
    "data[\"Sheet1\"].to_csv('out_A.csv', index=False, columns=['A', 'B'])\n",
    "!cat out_A.csv"
   ]
  },
  {
   "attachments": {},
   "cell_type": "markdown",
   "metadata": {},
   "source": [
    "### 1.3.2 Save as Excel spreadsheet\n",
    "\n",
    "Pandas also allows us to save a dataframe as an Excel spreadsheet. It is highly recommended to interact with Excel spreadsheet using `with` statement when you want to work with multiple sheets. Here is an example:"
   ]
  },
  {
   "cell_type": "code",
   "execution_count": 22,
   "metadata": {},
   "outputs": [],
   "source": [
    "with pd.ExcelWriter('out_C2.xlsx') as writer:\n",
    "    data[\"Sheet1\"].to_excel(writer, sheet_name='Sheet1')\n",
    "    data[\"Sheet2\"].to_excel(writer, sheet_name='Sheet2')\n",
    "    data[\"Sheet3\"].to_excel(writer, sheet_name='Sheet3')"
   ]
  },
  {
   "attachments": {},
   "cell_type": "markdown",
   "metadata": {},
   "source": [
    "An example to append a new sheet to an existing spreadsheet:"
   ]
  },
  {
   "cell_type": "code",
   "execution_count": 23,
   "metadata": {},
   "outputs": [],
   "source": [
    "with pd.ExcelWriter('out_C2.xlsx', mode=\"a\") as writer:\n",
    "    data[\"Sheet1\"].to_excel(writer, sheet_name='Sheet4', index=False)\n",
    "    data[\"Sheet2\"].to_excel(writer, sheet_name='Sheet5', index=False)\n",
    "    data[\"Sheet3\"].to_excel(writer, sheet_name='Sheet6', index=False)"
   ]
  },
  {
   "attachments": {},
   "cell_type": "markdown",
   "metadata": {},
   "source": [
    "## 2. Construct a dataframe\n",
    "\n",
    "We can also construct a dataframe from scratch. We can start with a dictionary of lists to define our dataframe:"
   ]
  },
  {
   "cell_type": "code",
   "execution_count": 24,
   "metadata": {},
   "outputs": [
    {
     "name": "stdout",
     "output_type": "stream",
     "text": [
      "{'id': ['id1', 'id2', 'id3', 'id4'], 'factor': ['A', 'B', 'A', 'B'], 'value': [1, 2, 3, 4]}\n"
     ]
    }
   ],
   "source": [
    "data = dict()\n",
    "data[\"id\"] = [\"id1\", \"id2\", \"id3\", \"id4\"]\n",
    "data[\"factor\"] = [\"A\", \"B\", \"A\", \"B\"]\n",
    "data[\"value\"] = [1, 2, 3, 4]\n",
    "print(data)"
   ]
  },
  {
   "attachments": {},
   "cell_type": "markdown",
   "metadata": {},
   "source": [
    "And we can put the dictionary into a dataframe using `pd.DataFrame()`:"
   ]
  },
  {
   "cell_type": "code",
   "execution_count": 25,
   "metadata": {},
   "outputs": [
    {
     "data": {
      "text/plain": [
       "    id factor  value\n",
       "0  id1      A      1\n",
       "1  id2      B      2\n",
       "2  id3      A      3\n",
       "3  id4      B      4"
      ]
     },
     "execution_count": 25,
     "metadata": {},
     "output_type": "execute_result"
    }
   ],
   "source": [
    "df = pd.DataFrame(data)\n",
    "df"
   ]
  },
  {
   "attachments": {},
   "cell_type": "markdown",
   "metadata": {},
   "source": [
    "## 3. Dataframe manipulation\n",
    "\n",
    "### 3.1 Index location (.iloc)\n",
    "\n",
    "We can use `.iloc()` method to access the data by numeric index location. The indexing rule is the same as what we have learned in the sections of `list` and `numpy`. In `.iloc()`, the first argument is the row index, and the second argument is the column index.\n",
    "\n",
    "Here is an example dataframe:"
   ]
  },
  {
   "cell_type": "code",
   "execution_count": 26,
   "metadata": {},
   "outputs": [
    {
     "data": {
      "text/plain": [
       "   id  A  B  C\n",
       "0  a1  1  1  1\n",
       "1  a2  0  1  0\n",
       "2  a3  1  0  1"
      ]
     },
     "execution_count": 26,
     "metadata": {},
     "output_type": "execute_result"
    }
   ],
   "source": [
    "data = pd.read_excel('file_C.xlsx', sheet_name=\"Sheet1\")\n",
    "data"
   ]
  },
  {
   "attachments": {},
   "cell_type": "markdown",
   "metadata": {},
   "source": [
    "Get the second and third row:"
   ]
  },
  {
   "cell_type": "code",
   "execution_count": 27,
   "metadata": {},
   "outputs": [
    {
     "data": {
      "text/plain": [
       "   id  A  B  C\n",
       "1  a2  0  1  0\n",
       "2  a3  1  0  1"
      ]
     },
     "execution_count": 27,
     "metadata": {},
     "output_type": "execute_result"
    }
   ],
   "source": [
    "data.iloc[[1, 2], :]"
   ]
  },
  {
   "attachments": {},
   "cell_type": "markdown",
   "metadata": {},
   "source": [
    "Get multiple (first and second) columns. (Note we use `:` to specify all rows.)"
   ]
  },
  {
   "cell_type": "code",
   "execution_count": 28,
   "metadata": {},
   "outputs": [
    {
     "data": {
      "text/plain": [
       "   id  A\n",
       "0  a1  1\n",
       "1  a2  0\n",
       "2  a3  1"
      ]
     },
     "execution_count": 28,
     "metadata": {},
     "output_type": "execute_result"
    }
   ],
   "source": [
    "data.iloc[:, [0, 1]]"
   ]
  },
  {
   "attachments": {},
   "cell_type": "markdown",
   "metadata": {},
   "source": [
    "It is equivalent to using slicing:"
   ]
  },
  {
   "cell_type": "code",
   "execution_count": 29,
   "metadata": {},
   "outputs": [
    {
     "data": {
      "text/plain": [
       "   id  A\n",
       "0  a1  1\n",
       "1  a2  0\n",
       "2  a3  1"
      ]
     },
     "execution_count": 29,
     "metadata": {},
     "output_type": "execute_result"
    }
   ],
   "source": [
    "data.iloc[:, :2]"
   ]
  },
  {
   "attachments": {},
   "cell_type": "markdown",
   "metadata": {},
   "source": [
    "### 3.2 Label-based indexing (.loc)\n",
    "\n",
    "The `.loc()` method is another way to access the data. It works with either column/index names or boolean arrays."
   ]
  },
  {
   "cell_type": "code",
   "execution_count": 30,
   "metadata": {},
   "outputs": [
    {
     "data": {
      "text/plain": [
       "   id  A  B  C\n",
       "0  a1  1  1  1\n",
       "1  a2  0  1  0"
      ]
     },
     "execution_count": 30,
     "metadata": {},
     "output_type": "execute_result"
    }
   ],
   "source": [
    "data.loc[[0, 1], :]"
   ]
  },
  {
   "cell_type": "code",
   "execution_count": 31,
   "metadata": {},
   "outputs": [
    {
     "data": {
      "text/plain": [
       "   id  B\n",
       "0  a1  1\n",
       "1  a2  1\n",
       "2  a3  0"
      ]
     },
     "execution_count": 31,
     "metadata": {},
     "output_type": "execute_result"
    }
   ],
   "source": [
    "data.loc[:, ['id', 'B']]"
   ]
  },
  {
   "attachments": {},
   "cell_type": "markdown",
   "metadata": {},
   "source": [
    "Use boolean to select column containing a letter \"B\". (We can use `df.columns` to list all column names)"
   ]
  },
  {
   "cell_type": "code",
   "execution_count": 32,
   "metadata": {},
   "outputs": [
    {
     "name": "stdout",
     "output_type": "stream",
     "text": [
      "[False, False, True, False]\n"
     ]
    }
   ],
   "source": [
    "colnames = data.columns\n",
    "bol_B = [\"B\" in col for col in colnames]\n",
    "print(bol_B)"
   ]
  },
  {
   "cell_type": "code",
   "execution_count": 33,
   "metadata": {},
   "outputs": [
    {
     "data": {
      "text/plain": [
       "   B\n",
       "0  1\n",
       "1  1\n",
       "2  0"
      ]
     },
     "execution_count": 33,
     "metadata": {},
     "output_type": "execute_result"
    }
   ],
   "source": [
    "data.loc[:, bol_B]"
   ]
  },
  {
   "cell_type": "code",
   "execution_count": 34,
   "metadata": {},
   "outputs": [
    {
     "data": {
      "text/plain": [
       "   id  A  B  C\n",
       "0  a1  1  1  1\n",
       "1  a2  0  1  0\n",
       "2  a3  1  0  1"
      ]
     },
     "execution_count": 34,
     "metadata": {},
     "output_type": "execute_result"
    }
   ],
   "source": [
    "data"
   ]
  },
  {
   "attachments": {},
   "cell_type": "markdown",
   "metadata": {},
   "source": [
    "### 3.3 Create a new column\n",
    "The `.loc()` method is also a recommended way (compared to `df[\"new_column\"]`) to create a new column. Simply put a desired column name in the second argument, and assign a value to it."
   ]
  },
  {
   "cell_type": "code",
   "execution_count": 35,
   "metadata": {},
   "outputs": [
    {
     "data": {
      "text/plain": [
       "   id  A  B  C new_col\n",
       "0  a1  1  1  1     new\n",
       "1  a2  0  1  0     new\n",
       "2  a3  1  0  1     new"
      ]
     },
     "execution_count": 35,
     "metadata": {},
     "output_type": "execute_result"
    }
   ],
   "source": [
    "data.loc[:, \"new_col\"] = [\"new\"] * 3\n",
    "# or\n",
    "data.loc[:, \"new_col\"] = \"new\"\n",
    "data"
   ]
  },
  {
   "attachments": {},
   "cell_type": "markdown",
   "metadata": {},
   "source": [
    "### 3.4 Miscellaneous\n",
    "\n",
    "#### 3.4.1 Drop a column"
   ]
  },
  {
   "cell_type": "code",
   "execution_count": 36,
   "metadata": {},
   "outputs": [
    {
     "data": {
      "text/plain": [
       "   id  A  C new_col\n",
       "0  a1  1  1     new\n",
       "1  a2  0  0     new\n",
       "2  a3  1  1     new"
      ]
     },
     "execution_count": 36,
     "metadata": {},
     "output_type": "execute_result"
    }
   ],
   "source": [
    "data.drop(columns=[\"B\"])"
   ]
  },
  {
   "attachments": {},
   "cell_type": "markdown",
   "metadata": {},
   "source": [
    "### 3.4.2 Drop a row"
   ]
  },
  {
   "cell_type": "code",
   "execution_count": 37,
   "metadata": {},
   "outputs": [
    {
     "data": {
      "text/plain": [
       "   id  A  B  C new_col\n",
       "2  a3  1  0  1     new"
      ]
     },
     "execution_count": 37,
     "metadata": {},
     "output_type": "execute_result"
    }
   ],
   "source": [
    "data.drop(index=[0, 1])"
   ]
  },
  {
   "attachments": {},
   "cell_type": "markdown",
   "metadata": {},
   "source": [
    "### 3.4.3 inspect the dimension and summary\n",
    "\n",
    "`df.shape` returns the dimension of the dataframe. This tells us that the dataframe has 3 rows and 5 columns."
   ]
  },
  {
   "cell_type": "code",
   "execution_count": 38,
   "metadata": {},
   "outputs": [
    {
     "data": {
      "text/plain": [
       "(3, 5)"
      ]
     },
     "execution_count": 38,
     "metadata": {},
     "output_type": "execute_result"
    }
   ],
   "source": [
    "data.shape"
   ]
  },
  {
   "attachments": {},
   "cell_type": "markdown",
   "metadata": {},
   "source": [
    "df.info() is another way to inspect the dataframe of its dimension and data types of each column."
   ]
  },
  {
   "cell_type": "code",
   "execution_count": 39,
   "metadata": {},
   "outputs": [
    {
     "name": "stdout",
     "output_type": "stream",
     "text": [
      "<class 'pandas.core.frame.DataFrame'>\n",
      "RangeIndex: 3 entries, 0 to 2\n",
      "Data columns (total 5 columns):\n",
      " #   Column   Non-Null Count  Dtype \n",
      "---  ------   --------------  ----- \n",
      " 0   id       3 non-null      object\n",
      " 1   A        3 non-null      int64 \n",
      " 2   B        3 non-null      int64 \n",
      " 3   C        3 non-null      int64 \n",
      " 4   new_col  3 non-null      object\n",
      "dtypes: int64(3), object(2)\n",
      "memory usage: 248.0+ bytes\n"
     ]
    }
   ],
   "source": [
    "data.info()"
   ]
  },
  {
   "attachments": {},
   "cell_type": "markdown",
   "metadata": {},
   "source": [
    "`df.describe()` returns the summary statistics of the dataframe. Only numeric columns are included in the summary statistics."
   ]
  },
  {
   "cell_type": "code",
   "execution_count": 40,
   "metadata": {},
   "outputs": [
    {
     "data": {
      "text/plain": [
       "              A         B         C\n",
       "count  3.000000  3.000000  3.000000\n",
       "mean   0.666667  0.666667  0.666667\n",
       "std    0.577350  0.577350  0.577350\n",
       "min    0.000000  0.000000  0.000000\n",
       "25%    0.500000  0.500000  0.500000\n",
       "50%    1.000000  1.000000  1.000000\n",
       "75%    1.000000  1.000000  1.000000\n",
       "max    1.000000  1.000000  1.000000"
      ]
     },
     "execution_count": 40,
     "metadata": {},
     "output_type": "execute_result"
    }
   ],
   "source": [
    "data.describe()"
   ]
  },
  {
   "attachments": {},
   "cell_type": "markdown",
   "metadata": {},
   "source": [
    "`df[\"column\"].value_counts()` returns the counts of unique values in that specified column. Below the example tells us that there are two rows with value 1 and one row with value 0."
   ]
  },
  {
   "cell_type": "code",
   "execution_count": 41,
   "metadata": {},
   "outputs": [
    {
     "data": {
      "text/plain": [
       "1    2\n",
       "0    1\n",
       "Name: B, dtype: int64"
      ]
     },
     "execution_count": 41,
     "metadata": {},
     "output_type": "execute_result"
    }
   ],
   "source": [
    "data[\"B\"].value_counts()"
   ]
  },
  {
   "attachments": {},
   "cell_type": "markdown",
   "metadata": {},
   "source": [
    "## 4.Querying with an example dataframe\n",
    "\n",
    "Let's create a mock dataframe for this section:"
   ]
  },
  {
   "cell_type": "code",
   "execution_count": 42,
   "metadata": {},
   "outputs": [],
   "source": [
    "import numpy as np\n",
    "import pandas as pd\n",
    "\n",
    "factors = [i for _ in range(30) for i in [\"A\", \"B\", \"C\", \"D\"]]\n",
    "# random sample from id {1, 2, 3, 4, 5, 6}\n",
    "ids = np.random.choice([\"id_%d\" % (i + 1) for i in range(6)], 120)\n",
    "envs = [i for _ in range(60) for i in [\"env_1\", \"env_2\"]]\n",
    "obs = np.random.normal(0, 1, 120)\n",
    "data = pd.DataFrame({\"factor\": factors, \"id\": ids, \"env\": envs, \"obs\": obs})\n",
    "data.to_csv(\"file_D.csv\", index=False)"
   ]
  },
  {
   "cell_type": "code",
   "execution_count": 43,
   "metadata": {},
   "outputs": [
    {
     "name": "stdout",
     "output_type": "stream",
     "text": [
      "<class 'pandas.core.frame.DataFrame'>\n",
      "RangeIndex: 120 entries, 0 to 119\n",
      "Data columns (total 4 columns):\n",
      " #   Column  Non-Null Count  Dtype  \n",
      "---  ------  --------------  -----  \n",
      " 0   factor  120 non-null    object \n",
      " 1   id      120 non-null    object \n",
      " 2   env     120 non-null    object \n",
      " 3   obs     120 non-null    float64\n",
      "dtypes: float64(1), object(3)\n",
      "memory usage: 3.9+ KB\n"
     ]
    },
    {
     "data": {
      "text/plain": [
       "    factor    id    env       obs\n",
       "0        A  id_5  env_1  1.398247\n",
       "1        B  id_2  env_2  0.118081\n",
       "2        C  id_1  env_1 -1.352220\n",
       "3        D  id_2  env_2  3.028106\n",
       "4        A  id_2  env_1  0.885938\n",
       "..     ...   ...    ...       ...\n",
       "115      D  id_3  env_2  0.352519\n",
       "116      A  id_5  env_1 -1.363961\n",
       "117      B  id_4  env_2 -1.148599\n",
       "118      C  id_5  env_1 -0.769891\n",
       "119      D  id_5  env_2  1.626178\n",
       "\n",
       "[120 rows x 4 columns]"
      ]
     },
     "execution_count": 43,
     "metadata": {},
     "output_type": "execute_result"
    }
   ],
   "source": [
    "data = pd.read_csv(\"file_D.csv\")\n",
    "data.info()\n",
    "data"
   ]
  },
  {
   "attachments": {},
   "cell_type": "markdown",
   "metadata": {},
   "source": [
    "### 4.1 Check the distribution of each column"
   ]
  },
  {
   "cell_type": "code",
   "execution_count": 44,
   "metadata": {},
   "outputs": [
    {
     "data": {
      "text/plain": [
       "A    30\n",
       "B    30\n",
       "C    30\n",
       "D    30\n",
       "Name: factor, dtype: int64"
      ]
     },
     "execution_count": 44,
     "metadata": {},
     "output_type": "execute_result"
    }
   ],
   "source": [
    "data[\"factor\"].value_counts()"
   ]
  },
  {
   "cell_type": "code",
   "execution_count": 45,
   "metadata": {},
   "outputs": [
    {
     "data": {
      "text/plain": [
       "id_5    32\n",
       "id_6    24\n",
       "id_3    20\n",
       "id_2    19\n",
       "id_1    15\n",
       "id_4    10\n",
       "Name: id, dtype: int64"
      ]
     },
     "execution_count": 45,
     "metadata": {},
     "output_type": "execute_result"
    }
   ],
   "source": [
    "data[\"id\"].value_counts()"
   ]
  },
  {
   "cell_type": "code",
   "execution_count": 46,
   "metadata": {},
   "outputs": [
    {
     "data": {
      "text/plain": [
       "env_1    60\n",
       "env_2    60\n",
       "Name: env, dtype: int64"
      ]
     },
     "execution_count": 46,
     "metadata": {},
     "output_type": "execute_result"
    }
   ],
   "source": [
    "data[\"env\"].value_counts()"
   ]
  },
  {
   "cell_type": "code",
   "execution_count": 47,
   "metadata": {},
   "outputs": [
    {
     "data": {
      "text/plain": [
       " 1.398247    1\n",
       " 0.118081    1\n",
       "-0.250095    1\n",
       " 1.214479    1\n",
       " 1.006255    1\n",
       "            ..\n",
       " 0.645562    1\n",
       " 0.397835    1\n",
       "-0.784988    1\n",
       " 0.732589    1\n",
       " 1.626178    1\n",
       "Name: obs, Length: 120, dtype: int64"
      ]
     },
     "execution_count": 47,
     "metadata": {},
     "output_type": "execute_result"
    }
   ],
   "source": [
    "data[\"obs\"].value_counts()"
   ]
  },
  {
   "cell_type": "code",
   "execution_count": 48,
   "metadata": {},
   "outputs": [
    {
     "data": {
      "text/plain": [
       "count    120.000000\n",
       "mean      -0.083406\n",
       "std        1.053231\n",
       "min       -2.408920\n",
       "25%       -0.850797\n",
       "50%       -0.147953\n",
       "75%        0.602563\n",
       "max        3.028106\n",
       "Name: obs, dtype: float64"
      ]
     },
     "execution_count": 48,
     "metadata": {},
     "output_type": "execute_result"
    }
   ],
   "source": [
    "data[\"obs\"].describe()"
   ]
  },
  {
   "attachments": {},
   "cell_type": "markdown",
   "metadata": {},
   "source": [
    "For better visualization, we can use `df.hist()` to plot the histogram of each column."
   ]
  },
  {
   "cell_type": "code",
   "execution_count": 49,
   "metadata": {},
   "outputs": [
    {
     "data": {
      "text/plain": [
       "<AxesSubplot: >"
      ]
     },
     "execution_count": 49,
     "metadata": {},
     "output_type": "execute_result"
    },
    {
     "data": {
      "image/png": "[encoded data removed]",
      "text/plain": [
       "<Figure size 640x480 with 1 Axes>"
      ]
     },
     "metadata": {},
     "output_type": "display_data"
    }
   ],
   "source": [
    "data[\"obs\"].hist()"
   ]
  },
  {
   "attachments": {},
   "cell_type": "markdown",
   "metadata": {},
   "source": [
    "### 4.2 Subset the dataframe (query)"
   ]
  },
  {
   "cell_type": "code",
   "execution_count": 50,
   "metadata": {},
   "outputs": [
    {
     "data": {
      "text/plain": [
       "  factor    id    env       obs\n",
       "0      A  id_5  env_1  1.398247\n",
       "1      B  id_2  env_2  0.118081\n",
       "3      D  id_2  env_2  3.028106\n",
       "4      A  id_2  env_1  0.885938\n",
       "5      B  id_6  env_2  0.061932"
      ]
     },
     "execution_count": 50,
     "metadata": {},
     "output_type": "execute_result"
    }
   ],
   "source": [
    "data_sub = data.query(\"obs > 0\")\n",
    "data_sub[:5]"
   ]
  },
  {
   "cell_type": "code",
   "execution_count": 51,
   "metadata": {},
   "outputs": [
    {
     "data": {
      "text/plain": [
       "<AxesSubplot: >"
      ]
     },
     "execution_count": 51,
     "metadata": {},
     "output_type": "execute_result"
    },
    {
     "data": {
      "image/png": "[encoded data removed]",
      "text/plain": [
       "<Figure size 640x480 with 1 Axes>"
      ]
     },
     "metadata": {},
     "output_type": "display_data"
    }
   ],
   "source": [
    "data_sub[\"obs\"].hist()"
   ]
  },
  {
   "cell_type": "code",
   "execution_count": 52,
   "metadata": {},
   "outputs": [
    {
     "data": {
      "text/plain": [
       "   factor    id    env       obs\n",
       "2       C  id_1  env_1 -1.352220\n",
       "14      C  id_1  env_1 -1.087348\n",
       "25      B  id_1  env_2  1.015025\n",
       "35      D  id_1  env_2  0.645562\n",
       "37      B  id_1  env_2 -0.216822"
      ]
     },
     "execution_count": 52,
     "metadata": {},
     "output_type": "execute_result"
    }
   ],
   "source": [
    "data_id1 = data.query(\"id == 'id_1'\")\n",
    "data_id1[:5]"
   ]
  },
  {
   "cell_type": "code",
   "execution_count": 53,
   "metadata": {},
   "outputs": [
    {
     "data": {
      "text/plain": [
       "array([[<AxesSubplot: title={'center': 'obs'}>]], dtype=object)"
      ]
     },
     "execution_count": 53,
     "metadata": {},
     "output_type": "execute_result"
    },
    {
     "data": {
      "image/png": "[encoded data removed]",
      "text/plain": [
       "<Figure size 640x480 with 1 Axes>"
      ]
     },
     "metadata": {},
     "output_type": "display_data"
    }
   ],
   "source": [
    "data_id1.hist()"
   ]
  },
  {
   "attachments": {},
   "cell_type": "markdown",
   "metadata": {},
   "source": [
    "Multiple conditions can be combined using `&` (and) and `|` (or)."
   ]
  },
  {
   "cell_type": "code",
   "execution_count": 54,
   "metadata": {},
   "outputs": [
    {
     "data": {
      "text/plain": [
       "   factor    id    env       obs\n",
       "2       C  id_1  env_1 -1.352220\n",
       "14      C  id_1  env_1 -1.087348\n",
       "25      B  id_1  env_2  1.015025\n",
       "77      B  id_1  env_2  1.927947\n",
       "79      D  id_1  env_2 -1.319636\n",
       "97      B  id_1  env_2  1.051139"
      ]
     },
     "execution_count": 54,
     "metadata": {},
     "output_type": "execute_result"
    }
   ],
   "source": [
    "data.query(\"id == 'id_1' and (obs > 1 or obs < -1)\")"
   ]
  },
  {
   "attachments": {},
   "cell_type": "markdown",
   "metadata": {},
   "source": [
    "### 4.3 Grouping"
   ]
  },
  {
   "cell_type": "code",
   "execution_count": 55,
   "metadata": {},
   "outputs": [
    {
     "data": {
      "text/plain": [
       "id\n",
       "id_1    0.011577\n",
       "id_2    0.072730\n",
       "id_3   -0.409600\n",
       "id_4   -0.231937\n",
       "id_5   -0.036769\n",
       "id_6    0.005157\n",
       "Name: obs, dtype: float64"
      ]
     },
     "execution_count": 55,
     "metadata": {},
     "output_type": "execute_result"
    }
   ],
   "source": [
    "data.groupby(\"id\")[\"obs\"].mean()"
   ]
  },
  {
   "cell_type": "code",
   "execution_count": 56,
   "metadata": {},
   "outputs": [
    {
     "data": {
      "text/plain": [
       "id    factor\n",
       "id_1  A        -0.435927\n",
       "      B         0.835641\n",
       "      C        -0.620353\n",
       "      D        -0.116713\n",
       "id_2  A         0.457923\n",
       "      B         0.196333\n",
       "      C        -0.981377\n",
       "      D        -0.064095\n",
       "id_3  A        -0.979025\n",
       "      B        -0.527586\n",
       "      C         0.002107\n",
       "      D        -0.170709\n",
       "id_4  A        -1.287146\n",
       "      B        -1.274956\n",
       "      C         0.183495\n",
       "      D         1.237600\n",
       "id_5  A         0.021462\n",
       "      B        -0.337031\n",
       "      C        -0.018164\n",
       "      D         0.073601\n",
       "id_6  A        -0.132296\n",
       "      B         0.030516\n",
       "      C         0.297709\n",
       "      D        -0.326848\n",
       "Name: obs, dtype: float64"
      ]
     },
     "execution_count": 56,
     "metadata": {},
     "output_type": "execute_result"
    }
   ],
   "source": [
    "data.groupby([\"id\", \"factor\"])[\"obs\"].mean()"
   ]
  },
  {
   "cell_type": "code",
   "execution_count": 57,
   "metadata": {},
   "outputs": [
    {
     "data": {
      "text/plain": [
       "                 mean       std  count  <lambda_0>\n",
       "id   factor                                       \n",
       "id_1 A      -0.435927       NaN      1    0.000000\n",
       "     B       0.835641  0.801314      5    2.144769\n",
       "     C      -0.620353  0.578104      5    1.369322\n",
       "     D      -0.116713  0.847288      4    1.965199\n",
       "id_2 A       0.457923  0.490873      6    1.238011\n",
       "     B       0.196333  1.385810      5    3.800971\n",
       "     C      -0.981377  0.786843      2    1.112764\n",
       "     D      -0.064095  1.672929      6    4.749550\n",
       "id_3 A      -0.979025  0.958212      5    2.420366\n",
       "     B      -0.527586  1.745133      4    3.964272\n",
       "     C       0.002107  1.062830      4    2.192775\n",
       "     D      -0.170709  0.616826      7    1.659665\n",
       "id_4 A      -1.287146  0.622728      2    0.880671\n",
       "     B      -1.274956  0.826101      3    1.637642\n",
       "     C       0.183495  0.207320      2    0.293195\n",
       "     D       1.237600  0.902724      3    1.747751\n",
       "id_5 A       0.021462  0.901412      9    2.762209\n",
       "     B      -0.337031  1.111385      5    2.792467\n",
       "     C      -0.018164  0.955649     11    2.789181\n",
       "     D       0.073601  1.016560      7    2.758430\n",
       "id_6 A      -0.132296  0.960805      7    2.785278\n",
       "     B       0.030516  1.099071      8    3.073730\n",
       "     C       0.297709  1.135733      6    3.230495\n",
       "     D      -0.326848  1.506402      3    2.767885"
      ]
     },
     "execution_count": 57,
     "metadata": {},
     "output_type": "execute_result"
    }
   ],
   "source": [
    "# multiple calculation\n",
    "cus_fun = lambda x: x.max() - x.min()\n",
    "pivot = data.groupby([\"id\", \"factor\"])[\"obs\"].agg([\"mean\", \"std\", \"count\", cus_fun])\n",
    "pivot"
   ]
  },
  {
   "cell_type": "code",
   "execution_count": 58,
   "metadata": {},
   "outputs": [
    {
     "data": {
      "text/plain": [
       "            mean       std  count  <lambda_0>\n",
       "factor                                       \n",
       "A       0.021462  0.901412      9    2.762209\n",
       "B      -0.337031  1.111385      5    2.792467\n",
       "C      -0.018164  0.955649     11    2.789181\n",
       "D       0.073601  1.016560      7    2.758430"
      ]
     },
     "execution_count": 58,
     "metadata": {},
     "output_type": "execute_result"
    }
   ],
   "source": [
    "pivot.loc[\"id_5\"]"
   ]
  },
  {
   "cell_type": "code",
   "execution_count": 59,
   "metadata": {},
   "outputs": [
    {
     "data": {
      "text/plain": [
       "mean         -0.979025\n",
       "std           0.958212\n",
       "count         5.000000\n",
       "<lambda_0>    2.420366\n",
       "Name: A, dtype: float64"
      ]
     },
     "execution_count": 59,
     "metadata": {},
     "output_type": "execute_result"
    }
   ],
   "source": [
    "pivot.loc[\"id_3\"].loc[\"A\"]"
   ]
  },
  {
   "cell_type": "code",
   "execution_count": 60,
   "metadata": {},
   "outputs": [
    {
     "data": {
      "text/plain": [
       "      id factor      mean       std  count  <lambda_0>\n",
       "0   id_1      A -0.435927       NaN      1    0.000000\n",
       "1   id_1      B  0.835641  0.801314      5    2.144769\n",
       "2   id_1      C -0.620353  0.578104      5    1.369322\n",
       "3   id_1      D -0.116713  0.847288      4    1.965199\n",
       "4   id_2      A  0.457923  0.490873      6    1.238011\n",
       "5   id_2      B  0.196333  1.385810      5    3.800971\n",
       "6   id_2      C -0.981377  0.786843      2    1.112764\n",
       "7   id_2      D -0.064095  1.672929      6    4.749550\n",
       "8   id_3      A -0.979025  0.958212      5    2.420366\n",
       "9   id_3      B -0.527586  1.745133      4    3.964272\n",
       "10  id_3      C  0.002107  1.062830      4    2.192775\n",
       "11  id_3      D -0.170709  0.616826      7    1.659665\n",
       "12  id_4      A -1.287146  0.622728      2    0.880671\n",
       "13  id_4      B -1.274956  0.826101      3    1.637642\n",
       "14  id_4      C  0.183495  0.207320      2    0.293195\n",
       "15  id_4      D  1.237600  0.902724      3    1.747751\n",
       "16  id_5      A  0.021462  0.901412      9    2.762209\n",
       "17  id_5      B -0.337031  1.111385      5    2.792467\n",
       "18  id_5      C -0.018164  0.955649     11    2.789181\n",
       "19  id_5      D  0.073601  1.016560      7    2.758430\n",
       "20  id_6      A -0.132296  0.960805      7    2.785278\n",
       "21  id_6      B  0.030516  1.099071      8    3.073730\n",
       "22  id_6      C  0.297709  1.135733      6    3.230495\n",
       "23  id_6      D -0.326848  1.506402      3    2.767885"
      ]
     },
     "execution_count": 60,
     "metadata": {},
     "output_type": "execute_result"
    }
   ],
   "source": [
    "data_pivot = pivot.reset_index()\n",
    "data_pivot"
   ]
  },
  {
   "cell_type": "code",
   "execution_count": 61,
   "metadata": {},
   "outputs": [],
   "source": [
    "data_pivot.to_csv(\"out_pivot.csv\", index=False)"
   ]
  },
  {
   "cell_type": "code",
   "execution_count": 62,
   "metadata": {},
   "outputs": [
    {
     "name": "stdout",
     "output_type": "stream",
     "text": [
      "id,factor,mean,std,count,<lambda_0>\n",
      "id_1,A,-0.435927455896309,,1,0.0\n",
      "id_1,B,0.835640850987664,0.8013137193298202,5,2.1447687175404817\n",
      "id_1,C,-0.6203527650930685,0.5781035975376023,5,1.3693220909788446\n",
      "id_1,D,-0.11671325771509983,0.8472881684807839,4,1.9651986173824076\n",
      "id_2,A,0.45792275193638793,0.4908730741241819,6,1.238010871518537\n",
      "id_2,B,0.1963334406134314,1.3858095866169606,5,3.8009711847635033\n",
      "id_2,C,-0.9813772794313279,0.7868431700170971,2,1.1127642824988178\n",
      "id_2,D,-0.06409496686499205,1.6729292446748563,6,4.749550429119074\n",
      "id_3,A,-0.9790254742953574,0.9582120751767326,5,2.4203661210536795\n",
      "id_3,B,-0.527585753523783,1.745132821938664,4,3.9642721480327245\n",
      "id_3,C,0.0021068933453006755,1.0628298945134238,4,2.192775396044442\n",
      "id_3,D,-0.1707089820182411,0.6168262906194072,7,1.6596652295952645\n",
      "id_4,A,-1.287145637008567,0.6227280920165232,2,0.8806705134004879\n",
      "id_4,B,-1.2749564562223732,0.8261006264531076,3,1.6376416458092908\n",
      "id_4,C,0.18349548842433044,0.20732026425577918,2,0.2931951294652969\n",
      "id_4,D,1.23759966069947,0.9027238884137332,3,1.7477510122932751\n",
      "id_5,A,0.021461757356135685,0.9014118560002868,9,2.762208756764108\n",
      "id_5,B,-0.33703118188729964,1.111385487423319,5,2.7924669651447287\n",
      "id_5,C,-0.018163653332140005,0.9556490764821689,11,2.7891810370226207\n",
      "id_5,D,0.07360052174480512,1.0165603701229091,7,2.7584303714664546\n",
      "id_6,A,-0.132295806721885,0.9608049589063297,7,2.785278209522109\n",
      "id_6,B,0.030516194200571084,1.0990713682534403,8,3.073729980042189\n",
      "id_6,C,0.2977086441711784,1.135732512737287,6,3.230495070314742\n",
      "id_6,D,-0.32684755091769957,1.506401613016308,3,2.7678852832100187\n"
     ]
    }
   ],
   "source": [
    "!cat out_pivot.csv"
   ]
  }
 ],
 "metadata": {
  "kernelspec": {
   "display_name": "tf",
   "language": "python",
   "name": "python3"
  },
  "language_info": {
   "codemirror_mode": {
    "name": "ipython",
    "version": 3
   },
   "file_extension": ".py",
   "mimetype": "text/x-python",
   "name": "python",
   "nbconvert_exporter": "python",
   "pygments_lexer": "ipython3",
   "version": "3.9.13"
  },
  "orig_nbformat": 4,
  "vscode": {
   "interpreter": {
    "hash": "e280c9e8b2a1d33bbe58b6976a0585f8ea2c0c6c7877fc74ad974a82054a5488"
   }
  }
 },
 "nbformat": 4,
 "nbformat_minor": 2
}
