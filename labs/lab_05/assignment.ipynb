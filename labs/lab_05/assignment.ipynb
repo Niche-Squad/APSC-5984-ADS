{
 "cells": [
  {
   "cell_type": "code",
   "execution_count": null,
   "metadata": {},
   "outputs": [],
   "source": []
  },
  {
   "attachments": {},
   "cell_type": "markdown",
   "metadata": {},
   "source": [
    "get all columns contains col33"
   ]
  }
 ],
 "metadata": {
  "kernelspec": {
   "display_name": "tf",
   "language": "python",
   "name": "python3"
  },
  "language_info": {
   "name": "python",
   "version": "3.9.13"
  },
  "orig_nbformat": 4,
  "vscode": {
   "interpreter": {
    "hash": "e280c9e8b2a1d33bbe58b6976a0585f8ea2c0c6c7877fc74ad974a82054a5488"
   }
  }
 },
 "nbformat": 4,
 "nbformat_minor": 2
}
