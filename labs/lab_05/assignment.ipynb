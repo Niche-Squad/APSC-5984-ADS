{
 "cells": [
  {
   "attachments": {},
   "cell_type": "markdown",
   "metadata": {},
   "source": [
    "# APSC-5984 Lab 5: Dataframe\n",
    "\n",
    "Due: 2023-02-20 (Monday) 23:59:59\n",
    "\n",
    "Grading Rubric (Total 100 points)\n",
    "\n",
    "| Items | Points | Earned |\n",
    "| :--- | :----- | :----- |\n",
    "| Push the assignment in time with the commit message: \"lab 5 submission\" | 70 | |\n",
    "| Tasks 1| 1 | |\n",
    "| Tasks 2| 1 | |\n",
    "| Tasks 3| 2 | |\n",
    "| Tasks 4| 2 | |\n",
    "| Tasks 5| 2 | |\n",
    "| Tasks 6| 4 | |\n",
    "| Tasks 7| 4 | |\n",
    "| Tasks 8| 4 | |\n",
    "| Tasks 9| 10 | |\n",
    "\n"
   ]
  },
  {
   "attachments": {},
   "cell_type": "markdown",
   "metadata": {},
   "source": [
    "### Task 1\n",
    "Load the data from the file `data/file_X.txt`. It is required to specify the path using `os.path.join()`."
   ]
  },
  {
   "cell_type": "code",
   "execution_count": 28,
   "metadata": {},
   "outputs": [
    {
     "name": "stdout",
     "output_type": "stream",
     "text": [
      "  cb1  ca2  cb3 ca4 cb5  ca6  cb7 ca8\n",
      "0   a    2    3   b   8    2    3   b\n",
      "1   b    4    5   a   1    9    2   a\n",
      "2   c    9    3   c   -    9    3   B\n"
     ]
    }
   ],
   "source": [
    "import os\n",
    "import pandas as pd\n",
    "\n",
    "directory = \"data\"\n",
    "filename = r'/home/shihong/APSC-5984-ADS/labs/lab_05/data/file_X.txt'\n",
    "\n",
    "file_path = os.path.join(directory, filename)\n",
    "file = pd.read_csv(file_path, header=4, delimiter=',')\n",
    "\n",
    "print(file)\n",
    "\n",
    "pass"
   ]
  },
  {
   "attachments": {},
   "cell_type": "markdown",
   "metadata": {},
   "source": [
    "### Task 2\n",
    "\n",
    "Check the data type of each column and explain why the data in column `cb5` is not integers."
   ]
  },
  {
   "cell_type": "code",
   "execution_count": 29,
   "metadata": {},
   "outputs": [
    {
     "name": "stdout",
     "output_type": "stream",
     "text": [
      "cb1    object\n",
      "ca2     int64\n",
      "cb3     int64\n",
      "ca4    object\n",
      "cb5    object\n",
      "ca6     int64\n",
      "cb7     int64\n",
      "ca8    object\n",
      "dtype: object\n",
      "------------\n",
      "object\n"
     ]
    }
   ],
   "source": [
    "import pandas as pd\n",
    "\n",
    "df = pd.DataFrame(file)\n",
    "print(df.dtypes)\n",
    "print('------------')\n",
    "print(df['cb5'].dtypes)\n",
    "\n",
    "pass"
   ]
  },
  {
   "attachments": {},
   "cell_type": "markdown",
   "metadata": {},
   "source": [
    "### Task 3\n",
    "\n",
    "Use the parameter `na_values` in `pd.read_csv()` to fix the data type of column `cb5` to `float64`.\n",
    "\n",
    "Hint: https://pandas.pydata.org/docs/reference/api/pandas.read_csv.html\n"
   ]
  },
  {
   "cell_type": "code",
   "execution_count": 30,
   "metadata": {},
   "outputs": [
    {
     "name": "stdout",
     "output_type": "stream",
     "text": [
      "0    8.0\n",
      "1    1.0\n",
      "2    NaN\n",
      "Name: cb5, dtype: float64\n"
     ]
    }
   ],
   "source": [
    "import pandas as pd\n",
    "import os\n",
    "\n",
    "directory = \"data\"\n",
    "filename = r'/home/shihong/APSC-5984-ADS/labs/lab_05/data/file_X.txt'\n",
    "file_path = os.path.join(directory, filename)\n",
    "\n",
    "na_values = ['-']\n",
    "file = pd.read_csv(file_path, header=4, delimiter=',', na_values=na_values)\n",
    "file['cb5'] = file['cb5'].astype('float64')\n",
    "\n",
    "print(file['cb5'])\n",
    "\n",
    "pass"
   ]
  },
  {
   "attachments": {},
   "cell_type": "markdown",
   "metadata": {},
   "source": [
    "### Task 4\n",
    "\n",
    "Subset the data to only include the columns `cbx`, where `x` is an integer. I.e., `cb1`, `cb3`, ..., `cb7`."
   ]
  },
  {
   "cell_type": "code",
   "execution_count": 39,
   "metadata": {},
   "outputs": [
    {
     "name": "stdout",
     "output_type": "stream",
     "text": [
      "     ca2  cb3 ca4  cb5  ca6  cb7 ca8\n",
      "cb1                                 \n",
      "a      2    3   b  8.0    2    3   b\n",
      "b      4    5   a  1.0    9    2   a\n",
      "c      9    3   c  NaN    9    3   B\n"
     ]
    }
   ],
   "source": [
    "import pandas as pd\n",
    "\n",
    "file = pd.read_csv(file_path, header=4, delimiter=',', na_values=na_values, index_col=0)\n",
    "\n",
    "print(file)\n",
    "\n",
    "pass"
   ]
  },
  {
   "attachments": {},
   "cell_type": "markdown",
   "metadata": {},
   "source": [
    "### Task 5\n",
    "\n",
    "Subset the 3rd to 5th columns of the data."
   ]
  },
  {
   "cell_type": "code",
   "execution_count": 47,
   "metadata": {},
   "outputs": [
    {
     "name": "stdout",
     "output_type": "stream",
     "text": [
      "     cb3 ca4  cb5\n",
      "cb1              \n",
      "a      3   b  8.0\n",
      "b      5   a  1.0\n",
      "c      3   c  NaN\n"
     ]
    }
   ],
   "source": [
    "subset_data = file.iloc[:, 1:4]\n",
    "\n",
    "print(subset_data)\n",
    "pass"
   ]
  },
  {
   "attachments": {},
   "cell_type": "markdown",
   "metadata": {},
   "source": [
    "### Task 6\n",
    "\n",
    "Load the data from the file `data/tidy_3_tb.csv`. Again, it is required to specify the path using `os.path.join()`.\n",
    "\n",
    "- Then use `.query()` method to subset the data to only contain the rows where `year` is in the range of 2000 to 2005 (inclusive).\n",
    "- Use `dropna()` method to remove any rows with missing values and store the subsetted data to a new variable `df_00_05`."
   ]
  },
  {
   "cell_type": "code",
   "execution_count": 49,
   "metadata": {},
   "outputs": [
    {
     "name": "stdout",
     "output_type": "stream",
     "text": [
      "     country  year   new_sp  new_sp_m04  new_sp_m514  new_sp_m014  \\\n",
      "15        AD  2005      5.0         0.0          0.0          0.0   \n",
      "141       AL  2005    196.0         0.0          0.0          0.0   \n",
      "170       AM  2005    581.0         1.0          2.0          3.0   \n",
      "299       AT  2005    234.0         1.0          0.0          1.0   \n",
      "357       AZ  2005   1561.0         2.0         75.0         77.0   \n",
      "386       BA  2005    640.0         0.0          1.0          1.0   \n",
      "471       BE  2005    380.0         1.0          0.0          1.0   \n",
      "528       BG  2005   1214.0         0.0          9.0          9.0   \n",
      "1009      CH  2005    108.0         0.0          1.0          1.0   \n",
      "1291      CY  2005      9.0         0.0          0.0          0.0   \n",
      "1320      CZ  2005    308.0         0.0          0.0          0.0   \n",
      "1349      DE  2005   1379.0         2.0          4.0          6.0   \n",
      "1405      DK  2005    129.0         0.0          0.0          0.0   \n",
      "1545      EE  2005    162.0         0.0          0.0          0.0   \n",
      "1620      ES  2005   2511.0         6.0          7.0         13.0   \n",
      "1678      FI  2005    130.0         0.0          1.0          1.0   \n",
      "1763      FR  2005   1941.0         7.0          5.0         12.0   \n",
      "1820      GB  2005   1821.0         4.0          5.0          9.0   \n",
      "1995      GR  2005    197.0         0.0          1.0          1.0   \n",
      "2192      HR  2005    372.0         0.0          1.0          1.0   \n",
      "2246      HU  2005    423.0         0.0          0.0          0.0   \n",
      "2303      IE  2005    130.0         0.0          1.0          1.0   \n",
      "2332      IL  2005     98.0         0.0          0.0          0.0   \n",
      "2448      IS  2005      2.0         0.0          0.0          0.0   \n",
      "2477      IT  2005   1275.0         7.0          1.0          8.0   \n",
      "2620      KG  2005   1972.0         0.0          1.0          1.0   \n",
      "2857      KZ  2005   6911.0         0.0         31.0         31.0   \n",
      "3049      LT  2005    964.0         0.0          0.0          0.0   \n",
      "3078      LU  2005     14.0         0.0          0.0          0.0   \n",
      "3107      LV  2005    536.0         0.0          1.0          1.0   \n",
      "3216      MD  2005   1696.0         0.0          2.0          2.0   \n",
      "3220      ME  2005     64.0         0.0          0.0          0.0   \n",
      "3291      MK  2005    178.0         0.0          2.0          2.0   \n",
      "3513      MT  2005      5.0         0.0          0.0          0.0   \n",
      "3853      NL  2005    237.0         0.0          0.0          0.0   \n",
      "3882      NO  2005     48.0         0.0          0.0          0.0   \n",
      "4220      PL  2005   2823.0         2.0          1.0          3.0   \n",
      "4302      PT  2005   1302.0         3.0          2.0          5.0   \n",
      "4415      RO  2005  10801.0        10.0         26.0         36.0   \n",
      "4419      RS  2005   1105.0         0.0          3.0          3.0   \n",
      "4612      SE  2005    134.0         0.0          0.0          0.0   \n",
      "4670      SI  2005    109.0         0.0          0.0          0.0   \n",
      "4699      SK  2005    162.0         0.0          0.0          0.0   \n",
      "5062      TJ  2005   1745.0         0.0          8.0          8.0   \n",
      "5124      TM  2005    995.0         0.0          2.0          2.0   \n",
      "5209      TR  2005   7450.0         1.0         32.0         33.0   \n",
      "\n",
      "      new_sp_m1524  new_sp_m2534  new_sp_m3544  new_sp_m4554  ...  new_sp_f04  \\\n",
      "15             0.0           1.0           1.0           0.0  ...         0.0   \n",
      "141           26.0          21.0          16.0          31.0  ...         0.0   \n",
      "170          170.0         104.0          83.0          84.0  ...         0.0   \n",
      "299           32.0          23.0          22.0          41.0  ...         0.0   \n",
      "357          109.0         297.0         215.0         209.0  ...         2.0   \n",
      "386           22.0          58.0          61.0          78.0  ...         0.0   \n",
      "471           26.0          50.0          32.0          27.0  ...         1.0   \n",
      "528           98.0         150.0         195.0         195.0  ...         0.0   \n",
      "1009          10.0           9.0          13.0          12.0  ...         0.0   \n",
      "1291           3.0           1.0           1.0           1.0  ...         0.0   \n",
      "1320           8.0          24.0          57.0          55.0  ...         0.0   \n",
      "1349          59.0         113.0         171.0         167.0  ...         3.0   \n",
      "1405          12.0          12.0          18.0          23.0  ...         0.0   \n",
      "1545           9.0          25.0          19.0          40.0  ...         0.0   \n",
      "1620         166.0         394.0         367.0         230.0  ...         6.0   \n",
      "1678           5.0           4.0           3.0          14.0  ...         0.0   \n",
      "1763         127.0         212.0         222.0         196.0  ...         5.0   \n",
      "1820         135.0         200.0         166.0          95.0  ...         0.0   \n",
      "1995          14.0          25.0          22.0          14.0  ...         0.0   \n",
      "2192          24.0          27.0          48.0          72.0  ...         0.0   \n",
      "2246           6.0          24.0          67.0         117.0  ...         0.0   \n",
      "2303           6.0          10.0          21.0          10.0  ...         0.0   \n",
      "2332           5.0          10.0          12.0          12.0  ...         1.0   \n",
      "2448           0.0           0.0           1.0           0.0  ...         0.0   \n",
      "2477          93.0         191.0         137.0         101.0  ...         0.0   \n",
      "2620         247.0         303.0         269.0         194.0  ...         0.0   \n",
      "2857         917.0        1142.0         983.0         795.0  ...         1.0   \n",
      "3049          42.0         118.0         186.0         187.0  ...         0.0   \n",
      "3078           0.0           2.0           2.0           1.0  ...         0.0   \n",
      "3107          22.0          71.0         104.0         117.0  ...         0.0   \n",
      "3216         211.0         337.0         345.0         313.0  ...         0.0   \n",
      "3220           3.0           5.0           7.0          15.0  ...         0.0   \n",
      "3291          14.0          20.0          23.0          20.0  ...         1.0   \n",
      "3513           1.0           1.0           1.0           1.0  ...         0.0   \n",
      "3853          23.0          42.0          23.0          26.0  ...         0.0   \n",
      "3882           9.0           4.0           6.0           4.0  ...         0.0   \n",
      "4220         109.0         199.0         389.0         639.0  ...         0.0   \n",
      "4302          85.0         227.0         284.0         181.0  ...         3.0   \n",
      "4415         752.0        1511.0        1786.0        1999.0  ...         8.0   \n",
      "4419          62.0          96.0         118.0         156.0  ...         0.0   \n",
      "4612           7.0          21.0          16.0          10.0  ...         0.0   \n",
      "4670           4.0          10.0          16.0          15.0  ...         0.0   \n",
      "4699           3.0          13.0          16.0          25.0  ...         0.0   \n",
      "5062         308.0         279.0         164.0         104.0  ...         0.0   \n",
      "5124         148.0         181.0         146.0          97.0  ...         1.0   \n",
      "5209        1148.0        1295.0        1028.0         963.0  ...         2.0   \n",
      "\n",
      "      new_sp_f514  new_sp_f014  new_sp_f1524  new_sp_f2534  new_sp_f3544  \\\n",
      "15            0.0          0.0           1.0           1.0           1.0   \n",
      "141           0.0          0.0           3.0           9.0           5.0   \n",
      "170           3.0          3.0          27.0          21.0          10.0   \n",
      "299           0.0          0.0          13.0          11.0           8.0   \n",
      "357          88.0         90.0          64.0          98.0          47.0   \n",
      "386           2.0          2.0          35.0          39.0          33.0   \n",
      "471           1.0          2.0          27.0          31.0          15.0   \n",
      "528           9.0          9.0          90.0         111.0          59.0   \n",
      "1009          0.0          0.0           6.0          11.0           8.0   \n",
      "1291          0.0          0.0           1.0           0.0           0.0   \n",
      "1320          0.0          0.0           3.0          14.0          16.0   \n",
      "1349          1.0          4.0          51.0         104.0          73.0   \n",
      "1405          2.0          2.0          11.0           5.0          13.0   \n",
      "1545          0.0          0.0           6.0          11.0           8.0   \n",
      "1620          4.0         10.0         142.0         252.0         151.0   \n",
      "1678          0.0          0.0           3.0           4.0           1.0   \n",
      "1763         11.0         16.0         104.0         134.0          82.0   \n",
      "1820         14.0         14.0         115.0         163.0          80.0   \n",
      "1995          0.0          0.0          13.0          18.0           8.0   \n",
      "2192          1.0          1.0          12.0          18.0          15.0   \n",
      "2246          1.0          1.0           5.0          13.0          11.0   \n",
      "2303          0.0          0.0           9.0          10.0           3.0   \n",
      "2332          0.0          1.0           3.0           9.0           8.0   \n",
      "2448          0.0          0.0           0.0           0.0           0.0   \n",
      "2477          3.0          3.0          80.0         145.0          56.0   \n",
      "2620         15.0         15.0         215.0         236.0         141.0   \n",
      "2857         45.0         46.0         751.0         767.0         436.0   \n",
      "3049          1.0          1.0          25.0          41.0          57.0   \n",
      "3078          0.0          0.0           0.0           2.0           1.0   \n",
      "3107          0.0          0.0          17.0          31.0          31.0   \n",
      "3216          3.0          3.0          97.0          92.0          57.0   \n",
      "3220          0.0          0.0           0.0           7.0           3.0   \n",
      "3291          1.0          2.0          17.0          13.0          10.0   \n",
      "3513          0.0          0.0           0.0           0.0           0.0   \n",
      "3853          3.0          3.0          14.0          19.0          11.0   \n",
      "3882          0.0          0.0           4.0           7.0           2.0   \n",
      "4220          3.0          3.0          95.0         142.0         112.0   \n",
      "4302          4.0          7.0          67.0         109.0          66.0   \n",
      "4415         47.0         55.0         758.0         780.0         493.0   \n",
      "4419          6.0          6.0          69.0          76.0          55.0   \n",
      "4612          1.0          1.0          10.0          15.0          12.0   \n",
      "4670          0.0          0.0           4.0           4.0           6.0   \n",
      "4699          0.0          0.0           1.0           8.0           9.0   \n",
      "5062         26.0         26.0         225.0         185.0         151.0   \n",
      "5124          2.0          3.0         100.0         101.0          72.0   \n",
      "5209         48.0         50.0         699.0         474.0         243.0   \n",
      "\n",
      "      new_sp_f4554  new_sp_f5564  new_sp_f65  new_sp_fu  \n",
      "15             0.0           0.0         0.0        0.0  \n",
      "141            5.0           5.0        18.0        0.0  \n",
      "170           11.0           4.0         7.0        0.0  \n",
      "299            3.0           5.0        10.0        0.0  \n",
      "357           32.0          24.0        24.0        0.0  \n",
      "386           28.0          28.0       130.0        0.0  \n",
      "471           12.0           4.0        23.0        0.0  \n",
      "528           29.0          37.0        70.0        0.0  \n",
      "1009           3.0           2.0         4.0        0.0  \n",
      "1291           0.0           0.0         0.0        0.0  \n",
      "1320           7.0           5.0        28.0        0.0  \n",
      "1349          43.0          37.0       103.0        0.0  \n",
      "1405           9.0           3.0         5.0        0.0  \n",
      "1545          11.0           6.0         8.0        0.0  \n",
      "1620          63.0          24.0       108.0        2.0  \n",
      "1678           0.0           6.0        20.0        0.0  \n",
      "1763          56.0          38.0       180.0        0.0  \n",
      "1820          39.0          28.0        83.0        1.0  \n",
      "1995           7.0           2.0        17.0        0.0  \n",
      "2192          11.0           6.0        56.0        0.0  \n",
      "2246          22.0          15.0        33.0        0.0  \n",
      "2303           3.0           0.0         8.0        0.0  \n",
      "2332           6.0           1.0         9.0        0.0  \n",
      "2448           0.0           0.0         0.0        0.0  \n",
      "2477          25.0          19.0        70.0        9.0  \n",
      "2620          70.0          33.0        98.0        0.0  \n",
      "2857         286.0         121.0       187.0        0.0  \n",
      "3049          49.0          23.0        54.0        0.0  \n",
      "3078           1.0           1.0         0.0        0.0  \n",
      "3107          23.0          18.0        12.0        0.0  \n",
      "3216          61.0          23.0        18.0        0.0  \n",
      "3220           4.0           0.0         8.0        0.0  \n",
      "3291           7.0           5.0        13.0        0.0  \n",
      "3513           0.0           0.0         0.0        0.0  \n",
      "3853           9.0           1.0         4.0        0.0  \n",
      "3882           1.0           0.0         3.0        0.0  \n",
      "4220         151.0          63.0       316.0        0.0  \n",
      "4302          29.0          11.0        42.0        1.0  \n",
      "4415         374.0         219.0       442.0        2.0  \n",
      "4419          49.0          22.0       149.0        0.0  \n",
      "4612           5.0           3.0        13.0        0.0  \n",
      "4670           5.0           4.0        16.0        0.0  \n",
      "4699           5.0           6.0        27.0        0.0  \n",
      "5062          89.0          43.0        53.0        0.0  \n",
      "5124          46.0          27.0         8.0        0.0  \n",
      "5209         175.0         166.0       213.0        0.0  \n",
      "\n",
      "[46 rows x 23 columns]\n"
     ]
    }
   ],
   "source": [
    "import os\n",
    "import pandas as pd\n",
    "\n",
    "directory = 'data'\n",
    "filename = r'/home/shihong/APSC-5984-ADS/labs/lab_05/data/tidy_3_tb.csv'\n",
    "file_path = os.path.join(directory, filename)\n",
    "\n",
    "df = pd.read_csv(file_path)\n",
    "\n",
    "df_00_05 = df.query('year >= 2000 and year <= 2005').dropna()\n",
    "print(df_00_05)\n",
    "pass\n"
   ]
  },
  {
   "attachments": {},
   "cell_type": "markdown",
   "metadata": {},
   "source": [
    "### Task 7\n",
    "\n",
    "Use `.melt()` method to convert the data to long format where the resulting dataframe has 4 columns: `country`, `year`, `variable`, and `value`. Store the resulting dataframe to a new variable `df_long`."
   ]
  },
  {
   "cell_type": "code",
   "execution_count": 51,
   "metadata": {},
   "outputs": [
    {
     "name": "stdout",
     "output_type": "stream",
     "text": [
      "    country  year   variable   value\n",
      "0        AD  2005     new_sp     5.0\n",
      "1        AL  2005     new_sp   196.0\n",
      "2        AM  2005     new_sp   581.0\n",
      "3        AT  2005     new_sp   234.0\n",
      "4        AZ  2005     new_sp  1561.0\n",
      "..      ...   ...        ...     ...\n",
      "961      SI  2005  new_sp_fu     0.0\n",
      "962      SK  2005  new_sp_fu     0.0\n",
      "963      TJ  2005  new_sp_fu     0.0\n",
      "964      TM  2005  new_sp_fu     0.0\n",
      "965      TR  2005  new_sp_fu     0.0\n",
      "\n",
      "[966 rows x 4 columns]\n"
     ]
    }
   ],
   "source": [
    "df_long = df_00_05.melt(id_vars=['country', 'year'], var_name='variable', value_name='value')\n",
    "print(df_long)\n",
    "pass"
   ]
  },
  {
   "attachments": {},
   "cell_type": "markdown",
   "metadata": {},
   "source": [
    "### Task 8\n",
    "\n",
    "Check the column `variable` in the dataframe `df_long`. Use `.query()` method to remove the rows with the `variable` value of `new_sp`, `new_sp_mu`, and `new_sp_fu`. Store the resulting dataframe to a new variable `df_long_clean`.\n",
    "\n",
    "Hint: Use '`in`' to check if a value is in a list, which is `['new_sp', 'new_sp_mu', 'new_sp_fu']` in our case."
   ]
  },
  {
   "cell_type": "code",
   "execution_count": 52,
   "metadata": {},
   "outputs": [
    {
     "name": "stdout",
     "output_type": "stream",
     "text": [
      "    country  year    variable  value\n",
      "46       AD  2005  new_sp_m04    0.0\n",
      "47       AL  2005  new_sp_m04    0.0\n",
      "48       AM  2005  new_sp_m04    1.0\n",
      "49       AT  2005  new_sp_m04    1.0\n",
      "50       AZ  2005  new_sp_m04    2.0\n",
      "..      ...   ...         ...    ...\n",
      "915      SI  2005  new_sp_f65   16.0\n",
      "916      SK  2005  new_sp_f65   27.0\n",
      "917      TJ  2005  new_sp_f65   53.0\n",
      "918      TM  2005  new_sp_f65    8.0\n",
      "919      TR  2005  new_sp_f65  213.0\n",
      "\n",
      "[828 rows x 4 columns]\n"
     ]
    }
   ],
   "source": [
    "df_long_clean = df_long.query('variable not in [\"new_sp\", \"new_sp_mu\", \"new_sp_fu\"]')\n",
    "print(df_long_clean)\n",
    "pass"
   ]
  },
  {
   "attachments": {},
   "cell_type": "markdown",
   "metadata": {},
   "source": [
    "### Task 9\n",
    "\n",
    "Create new columns `gender` and `age` in the dataframe `df_long_clean` based on the column `variable`.\n",
    "\n",
    "- The `gender` column should have values of `m` or `f`.\n",
    "- The `age` column should have values of `04`, `514`, `1524`, `2534` ... etc.\n",
    "\n",
    "Hint:\n",
    "\n",
    "- Create two separate lists `gender` and `age` to store the values of the new columns.\n",
    "- Use a for loop to iterate over the `variable` column.\n",
    "- Use `.replace()` to replace the string `new_sp_` with an empty string.\n",
    "- Use string indexing to get the first character of the string.\n",
    "- Use `.append()` to add the new values to the list.\n",
    "- Use `df['new_column'] = list` to add the new columns to the dataframe."
   ]
  },
  {
   "cell_type": "code",
   "execution_count": 53,
   "metadata": {},
   "outputs": [
    {
     "name": "stdout",
     "output_type": "stream",
     "text": [
      "    country  year    variable  value gender age\n",
      "46       AD  2005  new_sp_m04    0.0      m  04\n",
      "47       AL  2005  new_sp_m04    0.0      m  04\n",
      "48       AM  2005  new_sp_m04    1.0      m  04\n",
      "49       AT  2005  new_sp_m04    1.0      m  04\n",
      "50       AZ  2005  new_sp_m04    2.0      m  04\n",
      "..      ...   ...         ...    ...    ...  ..\n",
      "915      SI  2005  new_sp_f65   16.0      f  65\n",
      "916      SK  2005  new_sp_f65   27.0      f  65\n",
      "917      TJ  2005  new_sp_f65   53.0      f  65\n",
      "918      TM  2005  new_sp_f65    8.0      f  65\n",
      "919      TR  2005  new_sp_f65  213.0      f  65\n",
      "\n",
      "[828 rows x 6 columns]\n"
     ]
    },
    {
     "name": "stderr",
     "output_type": "stream",
     "text": [
      "/tmp/ipykernel_333/2320930903.py:11: SettingWithCopyWarning: \n",
      "A value is trying to be set on a copy of a slice from a DataFrame.\n",
      "Try using .loc[row_indexer,col_indexer] = value instead\n",
      "\n",
      "See the caveats in the documentation: https://pandas.pydata.org/pandas-docs/stable/user_guide/indexing.html#returning-a-view-versus-a-copy\n",
      "  df_long_clean['gender'] = gender\n",
      "/tmp/ipykernel_333/2320930903.py:12: SettingWithCopyWarning: \n",
      "A value is trying to be set on a copy of a slice from a DataFrame.\n",
      "Try using .loc[row_indexer,col_indexer] = value instead\n",
      "\n",
      "See the caveats in the documentation: https://pandas.pydata.org/pandas-docs/stable/user_guide/indexing.html#returning-a-view-versus-a-copy\n",
      "  df_long_clean['age'] = age\n"
     ]
    }
   ],
   "source": [
    "gender = []\n",
    "age = []\n",
    "\n",
    "for var in df_long_clean['variable']:\n",
    "    g = var.replace('new_sp_', '')[0]\n",
    "    gender.append(g)\n",
    "\n",
    "    a = var.replace('new_sp_', '')[1:]\n",
    "    age.append(a)\n",
    "\n",
    "df_long_clean['gender'] = gender\n",
    "df_long_clean['age'] = age\n",
    "\n",
    "print(df_long_clean)\n",
    "pass\n"
   ]
  }
 ],
 "metadata": {
  "kernelspec": {
   "display_name": "tf",
   "language": "python",
   "name": "python3"
  },
  "language_info": {
   "codemirror_mode": {
    "name": "ipython",
    "version": 3
   },
   "file_extension": ".py",
   "mimetype": "text/x-python",
   "name": "python",
   "nbconvert_exporter": "python",
   "pygments_lexer": "ipython3",
   "version": "3.10.8"
  },
  "orig_nbformat": 4,
  "vscode": {
   "interpreter": {
    "hash": "e280c9e8b2a1d33bbe58b6976a0585f8ea2c0c6c7877fc74ad974a82054a5488"
   }
  }
 },
 "nbformat": 4,
 "nbformat_minor": 2
}
