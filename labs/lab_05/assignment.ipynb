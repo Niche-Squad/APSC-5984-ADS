{
 "cells": [
  {
   "attachments": {},
   "cell_type": "markdown",
   "metadata": {},
   "source": [
    "# APSC-5984 Lab 5: Dataframe\n",
    "\n",
    "Due: 2023-02-20 (Monday) 23:59:59\n",
    "\n",
    "Grading Rubric (Total 100 points)\n",
    "\n",
    "| Items | Points | Earned |\n",
    "| :--- | :----- | :----- |\n",
    "| Push the assignment in time with the commit message: \"lab 5 submission\" | 70 | |\n",
    "| Tasks 1| 1 | |\n",
    "| Tasks 2| 1 | |\n",
    "| Tasks 3| 2 | |\n",
    "| Tasks 4| 2 | |\n",
    "| Tasks 5| 2 | |\n",
    "| Tasks 6| 4 | |\n",
    "| Tasks 7| 4 | |\n",
    "| Tasks 8| 4 | |\n",
    "| Tasks 9| 10 | |\n",
    "\n"
   ]
  },
  {
   "attachments": {},
   "cell_type": "markdown",
   "metadata": {},
   "source": [
    "### Task 1\n",
    "Load the data from the file `data/file_X.txt`. It is required to specify the path using `os.path.join()`."
   ]
  },
  {
   "cell_type": "code",
   "execution_count": 19,
   "metadata": {},
   "outputs": [
    {
     "name": "stdout",
     "output_type": "stream",
     "text": [
      "                      # Filename: file_X.txt\n",
      "0                         # Date: 02-17-2023\n",
      "1                       # Author: James Chen\n",
      "2  # Description: This is the file for lab 5\n",
      "3            cb1,ca2,cb3,ca4,cb5,ca6,cb7,ca8\n",
      "4                            a,2,3,b,8,2,3,b\n",
      "5                            b,4,5,a,1,9,2,a\n",
      "6                            c,9,3,c,-,9,3,B\n"
     ]
    }
   ],
   "source": [
    "import os\n",
    "import pandas as pd\n",
    "\n",
    "directory = \"data\"\n",
    "filename = \"file_X.txt\"\n",
    "\n",
    "file_path = os.path.join(directory, filename)\n",
    "\n",
    "file = pd.read_table(file_path)\n",
    "print(file)\n",
    "\n",
    "pass"
   ]
  },
  {
   "attachments": {},
   "cell_type": "markdown",
   "metadata": {},
   "source": [
    "### Task 2\n",
    "\n",
    "Check the data type of each column and explain why the data in column `cb5` is not integers."
   ]
  },
  {
   "cell_type": "code",
   "execution_count": 2,
   "metadata": {},
   "outputs": [],
   "source": [
    "pass"
   ]
  },
  {
   "attachments": {},
   "cell_type": "markdown",
   "metadata": {},
   "source": [
    "### Task 3\n",
    "\n",
    "Use the parameter `na_values` in `pd.read_csv()` to fix the data type of column `cb5` to `float64`.\n",
    "\n",
    "Hint: https://pandas.pydata.org/docs/reference/api/pandas.read_csv.html\n"
   ]
  },
  {
   "cell_type": "code",
   "execution_count": 3,
   "metadata": {},
   "outputs": [],
   "source": [
    "pass"
   ]
  },
  {
   "attachments": {},
   "cell_type": "markdown",
   "metadata": {},
   "source": [
    "### Task 4\n",
    "\n",
    "Subset the data to only include the columns `cbx`, where `x` is an integer. I.e., `cb1`, `cb3`, ..., `cb7`."
   ]
  },
  {
   "cell_type": "code",
   "execution_count": 4,
   "metadata": {},
   "outputs": [],
   "source": [
    "pass"
   ]
  },
  {
   "attachments": {},
   "cell_type": "markdown",
   "metadata": {},
   "source": [
    "### Task 5\n",
    "\n",
    "Subset the 3rd to 5th columns of the data."
   ]
  },
  {
   "cell_type": "code",
   "execution_count": 5,
   "metadata": {},
   "outputs": [],
   "source": [
    "pass"
   ]
  },
  {
   "attachments": {},
   "cell_type": "markdown",
   "metadata": {},
   "source": [
    "### Task 6\n",
    "\n",
    "Load the data from the file `data/tidy_3_tb.csv`. Again, it is required to specify the path using `os.path.join()`.\n",
    "\n",
    "- Then use `.query()` method to subset the data to only contain the rows where `year` is in the range of 2000 to 2005 (inclusive).\n",
    "- Use `dropna()` method to remove any rows with missing values and store the subsetted data to a new variable `df_00_05`."
   ]
  },
  {
   "cell_type": "code",
   "execution_count": 6,
   "metadata": {},
   "outputs": [],
   "source": [
    "pass"
   ]
  },
  {
   "attachments": {},
   "cell_type": "markdown",
   "metadata": {},
   "source": [
    "### Task 7\n",
    "\n",
    "Use `.melt()` method to convert the data to long format where the resulting dataframe has 4 columns: `country`, `year`, `variable`, and `value`. Store the resulting dataframe to a new variable `df_long`."
   ]
  },
  {
   "cell_type": "code",
   "execution_count": 7,
   "metadata": {},
   "outputs": [],
   "source": [
    "pass"
   ]
  },
  {
   "attachments": {},
   "cell_type": "markdown",
   "metadata": {},
   "source": [
    "### Task 8\n",
    "\n",
    "Check the column `variable` in the dataframe `df_long`. Use `.query()` method to remove the rows with the `variable` value of `new_sp`, `new_sp_mu`, and `new_sp_fu`. Store the resulting dataframe to a new variable `df_long_clean`.\n",
    "\n",
    "Hint: Use '`in`' to check if a value is in a list, which is `['new_sp', 'new_sp_mu', 'new_sp_fu']` in our case."
   ]
  },
  {
   "cell_type": "code",
   "execution_count": 8,
   "metadata": {},
   "outputs": [],
   "source": [
    "pass"
   ]
  },
  {
   "attachments": {},
   "cell_type": "markdown",
   "metadata": {},
   "source": [
    "### Task 9\n",
    "\n",
    "Create new columns `gender` and `age` in the dataframe `df_long_clean` based on the column `variable`.\n",
    "\n",
    "- The `gender` column should have values of `m` or `f`.\n",
    "- The `age` column should have values of `04`, `514`, `1524`, `2534` ... etc.\n",
    "\n",
    "Hint:\n",
    "\n",
    "- Create two separate lists `gender` and `age` to store the values of the new columns.\n",
    "- Use a for loop to iterate over the `variable` column.\n",
    "- Use `.replace()` to replace the string `new_sp_` with an empty string.\n",
    "- Use string indexing to get the first character of the string.\n",
    "- Use `.append()` to add the new values to the list.\n",
    "- Use `df['new_column'] = list` to add the new columns to the dataframe."
   ]
  },
  {
   "cell_type": "code",
   "execution_count": 9,
   "metadata": {},
   "outputs": [],
   "source": [
    "pass"
   ]
  }
 ],
 "metadata": {
  "kernelspec": {
   "display_name": "tf",
   "language": "python",
   "name": "python3"
  },
  "language_info": {
   "codemirror_mode": {
    "name": "ipython",
    "version": 3
   },
   "file_extension": ".py",
   "mimetype": "text/x-python",
   "name": "python",
   "nbconvert_exporter": "python",
   "pygments_lexer": "ipython3",
   "version": "3.10.8"
  },
  "orig_nbformat": 4,
  "vscode": {
   "interpreter": {
    "hash": "e280c9e8b2a1d33bbe58b6976a0585f8ea2c0c6c7877fc74ad974a82054a5488"
   }
  }
 },
 "nbformat": 4,
 "nbformat_minor": 2
}
