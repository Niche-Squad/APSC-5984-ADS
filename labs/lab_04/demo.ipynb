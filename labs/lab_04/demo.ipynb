{
 "cells": [
  {
   "cell_type": "code",
   "execution_count": 1,
   "metadata": {},
   "outputs": [],
   "source": [
    "import os"
   ]
  },
  {
   "cell_type": "code",
   "execution_count": 2,
   "metadata": {},
   "outputs": [
    {
     "data": {
      "text/plain": [
       "'/Users/niche/Library/CloudStorage/OneDrive-VirginiaTech/_05_Teaching/APSC-5984-ADS/labs/lab_04'"
      ]
     },
     "execution_count": 2,
     "metadata": {},
     "output_type": "execute_result"
    }
   ],
   "source": [
    "os.getcwd()"
   ]
  },
  {
   "cell_type": "code",
   "execution_count": 4,
   "metadata": {},
   "outputs": [],
   "source": [
    "os.makedirs(\"exercise\")"
   ]
  },
  {
   "cell_type": "code",
   "execution_count": 5,
   "metadata": {},
   "outputs": [
    {
     "data": {
      "text/plain": [
       "['.DS_Store',\n",
       " 'demo.ipynb',\n",
       " 'readme.md',\n",
       " 'exercise',\n",
       " 'lab_sol.py',\n",
       " '.ipynb_checkpoints',\n",
       " 'assignment.ipynb',\n",
       " 'data',\n",
       " 'readme.pdf']"
      ]
     },
     "execution_count": 5,
     "metadata": {},
     "output_type": "execute_result"
    }
   ],
   "source": [
    "os.listdir()"
   ]
  },
  {
   "cell_type": "code",
   "execution_count": 6,
   "metadata": {},
   "outputs": [
    {
     "data": {
      "text/plain": [
       "'/Users/niche/Library/CloudStorage/OneDrive-VirginiaTech/_05_Teaching/APSC-5984-ADS/labs/lab_04/exercise'"
      ]
     },
     "execution_count": 6,
     "metadata": {},
     "output_type": "execute_result"
    }
   ],
   "source": [
    "os.chdir(\"exercise\")\n",
    "os.getcwd()"
   ]
  },
  {
   "cell_type": "code",
   "execution_count": 7,
   "metadata": {},
   "outputs": [
    {
     "data": {
      "text/plain": [
       "'/Users/niche/Library/CloudStorage/OneDrive-VirginiaTech/_05_Teaching/APSC-5984-ADS/labs/lab_04/exercise/src'"
      ]
     },
     "execution_count": 7,
     "metadata": {},
     "output_type": "execute_result"
    }
   ],
   "source": [
    "os.makedirs(\"src\")\n",
    "os.chdir(\"src\")\n",
    "os.getcwd()"
   ]
  },
  {
   "cell_type": "code",
   "execution_count": 10,
   "metadata": {},
   "outputs": [
    {
     "name": "stdout",
     "output_type": "stream",
     "text": [
      "creating a folder: module_1\n",
      "creating a folder: module_2\n",
      "creating a folder: module_3\n"
     ]
    }
   ],
   "source": [
    "for i in range(3): # 0, 1, 2\n",
    "    dir_name = \"module_\" + str(i + 1) # 1, 2, 3\n",
    "    print(\"creating a folder:\", dir_name)\n",
    "    os.makedirs(dir_name)"
   ]
  },
  {
   "cell_type": "code",
   "execution_count": 11,
   "metadata": {},
   "outputs": [
    {
     "data": {
      "text/plain": [
       "'/Users/niche/Library/CloudStorage/OneDrive-VirginiaTech/_05_Teaching/APSC-5984-ADS/labs/lab_04/exercise'"
      ]
     },
     "execution_count": 11,
     "metadata": {},
     "output_type": "execute_result"
    }
   ],
   "source": [
    "os.chdir(\"..\")\n",
    "os.getcwd()"
   ]
  },
  {
   "cell_type": "code",
   "execution_count": 13,
   "metadata": {},
   "outputs": [
    {
     "name": "stdout",
     "output_type": "stream",
     "text": [
      "creating a folder: data\n",
      "creating a folder: data/trial_A\n",
      "creating a folder: data/trial_B\n"
     ]
    }
   ],
   "source": [
    "for filename in [\"data\", \"data/trial_A\", \"data/trial_B\"]:\n",
    "    print(\"creating a folder:\", filename)\n",
    "    os.makedirs(filename)"
   ]
  },
  {
   "cell_type": "code",
   "execution_count": 14,
   "metadata": {},
   "outputs": [
    {
     "name": "stdout",
     "output_type": "stream",
     "text": [
      "creating a folder: 2022_03_02\n",
      "creating a folder: 2022_03_03\n",
      "creating a folder: 2022_03_04\n"
     ]
    }
   ],
   "source": [
    "os.chdir(\"data/trial_A/\")\n",
    "for d in [2, 3, 4]:\n",
    "    dir_name = \"2022_03_0\" + str(d)\n",
    "    print(\"creating a folder:\", dir_name)\n",
    "    os.makedirs(dir_name)\n"
   ]
  },
  {
   "cell_type": "code",
   "execution_count": 15,
   "metadata": {},
   "outputs": [],
   "source": [
    "os.mkdir(\"../../out\")"
   ]
  }
 ],
 "metadata": {
  "kernelspec": {
   "display_name": "tf",
   "language": "python",
   "name": "python3"
  },
  "language_info": {
   "codemirror_mode": {
    "name": "ipython",
    "version": 3
   },
   "file_extension": ".py",
   "mimetype": "text/x-python",
   "name": "python",
   "nbconvert_exporter": "python",
   "pygments_lexer": "ipython3",
   "version": "3.9.13"
  },
  "orig_nbformat": 4,
  "vscode": {
   "interpreter": {
    "hash": "e280c9e8b2a1d33bbe58b6976a0585f8ea2c0c6c7877fc74ad974a82054a5488"
   }
  }
 },
 "nbformat": 4,
 "nbformat_minor": 2
}
