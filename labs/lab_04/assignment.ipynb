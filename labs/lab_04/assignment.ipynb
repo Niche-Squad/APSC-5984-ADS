{
 "cells": [
  {
   "attachments": {},
   "cell_type": "markdown",
   "metadata": {},
   "source": [
    "# APSC-5984 Lab 4: File system\n",
    "\n",
    "Due: 2023-02-13 (Monday) 23:59:59\n",
    "\n",
    "Grading Rubric (Total 100 points)\n",
    "\n",
    "| Items | Points | Earned |\n",
    "| :--- | :----- | :----- |\n",
    "| Push the assignment in time with the commit message: \"lab 4 submission\" | 70 | |\n",
    "| Tasks 1.1| 10 | |\n",
    "| Tasks 1.2| 10 | |\n",
    "| Tasks 1.3| 10 | |\n",
    "\n",
    "When you are done with the assignment, you need to commit your changes and push them to this repository. You can do this by running the following commands in the `terminal`:\n",
    "\n",
    "```bash\n",
    "git add .\n",
    "git commit -m \"lab 4 submission\"\n",
    "git push\n",
    "```\n",
    "\n",
    "Or you can use the Source Control tab in VS Code to commit and push your changes as we did in the previous lab."
   ]
  },
  {
   "attachments": {},
   "cell_type": "markdown",
   "metadata": {},
   "source": [
    "### Task 1.1\n",
    "\n",
    "You are given a folder named `data`. Here is a tree structure of the `data` folder:\n",
    "\n",
    "```bash\n",
    "data\n",
    "├── project_a\n",
    "│   ├── folder_0\n",
    "│   ├── folder_1\n",
    "│   ├── folder_2\n",
    "│   ├── ...\n",
    "│   └── folder_na\n",
    "├── project_b\n",
    "│   ├── folder_0\n",
    "│   ├── folder_1\n",
    "│   ├── folder_2\n",
    "│   ├── ...\n",
    "│   └── folder_nb\n",
    "├── ...\n",
    "└── project_t\n",
    "    ├── folder_0\n",
    "    ├── folder_1\n",
    "    ├── folder_2\n",
    "    ├── ...\n",
    "    └── folder_nt\n",
    "```\n",
    "Where `n*` is the number plus one of subfolders in the folder `project_*`. Please use the `os` methods you learned in the lab to write a script that can count the number of files in each folder and print the result in the following format:\n",
    "\n",
    "```bash\n",
    "project_a: xx files\n",
    "project_b: yy files\n",
    "...\n",
    "project_t: zz files\n",
    "```"
   ]
  },
  {
   "cell_type": "code",
   "execution_count": null,
   "metadata": {},
   "outputs": [],
   "source": [
    "# your code here\n",
    "pass"
   ]
  },
  {
   "attachments": {},
   "cell_type": "markdown",
   "metadata": {},
   "source": [
    "### Task 1.2\n",
    "\n",
    "In the folder `data/project_e/folder_8`, there is a file named `lines.txt`.\n",
    "\n",
    "- Use `os.chdir()` method to navigate to the folder `data/project_e/folder_8`.\n",
    "- Use `open()` methods to read the file `lines.txt` and return the number of lines in the files.\n"
   ]
  },
  {
   "cell_type": "code",
   "execution_count": null,
   "metadata": {},
   "outputs": [],
   "source": [
    "# your code here\n",
    "pass"
   ]
  },
  {
   "attachments": {},
   "cell_type": "markdown",
   "metadata": {},
   "source": [
    "### Task 1.3\n",
    "\n",
    "In the file `lines.txt`, search for a specific pattern in the format of \"apsc5984&nbsp;&nbsp;&nbsp;%d\":\n",
    "\n",
    "- It starts with \"apsc5984\" and ends with a single digit, which is represented by \"%d\".\n",
    "- There are THREE spaces between \"apsc5984\" and \"%d\".\n",
    "\n",
    "You should find five occurrences of the pattern in the file. Print the last digit of each occurrence. For example, if the occurrences are:\n",
    "\n",
    "- \"apsc5984&nbsp;&nbsp;&nbsp;1\"\n",
    "- \"apsc5984&nbsp;&nbsp;&nbsp;8\"\n",
    "- \"apsc5984&nbsp;&nbsp;&nbsp;3\"\n",
    "- \"apsc5984&nbsp;&nbsp;&nbsp;4\"\n",
    "- \"apsc5984&nbsp;&nbsp;&nbsp;5\"\n",
    "\n",
    "Then you should print \"1\", \"8\", \"3\", \"4\", \"5\" consecutively.\n"
   ]
  },
  {
   "cell_type": "code",
   "execution_count": null,
   "metadata": {},
   "outputs": [],
   "source": [
    "# your code here\n",
    "pass"
   ]
  }
 ],
 "metadata": {
  "kernelspec": {
   "display_name": "tf",
   "language": "python",
   "name": "python3"
  },
  "language_info": {
   "codemirror_mode": {
    "name": "ipython",
    "version": 3
   },
   "file_extension": ".py",
   "mimetype": "text/x-python",
   "name": "python",
   "nbconvert_exporter": "python",
   "pygments_lexer": "ipython3",
   "version": "3.9.13"
  },
  "orig_nbformat": 4,
  "vscode": {
   "interpreter": {
    "hash": "e280c9e8b2a1d33bbe58b6976a0585f8ea2c0c6c7877fc74ad974a82054a5488"
   }
  }
 },
 "nbformat": 4,
 "nbformat_minor": 2
}
