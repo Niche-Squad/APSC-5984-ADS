{
 "cells": [
  {
   "attachments": {},
   "cell_type": "markdown",
   "metadata": {},
   "source": [
    "# APSC-5984 Lab 4: File system\n",
    "\n",
    "Due: 2023-02-13 (Monday) 23:59:59\n",
    "\n",
    "Grading Rubric (Total 100 points)\n",
    "\n",
    "| Items | Points | Earned |\n",
    "| :--- | :----- | :----- |\n",
    "| Push the assignment in time with the commit message: \"lab 4 submission\" | 70 | |\n",
    "| Tasks 1.1| 10 | |\n",
    "| Tasks 1.2| 10 | |\n",
    "| Tasks 1.3| 10 | |\n",
    "\n",
    "When you are done with the assignment, you need to commit your changes and push them to this repository. You can do this by running the following commands in the `terminal`:\n",
    "\n",
    "```bash\n",
    "git add .\n",
    "git commit -m \"lab 4 submission\"\n",
    "git push\n",
    "```\n",
    "\n",
    "Or you can use the Source Control tab in VS Code to commit and push your changes as we did in the previous lab."
   ]
  },
  {
   "attachments": {},
   "cell_type": "markdown",
   "metadata": {},
   "source": [
    "### Task 1.1\n",
    "\n",
    "You are given a folder named `data`. Here is a tree structure of the `data` folder:\n",
    "\n",
    "```bash\n",
    "data\n",
    "├── project_a\n",
    "│   ├── folder_0\n",
    "│   ├── folder_1\n",
    "│   ├── folder_2\n",
    "│   ├── ...\n",
    "│   └── folder_na\n",
    "├── project_b\n",
    "│   ├── folder_0\n",
    "│   ├── folder_1\n",
    "│   ├── folder_2\n",
    "│   ├── ...\n",
    "│   └── folder_nb\n",
    "├── ...\n",
    "└── project_t\n",
    "    ├── folder_0\n",
    "    ├── folder_1\n",
    "    ├── folder_2\n",
    "    ├── ...\n",
    "    └── folder_nt\n",
    "```\n",
    "Where `n*` is the number plus one of subfolders in the folder `project_*`. Please use the `os` methods you learned in the lab to write a script that can count the number of files in each folder and print the result in the following format:\n",
    "\n",
    "```bash\n",
    "project_a: xx files\n",
    "project_b: yy files\n",
    "...\n",
    "project_t: zz files\n",
    "```"
   ]
  },
  {
   "cell_type": "code",
   "execution_count": 1,
   "metadata": {},
   "outputs": [
    {
     "name": "stdout",
     "output_type": "stream",
     "text": [
      "project_a: 12 files\n",
      "project_b: 37 files\n",
      "project_c: 32 files\n",
      "project_d: 22 files\n",
      "project_e: 23 files\n",
      "project_f: 14 files\n",
      "project_g: 24 files\n",
      "project_h: 8 files\n",
      "project_i: 2 files\n",
      "project_j: 26 files\n",
      "project_k: 2 files\n",
      "project_l: 42 files\n",
      "project_m: 41 files\n",
      "project_n: 25 files\n",
      "project_o: 45 files\n",
      "project_p: 6 files\n",
      "project_q: 48 files\n",
      "project_r: 5 files\n",
      "project_s: 25 files\n",
      "project_t: 49 files\n"
     ]
    }
   ],
   "source": [
    "# your code here\n",
    "import os\n",
    "\n",
    "data_path = \"data\"\n",
    "project_folders = sorted(os.listdir(data_path))\n",
    "\n",
    "for project in project_folders:\n",
    "    project_path = os.path.join(data_path, project)\n",
    "    if os.path.isdir(project_path):\n",
    "        num_files = sum([len(files) for r, d, files in os.walk(project_path)])\n",
    "        print(f\"{project}: {num_files} files\")\n",
    "\n",
    "\n",
    "pass"
   ]
  },
  {
   "attachments": {},
   "cell_type": "markdown",
   "metadata": {},
   "source": [
    "### Task 1.2\n",
    "\n",
    "In the folder `data/project_e/folder_8`, there is a file named `lines.txt`.\n",
    "\n",
    "- Use `os.chdir()` method to navigate to the folder `data/project_e/folder_8`.\n",
    "- Use `open()` methods to read the file `lines.txt` and return the number of lines in the files.\n"
   ]
  },
  {
   "cell_type": "code",
   "execution_count": 2,
   "metadata": {},
   "outputs": [
    {
     "name": "stdout",
     "output_type": "stream",
     "text": [
      "Number of lines in lines.txt: 5984\n"
     ]
    }
   ],
   "source": [
    "# your code here\n",
    "import os\n",
    "\n",
    "os.chdir(\"data/project_e/folder_8\")\n",
    "\n",
    "with open(\"lines.txt\", \"r\") as f:\n",
    "    lines = f.readlines()\n",
    "\n",
    "num_lines = len(lines)\n",
    "\n",
    "print(f\"Number of lines in lines.txt: {num_lines}\")\n",
    "\n",
    "pass"
   ]
  },
  {
   "attachments": {},
   "cell_type": "markdown",
   "metadata": {},
   "source": [
    "### Task 1.3\n",
    "\n",
    "In the file `lines.txt`, search for a specific pattern in the format of \"apsc5984&nbsp;&nbsp;&nbsp;%d\":\n",
    "\n",
    "- It starts with \"apsc5984\" and ends with a single digit, which is represented by \"%d\".\n",
    "- There are THREE spaces between \"apsc5984\" and \"%d\".\n",
    "\n",
    "You should find five occurrences of the pattern in the file. Print the last digit of each occurrence. For example, if the occurrences are:\n",
    "\n",
    "- \"apsc5984&nbsp;&nbsp;&nbsp;1\"\n",
    "- \"apsc5984&nbsp;&nbsp;&nbsp;8\"\n",
    "- \"apsc5984&nbsp;&nbsp;&nbsp;3\"\n",
    "- \"apsc5984&nbsp;&nbsp;&nbsp;4\"\n",
    "- \"apsc5984&nbsp;&nbsp;&nbsp;5\"\n",
    "\n",
    "Then you should print \"1\", \"8\", \"3\", \"4\", \"5\" consecutively.\n"
   ]
  },
  {
   "cell_type": "code",
   "execution_count": 3,
   "metadata": {},
   "outputs": [
    {
     "name": "stdout",
     "output_type": "stream",
     "text": [
      "2\n",
      "1\n",
      "8\n",
      "2\n",
      "4\n"
     ]
    }
   ],
   "source": [
    "# your code here\n",
    "\"\"\" import re\n",
    "test_string = \"jibjosidjapsc5984   1aoijboije;l\"\n",
    "re.findall(r\"[apsc984]+\\s{3}\\d{1}\", test_string) \"\"\"\n",
    "\n",
    "import re\n",
    "\n",
    "with open(\"lines.txt\", \"r\") as f:\n",
    "    lines = f.readlines()\n",
    "\n",
    "pattern = r\"apsc5984\\s{3}\\d\"\n",
    "\n",
    "for line in lines:\n",
    "    matches = re.findall(pattern, line)\n",
    "    for match in matches:\n",
    "        last_digit = match[-1]\n",
    "        print(last_digit)"
   ]
  }
 ],
 "metadata": {
  "kernelspec": {
   "display_name": "tf",
   "language": "python",
   "name": "python3"
  },
  "language_info": {
   "codemirror_mode": {
    "name": "ipython",
    "version": 3
   },
   "file_extension": ".py",
   "mimetype": "text/x-python",
   "name": "python",
   "nbconvert_exporter": "python",
   "pygments_lexer": "ipython3",
   "version": "3.10.8"
  },
  "orig_nbformat": 4,
  "vscode": {
   "interpreter": {
    "hash": "e280c9e8b2a1d33bbe58b6976a0585f8ea2c0c6c7877fc74ad974a82054a5488"
   }
  }
 },
 "nbformat": 4,
 "nbformat_minor": 2
}
