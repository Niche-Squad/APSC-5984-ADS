{
 "cells": [
  {
   "attachments": {},
   "cell_type": "markdown",
   "metadata": {},
   "source": [
    "# APSC-5984 Lab 2: Python Basics I\n",
    "\n",
    "Due: 2023-01-30 (Monday) 23:59:59\n",
    "\n",
    "Grading Rubric (Total 100 points)\n",
    "\n",
    "| Items | Points | Earned |\n",
    "| :--- | :----- | :----- |\n",
    "| Push the assignment in time with the commit message: \"lab 2 submission\" | 70 | |\n",
    "| Task 1 | 1 | |\n",
    "| Task 2 | 1 | |\n",
    "| Task 3 | 1 | |\n",
    "| Task 4 | 5 | |\n",
    "| Task 5 | 2 | |\n",
    "| Task 6 | 2 | |\n",
    "| Task 7 | 4 | |\n",
    "| Task 8 | 4 | |\n",
    "| Task 9 | 4 | |\n",
    "| Task 10 | 6 | |\n",
    "\n",
    "When you are done with the assignment, you need to commit your changes and push them to this repository. You can do this by running the following commands in the `terminal`:\n",
    "\n",
    "```bash\n",
    "git add .\n",
    "git commit -m \"lab 2 submission\"\n",
    "git push\n",
    "```\n",
    "\n",
    "Or you can use the Source Control tab in VS Code to commit and push your changes as we did in the previous lab."
   ]
  },
  {
   "attachments": {},
   "cell_type": "markdown",
   "metadata": {},
   "source": [
    "### Task 1 -> [1. Variables](readme.md#1-variables)\n",
    "\n",
    "Create a variable `n_apples` and assign it the value of 10. And print the value of `n_apples`."
   ]
  },
  {
   "cell_type": "code",
   "execution_count": 3,
   "metadata": {},
   "outputs": [],
   "source": [
    "# your code here\n",
    "pass"
   ]
  },
  {
   "attachments": {},
   "cell_type": "markdown",
   "metadata": {},
   "source": [
    "### Task 2 -> [2. Data Types](readme.md#2-data-types)\n",
    "\n",
    "Create a variable `favorite_quote` and assign it the value of your favorite quote. And print the type of `favorite_quote`."
   ]
  },
  {
   "cell_type": "code",
   "execution_count": 2,
   "metadata": {},
   "outputs": [],
   "source": [
    "# your code here\n",
    "favorite_quote = None\n",
    "pass"
   ]
  },
  {
   "attachments": {},
   "cell_type": "markdown",
   "metadata": {},
   "source": [
    "### Task 3 -> [2. Data Types](readme.md#2-data-types)\n",
    "Assign a float value 6.78 to a variable `var_float`. And convert `var_float` to an integer and print the result."
   ]
  },
  {
   "cell_type": "code",
   "execution_count": 3,
   "metadata": {},
   "outputs": [],
   "source": [
    "# your code here\n",
    "pass"
   ]
  },
  {
   "attachments": {},
   "cell_type": "markdown",
   "metadata": {},
   "source": [
    "### Task 4 -> [3.1 Arithmetic Operators](readme.md#31-arithmetic-operators)\n",
    "Use Python operators to solve the following mathematical questions. Assume `x = 111111`:\n",
    "\n",
    "1. What is the result of muptiplying `x` and 11?\n",
    "2. What is the result of muptiplying `x` and 1111?\n",
    "3. What is the 2nd power of `x`?\n",
    "4. What is the result of subtracting 123456 from `x`?\n",
    "5. What is the remainder of `x` divided by `x`?\n",
    "\n",
    "You can store the results as variables `ans_1`, `ans_2`, `ans_3`, `ans_4`, and `ans_5` respectively. And print them out."
   ]
  },
  {
   "cell_type": "code",
   "execution_count": 4,
   "metadata": {},
   "outputs": [],
   "source": [
    "x = 111111\n",
    "# your code here\n",
    "ans_1 = None\n",
    "ans_2 = None\n",
    "ans_3 = None\n",
    "ans_4 = None\n",
    "ans_5 = None\n",
    "pass"
   ]
  },
  {
   "attachments": {},
   "cell_type": "markdown",
   "metadata": {},
   "source": [
    "### Task 5 -> [3.2 String Operators](readme.md#32-string-operators)\n",
    "Use Python string operators to print a message: `\"hello world hello world hello world \"`. The variables `str_1` and `str_2` are already defined in the code."
   ]
  },
  {
   "cell_type": "code",
   "execution_count": 5,
   "metadata": {},
   "outputs": [],
   "source": [
    "str_1 = \"hello \"\n",
    "str_2 = \"world \"\n",
    "# your code here\n",
    "pass"
   ]
  },
  {
   "attachments": {},
   "cell_type": "markdown",
   "metadata": {},
   "source": [
    "### Task 6 -> [3.2 String Operators](readme.md#32-string-operators)\n",
    "Combine a string variable `str_1` and an integer variable `int_1` to form a new string. The new string should be `\"hello 2023\"`. Hint: you can use `str()` function to convert an integer to a string."
   ]
  },
  {
   "cell_type": "code",
   "execution_count": 6,
   "metadata": {},
   "outputs": [],
   "source": [
    "# your code here\n",
    "str_1 = None\n",
    "int_1 = None\n",
    "pass"
   ]
  },
  {
   "attachments": {},
   "cell_type": "markdown",
   "metadata": {},
   "source": [
    "### Task 7 -> [3.3 Comparison Operators](readme.md#33-comparison-operators)\n",
    "\n",
    "1. Assign a variable `int_1` with the value of multiplication of 2023 and 204, and assign a variable `int_2` with the value of multiplication of 2024 and 203. Check if `int_1` is greater than `int_2` and print the result.\n",
    "2. Assign a variable str_1 with the value of `\"2023-01-30\"`, and assign a variable str_2 with the value of `\"2023-01-31\"`. Check if `str_1` is greater than `str_2` and print the result."
   ]
  },
  {
   "cell_type": "code",
   "execution_count": 7,
   "metadata": {},
   "outputs": [],
   "source": [
    "# your code here\n",
    "int_1 = None\n",
    "int_2 = None\n",
    "str_1 = None\n",
    "str_2 = None\n",
    "pass"
   ]
  },
  {
   "attachments": {},
   "cell_type": "markdown",
   "metadata": {},
   "source": [
    "### Task 8 -> [3.4 Logical Operators](readme.md#34-logical-operators)\n",
    "\n",
    "Examine whether BOTH the conditions are true:\n",
    "\n",
    "1. Condition 1: `2 ** 10` is greater than `10 ** 2`\n",
    "2. Condition 2: `\"I have a pen\"` is less than `\"I have an apple\"` based on the ASCII code\n",
    "\n",
    "You have to store each condition as a variable `bool_1` and a variable `bool_2` respectively. And store the examination result as a variable `result`. And print the result."
   ]
  },
  {
   "cell_type": "code",
   "execution_count": 8,
   "metadata": {},
   "outputs": [],
   "source": [
    "# your code here\n",
    "pass"
   ]
  },
  {
   "attachments": {},
   "cell_type": "markdown",
   "metadata": {},
   "source": [
    "### Task 9 -> [4. Conditional Statements](readme.md#4-conditional-statements)\n",
    "\n",
    "1. Assign a variable `int_1` with the value of 2022. If `int_1` is greater than 2023, print `\"int_1 is greater than 2023\"`. Otherwise, print `\"int_1 is less than or equal to 2023\"`.\n",
    "2. Assign another variable `int_2` with the value of 2024. If both `int_1` and `int_2` are greater than 2000, print `\"Hey, it's the 21st century!\"`. Otherwise, print `\"It's not the 21st century yet.\"`."
   ]
  },
  {
   "cell_type": "code",
   "execution_count": 9,
   "metadata": {},
   "outputs": [],
   "source": [
    "# your code here\n",
    "pass"
   ]
  },
  {
   "attachments": {},
   "cell_type": "markdown",
   "metadata": {},
   "source": [
    "### Task 10 -> [4. Conditional Statements](readme.md#4-conditional-statements)\n",
    "\n",
    "There is a randomly generated integer variable `rdm_int` in the code. The value of `rdm_int` is between 0 and 100. Write a conditional statement to print the following messages based on the value of `rdm_int`:\n",
    "\n",
    "| Value of `rdm_int` | Message |\n",
    "| :--- | :----- |\n",
    "| 0 <= `rdm_int` < 20 | `\"It's between 0 and 20.\"` |\n",
    "| 20 <= `rdm_int` < 40 | `\"It's between 20 and 40.\"` |\n",
    "| 40 <= `rdm_int` < 60 | `\"It's between 40 and 60.\"` |\n",
    "| 60 <= `rdm_int` < 80 | `\"It's between 60 and 80.\"` |\n",
    "| 80 <= `rdm_int` <= 100 | `\"It's between 80 and 100.\"` |"
   ]
  },
  {
   "cell_type": "code",
   "execution_count": 10,
   "metadata": {},
   "outputs": [],
   "source": [
    "import numpy as np\n",
    "rdm_int = np.random.randint(0, 100, 1)[0]\n",
    "# your code here\n",
    "pass"
   ]
  }
 ],
 "metadata": {
  "kernelspec": {
   "display_name": "tf",
   "language": "python",
   "name": "python3"
  },
  "language_info": {
   "codemirror_mode": {
    "name": "ipython",
    "version": 3
   },
   "file_extension": ".py",
   "mimetype": "text/x-python",
   "name": "python",
   "nbconvert_exporter": "python",
   "pygments_lexer": "ipython3",
   "version": "3.9.13 | packaged by conda-forge | (main, May 27 2022, 17:01:00) \n[Clang 13.0.1 ]"
  },
  "orig_nbformat": 4,
  "vscode": {
   "interpreter": {
    "hash": "e280c9e8b2a1d33bbe58b6976a0585f8ea2c0c6c7877fc74ad974a82054a5488"
   }
  }
 },
 "nbformat": 4,
 "nbformat_minor": 2
}
